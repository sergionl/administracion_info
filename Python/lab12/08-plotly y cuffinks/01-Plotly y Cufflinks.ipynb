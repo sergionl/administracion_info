{
 "cells": [
  {
   "cell_type": "markdown",
   "metadata": {},
   "source": [
    "___\n",
    "\n",
    "<a href='https://plotly.com/python/'> <img src='https://plotly.com/all_static/images/plotly_graphing_libraries_1.png' /></a>\n",
    "___\n",
    "# Plotly y Cufflinks"
   ]
  },
  {
   "cell_type": "markdown",
   "metadata": {},
   "source": [
    "**Plotly** es una libreria que permite crear gráficos interactivos para poder usarse en cuadros de mando o sitios web (se pueden guardar como archivos html o imágenes estáticas).\n",
    "\n",
    "**Cufflinks** es una libreria que conecta un dataframe de Pandas con Plotly, lo que permite a los usuarios crear visualizaciones directamente desde Pandas. Esta libreria une el poder de Plotly con la flexibilidad de Pandas para facilitar la visualización de los datos.\n",
    "\n",
    "## Instalación\n",
    "\n",
    "Para que todo esto funcione, se deberá instalar plotly y cufflinks para llamar a los gráficos directamente desde un dataframe de Pandas. Estas librerias no están disponibles actualmente a través de Conda, pero están disponibles a través de pip . Instalar las librerias en su línea de comando/terminal usando:\n",
    "\n",
    "    pip install plotly\n",
    "    pip install cufflinks\n",
    "\n",
    "## Importaciones y configuración "
   ]
  },
  {
   "cell_type": "code",
   "execution_count": null,
   "metadata": {},
   "outputs": [],
   "source": [
    "import sys\n",
    "!{sys.executable} -m pip install plotly\n",
    "!{sys.executable} -m pip install cufflinks"
   ]
  },
  {
   "cell_type": "code",
   "execution_count": 1,
   "metadata": {},
   "outputs": [],
   "source": [
    "import pandas as pd\n",
    "import numpy as np\n",
    "%matplotlib inline"
   ]
  },
  {
   "cell_type": "code",
   "execution_count": 4,
   "metadata": {},
   "outputs": [
    {
     "output_type": "stream",
     "name": "stdout",
     "text": [
      "4.14.3\n"
     ]
    }
   ],
   "source": [
    "from plotly import __version__\n",
    "from plotly.offline import download_plotlyjs, init_notebook_mode, plot, iplot\n",
    "\n",
    "print(__version__) # requires version >= 1.9.0"
   ]
  },
  {
   "cell_type": "code",
   "execution_count": 7,
   "metadata": {},
   "outputs": [],
   "source": [
    "import cufflinks as cf"
   ]
  },
  {
   "cell_type": "code",
   "execution_count": 8,
   "metadata": {},
   "outputs": [
    {
     "output_type": "display_data",
     "data": {
      "text/html": "        <script type=\"text/javascript\">\n        window.PlotlyConfig = {MathJaxConfig: 'local'};\n        if (window.MathJax) {MathJax.Hub.Config({SVG: {font: \"STIX-Web\"}});}\n        if (typeof require !== 'undefined') {\n        require.undef(\"plotly\");\n        requirejs.config({\n            paths: {\n                'plotly': ['https://cdn.plot.ly/plotly-latest.min']\n            }\n        });\n        require(['plotly'], function(Plotly) {\n            window._Plotly = Plotly;\n        });\n        }\n        </script>\n        "
     },
     "metadata": {}
    }
   ],
   "source": [
    "# Para Notebooks\n",
    "init_notebook_mode(connected=True)"
   ]
  },
  {
   "cell_type": "code",
   "execution_count": 9,
   "metadata": {},
   "outputs": [
    {
     "output_type": "display_data",
     "data": {
      "text/html": "        <script type=\"text/javascript\">\n        window.PlotlyConfig = {MathJaxConfig: 'local'};\n        if (window.MathJax) {MathJax.Hub.Config({SVG: {font: \"STIX-Web\"}});}\n        if (typeof require !== 'undefined') {\n        require.undef(\"plotly\");\n        requirejs.config({\n            paths: {\n                'plotly': ['https://cdn.plot.ly/plotly-latest.min']\n            }\n        });\n        require(['plotly'], function(Plotly) {\n            window._Plotly = Plotly;\n        });\n        }\n        </script>\n        "
     },
     "metadata": {}
    }
   ],
   "source": [
    "# Para uso offline colocar\n",
    "cf.go_offline()"
   ]
  },
  {
   "cell_type": "markdown",
   "metadata": {},
   "source": [
    "### Datos de prueba"
   ]
  },
  {
   "cell_type": "code",
   "execution_count": 10,
   "metadata": {},
   "outputs": [],
   "source": [
    "df = pd.DataFrame(np.random.randn(100,4),columns='A B C D'.split())"
   ]
  },
  {
   "cell_type": "code",
   "execution_count": 11,
   "metadata": {},
   "outputs": [
    {
     "output_type": "execute_result",
     "data": {
      "text/plain": [
       "          A         B         C         D\n",
       "0 -0.607666  0.031208  1.448990 -0.633008\n",
       "1  1.259177 -0.993548  0.956915  1.814076\n",
       "2  0.167044 -1.238716 -1.087640 -0.583598\n",
       "3  0.988708  0.312641 -0.882534 -0.564120\n",
       "4  0.420507 -1.589147 -0.842324 -0.711309"
      ],
      "text/html": "<div>\n<style scoped>\n    .dataframe tbody tr th:only-of-type {\n        vertical-align: middle;\n    }\n\n    .dataframe tbody tr th {\n        vertical-align: top;\n    }\n\n    .dataframe thead th {\n        text-align: right;\n    }\n</style>\n<table border=\"1\" class=\"dataframe\">\n  <thead>\n    <tr style=\"text-align: right;\">\n      <th></th>\n      <th>A</th>\n      <th>B</th>\n      <th>C</th>\n      <th>D</th>\n    </tr>\n  </thead>\n  <tbody>\n    <tr>\n      <th>0</th>\n      <td>-0.607666</td>\n      <td>0.031208</td>\n      <td>1.448990</td>\n      <td>-0.633008</td>\n    </tr>\n    <tr>\n      <th>1</th>\n      <td>1.259177</td>\n      <td>-0.993548</td>\n      <td>0.956915</td>\n      <td>1.814076</td>\n    </tr>\n    <tr>\n      <th>2</th>\n      <td>0.167044</td>\n      <td>-1.238716</td>\n      <td>-1.087640</td>\n      <td>-0.583598</td>\n    </tr>\n    <tr>\n      <th>3</th>\n      <td>0.988708</td>\n      <td>0.312641</td>\n      <td>-0.882534</td>\n      <td>-0.564120</td>\n    </tr>\n    <tr>\n      <th>4</th>\n      <td>0.420507</td>\n      <td>-1.589147</td>\n      <td>-0.842324</td>\n      <td>-0.711309</td>\n    </tr>\n  </tbody>\n</table>\n</div>"
     },
     "metadata": {},
     "execution_count": 11
    }
   ],
   "source": [
    "df.head()"
   ]
  },
  {
   "cell_type": "code",
   "execution_count": 12,
   "metadata": {},
   "outputs": [],
   "source": [
    "df2 = pd.DataFrame({'Category':['A','B','C'],'Values':[32,43,50]})"
   ]
  },
  {
   "cell_type": "code",
   "execution_count": 13,
   "metadata": {},
   "outputs": [
    {
     "output_type": "execute_result",
     "data": {
      "text/plain": [
       "  Category  Values\n",
       "0        A      32\n",
       "1        B      43\n",
       "2        C      50"
      ],
      "text/html": "<div>\n<style scoped>\n    .dataframe tbody tr th:only-of-type {\n        vertical-align: middle;\n    }\n\n    .dataframe tbody tr th {\n        vertical-align: top;\n    }\n\n    .dataframe thead th {\n        text-align: right;\n    }\n</style>\n<table border=\"1\" class=\"dataframe\">\n  <thead>\n    <tr style=\"text-align: right;\">\n      <th></th>\n      <th>Category</th>\n      <th>Values</th>\n    </tr>\n  </thead>\n  <tbody>\n    <tr>\n      <th>0</th>\n      <td>A</td>\n      <td>32</td>\n    </tr>\n    <tr>\n      <th>1</th>\n      <td>B</td>\n      <td>43</td>\n    </tr>\n    <tr>\n      <th>2</th>\n      <td>C</td>\n      <td>50</td>\n    </tr>\n  </tbody>\n</table>\n</div>"
     },
     "metadata": {},
     "execution_count": 13
    }
   ],
   "source": [
    "df2.head()"
   ]
  },
  {
   "cell_type": "markdown",
   "metadata": {},
   "source": [
    "## Usando Cufflinks e iplot()\n",
    "\n",
    "* Scatter\n",
    "* Bar\n",
    "* Boxplot\n",
    "* 3D surface\n",
    "* Histograma\n",
    "* Burbujas"
   ]
  },
  {
   "cell_type": "markdown",
   "metadata": {},
   "source": [
    "## Scatter"
   ]
  },
  {
   "cell_type": "code",
   "execution_count": 14,
   "metadata": {},
   "outputs": [
    {
     "output_type": "display_data",
     "data": {
      "application/vnd.plotly.v1+json": {
       "config": {
        "linkText": "Export to plot.ly",
        "plotlyServerURL": "https://plot.ly",
        "showLink": true
       },
       "data": [
        {
         "line": {
          "color": "rgba(255, 153, 51, 1.0)",
          "dash": "solid",
          "shape": "linear",
          "width": 1.3
         },
         "marker": {
          "size": 10,
          "symbol": "circle"
         },
         "mode": "markers",
         "name": "B",
         "text": "",
         "type": "scatter",
         "x": [
          -0.607666448602811,
          1.2591769182867638,
          0.16704406418634177,
          0.9887082751879337,
          0.42050690141106456,
          -0.2809674912610298,
          1.4205748844371253,
          -0.16218921393075963,
          0.5295790871081705,
          -0.4205995210823767,
          -0.16337781840683835,
          0.16759853031741256,
          -0.2809880800221108,
          0.45200515671738956,
          -0.7963631441160887,
          0.008124987817348458,
          -0.9653504552870982,
          -0.9223975905420754,
          1.697503764122202,
          -1.1326697096648621,
          0.5441315200764606,
          -1.4327221815783646,
          0.2796380060554141,
          -0.8128388054259313,
          -1.1827094987732283,
          0.9192838701288726,
          0.005031233926596609,
          0.4940789532190036,
          1.5199810486972711,
          -0.8443998734201372,
          -0.08104192992591111,
          1.6689329486978688,
          -0.7571977288571777,
          -0.8487031498216203,
          -0.07545251039014507,
          -0.09434513820899024,
          -0.41232256357512964,
          0.14336373331713348,
          -0.8541159147546175,
          -0.46384088394405887,
          -1.412249499680568,
          -1.0851655338041877,
          0.6879094601966855,
          -0.6694324921369627,
          -0.03363857785329403,
          0.5387086499714225,
          0.16160180831572146,
          -0.45427480880416693,
          -0.8902462437574454,
          2.1421316555307204,
          -0.28571217204710714,
          2.7785629257632722,
          0.6188425456596433,
          -2.459254026768631,
          0.09684266173917931,
          1.8786280821248922,
          0.5593105388098913,
          0.26783741562958696,
          -1.2984375511279334,
          1.1011962236341868,
          0.45296418473280115,
          -0.5321941924939583,
          0.753939474413834,
          0.9500785265544965,
          1.0899664761916448,
          -1.467471011712826,
          -1.8417320806426902,
          1.338367980687843,
          -1.5162371572164843,
          0.8077958820276738,
          0.05796809642764383,
          -0.7442463436578459,
          0.32199607754326404,
          -0.07641715190381224,
          1.271974510389658,
          1.2110829413589757,
          -0.2952254419337832,
          -1.4838594863846635,
          2.0037350196859847,
          0.7641245546427664,
          1.1687512590371492,
          1.0290682142963403,
          0.5227913621549826,
          0.07140529149204715,
          0.7725409413533701,
          0.5141137105114424,
          0.7331364742667712,
          -1.4336782221613382,
          -0.10001428221531719,
          -0.7328017258110671,
          1.9666060051841314,
          -1.1631585459816023,
          0.8406467869926779,
          -1.4210030180588464,
          -1.86072837927215,
          0.5640046352845078,
          2.383701139672665,
          2.476332563313472,
          -0.5353887528785137,
          0.7258828223322248
         ],
         "y": [
          0.031207682244617542,
          -0.9935482997534674,
          -1.2387163161907424,
          0.3126411229606882,
          -1.5891470111710775,
          0.07635814487302482,
          1.1923987298056264,
          -0.8112752331427182,
          0.3753696679604892,
          -1.1313144154052281,
          0.9605575351846121,
          -0.8227810207976046,
          0.3058696253813466,
          -0.062392383027024545,
          0.0914039951082883,
          1.569963638523854,
          -1.3209111992992464,
          -0.505404772341623,
          0.4469060588185499,
          0.338681444519608,
          0.4277500034434874,
          1.8118096469110234,
          -2.707892546203596,
          -1.246823143817817,
          -1.5087041797641172,
          0.48159850639528023,
          0.4002490260967725,
          0.5102053066593562,
          0.012675404040215244,
          -0.5505153478806513,
          0.142701498010046,
          -1.370584934091697,
          -0.465276852037582,
          -0.6267239674553973,
          -0.2646699056244561,
          1.0875368856352667,
          -1.434404032497129,
          1.4109414962819065,
          0.9235522288718865,
          -0.5119719562560471,
          -0.6976977102703348,
          0.5747329306441911,
          -0.8956614256141748,
          1.1857860513489715,
          -1.9548308830495846,
          -1.1367997870862887,
          2.061070273949067,
          0.6588214122709168,
          0.4410322351607642,
          -0.48796022081817403,
          1.6053822576254855,
          -0.3140314095170499,
          -0.09124804505842249,
          1.3484214515162485,
          0.32727035641686286,
          0.22129713953336863,
          -0.6223804442822951,
          -0.8857002347557834,
          -1.3851516630852694,
          0.6308690956117835,
          0.8271598452053652,
          -1.1279541070033732,
          -0.05344314824258955,
          -0.37069948428920874,
          0.9465741701628043,
          0.4009643109576281,
          -1.2132942383142324,
          -1.1541141737765865,
          -0.29247553216184013,
          1.3722130853213,
          0.8548717018970707,
          -0.2656159662802207,
          0.22669618331868235,
          1.6083628909928163,
          0.23614029731646852,
          0.15033798028605647,
          -0.36078885714769116,
          0.5450248831544398,
          0.9577333980549713,
          0.24342093309276405,
          -1.3230510975011762,
          -0.18950658150248,
          -0.29962570025070767,
          1.2123866856004129,
          -0.32810667970458063,
          -0.23713318711384512,
          -1.1159826228709895,
          -0.18895108060257848,
          1.1585142270387017,
          -0.27584783569539345,
          -0.3346270595588554,
          -0.5131187582372946,
          0.6873100918212838,
          0.08401528306893093,
          0.0901193388465427,
          0.32770017053241934,
          1.178540724416936,
          -1.704896131930627,
          0.004174290449213629,
          0.8000408565286847
         ]
        }
       ],
       "layout": {
        "legend": {
         "bgcolor": "#F5F6F9",
         "font": {
          "color": "#4D5663"
         }
        },
        "paper_bgcolor": "#F5F6F9",
        "plot_bgcolor": "#F5F6F9",
        "template": {
         "data": {
          "bar": [
           {
            "error_x": {
             "color": "#2a3f5f"
            },
            "error_y": {
             "color": "#2a3f5f"
            },
            "marker": {
             "line": {
              "color": "#E5ECF6",
              "width": 0.5
             }
            },
            "type": "bar"
           }
          ],
          "barpolar": [
           {
            "marker": {
             "line": {
              "color": "#E5ECF6",
              "width": 0.5
             }
            },
            "type": "barpolar"
           }
          ],
          "carpet": [
           {
            "aaxis": {
             "endlinecolor": "#2a3f5f",
             "gridcolor": "white",
             "linecolor": "white",
             "minorgridcolor": "white",
             "startlinecolor": "#2a3f5f"
            },
            "baxis": {
             "endlinecolor": "#2a3f5f",
             "gridcolor": "white",
             "linecolor": "white",
             "minorgridcolor": "white",
             "startlinecolor": "#2a3f5f"
            },
            "type": "carpet"
           }
          ],
          "choropleth": [
           {
            "colorbar": {
             "outlinewidth": 0,
             "ticks": ""
            },
            "type": "choropleth"
           }
          ],
          "contour": [
           {
            "colorbar": {
             "outlinewidth": 0,
             "ticks": ""
            },
            "colorscale": [
             [
              0,
              "#0d0887"
             ],
             [
              0.1111111111111111,
              "#46039f"
             ],
             [
              0.2222222222222222,
              "#7201a8"
             ],
             [
              0.3333333333333333,
              "#9c179e"
             ],
             [
              0.4444444444444444,
              "#bd3786"
             ],
             [
              0.5555555555555556,
              "#d8576b"
             ],
             [
              0.6666666666666666,
              "#ed7953"
             ],
             [
              0.7777777777777778,
              "#fb9f3a"
             ],
             [
              0.8888888888888888,
              "#fdca26"
             ],
             [
              1,
              "#f0f921"
             ]
            ],
            "type": "contour"
           }
          ],
          "contourcarpet": [
           {
            "colorbar": {
             "outlinewidth": 0,
             "ticks": ""
            },
            "type": "contourcarpet"
           }
          ],
          "heatmap": [
           {
            "colorbar": {
             "outlinewidth": 0,
             "ticks": ""
            },
            "colorscale": [
             [
              0,
              "#0d0887"
             ],
             [
              0.1111111111111111,
              "#46039f"
             ],
             [
              0.2222222222222222,
              "#7201a8"
             ],
             [
              0.3333333333333333,
              "#9c179e"
             ],
             [
              0.4444444444444444,
              "#bd3786"
             ],
             [
              0.5555555555555556,
              "#d8576b"
             ],
             [
              0.6666666666666666,
              "#ed7953"
             ],
             [
              0.7777777777777778,
              "#fb9f3a"
             ],
             [
              0.8888888888888888,
              "#fdca26"
             ],
             [
              1,
              "#f0f921"
             ]
            ],
            "type": "heatmap"
           }
          ],
          "heatmapgl": [
           {
            "colorbar": {
             "outlinewidth": 0,
             "ticks": ""
            },
            "colorscale": [
             [
              0,
              "#0d0887"
             ],
             [
              0.1111111111111111,
              "#46039f"
             ],
             [
              0.2222222222222222,
              "#7201a8"
             ],
             [
              0.3333333333333333,
              "#9c179e"
             ],
             [
              0.4444444444444444,
              "#bd3786"
             ],
             [
              0.5555555555555556,
              "#d8576b"
             ],
             [
              0.6666666666666666,
              "#ed7953"
             ],
             [
              0.7777777777777778,
              "#fb9f3a"
             ],
             [
              0.8888888888888888,
              "#fdca26"
             ],
             [
              1,
              "#f0f921"
             ]
            ],
            "type": "heatmapgl"
           }
          ],
          "histogram": [
           {
            "marker": {
             "colorbar": {
              "outlinewidth": 0,
              "ticks": ""
             }
            },
            "type": "histogram"
           }
          ],
          "histogram2d": [
           {
            "colorbar": {
             "outlinewidth": 0,
             "ticks": ""
            },
            "colorscale": [
             [
              0,
              "#0d0887"
             ],
             [
              0.1111111111111111,
              "#46039f"
             ],
             [
              0.2222222222222222,
              "#7201a8"
             ],
             [
              0.3333333333333333,
              "#9c179e"
             ],
             [
              0.4444444444444444,
              "#bd3786"
             ],
             [
              0.5555555555555556,
              "#d8576b"
             ],
             [
              0.6666666666666666,
              "#ed7953"
             ],
             [
              0.7777777777777778,
              "#fb9f3a"
             ],
             [
              0.8888888888888888,
              "#fdca26"
             ],
             [
              1,
              "#f0f921"
             ]
            ],
            "type": "histogram2d"
           }
          ],
          "histogram2dcontour": [
           {
            "colorbar": {
             "outlinewidth": 0,
             "ticks": ""
            },
            "colorscale": [
             [
              0,
              "#0d0887"
             ],
             [
              0.1111111111111111,
              "#46039f"
             ],
             [
              0.2222222222222222,
              "#7201a8"
             ],
             [
              0.3333333333333333,
              "#9c179e"
             ],
             [
              0.4444444444444444,
              "#bd3786"
             ],
             [
              0.5555555555555556,
              "#d8576b"
             ],
             [
              0.6666666666666666,
              "#ed7953"
             ],
             [
              0.7777777777777778,
              "#fb9f3a"
             ],
             [
              0.8888888888888888,
              "#fdca26"
             ],
             [
              1,
              "#f0f921"
             ]
            ],
            "type": "histogram2dcontour"
           }
          ],
          "mesh3d": [
           {
            "colorbar": {
             "outlinewidth": 0,
             "ticks": ""
            },
            "type": "mesh3d"
           }
          ],
          "parcoords": [
           {
            "line": {
             "colorbar": {
              "outlinewidth": 0,
              "ticks": ""
             }
            },
            "type": "parcoords"
           }
          ],
          "pie": [
           {
            "automargin": true,
            "type": "pie"
           }
          ],
          "scatter": [
           {
            "marker": {
             "colorbar": {
              "outlinewidth": 0,
              "ticks": ""
             }
            },
            "type": "scatter"
           }
          ],
          "scatter3d": [
           {
            "line": {
             "colorbar": {
              "outlinewidth": 0,
              "ticks": ""
             }
            },
            "marker": {
             "colorbar": {
              "outlinewidth": 0,
              "ticks": ""
             }
            },
            "type": "scatter3d"
           }
          ],
          "scattercarpet": [
           {
            "marker": {
             "colorbar": {
              "outlinewidth": 0,
              "ticks": ""
             }
            },
            "type": "scattercarpet"
           }
          ],
          "scattergeo": [
           {
            "marker": {
             "colorbar": {
              "outlinewidth": 0,
              "ticks": ""
             }
            },
            "type": "scattergeo"
           }
          ],
          "scattergl": [
           {
            "marker": {
             "colorbar": {
              "outlinewidth": 0,
              "ticks": ""
             }
            },
            "type": "scattergl"
           }
          ],
          "scattermapbox": [
           {
            "marker": {
             "colorbar": {
              "outlinewidth": 0,
              "ticks": ""
             }
            },
            "type": "scattermapbox"
           }
          ],
          "scatterpolar": [
           {
            "marker": {
             "colorbar": {
              "outlinewidth": 0,
              "ticks": ""
             }
            },
            "type": "scatterpolar"
           }
          ],
          "scatterpolargl": [
           {
            "marker": {
             "colorbar": {
              "outlinewidth": 0,
              "ticks": ""
             }
            },
            "type": "scatterpolargl"
           }
          ],
          "scatterternary": [
           {
            "marker": {
             "colorbar": {
              "outlinewidth": 0,
              "ticks": ""
             }
            },
            "type": "scatterternary"
           }
          ],
          "surface": [
           {
            "colorbar": {
             "outlinewidth": 0,
             "ticks": ""
            },
            "colorscale": [
             [
              0,
              "#0d0887"
             ],
             [
              0.1111111111111111,
              "#46039f"
             ],
             [
              0.2222222222222222,
              "#7201a8"
             ],
             [
              0.3333333333333333,
              "#9c179e"
             ],
             [
              0.4444444444444444,
              "#bd3786"
             ],
             [
              0.5555555555555556,
              "#d8576b"
             ],
             [
              0.6666666666666666,
              "#ed7953"
             ],
             [
              0.7777777777777778,
              "#fb9f3a"
             ],
             [
              0.8888888888888888,
              "#fdca26"
             ],
             [
              1,
              "#f0f921"
             ]
            ],
            "type": "surface"
           }
          ],
          "table": [
           {
            "cells": {
             "fill": {
              "color": "#EBF0F8"
             },
             "line": {
              "color": "white"
             }
            },
            "header": {
             "fill": {
              "color": "#C8D4E3"
             },
             "line": {
              "color": "white"
             }
            },
            "type": "table"
           }
          ]
         },
         "layout": {
          "annotationdefaults": {
           "arrowcolor": "#2a3f5f",
           "arrowhead": 0,
           "arrowwidth": 1
          },
          "autotypenumbers": "strict",
          "coloraxis": {
           "colorbar": {
            "outlinewidth": 0,
            "ticks": ""
           }
          },
          "colorscale": {
           "diverging": [
            [
             0,
             "#8e0152"
            ],
            [
             0.1,
             "#c51b7d"
            ],
            [
             0.2,
             "#de77ae"
            ],
            [
             0.3,
             "#f1b6da"
            ],
            [
             0.4,
             "#fde0ef"
            ],
            [
             0.5,
             "#f7f7f7"
            ],
            [
             0.6,
             "#e6f5d0"
            ],
            [
             0.7,
             "#b8e186"
            ],
            [
             0.8,
             "#7fbc41"
            ],
            [
             0.9,
             "#4d9221"
            ],
            [
             1,
             "#276419"
            ]
           ],
           "sequential": [
            [
             0,
             "#0d0887"
            ],
            [
             0.1111111111111111,
             "#46039f"
            ],
            [
             0.2222222222222222,
             "#7201a8"
            ],
            [
             0.3333333333333333,
             "#9c179e"
            ],
            [
             0.4444444444444444,
             "#bd3786"
            ],
            [
             0.5555555555555556,
             "#d8576b"
            ],
            [
             0.6666666666666666,
             "#ed7953"
            ],
            [
             0.7777777777777778,
             "#fb9f3a"
            ],
            [
             0.8888888888888888,
             "#fdca26"
            ],
            [
             1,
             "#f0f921"
            ]
           ],
           "sequentialminus": [
            [
             0,
             "#0d0887"
            ],
            [
             0.1111111111111111,
             "#46039f"
            ],
            [
             0.2222222222222222,
             "#7201a8"
            ],
            [
             0.3333333333333333,
             "#9c179e"
            ],
            [
             0.4444444444444444,
             "#bd3786"
            ],
            [
             0.5555555555555556,
             "#d8576b"
            ],
            [
             0.6666666666666666,
             "#ed7953"
            ],
            [
             0.7777777777777778,
             "#fb9f3a"
            ],
            [
             0.8888888888888888,
             "#fdca26"
            ],
            [
             1,
             "#f0f921"
            ]
           ]
          },
          "colorway": [
           "#636efa",
           "#EF553B",
           "#00cc96",
           "#ab63fa",
           "#FFA15A",
           "#19d3f3",
           "#FF6692",
           "#B6E880",
           "#FF97FF",
           "#FECB52"
          ],
          "font": {
           "color": "#2a3f5f"
          },
          "geo": {
           "bgcolor": "white",
           "lakecolor": "white",
           "landcolor": "#E5ECF6",
           "showlakes": true,
           "showland": true,
           "subunitcolor": "white"
          },
          "hoverlabel": {
           "align": "left"
          },
          "hovermode": "closest",
          "mapbox": {
           "style": "light"
          },
          "paper_bgcolor": "white",
          "plot_bgcolor": "#E5ECF6",
          "polar": {
           "angularaxis": {
            "gridcolor": "white",
            "linecolor": "white",
            "ticks": ""
           },
           "bgcolor": "#E5ECF6",
           "radialaxis": {
            "gridcolor": "white",
            "linecolor": "white",
            "ticks": ""
           }
          },
          "scene": {
           "xaxis": {
            "backgroundcolor": "#E5ECF6",
            "gridcolor": "white",
            "gridwidth": 2,
            "linecolor": "white",
            "showbackground": true,
            "ticks": "",
            "zerolinecolor": "white"
           },
           "yaxis": {
            "backgroundcolor": "#E5ECF6",
            "gridcolor": "white",
            "gridwidth": 2,
            "linecolor": "white",
            "showbackground": true,
            "ticks": "",
            "zerolinecolor": "white"
           },
           "zaxis": {
            "backgroundcolor": "#E5ECF6",
            "gridcolor": "white",
            "gridwidth": 2,
            "linecolor": "white",
            "showbackground": true,
            "ticks": "",
            "zerolinecolor": "white"
           }
          },
          "shapedefaults": {
           "line": {
            "color": "#2a3f5f"
           }
          },
          "ternary": {
           "aaxis": {
            "gridcolor": "white",
            "linecolor": "white",
            "ticks": ""
           },
           "baxis": {
            "gridcolor": "white",
            "linecolor": "white",
            "ticks": ""
           },
           "bgcolor": "#E5ECF6",
           "caxis": {
            "gridcolor": "white",
            "linecolor": "white",
            "ticks": ""
           }
          },
          "title": {
           "x": 0.05
          },
          "xaxis": {
           "automargin": true,
           "gridcolor": "white",
           "linecolor": "white",
           "ticks": "",
           "title": {
            "standoff": 15
           },
           "zerolinecolor": "white",
           "zerolinewidth": 2
          },
          "yaxis": {
           "automargin": true,
           "gridcolor": "white",
           "linecolor": "white",
           "ticks": "",
           "title": {
            "standoff": 15
           },
           "zerolinecolor": "white",
           "zerolinewidth": 2
          }
         }
        },
        "title": {
         "font": {
          "color": "#4D5663"
         }
        },
        "xaxis": {
         "gridcolor": "#E1E5ED",
         "showgrid": true,
         "tickfont": {
          "color": "#4D5663"
         },
         "title": {
          "font": {
           "color": "#4D5663"
          },
          "text": ""
         },
         "zerolinecolor": "#E1E5ED"
        },
        "yaxis": {
         "gridcolor": "#E1E5ED",
         "showgrid": true,
         "tickfont": {
          "color": "#4D5663"
         },
         "title": {
          "font": {
           "color": "#4D5663"
          },
          "text": ""
         },
         "zerolinecolor": "#E1E5ED"
        }
       }
      },
      "text/html": "<div>                            <div id=\"9d3c2559-d903-40fb-bb15-91f1165c5b04\" class=\"plotly-graph-div\" style=\"height:525px; width:100%;\"></div>            <script type=\"text/javascript\">                require([\"plotly\"], function(Plotly) {                    window.PLOTLYENV=window.PLOTLYENV || {};\n                    window.PLOTLYENV.BASE_URL='https://plot.ly';                                    if (document.getElementById(\"9d3c2559-d903-40fb-bb15-91f1165c5b04\")) {                    Plotly.newPlot(                        \"9d3c2559-d903-40fb-bb15-91f1165c5b04\",                        [{\"line\": {\"color\": \"rgba(255, 153, 51, 1.0)\", \"dash\": \"solid\", \"shape\": \"linear\", \"width\": 1.3}, \"marker\": {\"size\": 10, \"symbol\": \"circle\"}, \"mode\": \"markers\", \"name\": \"B\", \"text\": \"\", \"type\": \"scatter\", \"x\": [-0.607666448602811, 1.2591769182867638, 0.16704406418634177, 0.9887082751879337, 0.42050690141106456, -0.2809674912610298, 1.4205748844371253, -0.16218921393075963, 0.5295790871081705, -0.4205995210823767, -0.16337781840683835, 0.16759853031741256, -0.2809880800221108, 0.45200515671738956, -0.7963631441160887, 0.008124987817348458, -0.9653504552870982, -0.9223975905420754, 1.697503764122202, -1.1326697096648621, 0.5441315200764606, -1.4327221815783646, 0.2796380060554141, -0.8128388054259313, -1.1827094987732283, 0.9192838701288726, 0.005031233926596609, 0.4940789532190036, 1.5199810486972711, -0.8443998734201372, -0.08104192992591111, 1.6689329486978688, -0.7571977288571777, -0.8487031498216203, -0.07545251039014507, -0.09434513820899024, -0.41232256357512964, 0.14336373331713348, -0.8541159147546175, -0.46384088394405887, -1.412249499680568, -1.0851655338041877, 0.6879094601966855, -0.6694324921369627, -0.03363857785329403, 0.5387086499714225, 0.16160180831572146, -0.45427480880416693, -0.8902462437574454, 2.1421316555307204, -0.28571217204710714, 2.7785629257632722, 0.6188425456596433, -2.459254026768631, 0.09684266173917931, 1.8786280821248922, 0.5593105388098913, 0.26783741562958696, -1.2984375511279334, 1.1011962236341868, 0.45296418473280115, -0.5321941924939583, 0.753939474413834, 0.9500785265544965, 1.0899664761916448, -1.467471011712826, -1.8417320806426902, 1.338367980687843, -1.5162371572164843, 0.8077958820276738, 0.05796809642764383, -0.7442463436578459, 0.32199607754326404, -0.07641715190381224, 1.271974510389658, 1.2110829413589757, -0.2952254419337832, -1.4838594863846635, 2.0037350196859847, 0.7641245546427664, 1.1687512590371492, 1.0290682142963403, 0.5227913621549826, 0.07140529149204715, 0.7725409413533701, 0.5141137105114424, 0.7331364742667712, -1.4336782221613382, -0.10001428221531719, -0.7328017258110671, 1.9666060051841314, -1.1631585459816023, 0.8406467869926779, -1.4210030180588464, -1.86072837927215, 0.5640046352845078, 2.383701139672665, 2.476332563313472, -0.5353887528785137, 0.7258828223322248], \"y\": [0.031207682244617542, -0.9935482997534674, -1.2387163161907424, 0.3126411229606882, -1.5891470111710775, 0.07635814487302482, 1.1923987298056264, -0.8112752331427182, 0.3753696679604892, -1.1313144154052281, 0.9605575351846121, -0.8227810207976046, 0.3058696253813466, -0.062392383027024545, 0.0914039951082883, 1.569963638523854, -1.3209111992992464, -0.505404772341623, 0.4469060588185499, 0.338681444519608, 0.4277500034434874, 1.8118096469110234, -2.707892546203596, -1.246823143817817, -1.5087041797641172, 0.48159850639528023, 0.4002490260967725, 0.5102053066593562, 0.012675404040215244, -0.5505153478806513, 0.142701498010046, -1.370584934091697, -0.465276852037582, -0.6267239674553973, -0.2646699056244561, 1.0875368856352667, -1.434404032497129, 1.4109414962819065, 0.9235522288718865, -0.5119719562560471, -0.6976977102703348, 0.5747329306441911, -0.8956614256141748, 1.1857860513489715, -1.9548308830495846, -1.1367997870862887, 2.061070273949067, 0.6588214122709168, 0.4410322351607642, -0.48796022081817403, 1.6053822576254855, -0.3140314095170499, -0.09124804505842249, 1.3484214515162485, 0.32727035641686286, 0.22129713953336863, -0.6223804442822951, -0.8857002347557834, -1.3851516630852694, 0.6308690956117835, 0.8271598452053652, -1.1279541070033732, -0.05344314824258955, -0.37069948428920874, 0.9465741701628043, 0.4009643109576281, -1.2132942383142324, -1.1541141737765865, -0.29247553216184013, 1.3722130853213, 0.8548717018970707, -0.2656159662802207, 0.22669618331868235, 1.6083628909928163, 0.23614029731646852, 0.15033798028605647, -0.36078885714769116, 0.5450248831544398, 0.9577333980549713, 0.24342093309276405, -1.3230510975011762, -0.18950658150248, -0.29962570025070767, 1.2123866856004129, -0.32810667970458063, -0.23713318711384512, -1.1159826228709895, -0.18895108060257848, 1.1585142270387017, -0.27584783569539345, -0.3346270595588554, -0.5131187582372946, 0.6873100918212838, 0.08401528306893093, 0.0901193388465427, 0.32770017053241934, 1.178540724416936, -1.704896131930627, 0.004174290449213629, 0.8000408565286847]}],                        {\"legend\": {\"bgcolor\": \"#F5F6F9\", \"font\": {\"color\": \"#4D5663\"}}, \"paper_bgcolor\": \"#F5F6F9\", \"plot_bgcolor\": \"#F5F6F9\", \"template\": {\"data\": {\"bar\": [{\"error_x\": {\"color\": \"#2a3f5f\"}, \"error_y\": {\"color\": \"#2a3f5f\"}, \"marker\": {\"line\": {\"color\": \"#E5ECF6\", \"width\": 0.5}}, \"type\": \"bar\"}], \"barpolar\": [{\"marker\": {\"line\": {\"color\": \"#E5ECF6\", \"width\": 0.5}}, \"type\": \"barpolar\"}], \"carpet\": [{\"aaxis\": {\"endlinecolor\": \"#2a3f5f\", \"gridcolor\": \"white\", \"linecolor\": \"white\", \"minorgridcolor\": \"white\", \"startlinecolor\": \"#2a3f5f\"}, \"baxis\": {\"endlinecolor\": \"#2a3f5f\", \"gridcolor\": \"white\", \"linecolor\": \"white\", \"minorgridcolor\": \"white\", \"startlinecolor\": \"#2a3f5f\"}, \"type\": \"carpet\"}], \"choropleth\": [{\"colorbar\": {\"outlinewidth\": 0, \"ticks\": \"\"}, \"type\": \"choropleth\"}], \"contour\": [{\"colorbar\": {\"outlinewidth\": 0, \"ticks\": \"\"}, \"colorscale\": [[0.0, \"#0d0887\"], [0.1111111111111111, \"#46039f\"], [0.2222222222222222, \"#7201a8\"], [0.3333333333333333, \"#9c179e\"], [0.4444444444444444, \"#bd3786\"], [0.5555555555555556, \"#d8576b\"], [0.6666666666666666, \"#ed7953\"], [0.7777777777777778, \"#fb9f3a\"], [0.8888888888888888, \"#fdca26\"], [1.0, \"#f0f921\"]], \"type\": \"contour\"}], \"contourcarpet\": [{\"colorbar\": {\"outlinewidth\": 0, \"ticks\": \"\"}, \"type\": \"contourcarpet\"}], \"heatmap\": [{\"colorbar\": {\"outlinewidth\": 0, \"ticks\": \"\"}, \"colorscale\": [[0.0, \"#0d0887\"], [0.1111111111111111, \"#46039f\"], [0.2222222222222222, \"#7201a8\"], [0.3333333333333333, \"#9c179e\"], [0.4444444444444444, \"#bd3786\"], [0.5555555555555556, \"#d8576b\"], [0.6666666666666666, \"#ed7953\"], [0.7777777777777778, \"#fb9f3a\"], [0.8888888888888888, \"#fdca26\"], [1.0, \"#f0f921\"]], \"type\": \"heatmap\"}], \"heatmapgl\": [{\"colorbar\": {\"outlinewidth\": 0, \"ticks\": \"\"}, \"colorscale\": [[0.0, \"#0d0887\"], [0.1111111111111111, \"#46039f\"], [0.2222222222222222, \"#7201a8\"], [0.3333333333333333, \"#9c179e\"], [0.4444444444444444, \"#bd3786\"], [0.5555555555555556, \"#d8576b\"], [0.6666666666666666, \"#ed7953\"], [0.7777777777777778, \"#fb9f3a\"], [0.8888888888888888, \"#fdca26\"], [1.0, \"#f0f921\"]], \"type\": \"heatmapgl\"}], \"histogram\": [{\"marker\": {\"colorbar\": {\"outlinewidth\": 0, \"ticks\": \"\"}}, \"type\": \"histogram\"}], \"histogram2d\": [{\"colorbar\": {\"outlinewidth\": 0, \"ticks\": \"\"}, \"colorscale\": [[0.0, \"#0d0887\"], [0.1111111111111111, \"#46039f\"], [0.2222222222222222, \"#7201a8\"], [0.3333333333333333, \"#9c179e\"], [0.4444444444444444, \"#bd3786\"], [0.5555555555555556, \"#d8576b\"], [0.6666666666666666, \"#ed7953\"], [0.7777777777777778, \"#fb9f3a\"], [0.8888888888888888, \"#fdca26\"], [1.0, \"#f0f921\"]], \"type\": \"histogram2d\"}], \"histogram2dcontour\": [{\"colorbar\": {\"outlinewidth\": 0, \"ticks\": \"\"}, \"colorscale\": [[0.0, \"#0d0887\"], [0.1111111111111111, \"#46039f\"], [0.2222222222222222, \"#7201a8\"], [0.3333333333333333, \"#9c179e\"], [0.4444444444444444, \"#bd3786\"], [0.5555555555555556, \"#d8576b\"], [0.6666666666666666, \"#ed7953\"], [0.7777777777777778, \"#fb9f3a\"], [0.8888888888888888, \"#fdca26\"], [1.0, \"#f0f921\"]], \"type\": \"histogram2dcontour\"}], \"mesh3d\": [{\"colorbar\": {\"outlinewidth\": 0, \"ticks\": \"\"}, \"type\": \"mesh3d\"}], \"parcoords\": [{\"line\": {\"colorbar\": {\"outlinewidth\": 0, \"ticks\": \"\"}}, \"type\": \"parcoords\"}], \"pie\": [{\"automargin\": true, \"type\": \"pie\"}], \"scatter\": [{\"marker\": {\"colorbar\": {\"outlinewidth\": 0, \"ticks\": \"\"}}, \"type\": \"scatter\"}], \"scatter3d\": [{\"line\": {\"colorbar\": {\"outlinewidth\": 0, \"ticks\": \"\"}}, \"marker\": {\"colorbar\": {\"outlinewidth\": 0, \"ticks\": \"\"}}, \"type\": \"scatter3d\"}], \"scattercarpet\": [{\"marker\": {\"colorbar\": {\"outlinewidth\": 0, \"ticks\": \"\"}}, \"type\": \"scattercarpet\"}], \"scattergeo\": [{\"marker\": {\"colorbar\": {\"outlinewidth\": 0, \"ticks\": \"\"}}, \"type\": \"scattergeo\"}], \"scattergl\": [{\"marker\": {\"colorbar\": {\"outlinewidth\": 0, \"ticks\": \"\"}}, \"type\": \"scattergl\"}], \"scattermapbox\": [{\"marker\": {\"colorbar\": {\"outlinewidth\": 0, \"ticks\": \"\"}}, \"type\": \"scattermapbox\"}], \"scatterpolar\": [{\"marker\": {\"colorbar\": {\"outlinewidth\": 0, \"ticks\": \"\"}}, \"type\": \"scatterpolar\"}], \"scatterpolargl\": [{\"marker\": {\"colorbar\": {\"outlinewidth\": 0, \"ticks\": \"\"}}, \"type\": \"scatterpolargl\"}], \"scatterternary\": [{\"marker\": {\"colorbar\": {\"outlinewidth\": 0, \"ticks\": \"\"}}, \"type\": \"scatterternary\"}], \"surface\": [{\"colorbar\": {\"outlinewidth\": 0, \"ticks\": \"\"}, \"colorscale\": [[0.0, \"#0d0887\"], [0.1111111111111111, \"#46039f\"], [0.2222222222222222, \"#7201a8\"], [0.3333333333333333, \"#9c179e\"], [0.4444444444444444, \"#bd3786\"], [0.5555555555555556, \"#d8576b\"], [0.6666666666666666, \"#ed7953\"], [0.7777777777777778, \"#fb9f3a\"], [0.8888888888888888, \"#fdca26\"], [1.0, \"#f0f921\"]], \"type\": \"surface\"}], \"table\": [{\"cells\": {\"fill\": {\"color\": \"#EBF0F8\"}, \"line\": {\"color\": \"white\"}}, \"header\": {\"fill\": {\"color\": \"#C8D4E3\"}, \"line\": {\"color\": \"white\"}}, \"type\": \"table\"}]}, \"layout\": {\"annotationdefaults\": {\"arrowcolor\": \"#2a3f5f\", \"arrowhead\": 0, \"arrowwidth\": 1}, \"autotypenumbers\": \"strict\", \"coloraxis\": {\"colorbar\": {\"outlinewidth\": 0, \"ticks\": \"\"}}, \"colorscale\": {\"diverging\": [[0, \"#8e0152\"], [0.1, \"#c51b7d\"], [0.2, \"#de77ae\"], [0.3, \"#f1b6da\"], [0.4, \"#fde0ef\"], [0.5, \"#f7f7f7\"], [0.6, \"#e6f5d0\"], [0.7, \"#b8e186\"], [0.8, \"#7fbc41\"], [0.9, \"#4d9221\"], [1, \"#276419\"]], \"sequential\": [[0.0, \"#0d0887\"], [0.1111111111111111, \"#46039f\"], [0.2222222222222222, \"#7201a8\"], [0.3333333333333333, \"#9c179e\"], [0.4444444444444444, \"#bd3786\"], [0.5555555555555556, \"#d8576b\"], [0.6666666666666666, \"#ed7953\"], [0.7777777777777778, \"#fb9f3a\"], [0.8888888888888888, \"#fdca26\"], [1.0, \"#f0f921\"]], \"sequentialminus\": [[0.0, \"#0d0887\"], [0.1111111111111111, \"#46039f\"], [0.2222222222222222, \"#7201a8\"], [0.3333333333333333, \"#9c179e\"], [0.4444444444444444, \"#bd3786\"], [0.5555555555555556, \"#d8576b\"], [0.6666666666666666, \"#ed7953\"], [0.7777777777777778, \"#fb9f3a\"], [0.8888888888888888, \"#fdca26\"], [1.0, \"#f0f921\"]]}, \"colorway\": [\"#636efa\", \"#EF553B\", \"#00cc96\", \"#ab63fa\", \"#FFA15A\", \"#19d3f3\", \"#FF6692\", \"#B6E880\", \"#FF97FF\", \"#FECB52\"], \"font\": {\"color\": \"#2a3f5f\"}, \"geo\": {\"bgcolor\": \"white\", \"lakecolor\": \"white\", \"landcolor\": \"#E5ECF6\", \"showlakes\": true, \"showland\": true, \"subunitcolor\": \"white\"}, \"hoverlabel\": {\"align\": \"left\"}, \"hovermode\": \"closest\", \"mapbox\": {\"style\": \"light\"}, \"paper_bgcolor\": \"white\", \"plot_bgcolor\": \"#E5ECF6\", \"polar\": {\"angularaxis\": {\"gridcolor\": \"white\", \"linecolor\": \"white\", \"ticks\": \"\"}, \"bgcolor\": \"#E5ECF6\", \"radialaxis\": {\"gridcolor\": \"white\", \"linecolor\": \"white\", \"ticks\": \"\"}}, \"scene\": {\"xaxis\": {\"backgroundcolor\": \"#E5ECF6\", \"gridcolor\": \"white\", \"gridwidth\": 2, \"linecolor\": \"white\", \"showbackground\": true, \"ticks\": \"\", \"zerolinecolor\": \"white\"}, \"yaxis\": {\"backgroundcolor\": \"#E5ECF6\", \"gridcolor\": \"white\", \"gridwidth\": 2, \"linecolor\": \"white\", \"showbackground\": true, \"ticks\": \"\", \"zerolinecolor\": \"white\"}, \"zaxis\": {\"backgroundcolor\": \"#E5ECF6\", \"gridcolor\": \"white\", \"gridwidth\": 2, \"linecolor\": \"white\", \"showbackground\": true, \"ticks\": \"\", \"zerolinecolor\": \"white\"}}, \"shapedefaults\": {\"line\": {\"color\": \"#2a3f5f\"}}, \"ternary\": {\"aaxis\": {\"gridcolor\": \"white\", \"linecolor\": \"white\", \"ticks\": \"\"}, \"baxis\": {\"gridcolor\": \"white\", \"linecolor\": \"white\", \"ticks\": \"\"}, \"bgcolor\": \"#E5ECF6\", \"caxis\": {\"gridcolor\": \"white\", \"linecolor\": \"white\", \"ticks\": \"\"}}, \"title\": {\"x\": 0.05}, \"xaxis\": {\"automargin\": true, \"gridcolor\": \"white\", \"linecolor\": \"white\", \"ticks\": \"\", \"title\": {\"standoff\": 15}, \"zerolinecolor\": \"white\", \"zerolinewidth\": 2}, \"yaxis\": {\"automargin\": true, \"gridcolor\": \"white\", \"linecolor\": \"white\", \"ticks\": \"\", \"title\": {\"standoff\": 15}, \"zerolinecolor\": \"white\", \"zerolinewidth\": 2}}}, \"title\": {\"font\": {\"color\": \"#4D5663\"}}, \"xaxis\": {\"gridcolor\": \"#E1E5ED\", \"showgrid\": true, \"tickfont\": {\"color\": \"#4D5663\"}, \"title\": {\"font\": {\"color\": \"#4D5663\"}, \"text\": \"\"}, \"zerolinecolor\": \"#E1E5ED\"}, \"yaxis\": {\"gridcolor\": \"#E1E5ED\", \"showgrid\": true, \"tickfont\": {\"color\": \"#4D5663\"}, \"title\": {\"font\": {\"color\": \"#4D5663\"}, \"text\": \"\"}, \"zerolinecolor\": \"#E1E5ED\"}},                        {\"showLink\": true, \"linkText\": \"Export to plot.ly\", \"plotlyServerURL\": \"https://plot.ly\", \"responsive\": true}                    ).then(function(){\n                            \nvar gd = document.getElementById('9d3c2559-d903-40fb-bb15-91f1165c5b04');\nvar x = new MutationObserver(function (mutations, observer) {{\n        var display = window.getComputedStyle(gd).display;\n        if (!display || display === 'none') {{\n            console.log([gd, 'removed!']);\n            Plotly.purge(gd);\n            observer.disconnect();\n        }}\n}});\n\n// Listen for the removal of the full notebook cells\nvar notebookContainer = gd.closest('#notebook-container');\nif (notebookContainer) {{\n    x.observe(notebookContainer, {childList: true});\n}}\n\n// Listen for the clearing of the current output cell\nvar outputEl = gd.closest('.output');\nif (outputEl) {{\n    x.observe(outputEl, {childList: true});\n}}\n\n                        })                };                });            </script>        </div>"
     },
     "metadata": {}
    }
   ],
   "source": [
    "df.iplot(kind='scatter',x='A',y='B',mode='markers',size=10)"
   ]
  },
  {
   "cell_type": "markdown",
   "metadata": {},
   "source": [
    "## Bar Plots"
   ]
  },
  {
   "cell_type": "code",
   "execution_count": 15,
   "metadata": {},
   "outputs": [
    {
     "output_type": "display_data",
     "data": {
      "application/vnd.plotly.v1+json": {
       "config": {
        "linkText": "Export to plot.ly",
        "plotlyServerURL": "https://plot.ly",
        "showLink": true
       },
       "data": [
        {
         "marker": {
          "color": "rgba(255, 153, 51, 0.6)",
          "line": {
           "color": "rgba(255, 153, 51, 1.0)",
           "width": 1
          }
         },
         "name": "Values",
         "orientation": "v",
         "text": "",
         "type": "bar",
         "x": [
          "A",
          "B",
          "C"
         ],
         "y": [
          32,
          43,
          50
         ]
        }
       ],
       "layout": {
        "legend": {
         "bgcolor": "#F5F6F9",
         "font": {
          "color": "#4D5663"
         }
        },
        "paper_bgcolor": "#F5F6F9",
        "plot_bgcolor": "#F5F6F9",
        "template": {
         "data": {
          "bar": [
           {
            "error_x": {
             "color": "#2a3f5f"
            },
            "error_y": {
             "color": "#2a3f5f"
            },
            "marker": {
             "line": {
              "color": "#E5ECF6",
              "width": 0.5
             }
            },
            "type": "bar"
           }
          ],
          "barpolar": [
           {
            "marker": {
             "line": {
              "color": "#E5ECF6",
              "width": 0.5
             }
            },
            "type": "barpolar"
           }
          ],
          "carpet": [
           {
            "aaxis": {
             "endlinecolor": "#2a3f5f",
             "gridcolor": "white",
             "linecolor": "white",
             "minorgridcolor": "white",
             "startlinecolor": "#2a3f5f"
            },
            "baxis": {
             "endlinecolor": "#2a3f5f",
             "gridcolor": "white",
             "linecolor": "white",
             "minorgridcolor": "white",
             "startlinecolor": "#2a3f5f"
            },
            "type": "carpet"
           }
          ],
          "choropleth": [
           {
            "colorbar": {
             "outlinewidth": 0,
             "ticks": ""
            },
            "type": "choropleth"
           }
          ],
          "contour": [
           {
            "colorbar": {
             "outlinewidth": 0,
             "ticks": ""
            },
            "colorscale": [
             [
              0,
              "#0d0887"
             ],
             [
              0.1111111111111111,
              "#46039f"
             ],
             [
              0.2222222222222222,
              "#7201a8"
             ],
             [
              0.3333333333333333,
              "#9c179e"
             ],
             [
              0.4444444444444444,
              "#bd3786"
             ],
             [
              0.5555555555555556,
              "#d8576b"
             ],
             [
              0.6666666666666666,
              "#ed7953"
             ],
             [
              0.7777777777777778,
              "#fb9f3a"
             ],
             [
              0.8888888888888888,
              "#fdca26"
             ],
             [
              1,
              "#f0f921"
             ]
            ],
            "type": "contour"
           }
          ],
          "contourcarpet": [
           {
            "colorbar": {
             "outlinewidth": 0,
             "ticks": ""
            },
            "type": "contourcarpet"
           }
          ],
          "heatmap": [
           {
            "colorbar": {
             "outlinewidth": 0,
             "ticks": ""
            },
            "colorscale": [
             [
              0,
              "#0d0887"
             ],
             [
              0.1111111111111111,
              "#46039f"
             ],
             [
              0.2222222222222222,
              "#7201a8"
             ],
             [
              0.3333333333333333,
              "#9c179e"
             ],
             [
              0.4444444444444444,
              "#bd3786"
             ],
             [
              0.5555555555555556,
              "#d8576b"
             ],
             [
              0.6666666666666666,
              "#ed7953"
             ],
             [
              0.7777777777777778,
              "#fb9f3a"
             ],
             [
              0.8888888888888888,
              "#fdca26"
             ],
             [
              1,
              "#f0f921"
             ]
            ],
            "type": "heatmap"
           }
          ],
          "heatmapgl": [
           {
            "colorbar": {
             "outlinewidth": 0,
             "ticks": ""
            },
            "colorscale": [
             [
              0,
              "#0d0887"
             ],
             [
              0.1111111111111111,
              "#46039f"
             ],
             [
              0.2222222222222222,
              "#7201a8"
             ],
             [
              0.3333333333333333,
              "#9c179e"
             ],
             [
              0.4444444444444444,
              "#bd3786"
             ],
             [
              0.5555555555555556,
              "#d8576b"
             ],
             [
              0.6666666666666666,
              "#ed7953"
             ],
             [
              0.7777777777777778,
              "#fb9f3a"
             ],
             [
              0.8888888888888888,
              "#fdca26"
             ],
             [
              1,
              "#f0f921"
             ]
            ],
            "type": "heatmapgl"
           }
          ],
          "histogram": [
           {
            "marker": {
             "colorbar": {
              "outlinewidth": 0,
              "ticks": ""
             }
            },
            "type": "histogram"
           }
          ],
          "histogram2d": [
           {
            "colorbar": {
             "outlinewidth": 0,
             "ticks": ""
            },
            "colorscale": [
             [
              0,
              "#0d0887"
             ],
             [
              0.1111111111111111,
              "#46039f"
             ],
             [
              0.2222222222222222,
              "#7201a8"
             ],
             [
              0.3333333333333333,
              "#9c179e"
             ],
             [
              0.4444444444444444,
              "#bd3786"
             ],
             [
              0.5555555555555556,
              "#d8576b"
             ],
             [
              0.6666666666666666,
              "#ed7953"
             ],
             [
              0.7777777777777778,
              "#fb9f3a"
             ],
             [
              0.8888888888888888,
              "#fdca26"
             ],
             [
              1,
              "#f0f921"
             ]
            ],
            "type": "histogram2d"
           }
          ],
          "histogram2dcontour": [
           {
            "colorbar": {
             "outlinewidth": 0,
             "ticks": ""
            },
            "colorscale": [
             [
              0,
              "#0d0887"
             ],
             [
              0.1111111111111111,
              "#46039f"
             ],
             [
              0.2222222222222222,
              "#7201a8"
             ],
             [
              0.3333333333333333,
              "#9c179e"
             ],
             [
              0.4444444444444444,
              "#bd3786"
             ],
             [
              0.5555555555555556,
              "#d8576b"
             ],
             [
              0.6666666666666666,
              "#ed7953"
             ],
             [
              0.7777777777777778,
              "#fb9f3a"
             ],
             [
              0.8888888888888888,
              "#fdca26"
             ],
             [
              1,
              "#f0f921"
             ]
            ],
            "type": "histogram2dcontour"
           }
          ],
          "mesh3d": [
           {
            "colorbar": {
             "outlinewidth": 0,
             "ticks": ""
            },
            "type": "mesh3d"
           }
          ],
          "parcoords": [
           {
            "line": {
             "colorbar": {
              "outlinewidth": 0,
              "ticks": ""
             }
            },
            "type": "parcoords"
           }
          ],
          "pie": [
           {
            "automargin": true,
            "type": "pie"
           }
          ],
          "scatter": [
           {
            "marker": {
             "colorbar": {
              "outlinewidth": 0,
              "ticks": ""
             }
            },
            "type": "scatter"
           }
          ],
          "scatter3d": [
           {
            "line": {
             "colorbar": {
              "outlinewidth": 0,
              "ticks": ""
             }
            },
            "marker": {
             "colorbar": {
              "outlinewidth": 0,
              "ticks": ""
             }
            },
            "type": "scatter3d"
           }
          ],
          "scattercarpet": [
           {
            "marker": {
             "colorbar": {
              "outlinewidth": 0,
              "ticks": ""
             }
            },
            "type": "scattercarpet"
           }
          ],
          "scattergeo": [
           {
            "marker": {
             "colorbar": {
              "outlinewidth": 0,
              "ticks": ""
             }
            },
            "type": "scattergeo"
           }
          ],
          "scattergl": [
           {
            "marker": {
             "colorbar": {
              "outlinewidth": 0,
              "ticks": ""
             }
            },
            "type": "scattergl"
           }
          ],
          "scattermapbox": [
           {
            "marker": {
             "colorbar": {
              "outlinewidth": 0,
              "ticks": ""
             }
            },
            "type": "scattermapbox"
           }
          ],
          "scatterpolar": [
           {
            "marker": {
             "colorbar": {
              "outlinewidth": 0,
              "ticks": ""
             }
            },
            "type": "scatterpolar"
           }
          ],
          "scatterpolargl": [
           {
            "marker": {
             "colorbar": {
              "outlinewidth": 0,
              "ticks": ""
             }
            },
            "type": "scatterpolargl"
           }
          ],
          "scatterternary": [
           {
            "marker": {
             "colorbar": {
              "outlinewidth": 0,
              "ticks": ""
             }
            },
            "type": "scatterternary"
           }
          ],
          "surface": [
           {
            "colorbar": {
             "outlinewidth": 0,
             "ticks": ""
            },
            "colorscale": [
             [
              0,
              "#0d0887"
             ],
             [
              0.1111111111111111,
              "#46039f"
             ],
             [
              0.2222222222222222,
              "#7201a8"
             ],
             [
              0.3333333333333333,
              "#9c179e"
             ],
             [
              0.4444444444444444,
              "#bd3786"
             ],
             [
              0.5555555555555556,
              "#d8576b"
             ],
             [
              0.6666666666666666,
              "#ed7953"
             ],
             [
              0.7777777777777778,
              "#fb9f3a"
             ],
             [
              0.8888888888888888,
              "#fdca26"
             ],
             [
              1,
              "#f0f921"
             ]
            ],
            "type": "surface"
           }
          ],
          "table": [
           {
            "cells": {
             "fill": {
              "color": "#EBF0F8"
             },
             "line": {
              "color": "white"
             }
            },
            "header": {
             "fill": {
              "color": "#C8D4E3"
             },
             "line": {
              "color": "white"
             }
            },
            "type": "table"
           }
          ]
         },
         "layout": {
          "annotationdefaults": {
           "arrowcolor": "#2a3f5f",
           "arrowhead": 0,
           "arrowwidth": 1
          },
          "autotypenumbers": "strict",
          "coloraxis": {
           "colorbar": {
            "outlinewidth": 0,
            "ticks": ""
           }
          },
          "colorscale": {
           "diverging": [
            [
             0,
             "#8e0152"
            ],
            [
             0.1,
             "#c51b7d"
            ],
            [
             0.2,
             "#de77ae"
            ],
            [
             0.3,
             "#f1b6da"
            ],
            [
             0.4,
             "#fde0ef"
            ],
            [
             0.5,
             "#f7f7f7"
            ],
            [
             0.6,
             "#e6f5d0"
            ],
            [
             0.7,
             "#b8e186"
            ],
            [
             0.8,
             "#7fbc41"
            ],
            [
             0.9,
             "#4d9221"
            ],
            [
             1,
             "#276419"
            ]
           ],
           "sequential": [
            [
             0,
             "#0d0887"
            ],
            [
             0.1111111111111111,
             "#46039f"
            ],
            [
             0.2222222222222222,
             "#7201a8"
            ],
            [
             0.3333333333333333,
             "#9c179e"
            ],
            [
             0.4444444444444444,
             "#bd3786"
            ],
            [
             0.5555555555555556,
             "#d8576b"
            ],
            [
             0.6666666666666666,
             "#ed7953"
            ],
            [
             0.7777777777777778,
             "#fb9f3a"
            ],
            [
             0.8888888888888888,
             "#fdca26"
            ],
            [
             1,
             "#f0f921"
            ]
           ],
           "sequentialminus": [
            [
             0,
             "#0d0887"
            ],
            [
             0.1111111111111111,
             "#46039f"
            ],
            [
             0.2222222222222222,
             "#7201a8"
            ],
            [
             0.3333333333333333,
             "#9c179e"
            ],
            [
             0.4444444444444444,
             "#bd3786"
            ],
            [
             0.5555555555555556,
             "#d8576b"
            ],
            [
             0.6666666666666666,
             "#ed7953"
            ],
            [
             0.7777777777777778,
             "#fb9f3a"
            ],
            [
             0.8888888888888888,
             "#fdca26"
            ],
            [
             1,
             "#f0f921"
            ]
           ]
          },
          "colorway": [
           "#636efa",
           "#EF553B",
           "#00cc96",
           "#ab63fa",
           "#FFA15A",
           "#19d3f3",
           "#FF6692",
           "#B6E880",
           "#FF97FF",
           "#FECB52"
          ],
          "font": {
           "color": "#2a3f5f"
          },
          "geo": {
           "bgcolor": "white",
           "lakecolor": "white",
           "landcolor": "#E5ECF6",
           "showlakes": true,
           "showland": true,
           "subunitcolor": "white"
          },
          "hoverlabel": {
           "align": "left"
          },
          "hovermode": "closest",
          "mapbox": {
           "style": "light"
          },
          "paper_bgcolor": "white",
          "plot_bgcolor": "#E5ECF6",
          "polar": {
           "angularaxis": {
            "gridcolor": "white",
            "linecolor": "white",
            "ticks": ""
           },
           "bgcolor": "#E5ECF6",
           "radialaxis": {
            "gridcolor": "white",
            "linecolor": "white",
            "ticks": ""
           }
          },
          "scene": {
           "xaxis": {
            "backgroundcolor": "#E5ECF6",
            "gridcolor": "white",
            "gridwidth": 2,
            "linecolor": "white",
            "showbackground": true,
            "ticks": "",
            "zerolinecolor": "white"
           },
           "yaxis": {
            "backgroundcolor": "#E5ECF6",
            "gridcolor": "white",
            "gridwidth": 2,
            "linecolor": "white",
            "showbackground": true,
            "ticks": "",
            "zerolinecolor": "white"
           },
           "zaxis": {
            "backgroundcolor": "#E5ECF6",
            "gridcolor": "white",
            "gridwidth": 2,
            "linecolor": "white",
            "showbackground": true,
            "ticks": "",
            "zerolinecolor": "white"
           }
          },
          "shapedefaults": {
           "line": {
            "color": "#2a3f5f"
           }
          },
          "ternary": {
           "aaxis": {
            "gridcolor": "white",
            "linecolor": "white",
            "ticks": ""
           },
           "baxis": {
            "gridcolor": "white",
            "linecolor": "white",
            "ticks": ""
           },
           "bgcolor": "#E5ECF6",
           "caxis": {
            "gridcolor": "white",
            "linecolor": "white",
            "ticks": ""
           }
          },
          "title": {
           "x": 0.05
          },
          "xaxis": {
           "automargin": true,
           "gridcolor": "white",
           "linecolor": "white",
           "ticks": "",
           "title": {
            "standoff": 15
           },
           "zerolinecolor": "white",
           "zerolinewidth": 2
          },
          "yaxis": {
           "automargin": true,
           "gridcolor": "white",
           "linecolor": "white",
           "ticks": "",
           "title": {
            "standoff": 15
           },
           "zerolinecolor": "white",
           "zerolinewidth": 2
          }
         }
        },
        "title": {
         "font": {
          "color": "#4D5663"
         }
        },
        "xaxis": {
         "gridcolor": "#E1E5ED",
         "showgrid": true,
         "tickfont": {
          "color": "#4D5663"
         },
         "title": {
          "font": {
           "color": "#4D5663"
          },
          "text": ""
         },
         "zerolinecolor": "#E1E5ED"
        },
        "yaxis": {
         "gridcolor": "#E1E5ED",
         "showgrid": true,
         "tickfont": {
          "color": "#4D5663"
         },
         "title": {
          "font": {
           "color": "#4D5663"
          },
          "text": ""
         },
         "zerolinecolor": "#E1E5ED"
        }
       }
      },
      "text/html": "<div>                            <div id=\"0b18a4e3-55a8-437d-a9d9-79157776c4ff\" class=\"plotly-graph-div\" style=\"height:525px; width:100%;\"></div>            <script type=\"text/javascript\">                require([\"plotly\"], function(Plotly) {                    window.PLOTLYENV=window.PLOTLYENV || {};\n                    window.PLOTLYENV.BASE_URL='https://plot.ly';                                    if (document.getElementById(\"0b18a4e3-55a8-437d-a9d9-79157776c4ff\")) {                    Plotly.newPlot(                        \"0b18a4e3-55a8-437d-a9d9-79157776c4ff\",                        [{\"marker\": {\"color\": \"rgba(255, 153, 51, 0.6)\", \"line\": {\"color\": \"rgba(255, 153, 51, 1.0)\", \"width\": 1}}, \"name\": \"Values\", \"orientation\": \"v\", \"text\": \"\", \"type\": \"bar\", \"x\": [\"A\", \"B\", \"C\"], \"y\": [32, 43, 50]}],                        {\"legend\": {\"bgcolor\": \"#F5F6F9\", \"font\": {\"color\": \"#4D5663\"}}, \"paper_bgcolor\": \"#F5F6F9\", \"plot_bgcolor\": \"#F5F6F9\", \"template\": {\"data\": {\"bar\": [{\"error_x\": {\"color\": \"#2a3f5f\"}, \"error_y\": {\"color\": \"#2a3f5f\"}, \"marker\": {\"line\": {\"color\": \"#E5ECF6\", \"width\": 0.5}}, \"type\": \"bar\"}], \"barpolar\": [{\"marker\": {\"line\": {\"color\": \"#E5ECF6\", \"width\": 0.5}}, \"type\": \"barpolar\"}], \"carpet\": [{\"aaxis\": {\"endlinecolor\": \"#2a3f5f\", \"gridcolor\": \"white\", \"linecolor\": \"white\", \"minorgridcolor\": \"white\", \"startlinecolor\": \"#2a3f5f\"}, \"baxis\": {\"endlinecolor\": \"#2a3f5f\", \"gridcolor\": \"white\", \"linecolor\": \"white\", \"minorgridcolor\": \"white\", \"startlinecolor\": \"#2a3f5f\"}, \"type\": \"carpet\"}], \"choropleth\": [{\"colorbar\": {\"outlinewidth\": 0, \"ticks\": \"\"}, \"type\": \"choropleth\"}], \"contour\": [{\"colorbar\": {\"outlinewidth\": 0, \"ticks\": \"\"}, \"colorscale\": [[0.0, \"#0d0887\"], [0.1111111111111111, \"#46039f\"], [0.2222222222222222, \"#7201a8\"], [0.3333333333333333, \"#9c179e\"], [0.4444444444444444, \"#bd3786\"], [0.5555555555555556, \"#d8576b\"], [0.6666666666666666, \"#ed7953\"], [0.7777777777777778, \"#fb9f3a\"], [0.8888888888888888, \"#fdca26\"], [1.0, \"#f0f921\"]], \"type\": \"contour\"}], \"contourcarpet\": [{\"colorbar\": {\"outlinewidth\": 0, \"ticks\": \"\"}, \"type\": \"contourcarpet\"}], \"heatmap\": [{\"colorbar\": {\"outlinewidth\": 0, \"ticks\": \"\"}, \"colorscale\": [[0.0, \"#0d0887\"], [0.1111111111111111, \"#46039f\"], [0.2222222222222222, \"#7201a8\"], [0.3333333333333333, \"#9c179e\"], [0.4444444444444444, \"#bd3786\"], [0.5555555555555556, \"#d8576b\"], [0.6666666666666666, \"#ed7953\"], [0.7777777777777778, \"#fb9f3a\"], [0.8888888888888888, \"#fdca26\"], [1.0, \"#f0f921\"]], \"type\": \"heatmap\"}], \"heatmapgl\": [{\"colorbar\": {\"outlinewidth\": 0, \"ticks\": \"\"}, \"colorscale\": [[0.0, \"#0d0887\"], [0.1111111111111111, \"#46039f\"], [0.2222222222222222, \"#7201a8\"], [0.3333333333333333, \"#9c179e\"], [0.4444444444444444, \"#bd3786\"], [0.5555555555555556, \"#d8576b\"], [0.6666666666666666, \"#ed7953\"], [0.7777777777777778, \"#fb9f3a\"], [0.8888888888888888, \"#fdca26\"], [1.0, \"#f0f921\"]], \"type\": \"heatmapgl\"}], \"histogram\": [{\"marker\": {\"colorbar\": {\"outlinewidth\": 0, \"ticks\": \"\"}}, \"type\": \"histogram\"}], \"histogram2d\": [{\"colorbar\": {\"outlinewidth\": 0, \"ticks\": \"\"}, \"colorscale\": [[0.0, \"#0d0887\"], [0.1111111111111111, \"#46039f\"], [0.2222222222222222, \"#7201a8\"], [0.3333333333333333, \"#9c179e\"], [0.4444444444444444, \"#bd3786\"], [0.5555555555555556, \"#d8576b\"], [0.6666666666666666, \"#ed7953\"], [0.7777777777777778, \"#fb9f3a\"], [0.8888888888888888, \"#fdca26\"], [1.0, \"#f0f921\"]], \"type\": \"histogram2d\"}], \"histogram2dcontour\": [{\"colorbar\": {\"outlinewidth\": 0, \"ticks\": \"\"}, \"colorscale\": [[0.0, \"#0d0887\"], [0.1111111111111111, \"#46039f\"], [0.2222222222222222, \"#7201a8\"], [0.3333333333333333, \"#9c179e\"], [0.4444444444444444, \"#bd3786\"], [0.5555555555555556, \"#d8576b\"], [0.6666666666666666, \"#ed7953\"], [0.7777777777777778, \"#fb9f3a\"], [0.8888888888888888, \"#fdca26\"], [1.0, \"#f0f921\"]], \"type\": \"histogram2dcontour\"}], \"mesh3d\": [{\"colorbar\": {\"outlinewidth\": 0, \"ticks\": \"\"}, \"type\": \"mesh3d\"}], \"parcoords\": [{\"line\": {\"colorbar\": {\"outlinewidth\": 0, \"ticks\": \"\"}}, \"type\": \"parcoords\"}], \"pie\": [{\"automargin\": true, \"type\": \"pie\"}], \"scatter\": [{\"marker\": {\"colorbar\": {\"outlinewidth\": 0, \"ticks\": \"\"}}, \"type\": \"scatter\"}], \"scatter3d\": [{\"line\": {\"colorbar\": {\"outlinewidth\": 0, \"ticks\": \"\"}}, \"marker\": {\"colorbar\": {\"outlinewidth\": 0, \"ticks\": \"\"}}, \"type\": \"scatter3d\"}], \"scattercarpet\": [{\"marker\": {\"colorbar\": {\"outlinewidth\": 0, \"ticks\": \"\"}}, \"type\": \"scattercarpet\"}], \"scattergeo\": [{\"marker\": {\"colorbar\": {\"outlinewidth\": 0, \"ticks\": \"\"}}, \"type\": \"scattergeo\"}], \"scattergl\": [{\"marker\": {\"colorbar\": {\"outlinewidth\": 0, \"ticks\": \"\"}}, \"type\": \"scattergl\"}], \"scattermapbox\": [{\"marker\": {\"colorbar\": {\"outlinewidth\": 0, \"ticks\": \"\"}}, \"type\": \"scattermapbox\"}], \"scatterpolar\": [{\"marker\": {\"colorbar\": {\"outlinewidth\": 0, \"ticks\": \"\"}}, \"type\": \"scatterpolar\"}], \"scatterpolargl\": [{\"marker\": {\"colorbar\": {\"outlinewidth\": 0, \"ticks\": \"\"}}, \"type\": \"scatterpolargl\"}], \"scatterternary\": [{\"marker\": {\"colorbar\": {\"outlinewidth\": 0, \"ticks\": \"\"}}, \"type\": \"scatterternary\"}], \"surface\": [{\"colorbar\": {\"outlinewidth\": 0, \"ticks\": \"\"}, \"colorscale\": [[0.0, \"#0d0887\"], [0.1111111111111111, \"#46039f\"], [0.2222222222222222, \"#7201a8\"], [0.3333333333333333, \"#9c179e\"], [0.4444444444444444, \"#bd3786\"], [0.5555555555555556, \"#d8576b\"], [0.6666666666666666, \"#ed7953\"], [0.7777777777777778, \"#fb9f3a\"], [0.8888888888888888, \"#fdca26\"], [1.0, \"#f0f921\"]], \"type\": \"surface\"}], \"table\": [{\"cells\": {\"fill\": {\"color\": \"#EBF0F8\"}, \"line\": {\"color\": \"white\"}}, \"header\": {\"fill\": {\"color\": \"#C8D4E3\"}, \"line\": {\"color\": \"white\"}}, \"type\": \"table\"}]}, \"layout\": {\"annotationdefaults\": {\"arrowcolor\": \"#2a3f5f\", \"arrowhead\": 0, \"arrowwidth\": 1}, \"autotypenumbers\": \"strict\", \"coloraxis\": {\"colorbar\": {\"outlinewidth\": 0, \"ticks\": \"\"}}, \"colorscale\": {\"diverging\": [[0, \"#8e0152\"], [0.1, \"#c51b7d\"], [0.2, \"#de77ae\"], [0.3, \"#f1b6da\"], [0.4, \"#fde0ef\"], [0.5, \"#f7f7f7\"], [0.6, \"#e6f5d0\"], [0.7, \"#b8e186\"], [0.8, \"#7fbc41\"], [0.9, \"#4d9221\"], [1, \"#276419\"]], \"sequential\": [[0.0, \"#0d0887\"], [0.1111111111111111, \"#46039f\"], [0.2222222222222222, \"#7201a8\"], [0.3333333333333333, \"#9c179e\"], [0.4444444444444444, \"#bd3786\"], [0.5555555555555556, \"#d8576b\"], [0.6666666666666666, \"#ed7953\"], [0.7777777777777778, \"#fb9f3a\"], [0.8888888888888888, \"#fdca26\"], [1.0, \"#f0f921\"]], \"sequentialminus\": [[0.0, \"#0d0887\"], [0.1111111111111111, \"#46039f\"], [0.2222222222222222, \"#7201a8\"], [0.3333333333333333, \"#9c179e\"], [0.4444444444444444, \"#bd3786\"], [0.5555555555555556, \"#d8576b\"], [0.6666666666666666, \"#ed7953\"], [0.7777777777777778, \"#fb9f3a\"], [0.8888888888888888, \"#fdca26\"], [1.0, \"#f0f921\"]]}, \"colorway\": [\"#636efa\", \"#EF553B\", \"#00cc96\", \"#ab63fa\", \"#FFA15A\", \"#19d3f3\", \"#FF6692\", \"#B6E880\", \"#FF97FF\", \"#FECB52\"], \"font\": {\"color\": \"#2a3f5f\"}, \"geo\": {\"bgcolor\": \"white\", \"lakecolor\": \"white\", \"landcolor\": \"#E5ECF6\", \"showlakes\": true, \"showland\": true, \"subunitcolor\": \"white\"}, \"hoverlabel\": {\"align\": \"left\"}, \"hovermode\": \"closest\", \"mapbox\": {\"style\": \"light\"}, \"paper_bgcolor\": \"white\", \"plot_bgcolor\": \"#E5ECF6\", \"polar\": {\"angularaxis\": {\"gridcolor\": \"white\", \"linecolor\": \"white\", \"ticks\": \"\"}, \"bgcolor\": \"#E5ECF6\", \"radialaxis\": {\"gridcolor\": \"white\", \"linecolor\": \"white\", \"ticks\": \"\"}}, \"scene\": {\"xaxis\": {\"backgroundcolor\": \"#E5ECF6\", \"gridcolor\": \"white\", \"gridwidth\": 2, \"linecolor\": \"white\", \"showbackground\": true, \"ticks\": \"\", \"zerolinecolor\": \"white\"}, \"yaxis\": {\"backgroundcolor\": \"#E5ECF6\", \"gridcolor\": \"white\", \"gridwidth\": 2, \"linecolor\": \"white\", \"showbackground\": true, \"ticks\": \"\", \"zerolinecolor\": \"white\"}, \"zaxis\": {\"backgroundcolor\": \"#E5ECF6\", \"gridcolor\": \"white\", \"gridwidth\": 2, \"linecolor\": \"white\", \"showbackground\": true, \"ticks\": \"\", \"zerolinecolor\": \"white\"}}, \"shapedefaults\": {\"line\": {\"color\": \"#2a3f5f\"}}, \"ternary\": {\"aaxis\": {\"gridcolor\": \"white\", \"linecolor\": \"white\", \"ticks\": \"\"}, \"baxis\": {\"gridcolor\": \"white\", \"linecolor\": \"white\", \"ticks\": \"\"}, \"bgcolor\": \"#E5ECF6\", \"caxis\": {\"gridcolor\": \"white\", \"linecolor\": \"white\", \"ticks\": \"\"}}, \"title\": {\"x\": 0.05}, \"xaxis\": {\"automargin\": true, \"gridcolor\": \"white\", \"linecolor\": \"white\", \"ticks\": \"\", \"title\": {\"standoff\": 15}, \"zerolinecolor\": \"white\", \"zerolinewidth\": 2}, \"yaxis\": {\"automargin\": true, \"gridcolor\": \"white\", \"linecolor\": \"white\", \"ticks\": \"\", \"title\": {\"standoff\": 15}, \"zerolinecolor\": \"white\", \"zerolinewidth\": 2}}}, \"title\": {\"font\": {\"color\": \"#4D5663\"}}, \"xaxis\": {\"gridcolor\": \"#E1E5ED\", \"showgrid\": true, \"tickfont\": {\"color\": \"#4D5663\"}, \"title\": {\"font\": {\"color\": \"#4D5663\"}, \"text\": \"\"}, \"zerolinecolor\": \"#E1E5ED\"}, \"yaxis\": {\"gridcolor\": \"#E1E5ED\", \"showgrid\": true, \"tickfont\": {\"color\": \"#4D5663\"}, \"title\": {\"font\": {\"color\": \"#4D5663\"}, \"text\": \"\"}, \"zerolinecolor\": \"#E1E5ED\"}},                        {\"showLink\": true, \"linkText\": \"Export to plot.ly\", \"plotlyServerURL\": \"https://plot.ly\", \"responsive\": true}                    ).then(function(){\n                            \nvar gd = document.getElementById('0b18a4e3-55a8-437d-a9d9-79157776c4ff');\nvar x = new MutationObserver(function (mutations, observer) {{\n        var display = window.getComputedStyle(gd).display;\n        if (!display || display === 'none') {{\n            console.log([gd, 'removed!']);\n            Plotly.purge(gd);\n            observer.disconnect();\n        }}\n}});\n\n// Listen for the removal of the full notebook cells\nvar notebookContainer = gd.closest('#notebook-container');\nif (notebookContainer) {{\n    x.observe(notebookContainer, {childList: true});\n}}\n\n// Listen for the clearing of the current output cell\nvar outputEl = gd.closest('.output');\nif (outputEl) {{\n    x.observe(outputEl, {childList: true});\n}}\n\n                        })                };                });            </script>        </div>"
     },
     "metadata": {}
    }
   ],
   "source": [
    "df2.iplot(kind='bar',x='Category',y='Values')"
   ]
  },
  {
   "cell_type": "code",
   "execution_count": 16,
   "metadata": {},
   "outputs": [
    {
     "output_type": "display_data",
     "data": {
      "application/vnd.plotly.v1+json": {
       "config": {
        "linkText": "Export to plot.ly",
        "plotlyServerURL": "https://plot.ly",
        "showLink": true
       },
       "data": [
        {
         "marker": {
          "color": "rgba(255, 153, 51, 0.6)",
          "line": {
           "color": "rgba(255, 153, 51, 1.0)",
           "width": 1
          }
         },
         "name": "None",
         "orientation": "v",
         "text": "",
         "type": "bar",
         "x": [
          "A",
          "B",
          "C",
          "D"
         ],
         "y": [
          100,
          100,
          100,
          100
         ]
        }
       ],
       "layout": {
        "legend": {
         "bgcolor": "#F5F6F9",
         "font": {
          "color": "#4D5663"
         }
        },
        "paper_bgcolor": "#F5F6F9",
        "plot_bgcolor": "#F5F6F9",
        "template": {
         "data": {
          "bar": [
           {
            "error_x": {
             "color": "#2a3f5f"
            },
            "error_y": {
             "color": "#2a3f5f"
            },
            "marker": {
             "line": {
              "color": "#E5ECF6",
              "width": 0.5
             }
            },
            "type": "bar"
           }
          ],
          "barpolar": [
           {
            "marker": {
             "line": {
              "color": "#E5ECF6",
              "width": 0.5
             }
            },
            "type": "barpolar"
           }
          ],
          "carpet": [
           {
            "aaxis": {
             "endlinecolor": "#2a3f5f",
             "gridcolor": "white",
             "linecolor": "white",
             "minorgridcolor": "white",
             "startlinecolor": "#2a3f5f"
            },
            "baxis": {
             "endlinecolor": "#2a3f5f",
             "gridcolor": "white",
             "linecolor": "white",
             "minorgridcolor": "white",
             "startlinecolor": "#2a3f5f"
            },
            "type": "carpet"
           }
          ],
          "choropleth": [
           {
            "colorbar": {
             "outlinewidth": 0,
             "ticks": ""
            },
            "type": "choropleth"
           }
          ],
          "contour": [
           {
            "colorbar": {
             "outlinewidth": 0,
             "ticks": ""
            },
            "colorscale": [
             [
              0,
              "#0d0887"
             ],
             [
              0.1111111111111111,
              "#46039f"
             ],
             [
              0.2222222222222222,
              "#7201a8"
             ],
             [
              0.3333333333333333,
              "#9c179e"
             ],
             [
              0.4444444444444444,
              "#bd3786"
             ],
             [
              0.5555555555555556,
              "#d8576b"
             ],
             [
              0.6666666666666666,
              "#ed7953"
             ],
             [
              0.7777777777777778,
              "#fb9f3a"
             ],
             [
              0.8888888888888888,
              "#fdca26"
             ],
             [
              1,
              "#f0f921"
             ]
            ],
            "type": "contour"
           }
          ],
          "contourcarpet": [
           {
            "colorbar": {
             "outlinewidth": 0,
             "ticks": ""
            },
            "type": "contourcarpet"
           }
          ],
          "heatmap": [
           {
            "colorbar": {
             "outlinewidth": 0,
             "ticks": ""
            },
            "colorscale": [
             [
              0,
              "#0d0887"
             ],
             [
              0.1111111111111111,
              "#46039f"
             ],
             [
              0.2222222222222222,
              "#7201a8"
             ],
             [
              0.3333333333333333,
              "#9c179e"
             ],
             [
              0.4444444444444444,
              "#bd3786"
             ],
             [
              0.5555555555555556,
              "#d8576b"
             ],
             [
              0.6666666666666666,
              "#ed7953"
             ],
             [
              0.7777777777777778,
              "#fb9f3a"
             ],
             [
              0.8888888888888888,
              "#fdca26"
             ],
             [
              1,
              "#f0f921"
             ]
            ],
            "type": "heatmap"
           }
          ],
          "heatmapgl": [
           {
            "colorbar": {
             "outlinewidth": 0,
             "ticks": ""
            },
            "colorscale": [
             [
              0,
              "#0d0887"
             ],
             [
              0.1111111111111111,
              "#46039f"
             ],
             [
              0.2222222222222222,
              "#7201a8"
             ],
             [
              0.3333333333333333,
              "#9c179e"
             ],
             [
              0.4444444444444444,
              "#bd3786"
             ],
             [
              0.5555555555555556,
              "#d8576b"
             ],
             [
              0.6666666666666666,
              "#ed7953"
             ],
             [
              0.7777777777777778,
              "#fb9f3a"
             ],
             [
              0.8888888888888888,
              "#fdca26"
             ],
             [
              1,
              "#f0f921"
             ]
            ],
            "type": "heatmapgl"
           }
          ],
          "histogram": [
           {
            "marker": {
             "colorbar": {
              "outlinewidth": 0,
              "ticks": ""
             }
            },
            "type": "histogram"
           }
          ],
          "histogram2d": [
           {
            "colorbar": {
             "outlinewidth": 0,
             "ticks": ""
            },
            "colorscale": [
             [
              0,
              "#0d0887"
             ],
             [
              0.1111111111111111,
              "#46039f"
             ],
             [
              0.2222222222222222,
              "#7201a8"
             ],
             [
              0.3333333333333333,
              "#9c179e"
             ],
             [
              0.4444444444444444,
              "#bd3786"
             ],
             [
              0.5555555555555556,
              "#d8576b"
             ],
             [
              0.6666666666666666,
              "#ed7953"
             ],
             [
              0.7777777777777778,
              "#fb9f3a"
             ],
             [
              0.8888888888888888,
              "#fdca26"
             ],
             [
              1,
              "#f0f921"
             ]
            ],
            "type": "histogram2d"
           }
          ],
          "histogram2dcontour": [
           {
            "colorbar": {
             "outlinewidth": 0,
             "ticks": ""
            },
            "colorscale": [
             [
              0,
              "#0d0887"
             ],
             [
              0.1111111111111111,
              "#46039f"
             ],
             [
              0.2222222222222222,
              "#7201a8"
             ],
             [
              0.3333333333333333,
              "#9c179e"
             ],
             [
              0.4444444444444444,
              "#bd3786"
             ],
             [
              0.5555555555555556,
              "#d8576b"
             ],
             [
              0.6666666666666666,
              "#ed7953"
             ],
             [
              0.7777777777777778,
              "#fb9f3a"
             ],
             [
              0.8888888888888888,
              "#fdca26"
             ],
             [
              1,
              "#f0f921"
             ]
            ],
            "type": "histogram2dcontour"
           }
          ],
          "mesh3d": [
           {
            "colorbar": {
             "outlinewidth": 0,
             "ticks": ""
            },
            "type": "mesh3d"
           }
          ],
          "parcoords": [
           {
            "line": {
             "colorbar": {
              "outlinewidth": 0,
              "ticks": ""
             }
            },
            "type": "parcoords"
           }
          ],
          "pie": [
           {
            "automargin": true,
            "type": "pie"
           }
          ],
          "scatter": [
           {
            "marker": {
             "colorbar": {
              "outlinewidth": 0,
              "ticks": ""
             }
            },
            "type": "scatter"
           }
          ],
          "scatter3d": [
           {
            "line": {
             "colorbar": {
              "outlinewidth": 0,
              "ticks": ""
             }
            },
            "marker": {
             "colorbar": {
              "outlinewidth": 0,
              "ticks": ""
             }
            },
            "type": "scatter3d"
           }
          ],
          "scattercarpet": [
           {
            "marker": {
             "colorbar": {
              "outlinewidth": 0,
              "ticks": ""
             }
            },
            "type": "scattercarpet"
           }
          ],
          "scattergeo": [
           {
            "marker": {
             "colorbar": {
              "outlinewidth": 0,
              "ticks": ""
             }
            },
            "type": "scattergeo"
           }
          ],
          "scattergl": [
           {
            "marker": {
             "colorbar": {
              "outlinewidth": 0,
              "ticks": ""
             }
            },
            "type": "scattergl"
           }
          ],
          "scattermapbox": [
           {
            "marker": {
             "colorbar": {
              "outlinewidth": 0,
              "ticks": ""
             }
            },
            "type": "scattermapbox"
           }
          ],
          "scatterpolar": [
           {
            "marker": {
             "colorbar": {
              "outlinewidth": 0,
              "ticks": ""
             }
            },
            "type": "scatterpolar"
           }
          ],
          "scatterpolargl": [
           {
            "marker": {
             "colorbar": {
              "outlinewidth": 0,
              "ticks": ""
             }
            },
            "type": "scatterpolargl"
           }
          ],
          "scatterternary": [
           {
            "marker": {
             "colorbar": {
              "outlinewidth": 0,
              "ticks": ""
             }
            },
            "type": "scatterternary"
           }
          ],
          "surface": [
           {
            "colorbar": {
             "outlinewidth": 0,
             "ticks": ""
            },
            "colorscale": [
             [
              0,
              "#0d0887"
             ],
             [
              0.1111111111111111,
              "#46039f"
             ],
             [
              0.2222222222222222,
              "#7201a8"
             ],
             [
              0.3333333333333333,
              "#9c179e"
             ],
             [
              0.4444444444444444,
              "#bd3786"
             ],
             [
              0.5555555555555556,
              "#d8576b"
             ],
             [
              0.6666666666666666,
              "#ed7953"
             ],
             [
              0.7777777777777778,
              "#fb9f3a"
             ],
             [
              0.8888888888888888,
              "#fdca26"
             ],
             [
              1,
              "#f0f921"
             ]
            ],
            "type": "surface"
           }
          ],
          "table": [
           {
            "cells": {
             "fill": {
              "color": "#EBF0F8"
             },
             "line": {
              "color": "white"
             }
            },
            "header": {
             "fill": {
              "color": "#C8D4E3"
             },
             "line": {
              "color": "white"
             }
            },
            "type": "table"
           }
          ]
         },
         "layout": {
          "annotationdefaults": {
           "arrowcolor": "#2a3f5f",
           "arrowhead": 0,
           "arrowwidth": 1
          },
          "autotypenumbers": "strict",
          "coloraxis": {
           "colorbar": {
            "outlinewidth": 0,
            "ticks": ""
           }
          },
          "colorscale": {
           "diverging": [
            [
             0,
             "#8e0152"
            ],
            [
             0.1,
             "#c51b7d"
            ],
            [
             0.2,
             "#de77ae"
            ],
            [
             0.3,
             "#f1b6da"
            ],
            [
             0.4,
             "#fde0ef"
            ],
            [
             0.5,
             "#f7f7f7"
            ],
            [
             0.6,
             "#e6f5d0"
            ],
            [
             0.7,
             "#b8e186"
            ],
            [
             0.8,
             "#7fbc41"
            ],
            [
             0.9,
             "#4d9221"
            ],
            [
             1,
             "#276419"
            ]
           ],
           "sequential": [
            [
             0,
             "#0d0887"
            ],
            [
             0.1111111111111111,
             "#46039f"
            ],
            [
             0.2222222222222222,
             "#7201a8"
            ],
            [
             0.3333333333333333,
             "#9c179e"
            ],
            [
             0.4444444444444444,
             "#bd3786"
            ],
            [
             0.5555555555555556,
             "#d8576b"
            ],
            [
             0.6666666666666666,
             "#ed7953"
            ],
            [
             0.7777777777777778,
             "#fb9f3a"
            ],
            [
             0.8888888888888888,
             "#fdca26"
            ],
            [
             1,
             "#f0f921"
            ]
           ],
           "sequentialminus": [
            [
             0,
             "#0d0887"
            ],
            [
             0.1111111111111111,
             "#46039f"
            ],
            [
             0.2222222222222222,
             "#7201a8"
            ],
            [
             0.3333333333333333,
             "#9c179e"
            ],
            [
             0.4444444444444444,
             "#bd3786"
            ],
            [
             0.5555555555555556,
             "#d8576b"
            ],
            [
             0.6666666666666666,
             "#ed7953"
            ],
            [
             0.7777777777777778,
             "#fb9f3a"
            ],
            [
             0.8888888888888888,
             "#fdca26"
            ],
            [
             1,
             "#f0f921"
            ]
           ]
          },
          "colorway": [
           "#636efa",
           "#EF553B",
           "#00cc96",
           "#ab63fa",
           "#FFA15A",
           "#19d3f3",
           "#FF6692",
           "#B6E880",
           "#FF97FF",
           "#FECB52"
          ],
          "font": {
           "color": "#2a3f5f"
          },
          "geo": {
           "bgcolor": "white",
           "lakecolor": "white",
           "landcolor": "#E5ECF6",
           "showlakes": true,
           "showland": true,
           "subunitcolor": "white"
          },
          "hoverlabel": {
           "align": "left"
          },
          "hovermode": "closest",
          "mapbox": {
           "style": "light"
          },
          "paper_bgcolor": "white",
          "plot_bgcolor": "#E5ECF6",
          "polar": {
           "angularaxis": {
            "gridcolor": "white",
            "linecolor": "white",
            "ticks": ""
           },
           "bgcolor": "#E5ECF6",
           "radialaxis": {
            "gridcolor": "white",
            "linecolor": "white",
            "ticks": ""
           }
          },
          "scene": {
           "xaxis": {
            "backgroundcolor": "#E5ECF6",
            "gridcolor": "white",
            "gridwidth": 2,
            "linecolor": "white",
            "showbackground": true,
            "ticks": "",
            "zerolinecolor": "white"
           },
           "yaxis": {
            "backgroundcolor": "#E5ECF6",
            "gridcolor": "white",
            "gridwidth": 2,
            "linecolor": "white",
            "showbackground": true,
            "ticks": "",
            "zerolinecolor": "white"
           },
           "zaxis": {
            "backgroundcolor": "#E5ECF6",
            "gridcolor": "white",
            "gridwidth": 2,
            "linecolor": "white",
            "showbackground": true,
            "ticks": "",
            "zerolinecolor": "white"
           }
          },
          "shapedefaults": {
           "line": {
            "color": "#2a3f5f"
           }
          },
          "ternary": {
           "aaxis": {
            "gridcolor": "white",
            "linecolor": "white",
            "ticks": ""
           },
           "baxis": {
            "gridcolor": "white",
            "linecolor": "white",
            "ticks": ""
           },
           "bgcolor": "#E5ECF6",
           "caxis": {
            "gridcolor": "white",
            "linecolor": "white",
            "ticks": ""
           }
          },
          "title": {
           "x": 0.05
          },
          "xaxis": {
           "automargin": true,
           "gridcolor": "white",
           "linecolor": "white",
           "ticks": "",
           "title": {
            "standoff": 15
           },
           "zerolinecolor": "white",
           "zerolinewidth": 2
          },
          "yaxis": {
           "automargin": true,
           "gridcolor": "white",
           "linecolor": "white",
           "ticks": "",
           "title": {
            "standoff": 15
           },
           "zerolinecolor": "white",
           "zerolinewidth": 2
          }
         }
        },
        "title": {
         "font": {
          "color": "#4D5663"
         }
        },
        "xaxis": {
         "gridcolor": "#E1E5ED",
         "showgrid": true,
         "tickfont": {
          "color": "#4D5663"
         },
         "title": {
          "font": {
           "color": "#4D5663"
          },
          "text": ""
         },
         "zerolinecolor": "#E1E5ED"
        },
        "yaxis": {
         "gridcolor": "#E1E5ED",
         "showgrid": true,
         "tickfont": {
          "color": "#4D5663"
         },
         "title": {
          "font": {
           "color": "#4D5663"
          },
          "text": ""
         },
         "zerolinecolor": "#E1E5ED"
        }
       }
      },
      "text/html": "<div>                            <div id=\"72dff8af-ea30-4fb4-ab45-3ce4fc7934a1\" class=\"plotly-graph-div\" style=\"height:525px; width:100%;\"></div>            <script type=\"text/javascript\">                require([\"plotly\"], function(Plotly) {                    window.PLOTLYENV=window.PLOTLYENV || {};\n                    window.PLOTLYENV.BASE_URL='https://plot.ly';                                    if (document.getElementById(\"72dff8af-ea30-4fb4-ab45-3ce4fc7934a1\")) {                    Plotly.newPlot(                        \"72dff8af-ea30-4fb4-ab45-3ce4fc7934a1\",                        [{\"marker\": {\"color\": \"rgba(255, 153, 51, 0.6)\", \"line\": {\"color\": \"rgba(255, 153, 51, 1.0)\", \"width\": 1}}, \"name\": \"None\", \"orientation\": \"v\", \"text\": \"\", \"type\": \"bar\", \"x\": [\"A\", \"B\", \"C\", \"D\"], \"y\": [100, 100, 100, 100]}],                        {\"legend\": {\"bgcolor\": \"#F5F6F9\", \"font\": {\"color\": \"#4D5663\"}}, \"paper_bgcolor\": \"#F5F6F9\", \"plot_bgcolor\": \"#F5F6F9\", \"template\": {\"data\": {\"bar\": [{\"error_x\": {\"color\": \"#2a3f5f\"}, \"error_y\": {\"color\": \"#2a3f5f\"}, \"marker\": {\"line\": {\"color\": \"#E5ECF6\", \"width\": 0.5}}, \"type\": \"bar\"}], \"barpolar\": [{\"marker\": {\"line\": {\"color\": \"#E5ECF6\", \"width\": 0.5}}, \"type\": \"barpolar\"}], \"carpet\": [{\"aaxis\": {\"endlinecolor\": \"#2a3f5f\", \"gridcolor\": \"white\", \"linecolor\": \"white\", \"minorgridcolor\": \"white\", \"startlinecolor\": \"#2a3f5f\"}, \"baxis\": {\"endlinecolor\": \"#2a3f5f\", \"gridcolor\": \"white\", \"linecolor\": \"white\", \"minorgridcolor\": \"white\", \"startlinecolor\": \"#2a3f5f\"}, \"type\": \"carpet\"}], \"choropleth\": [{\"colorbar\": {\"outlinewidth\": 0, \"ticks\": \"\"}, \"type\": \"choropleth\"}], \"contour\": [{\"colorbar\": {\"outlinewidth\": 0, \"ticks\": \"\"}, \"colorscale\": [[0.0, \"#0d0887\"], [0.1111111111111111, \"#46039f\"], [0.2222222222222222, \"#7201a8\"], [0.3333333333333333, \"#9c179e\"], [0.4444444444444444, \"#bd3786\"], [0.5555555555555556, \"#d8576b\"], [0.6666666666666666, \"#ed7953\"], [0.7777777777777778, \"#fb9f3a\"], [0.8888888888888888, \"#fdca26\"], [1.0, \"#f0f921\"]], \"type\": \"contour\"}], \"contourcarpet\": [{\"colorbar\": {\"outlinewidth\": 0, \"ticks\": \"\"}, \"type\": \"contourcarpet\"}], \"heatmap\": [{\"colorbar\": {\"outlinewidth\": 0, \"ticks\": \"\"}, \"colorscale\": [[0.0, \"#0d0887\"], [0.1111111111111111, \"#46039f\"], [0.2222222222222222, \"#7201a8\"], [0.3333333333333333, \"#9c179e\"], [0.4444444444444444, \"#bd3786\"], [0.5555555555555556, \"#d8576b\"], [0.6666666666666666, \"#ed7953\"], [0.7777777777777778, \"#fb9f3a\"], [0.8888888888888888, \"#fdca26\"], [1.0, \"#f0f921\"]], \"type\": \"heatmap\"}], \"heatmapgl\": [{\"colorbar\": {\"outlinewidth\": 0, \"ticks\": \"\"}, \"colorscale\": [[0.0, \"#0d0887\"], [0.1111111111111111, \"#46039f\"], [0.2222222222222222, \"#7201a8\"], [0.3333333333333333, \"#9c179e\"], [0.4444444444444444, \"#bd3786\"], [0.5555555555555556, \"#d8576b\"], [0.6666666666666666, \"#ed7953\"], [0.7777777777777778, \"#fb9f3a\"], [0.8888888888888888, \"#fdca26\"], [1.0, \"#f0f921\"]], \"type\": \"heatmapgl\"}], \"histogram\": [{\"marker\": {\"colorbar\": {\"outlinewidth\": 0, \"ticks\": \"\"}}, \"type\": \"histogram\"}], \"histogram2d\": [{\"colorbar\": {\"outlinewidth\": 0, \"ticks\": \"\"}, \"colorscale\": [[0.0, \"#0d0887\"], [0.1111111111111111, \"#46039f\"], [0.2222222222222222, \"#7201a8\"], [0.3333333333333333, \"#9c179e\"], [0.4444444444444444, \"#bd3786\"], [0.5555555555555556, \"#d8576b\"], [0.6666666666666666, \"#ed7953\"], [0.7777777777777778, \"#fb9f3a\"], [0.8888888888888888, \"#fdca26\"], [1.0, \"#f0f921\"]], \"type\": \"histogram2d\"}], \"histogram2dcontour\": [{\"colorbar\": {\"outlinewidth\": 0, \"ticks\": \"\"}, \"colorscale\": [[0.0, \"#0d0887\"], [0.1111111111111111, \"#46039f\"], [0.2222222222222222, \"#7201a8\"], [0.3333333333333333, \"#9c179e\"], [0.4444444444444444, \"#bd3786\"], [0.5555555555555556, \"#d8576b\"], [0.6666666666666666, \"#ed7953\"], [0.7777777777777778, \"#fb9f3a\"], [0.8888888888888888, \"#fdca26\"], [1.0, \"#f0f921\"]], \"type\": \"histogram2dcontour\"}], \"mesh3d\": [{\"colorbar\": {\"outlinewidth\": 0, \"ticks\": \"\"}, \"type\": \"mesh3d\"}], \"parcoords\": [{\"line\": {\"colorbar\": {\"outlinewidth\": 0, \"ticks\": \"\"}}, \"type\": \"parcoords\"}], \"pie\": [{\"automargin\": true, \"type\": \"pie\"}], \"scatter\": [{\"marker\": {\"colorbar\": {\"outlinewidth\": 0, \"ticks\": \"\"}}, \"type\": \"scatter\"}], \"scatter3d\": [{\"line\": {\"colorbar\": {\"outlinewidth\": 0, \"ticks\": \"\"}}, \"marker\": {\"colorbar\": {\"outlinewidth\": 0, \"ticks\": \"\"}}, \"type\": \"scatter3d\"}], \"scattercarpet\": [{\"marker\": {\"colorbar\": {\"outlinewidth\": 0, \"ticks\": \"\"}}, \"type\": \"scattercarpet\"}], \"scattergeo\": [{\"marker\": {\"colorbar\": {\"outlinewidth\": 0, \"ticks\": \"\"}}, \"type\": \"scattergeo\"}], \"scattergl\": [{\"marker\": {\"colorbar\": {\"outlinewidth\": 0, \"ticks\": \"\"}}, \"type\": \"scattergl\"}], \"scattermapbox\": [{\"marker\": {\"colorbar\": {\"outlinewidth\": 0, \"ticks\": \"\"}}, \"type\": \"scattermapbox\"}], \"scatterpolar\": [{\"marker\": {\"colorbar\": {\"outlinewidth\": 0, \"ticks\": \"\"}}, \"type\": \"scatterpolar\"}], \"scatterpolargl\": [{\"marker\": {\"colorbar\": {\"outlinewidth\": 0, \"ticks\": \"\"}}, \"type\": \"scatterpolargl\"}], \"scatterternary\": [{\"marker\": {\"colorbar\": {\"outlinewidth\": 0, \"ticks\": \"\"}}, \"type\": \"scatterternary\"}], \"surface\": [{\"colorbar\": {\"outlinewidth\": 0, \"ticks\": \"\"}, \"colorscale\": [[0.0, \"#0d0887\"], [0.1111111111111111, \"#46039f\"], [0.2222222222222222, \"#7201a8\"], [0.3333333333333333, \"#9c179e\"], [0.4444444444444444, \"#bd3786\"], [0.5555555555555556, \"#d8576b\"], [0.6666666666666666, \"#ed7953\"], [0.7777777777777778, \"#fb9f3a\"], [0.8888888888888888, \"#fdca26\"], [1.0, \"#f0f921\"]], \"type\": \"surface\"}], \"table\": [{\"cells\": {\"fill\": {\"color\": \"#EBF0F8\"}, \"line\": {\"color\": \"white\"}}, \"header\": {\"fill\": {\"color\": \"#C8D4E3\"}, \"line\": {\"color\": \"white\"}}, \"type\": \"table\"}]}, \"layout\": {\"annotationdefaults\": {\"arrowcolor\": \"#2a3f5f\", \"arrowhead\": 0, \"arrowwidth\": 1}, \"autotypenumbers\": \"strict\", \"coloraxis\": {\"colorbar\": {\"outlinewidth\": 0, \"ticks\": \"\"}}, \"colorscale\": {\"diverging\": [[0, \"#8e0152\"], [0.1, \"#c51b7d\"], [0.2, \"#de77ae\"], [0.3, \"#f1b6da\"], [0.4, \"#fde0ef\"], [0.5, \"#f7f7f7\"], [0.6, \"#e6f5d0\"], [0.7, \"#b8e186\"], [0.8, \"#7fbc41\"], [0.9, \"#4d9221\"], [1, \"#276419\"]], \"sequential\": [[0.0, \"#0d0887\"], [0.1111111111111111, \"#46039f\"], [0.2222222222222222, \"#7201a8\"], [0.3333333333333333, \"#9c179e\"], [0.4444444444444444, \"#bd3786\"], [0.5555555555555556, \"#d8576b\"], [0.6666666666666666, \"#ed7953\"], [0.7777777777777778, \"#fb9f3a\"], [0.8888888888888888, \"#fdca26\"], [1.0, \"#f0f921\"]], \"sequentialminus\": [[0.0, \"#0d0887\"], [0.1111111111111111, \"#46039f\"], [0.2222222222222222, \"#7201a8\"], [0.3333333333333333, \"#9c179e\"], [0.4444444444444444, \"#bd3786\"], [0.5555555555555556, \"#d8576b\"], [0.6666666666666666, \"#ed7953\"], [0.7777777777777778, \"#fb9f3a\"], [0.8888888888888888, \"#fdca26\"], [1.0, \"#f0f921\"]]}, \"colorway\": [\"#636efa\", \"#EF553B\", \"#00cc96\", \"#ab63fa\", \"#FFA15A\", \"#19d3f3\", \"#FF6692\", \"#B6E880\", \"#FF97FF\", \"#FECB52\"], \"font\": {\"color\": \"#2a3f5f\"}, \"geo\": {\"bgcolor\": \"white\", \"lakecolor\": \"white\", \"landcolor\": \"#E5ECF6\", \"showlakes\": true, \"showland\": true, \"subunitcolor\": \"white\"}, \"hoverlabel\": {\"align\": \"left\"}, \"hovermode\": \"closest\", \"mapbox\": {\"style\": \"light\"}, \"paper_bgcolor\": \"white\", \"plot_bgcolor\": \"#E5ECF6\", \"polar\": {\"angularaxis\": {\"gridcolor\": \"white\", \"linecolor\": \"white\", \"ticks\": \"\"}, \"bgcolor\": \"#E5ECF6\", \"radialaxis\": {\"gridcolor\": \"white\", \"linecolor\": \"white\", \"ticks\": \"\"}}, \"scene\": {\"xaxis\": {\"backgroundcolor\": \"#E5ECF6\", \"gridcolor\": \"white\", \"gridwidth\": 2, \"linecolor\": \"white\", \"showbackground\": true, \"ticks\": \"\", \"zerolinecolor\": \"white\"}, \"yaxis\": {\"backgroundcolor\": \"#E5ECF6\", \"gridcolor\": \"white\", \"gridwidth\": 2, \"linecolor\": \"white\", \"showbackground\": true, \"ticks\": \"\", \"zerolinecolor\": \"white\"}, \"zaxis\": {\"backgroundcolor\": \"#E5ECF6\", \"gridcolor\": \"white\", \"gridwidth\": 2, \"linecolor\": \"white\", \"showbackground\": true, \"ticks\": \"\", \"zerolinecolor\": \"white\"}}, \"shapedefaults\": {\"line\": {\"color\": \"#2a3f5f\"}}, \"ternary\": {\"aaxis\": {\"gridcolor\": \"white\", \"linecolor\": \"white\", \"ticks\": \"\"}, \"baxis\": {\"gridcolor\": \"white\", \"linecolor\": \"white\", \"ticks\": \"\"}, \"bgcolor\": \"#E5ECF6\", \"caxis\": {\"gridcolor\": \"white\", \"linecolor\": \"white\", \"ticks\": \"\"}}, \"title\": {\"x\": 0.05}, \"xaxis\": {\"automargin\": true, \"gridcolor\": \"white\", \"linecolor\": \"white\", \"ticks\": \"\", \"title\": {\"standoff\": 15}, \"zerolinecolor\": \"white\", \"zerolinewidth\": 2}, \"yaxis\": {\"automargin\": true, \"gridcolor\": \"white\", \"linecolor\": \"white\", \"ticks\": \"\", \"title\": {\"standoff\": 15}, \"zerolinecolor\": \"white\", \"zerolinewidth\": 2}}}, \"title\": {\"font\": {\"color\": \"#4D5663\"}}, \"xaxis\": {\"gridcolor\": \"#E1E5ED\", \"showgrid\": true, \"tickfont\": {\"color\": \"#4D5663\"}, \"title\": {\"font\": {\"color\": \"#4D5663\"}, \"text\": \"\"}, \"zerolinecolor\": \"#E1E5ED\"}, \"yaxis\": {\"gridcolor\": \"#E1E5ED\", \"showgrid\": true, \"tickfont\": {\"color\": \"#4D5663\"}, \"title\": {\"font\": {\"color\": \"#4D5663\"}, \"text\": \"\"}, \"zerolinecolor\": \"#E1E5ED\"}},                        {\"showLink\": true, \"linkText\": \"Export to plot.ly\", \"plotlyServerURL\": \"https://plot.ly\", \"responsive\": true}                    ).then(function(){\n                            \nvar gd = document.getElementById('72dff8af-ea30-4fb4-ab45-3ce4fc7934a1');\nvar x = new MutationObserver(function (mutations, observer) {{\n        var display = window.getComputedStyle(gd).display;\n        if (!display || display === 'none') {{\n            console.log([gd, 'removed!']);\n            Plotly.purge(gd);\n            observer.disconnect();\n        }}\n}});\n\n// Listen for the removal of the full notebook cells\nvar notebookContainer = gd.closest('#notebook-container');\nif (notebookContainer) {{\n    x.observe(notebookContainer, {childList: true});\n}}\n\n// Listen for the clearing of the current output cell\nvar outputEl = gd.closest('.output');\nif (outputEl) {{\n    x.observe(outputEl, {childList: true});\n}}\n\n                        })                };                });            </script>        </div>"
     },
     "metadata": {}
    }
   ],
   "source": [
    "df.count().iplot(kind='bar')"
   ]
  },
  {
   "cell_type": "markdown",
   "metadata": {},
   "source": [
    "## Boxplots"
   ]
  },
  {
   "cell_type": "code",
   "execution_count": 17,
   "metadata": {},
   "outputs": [
    {
     "output_type": "display_data",
     "data": {
      "application/vnd.plotly.v1+json": {
       "config": {
        "linkText": "Export to plot.ly",
        "plotlyServerURL": "https://plot.ly",
        "showLink": true
       },
       "data": [
        {
         "boxpoints": false,
         "line": {
          "width": 1.3
         },
         "marker": {
          "color": "rgba(255, 153, 51, 1.0)"
         },
         "name": "A",
         "orientation": "v",
         "type": "box",
         "y": [
          -0.607666448602811,
          1.2591769182867638,
          0.16704406418634177,
          0.9887082751879337,
          0.42050690141106456,
          -0.2809674912610298,
          1.4205748844371253,
          -0.16218921393075963,
          0.5295790871081705,
          -0.4205995210823767,
          -0.16337781840683835,
          0.16759853031741256,
          -0.2809880800221108,
          0.45200515671738956,
          -0.7963631441160887,
          0.008124987817348458,
          -0.9653504552870982,
          -0.9223975905420754,
          1.697503764122202,
          -1.1326697096648621,
          0.5441315200764606,
          -1.4327221815783646,
          0.2796380060554141,
          -0.8128388054259313,
          -1.1827094987732283,
          0.9192838701288726,
          0.005031233926596609,
          0.4940789532190036,
          1.5199810486972711,
          -0.8443998734201372,
          -0.08104192992591111,
          1.6689329486978688,
          -0.7571977288571777,
          -0.8487031498216203,
          -0.07545251039014507,
          -0.09434513820899024,
          -0.41232256357512964,
          0.14336373331713348,
          -0.8541159147546175,
          -0.46384088394405887,
          -1.412249499680568,
          -1.0851655338041877,
          0.6879094601966855,
          -0.6694324921369627,
          -0.03363857785329403,
          0.5387086499714225,
          0.16160180831572146,
          -0.45427480880416693,
          -0.8902462437574454,
          2.1421316555307204,
          -0.28571217204710714,
          2.7785629257632722,
          0.6188425456596433,
          -2.459254026768631,
          0.09684266173917931,
          1.8786280821248922,
          0.5593105388098913,
          0.26783741562958696,
          -1.2984375511279334,
          1.1011962236341868,
          0.45296418473280115,
          -0.5321941924939583,
          0.753939474413834,
          0.9500785265544965,
          1.0899664761916448,
          -1.467471011712826,
          -1.8417320806426902,
          1.338367980687843,
          -1.5162371572164843,
          0.8077958820276738,
          0.05796809642764383,
          -0.7442463436578459,
          0.32199607754326404,
          -0.07641715190381224,
          1.271974510389658,
          1.2110829413589757,
          -0.2952254419337832,
          -1.4838594863846635,
          2.0037350196859847,
          0.7641245546427664,
          1.1687512590371492,
          1.0290682142963403,
          0.5227913621549826,
          0.07140529149204715,
          0.7725409413533701,
          0.5141137105114424,
          0.7331364742667712,
          -1.4336782221613382,
          -0.10001428221531719,
          -0.7328017258110671,
          1.9666060051841314,
          -1.1631585459816023,
          0.8406467869926779,
          -1.4210030180588464,
          -1.86072837927215,
          0.5640046352845078,
          2.383701139672665,
          2.476332563313472,
          -0.5353887528785137,
          0.7258828223322248
         ]
        },
        {
         "boxpoints": false,
         "line": {
          "width": 1.3
         },
         "marker": {
          "color": "rgba(55, 128, 191, 1.0)"
         },
         "name": "B",
         "orientation": "v",
         "type": "box",
         "y": [
          0.031207682244617542,
          -0.9935482997534674,
          -1.2387163161907424,
          0.3126411229606882,
          -1.5891470111710775,
          0.07635814487302482,
          1.1923987298056264,
          -0.8112752331427182,
          0.3753696679604892,
          -1.1313144154052281,
          0.9605575351846121,
          -0.8227810207976046,
          0.3058696253813466,
          -0.062392383027024545,
          0.0914039951082883,
          1.569963638523854,
          -1.3209111992992464,
          -0.505404772341623,
          0.4469060588185499,
          0.338681444519608,
          0.4277500034434874,
          1.8118096469110234,
          -2.707892546203596,
          -1.246823143817817,
          -1.5087041797641172,
          0.48159850639528023,
          0.4002490260967725,
          0.5102053066593562,
          0.012675404040215244,
          -0.5505153478806513,
          0.142701498010046,
          -1.370584934091697,
          -0.465276852037582,
          -0.6267239674553973,
          -0.2646699056244561,
          1.0875368856352667,
          -1.434404032497129,
          1.4109414962819065,
          0.9235522288718865,
          -0.5119719562560471,
          -0.6976977102703348,
          0.5747329306441911,
          -0.8956614256141748,
          1.1857860513489715,
          -1.9548308830495846,
          -1.1367997870862887,
          2.061070273949067,
          0.6588214122709168,
          0.4410322351607642,
          -0.48796022081817403,
          1.6053822576254855,
          -0.3140314095170499,
          -0.09124804505842249,
          1.3484214515162485,
          0.32727035641686286,
          0.22129713953336863,
          -0.6223804442822951,
          -0.8857002347557834,
          -1.3851516630852694,
          0.6308690956117835,
          0.8271598452053652,
          -1.1279541070033732,
          -0.05344314824258955,
          -0.37069948428920874,
          0.9465741701628043,
          0.4009643109576281,
          -1.2132942383142324,
          -1.1541141737765865,
          -0.29247553216184013,
          1.3722130853213,
          0.8548717018970707,
          -0.2656159662802207,
          0.22669618331868235,
          1.6083628909928163,
          0.23614029731646852,
          0.15033798028605647,
          -0.36078885714769116,
          0.5450248831544398,
          0.9577333980549713,
          0.24342093309276405,
          -1.3230510975011762,
          -0.18950658150248,
          -0.29962570025070767,
          1.2123866856004129,
          -0.32810667970458063,
          -0.23713318711384512,
          -1.1159826228709895,
          -0.18895108060257848,
          1.1585142270387017,
          -0.27584783569539345,
          -0.3346270595588554,
          -0.5131187582372946,
          0.6873100918212838,
          0.08401528306893093,
          0.0901193388465427,
          0.32770017053241934,
          1.178540724416936,
          -1.704896131930627,
          0.004174290449213629,
          0.8000408565286847
         ]
        },
        {
         "boxpoints": false,
         "line": {
          "width": 1.3
         },
         "marker": {
          "color": "rgba(50, 171, 96, 1.0)"
         },
         "name": "C",
         "orientation": "v",
         "type": "box",
         "y": [
          1.4489903556936925,
          0.9569146937059532,
          -1.0876396619061846,
          -0.8825336651551515,
          -0.8423240070023791,
          -0.4272107463195657,
          -1.0045630781628048,
          0.0429394511243209,
          -0.7148729467758064,
          -0.7789949477790704,
          -0.9191832504312808,
          -1.384802499135036,
          0.7403815312751256,
          0.12790428966569284,
          -0.876598463396739,
          0.46459743153905897,
          2.2945103309610206,
          0.9190764259753557,
          -1.0347445864486673,
          0.7897574525971488,
          0.3414303620739439,
          -1.3847910087182327,
          0.1955830021193111,
          0.4049174783016158,
          -0.2829754583507037,
          0.838011739396502,
          1.2703377287048359,
          -2.0619906501701752,
          -1.4981690667576353,
          -1.7112228860701841,
          -0.47034477162706384,
          -0.637737291097207,
          -0.6581863024705712,
          -1.8484248869495319,
          -0.25297207420322987,
          -1.498730238182971,
          -1.0832873210696463,
          0.7686015651247761,
          -1.9785988376993036,
          0.7622892264339542,
          -0.2190104805136365,
          -0.7138553058224888,
          -0.20260034760585052,
          1.1142766590091016,
          -2.936111953861491,
          -0.07515135449588436,
          -1.5421422903782285,
          -1.142272878834587,
          -1.110933150126963,
          1.5064100692033802,
          0.21695368836427406,
          0.7435021970998392,
          -1.1458590487618259,
          0.7109330494512432,
          0.6608559956042735,
          -0.4267649333096379,
          0.8740907611704118,
          -1.3451971631908606,
          -0.5170795699452903,
          -0.8630544128632993,
          -0.25199107407956256,
          0.02748099581794078,
          -0.9091067674187974,
          -0.7012846658008495,
          -0.7920411791675391,
          0.3693919235496703,
          0.5742103826245605,
          0.03644415204349955,
          0.9997563029530769,
          0.9552985665080148,
          -0.34215278593870785,
          0.3339513677279051,
          1.5655576693735629,
          1.0762902366665126,
          -0.7682184461169863,
          -0.42461624540838383,
          0.4161402693127119,
          -0.3487367513927705,
          -0.42396814167004315,
          -0.002815425224448483,
          -0.30686775945602396,
          0.01909922190336151,
          -0.07452615113233313,
          0.6264360653888321,
          -1.3431556773879652,
          -1.4959249223308302,
          -2.6521154680026244,
          1.4629990654336873,
          -0.5736096562978921,
          -0.41118011393250464,
          -0.06421124614134084,
          -0.1398291528881255,
          -0.6919445060187562,
          0.06824080061724438,
          -1.3105951793497057,
          -0.38525562900399807,
          -1.115691087322862,
          0.43672171773252433,
          -1.9284808149353287,
          0.38751086296356646
         ]
        },
        {
         "boxpoints": false,
         "line": {
          "width": 1.3
         },
         "marker": {
          "color": "rgba(128, 0, 128, 1.0)"
         },
         "name": "D",
         "orientation": "v",
         "type": "box",
         "y": [
          -0.6330078646998142,
          1.8140756335916555,
          -0.5835976045612592,
          -0.5641200148384549,
          -0.7113091036630851,
          0.5792715905614506,
          0.06557156890941346,
          0.050892636683272714,
          -0.8450805527038645,
          1.064068924147688,
          0.7056144359183899,
          -1.168973900334623,
          -0.11805109594065305,
          0.9251690717019997,
          -1.2894179858161674,
          -0.2775137876890778,
          -1.2521398241852149,
          0.6443885338330175,
          -1.3381094353429026,
          -0.6897537677570175,
          1.012539735673264,
          -0.7522475874313775,
          -0.4430646307150996,
          1.9831136976064792,
          -0.676678887365719,
          -0.2787947880912225,
          -1.4083208568976933,
          0.14019093468472557,
          0.5024706033789321,
          0.16516639285817306,
          1.2377049506972744,
          -1.6949187806594332,
          1.5415432918094552,
          1.6301678015258994,
          -1.1027559176738229,
          0.43357549396542233,
          1.2057464481430542,
          1.4696617273324206,
          0.6454066869364494,
          1.1103842739308352,
          0.2782456366771006,
          1.4297506852056028,
          -0.3048720664044912,
          0.19743546709858048,
          0.4784536517243281,
          -2.2223271852837856,
          -3.259381690438617,
          0.8721078585324115,
          -0.311912960665354,
          0.24970857071647337,
          -1.5912285869615286,
          -0.8145442555583446,
          0.37345909865248417,
          1.9336074172114501,
          -0.06876507854781654,
          0.08994599336495115,
          -1.2537818517856754,
          0.6791236156070609,
          -1.3601721763062147,
          0.8390733341372618,
          -0.13429825334273918,
          0.24087589381874666,
          1.0058785258670269,
          0.04401529704545266,
          -0.41683670631106706,
          0.77092327971203,
          -0.4584395283092104,
          -0.39110690228463174,
          0.7150226306317401,
          -0.06417182112554029,
          0.3950100035740469,
          0.6025754048569935,
          0.07177701542208834,
          -0.29920082731233383,
          -0.4603566842574775,
          -1.6597335636166832,
          -0.21258830391543462,
          -0.38892128078710536,
          -0.6161632528144666,
          -0.05716896211311977,
          0.3509399386112978,
          0.8757909970253571,
          -0.11265943297298331,
          0.4014272056011246,
          0.4933027408475595,
          -0.9893768125723018,
          0.9029758053521423,
          0.9983313711827291,
          -0.31683343254947205,
          2.023820871281636,
          -0.37294509964931855,
          2.2158104756101307,
          -0.7753867534333052,
          -1.2600278190322325,
          -1.3358500870657253,
          1.8181432420037171,
          -1.181590578304687,
          0.7556440663108855,
          1.5940854331575334,
          0.7061877381941765
         ]
        }
       ],
       "layout": {
        "legend": {
         "bgcolor": "#F5F6F9",
         "font": {
          "color": "#4D5663"
         }
        },
        "paper_bgcolor": "#F5F6F9",
        "plot_bgcolor": "#F5F6F9",
        "template": {
         "data": {
          "bar": [
           {
            "error_x": {
             "color": "#2a3f5f"
            },
            "error_y": {
             "color": "#2a3f5f"
            },
            "marker": {
             "line": {
              "color": "#E5ECF6",
              "width": 0.5
             }
            },
            "type": "bar"
           }
          ],
          "barpolar": [
           {
            "marker": {
             "line": {
              "color": "#E5ECF6",
              "width": 0.5
             }
            },
            "type": "barpolar"
           }
          ],
          "carpet": [
           {
            "aaxis": {
             "endlinecolor": "#2a3f5f",
             "gridcolor": "white",
             "linecolor": "white",
             "minorgridcolor": "white",
             "startlinecolor": "#2a3f5f"
            },
            "baxis": {
             "endlinecolor": "#2a3f5f",
             "gridcolor": "white",
             "linecolor": "white",
             "minorgridcolor": "white",
             "startlinecolor": "#2a3f5f"
            },
            "type": "carpet"
           }
          ],
          "choropleth": [
           {
            "colorbar": {
             "outlinewidth": 0,
             "ticks": ""
            },
            "type": "choropleth"
           }
          ],
          "contour": [
           {
            "colorbar": {
             "outlinewidth": 0,
             "ticks": ""
            },
            "colorscale": [
             [
              0,
              "#0d0887"
             ],
             [
              0.1111111111111111,
              "#46039f"
             ],
             [
              0.2222222222222222,
              "#7201a8"
             ],
             [
              0.3333333333333333,
              "#9c179e"
             ],
             [
              0.4444444444444444,
              "#bd3786"
             ],
             [
              0.5555555555555556,
              "#d8576b"
             ],
             [
              0.6666666666666666,
              "#ed7953"
             ],
             [
              0.7777777777777778,
              "#fb9f3a"
             ],
             [
              0.8888888888888888,
              "#fdca26"
             ],
             [
              1,
              "#f0f921"
             ]
            ],
            "type": "contour"
           }
          ],
          "contourcarpet": [
           {
            "colorbar": {
             "outlinewidth": 0,
             "ticks": ""
            },
            "type": "contourcarpet"
           }
          ],
          "heatmap": [
           {
            "colorbar": {
             "outlinewidth": 0,
             "ticks": ""
            },
            "colorscale": [
             [
              0,
              "#0d0887"
             ],
             [
              0.1111111111111111,
              "#46039f"
             ],
             [
              0.2222222222222222,
              "#7201a8"
             ],
             [
              0.3333333333333333,
              "#9c179e"
             ],
             [
              0.4444444444444444,
              "#bd3786"
             ],
             [
              0.5555555555555556,
              "#d8576b"
             ],
             [
              0.6666666666666666,
              "#ed7953"
             ],
             [
              0.7777777777777778,
              "#fb9f3a"
             ],
             [
              0.8888888888888888,
              "#fdca26"
             ],
             [
              1,
              "#f0f921"
             ]
            ],
            "type": "heatmap"
           }
          ],
          "heatmapgl": [
           {
            "colorbar": {
             "outlinewidth": 0,
             "ticks": ""
            },
            "colorscale": [
             [
              0,
              "#0d0887"
             ],
             [
              0.1111111111111111,
              "#46039f"
             ],
             [
              0.2222222222222222,
              "#7201a8"
             ],
             [
              0.3333333333333333,
              "#9c179e"
             ],
             [
              0.4444444444444444,
              "#bd3786"
             ],
             [
              0.5555555555555556,
              "#d8576b"
             ],
             [
              0.6666666666666666,
              "#ed7953"
             ],
             [
              0.7777777777777778,
              "#fb9f3a"
             ],
             [
              0.8888888888888888,
              "#fdca26"
             ],
             [
              1,
              "#f0f921"
             ]
            ],
            "type": "heatmapgl"
           }
          ],
          "histogram": [
           {
            "marker": {
             "colorbar": {
              "outlinewidth": 0,
              "ticks": ""
             }
            },
            "type": "histogram"
           }
          ],
          "histogram2d": [
           {
            "colorbar": {
             "outlinewidth": 0,
             "ticks": ""
            },
            "colorscale": [
             [
              0,
              "#0d0887"
             ],
             [
              0.1111111111111111,
              "#46039f"
             ],
             [
              0.2222222222222222,
              "#7201a8"
             ],
             [
              0.3333333333333333,
              "#9c179e"
             ],
             [
              0.4444444444444444,
              "#bd3786"
             ],
             [
              0.5555555555555556,
              "#d8576b"
             ],
             [
              0.6666666666666666,
              "#ed7953"
             ],
             [
              0.7777777777777778,
              "#fb9f3a"
             ],
             [
              0.8888888888888888,
              "#fdca26"
             ],
             [
              1,
              "#f0f921"
             ]
            ],
            "type": "histogram2d"
           }
          ],
          "histogram2dcontour": [
           {
            "colorbar": {
             "outlinewidth": 0,
             "ticks": ""
            },
            "colorscale": [
             [
              0,
              "#0d0887"
             ],
             [
              0.1111111111111111,
              "#46039f"
             ],
             [
              0.2222222222222222,
              "#7201a8"
             ],
             [
              0.3333333333333333,
              "#9c179e"
             ],
             [
              0.4444444444444444,
              "#bd3786"
             ],
             [
              0.5555555555555556,
              "#d8576b"
             ],
             [
              0.6666666666666666,
              "#ed7953"
             ],
             [
              0.7777777777777778,
              "#fb9f3a"
             ],
             [
              0.8888888888888888,
              "#fdca26"
             ],
             [
              1,
              "#f0f921"
             ]
            ],
            "type": "histogram2dcontour"
           }
          ],
          "mesh3d": [
           {
            "colorbar": {
             "outlinewidth": 0,
             "ticks": ""
            },
            "type": "mesh3d"
           }
          ],
          "parcoords": [
           {
            "line": {
             "colorbar": {
              "outlinewidth": 0,
              "ticks": ""
             }
            },
            "type": "parcoords"
           }
          ],
          "pie": [
           {
            "automargin": true,
            "type": "pie"
           }
          ],
          "scatter": [
           {
            "marker": {
             "colorbar": {
              "outlinewidth": 0,
              "ticks": ""
             }
            },
            "type": "scatter"
           }
          ],
          "scatter3d": [
           {
            "line": {
             "colorbar": {
              "outlinewidth": 0,
              "ticks": ""
             }
            },
            "marker": {
             "colorbar": {
              "outlinewidth": 0,
              "ticks": ""
             }
            },
            "type": "scatter3d"
           }
          ],
          "scattercarpet": [
           {
            "marker": {
             "colorbar": {
              "outlinewidth": 0,
              "ticks": ""
             }
            },
            "type": "scattercarpet"
           }
          ],
          "scattergeo": [
           {
            "marker": {
             "colorbar": {
              "outlinewidth": 0,
              "ticks": ""
             }
            },
            "type": "scattergeo"
           }
          ],
          "scattergl": [
           {
            "marker": {
             "colorbar": {
              "outlinewidth": 0,
              "ticks": ""
             }
            },
            "type": "scattergl"
           }
          ],
          "scattermapbox": [
           {
            "marker": {
             "colorbar": {
              "outlinewidth": 0,
              "ticks": ""
             }
            },
            "type": "scattermapbox"
           }
          ],
          "scatterpolar": [
           {
            "marker": {
             "colorbar": {
              "outlinewidth": 0,
              "ticks": ""
             }
            },
            "type": "scatterpolar"
           }
          ],
          "scatterpolargl": [
           {
            "marker": {
             "colorbar": {
              "outlinewidth": 0,
              "ticks": ""
             }
            },
            "type": "scatterpolargl"
           }
          ],
          "scatterternary": [
           {
            "marker": {
             "colorbar": {
              "outlinewidth": 0,
              "ticks": ""
             }
            },
            "type": "scatterternary"
           }
          ],
          "surface": [
           {
            "colorbar": {
             "outlinewidth": 0,
             "ticks": ""
            },
            "colorscale": [
             [
              0,
              "#0d0887"
             ],
             [
              0.1111111111111111,
              "#46039f"
             ],
             [
              0.2222222222222222,
              "#7201a8"
             ],
             [
              0.3333333333333333,
              "#9c179e"
             ],
             [
              0.4444444444444444,
              "#bd3786"
             ],
             [
              0.5555555555555556,
              "#d8576b"
             ],
             [
              0.6666666666666666,
              "#ed7953"
             ],
             [
              0.7777777777777778,
              "#fb9f3a"
             ],
             [
              0.8888888888888888,
              "#fdca26"
             ],
             [
              1,
              "#f0f921"
             ]
            ],
            "type": "surface"
           }
          ],
          "table": [
           {
            "cells": {
             "fill": {
              "color": "#EBF0F8"
             },
             "line": {
              "color": "white"
             }
            },
            "header": {
             "fill": {
              "color": "#C8D4E3"
             },
             "line": {
              "color": "white"
             }
            },
            "type": "table"
           }
          ]
         },
         "layout": {
          "annotationdefaults": {
           "arrowcolor": "#2a3f5f",
           "arrowhead": 0,
           "arrowwidth": 1
          },
          "autotypenumbers": "strict",
          "coloraxis": {
           "colorbar": {
            "outlinewidth": 0,
            "ticks": ""
           }
          },
          "colorscale": {
           "diverging": [
            [
             0,
             "#8e0152"
            ],
            [
             0.1,
             "#c51b7d"
            ],
            [
             0.2,
             "#de77ae"
            ],
            [
             0.3,
             "#f1b6da"
            ],
            [
             0.4,
             "#fde0ef"
            ],
            [
             0.5,
             "#f7f7f7"
            ],
            [
             0.6,
             "#e6f5d0"
            ],
            [
             0.7,
             "#b8e186"
            ],
            [
             0.8,
             "#7fbc41"
            ],
            [
             0.9,
             "#4d9221"
            ],
            [
             1,
             "#276419"
            ]
           ],
           "sequential": [
            [
             0,
             "#0d0887"
            ],
            [
             0.1111111111111111,
             "#46039f"
            ],
            [
             0.2222222222222222,
             "#7201a8"
            ],
            [
             0.3333333333333333,
             "#9c179e"
            ],
            [
             0.4444444444444444,
             "#bd3786"
            ],
            [
             0.5555555555555556,
             "#d8576b"
            ],
            [
             0.6666666666666666,
             "#ed7953"
            ],
            [
             0.7777777777777778,
             "#fb9f3a"
            ],
            [
             0.8888888888888888,
             "#fdca26"
            ],
            [
             1,
             "#f0f921"
            ]
           ],
           "sequentialminus": [
            [
             0,
             "#0d0887"
            ],
            [
             0.1111111111111111,
             "#46039f"
            ],
            [
             0.2222222222222222,
             "#7201a8"
            ],
            [
             0.3333333333333333,
             "#9c179e"
            ],
            [
             0.4444444444444444,
             "#bd3786"
            ],
            [
             0.5555555555555556,
             "#d8576b"
            ],
            [
             0.6666666666666666,
             "#ed7953"
            ],
            [
             0.7777777777777778,
             "#fb9f3a"
            ],
            [
             0.8888888888888888,
             "#fdca26"
            ],
            [
             1,
             "#f0f921"
            ]
           ]
          },
          "colorway": [
           "#636efa",
           "#EF553B",
           "#00cc96",
           "#ab63fa",
           "#FFA15A",
           "#19d3f3",
           "#FF6692",
           "#B6E880",
           "#FF97FF",
           "#FECB52"
          ],
          "font": {
           "color": "#2a3f5f"
          },
          "geo": {
           "bgcolor": "white",
           "lakecolor": "white",
           "landcolor": "#E5ECF6",
           "showlakes": true,
           "showland": true,
           "subunitcolor": "white"
          },
          "hoverlabel": {
           "align": "left"
          },
          "hovermode": "closest",
          "mapbox": {
           "style": "light"
          },
          "paper_bgcolor": "white",
          "plot_bgcolor": "#E5ECF6",
          "polar": {
           "angularaxis": {
            "gridcolor": "white",
            "linecolor": "white",
            "ticks": ""
           },
           "bgcolor": "#E5ECF6",
           "radialaxis": {
            "gridcolor": "white",
            "linecolor": "white",
            "ticks": ""
           }
          },
          "scene": {
           "xaxis": {
            "backgroundcolor": "#E5ECF6",
            "gridcolor": "white",
            "gridwidth": 2,
            "linecolor": "white",
            "showbackground": true,
            "ticks": "",
            "zerolinecolor": "white"
           },
           "yaxis": {
            "backgroundcolor": "#E5ECF6",
            "gridcolor": "white",
            "gridwidth": 2,
            "linecolor": "white",
            "showbackground": true,
            "ticks": "",
            "zerolinecolor": "white"
           },
           "zaxis": {
            "backgroundcolor": "#E5ECF6",
            "gridcolor": "white",
            "gridwidth": 2,
            "linecolor": "white",
            "showbackground": true,
            "ticks": "",
            "zerolinecolor": "white"
           }
          },
          "shapedefaults": {
           "line": {
            "color": "#2a3f5f"
           }
          },
          "ternary": {
           "aaxis": {
            "gridcolor": "white",
            "linecolor": "white",
            "ticks": ""
           },
           "baxis": {
            "gridcolor": "white",
            "linecolor": "white",
            "ticks": ""
           },
           "bgcolor": "#E5ECF6",
           "caxis": {
            "gridcolor": "white",
            "linecolor": "white",
            "ticks": ""
           }
          },
          "title": {
           "x": 0.05
          },
          "xaxis": {
           "automargin": true,
           "gridcolor": "white",
           "linecolor": "white",
           "ticks": "",
           "title": {
            "standoff": 15
           },
           "zerolinecolor": "white",
           "zerolinewidth": 2
          },
          "yaxis": {
           "automargin": true,
           "gridcolor": "white",
           "linecolor": "white",
           "ticks": "",
           "title": {
            "standoff": 15
           },
           "zerolinecolor": "white",
           "zerolinewidth": 2
          }
         }
        },
        "title": {
         "font": {
          "color": "#4D5663"
         }
        },
        "xaxis": {
         "gridcolor": "#E1E5ED",
         "showgrid": true,
         "tickfont": {
          "color": "#4D5663"
         },
         "title": {
          "font": {
           "color": "#4D5663"
          },
          "text": ""
         },
         "zerolinecolor": "#E1E5ED"
        },
        "yaxis": {
         "gridcolor": "#E1E5ED",
         "showgrid": true,
         "tickfont": {
          "color": "#4D5663"
         },
         "title": {
          "font": {
           "color": "#4D5663"
          },
          "text": ""
         },
         "zerolinecolor": "#E1E5ED"
        }
       }
      },
      "text/html": "<div>                            <div id=\"90a135a0-ea5f-43a3-93d8-be5d3c2b8921\" class=\"plotly-graph-div\" style=\"height:525px; width:100%;\"></div>            <script type=\"text/javascript\">                require([\"plotly\"], function(Plotly) {                    window.PLOTLYENV=window.PLOTLYENV || {};\n                    window.PLOTLYENV.BASE_URL='https://plot.ly';                                    if (document.getElementById(\"90a135a0-ea5f-43a3-93d8-be5d3c2b8921\")) {                    Plotly.newPlot(                        \"90a135a0-ea5f-43a3-93d8-be5d3c2b8921\",                        [{\"boxpoints\": false, \"line\": {\"width\": 1.3}, \"marker\": {\"color\": \"rgba(255, 153, 51, 1.0)\"}, \"name\": \"A\", \"orientation\": \"v\", \"type\": \"box\", \"y\": [-0.607666448602811, 1.2591769182867638, 0.16704406418634177, 0.9887082751879337, 0.42050690141106456, -0.2809674912610298, 1.4205748844371253, -0.16218921393075963, 0.5295790871081705, -0.4205995210823767, -0.16337781840683835, 0.16759853031741256, -0.2809880800221108, 0.45200515671738956, -0.7963631441160887, 0.008124987817348458, -0.9653504552870982, -0.9223975905420754, 1.697503764122202, -1.1326697096648621, 0.5441315200764606, -1.4327221815783646, 0.2796380060554141, -0.8128388054259313, -1.1827094987732283, 0.9192838701288726, 0.005031233926596609, 0.4940789532190036, 1.5199810486972711, -0.8443998734201372, -0.08104192992591111, 1.6689329486978688, -0.7571977288571777, -0.8487031498216203, -0.07545251039014507, -0.09434513820899024, -0.41232256357512964, 0.14336373331713348, -0.8541159147546175, -0.46384088394405887, -1.412249499680568, -1.0851655338041877, 0.6879094601966855, -0.6694324921369627, -0.03363857785329403, 0.5387086499714225, 0.16160180831572146, -0.45427480880416693, -0.8902462437574454, 2.1421316555307204, -0.28571217204710714, 2.7785629257632722, 0.6188425456596433, -2.459254026768631, 0.09684266173917931, 1.8786280821248922, 0.5593105388098913, 0.26783741562958696, -1.2984375511279334, 1.1011962236341868, 0.45296418473280115, -0.5321941924939583, 0.753939474413834, 0.9500785265544965, 1.0899664761916448, -1.467471011712826, -1.8417320806426902, 1.338367980687843, -1.5162371572164843, 0.8077958820276738, 0.05796809642764383, -0.7442463436578459, 0.32199607754326404, -0.07641715190381224, 1.271974510389658, 1.2110829413589757, -0.2952254419337832, -1.4838594863846635, 2.0037350196859847, 0.7641245546427664, 1.1687512590371492, 1.0290682142963403, 0.5227913621549826, 0.07140529149204715, 0.7725409413533701, 0.5141137105114424, 0.7331364742667712, -1.4336782221613382, -0.10001428221531719, -0.7328017258110671, 1.9666060051841314, -1.1631585459816023, 0.8406467869926779, -1.4210030180588464, -1.86072837927215, 0.5640046352845078, 2.383701139672665, 2.476332563313472, -0.5353887528785137, 0.7258828223322248]}, {\"boxpoints\": false, \"line\": {\"width\": 1.3}, \"marker\": {\"color\": \"rgba(55, 128, 191, 1.0)\"}, \"name\": \"B\", \"orientation\": \"v\", \"type\": \"box\", \"y\": [0.031207682244617542, -0.9935482997534674, -1.2387163161907424, 0.3126411229606882, -1.5891470111710775, 0.07635814487302482, 1.1923987298056264, -0.8112752331427182, 0.3753696679604892, -1.1313144154052281, 0.9605575351846121, -0.8227810207976046, 0.3058696253813466, -0.062392383027024545, 0.0914039951082883, 1.569963638523854, -1.3209111992992464, -0.505404772341623, 0.4469060588185499, 0.338681444519608, 0.4277500034434874, 1.8118096469110234, -2.707892546203596, -1.246823143817817, -1.5087041797641172, 0.48159850639528023, 0.4002490260967725, 0.5102053066593562, 0.012675404040215244, -0.5505153478806513, 0.142701498010046, -1.370584934091697, -0.465276852037582, -0.6267239674553973, -0.2646699056244561, 1.0875368856352667, -1.434404032497129, 1.4109414962819065, 0.9235522288718865, -0.5119719562560471, -0.6976977102703348, 0.5747329306441911, -0.8956614256141748, 1.1857860513489715, -1.9548308830495846, -1.1367997870862887, 2.061070273949067, 0.6588214122709168, 0.4410322351607642, -0.48796022081817403, 1.6053822576254855, -0.3140314095170499, -0.09124804505842249, 1.3484214515162485, 0.32727035641686286, 0.22129713953336863, -0.6223804442822951, -0.8857002347557834, -1.3851516630852694, 0.6308690956117835, 0.8271598452053652, -1.1279541070033732, -0.05344314824258955, -0.37069948428920874, 0.9465741701628043, 0.4009643109576281, -1.2132942383142324, -1.1541141737765865, -0.29247553216184013, 1.3722130853213, 0.8548717018970707, -0.2656159662802207, 0.22669618331868235, 1.6083628909928163, 0.23614029731646852, 0.15033798028605647, -0.36078885714769116, 0.5450248831544398, 0.9577333980549713, 0.24342093309276405, -1.3230510975011762, -0.18950658150248, -0.29962570025070767, 1.2123866856004129, -0.32810667970458063, -0.23713318711384512, -1.1159826228709895, -0.18895108060257848, 1.1585142270387017, -0.27584783569539345, -0.3346270595588554, -0.5131187582372946, 0.6873100918212838, 0.08401528306893093, 0.0901193388465427, 0.32770017053241934, 1.178540724416936, -1.704896131930627, 0.004174290449213629, 0.8000408565286847]}, {\"boxpoints\": false, \"line\": {\"width\": 1.3}, \"marker\": {\"color\": \"rgba(50, 171, 96, 1.0)\"}, \"name\": \"C\", \"orientation\": \"v\", \"type\": \"box\", \"y\": [1.4489903556936925, 0.9569146937059532, -1.0876396619061846, -0.8825336651551515, -0.8423240070023791, -0.4272107463195657, -1.0045630781628048, 0.0429394511243209, -0.7148729467758064, -0.7789949477790704, -0.9191832504312808, -1.384802499135036, 0.7403815312751256, 0.12790428966569284, -0.876598463396739, 0.46459743153905897, 2.2945103309610206, 0.9190764259753557, -1.0347445864486673, 0.7897574525971488, 0.3414303620739439, -1.3847910087182327, 0.1955830021193111, 0.4049174783016158, -0.2829754583507037, 0.838011739396502, 1.2703377287048359, -2.0619906501701752, -1.4981690667576353, -1.7112228860701841, -0.47034477162706384, -0.637737291097207, -0.6581863024705712, -1.8484248869495319, -0.25297207420322987, -1.498730238182971, -1.0832873210696463, 0.7686015651247761, -1.9785988376993036, 0.7622892264339542, -0.2190104805136365, -0.7138553058224888, -0.20260034760585052, 1.1142766590091016, -2.936111953861491, -0.07515135449588436, -1.5421422903782285, -1.142272878834587, -1.110933150126963, 1.5064100692033802, 0.21695368836427406, 0.7435021970998392, -1.1458590487618259, 0.7109330494512432, 0.6608559956042735, -0.4267649333096379, 0.8740907611704118, -1.3451971631908606, -0.5170795699452903, -0.8630544128632993, -0.25199107407956256, 0.02748099581794078, -0.9091067674187974, -0.7012846658008495, -0.7920411791675391, 0.3693919235496703, 0.5742103826245605, 0.03644415204349955, 0.9997563029530769, 0.9552985665080148, -0.34215278593870785, 0.3339513677279051, 1.5655576693735629, 1.0762902366665126, -0.7682184461169863, -0.42461624540838383, 0.4161402693127119, -0.3487367513927705, -0.42396814167004315, -0.002815425224448483, -0.30686775945602396, 0.01909922190336151, -0.07452615113233313, 0.6264360653888321, -1.3431556773879652, -1.4959249223308302, -2.6521154680026244, 1.4629990654336873, -0.5736096562978921, -0.41118011393250464, -0.06421124614134084, -0.1398291528881255, -0.6919445060187562, 0.06824080061724438, -1.3105951793497057, -0.38525562900399807, -1.115691087322862, 0.43672171773252433, -1.9284808149353287, 0.38751086296356646]}, {\"boxpoints\": false, \"line\": {\"width\": 1.3}, \"marker\": {\"color\": \"rgba(128, 0, 128, 1.0)\"}, \"name\": \"D\", \"orientation\": \"v\", \"type\": \"box\", \"y\": [-0.6330078646998142, 1.8140756335916555, -0.5835976045612592, -0.5641200148384549, -0.7113091036630851, 0.5792715905614506, 0.06557156890941346, 0.050892636683272714, -0.8450805527038645, 1.064068924147688, 0.7056144359183899, -1.168973900334623, -0.11805109594065305, 0.9251690717019997, -1.2894179858161674, -0.2775137876890778, -1.2521398241852149, 0.6443885338330175, -1.3381094353429026, -0.6897537677570175, 1.012539735673264, -0.7522475874313775, -0.4430646307150996, 1.9831136976064792, -0.676678887365719, -0.2787947880912225, -1.4083208568976933, 0.14019093468472557, 0.5024706033789321, 0.16516639285817306, 1.2377049506972744, -1.6949187806594332, 1.5415432918094552, 1.6301678015258994, -1.1027559176738229, 0.43357549396542233, 1.2057464481430542, 1.4696617273324206, 0.6454066869364494, 1.1103842739308352, 0.2782456366771006, 1.4297506852056028, -0.3048720664044912, 0.19743546709858048, 0.4784536517243281, -2.2223271852837856, -3.259381690438617, 0.8721078585324115, -0.311912960665354, 0.24970857071647337, -1.5912285869615286, -0.8145442555583446, 0.37345909865248417, 1.9336074172114501, -0.06876507854781654, 0.08994599336495115, -1.2537818517856754, 0.6791236156070609, -1.3601721763062147, 0.8390733341372618, -0.13429825334273918, 0.24087589381874666, 1.0058785258670269, 0.04401529704545266, -0.41683670631106706, 0.77092327971203, -0.4584395283092104, -0.39110690228463174, 0.7150226306317401, -0.06417182112554029, 0.3950100035740469, 0.6025754048569935, 0.07177701542208834, -0.29920082731233383, -0.4603566842574775, -1.6597335636166832, -0.21258830391543462, -0.38892128078710536, -0.6161632528144666, -0.05716896211311977, 0.3509399386112978, 0.8757909970253571, -0.11265943297298331, 0.4014272056011246, 0.4933027408475595, -0.9893768125723018, 0.9029758053521423, 0.9983313711827291, -0.31683343254947205, 2.023820871281636, -0.37294509964931855, 2.2158104756101307, -0.7753867534333052, -1.2600278190322325, -1.3358500870657253, 1.8181432420037171, -1.181590578304687, 0.7556440663108855, 1.5940854331575334, 0.7061877381941765]}],                        {\"legend\": {\"bgcolor\": \"#F5F6F9\", \"font\": {\"color\": \"#4D5663\"}}, \"paper_bgcolor\": \"#F5F6F9\", \"plot_bgcolor\": \"#F5F6F9\", \"template\": {\"data\": {\"bar\": [{\"error_x\": {\"color\": \"#2a3f5f\"}, \"error_y\": {\"color\": \"#2a3f5f\"}, \"marker\": {\"line\": {\"color\": \"#E5ECF6\", \"width\": 0.5}}, \"type\": \"bar\"}], \"barpolar\": [{\"marker\": {\"line\": {\"color\": \"#E5ECF6\", \"width\": 0.5}}, \"type\": \"barpolar\"}], \"carpet\": [{\"aaxis\": {\"endlinecolor\": \"#2a3f5f\", \"gridcolor\": \"white\", \"linecolor\": \"white\", \"minorgridcolor\": \"white\", \"startlinecolor\": \"#2a3f5f\"}, \"baxis\": {\"endlinecolor\": \"#2a3f5f\", \"gridcolor\": \"white\", \"linecolor\": \"white\", \"minorgridcolor\": \"white\", \"startlinecolor\": \"#2a3f5f\"}, \"type\": \"carpet\"}], \"choropleth\": [{\"colorbar\": {\"outlinewidth\": 0, \"ticks\": \"\"}, \"type\": \"choropleth\"}], \"contour\": [{\"colorbar\": {\"outlinewidth\": 0, \"ticks\": \"\"}, \"colorscale\": [[0.0, \"#0d0887\"], [0.1111111111111111, \"#46039f\"], [0.2222222222222222, \"#7201a8\"], [0.3333333333333333, \"#9c179e\"], [0.4444444444444444, \"#bd3786\"], [0.5555555555555556, \"#d8576b\"], [0.6666666666666666, \"#ed7953\"], [0.7777777777777778, \"#fb9f3a\"], [0.8888888888888888, \"#fdca26\"], [1.0, \"#f0f921\"]], \"type\": \"contour\"}], \"contourcarpet\": [{\"colorbar\": {\"outlinewidth\": 0, \"ticks\": \"\"}, \"type\": \"contourcarpet\"}], \"heatmap\": [{\"colorbar\": {\"outlinewidth\": 0, \"ticks\": \"\"}, \"colorscale\": [[0.0, \"#0d0887\"], [0.1111111111111111, \"#46039f\"], [0.2222222222222222, \"#7201a8\"], [0.3333333333333333, \"#9c179e\"], [0.4444444444444444, \"#bd3786\"], [0.5555555555555556, \"#d8576b\"], [0.6666666666666666, \"#ed7953\"], [0.7777777777777778, \"#fb9f3a\"], [0.8888888888888888, \"#fdca26\"], [1.0, \"#f0f921\"]], \"type\": \"heatmap\"}], \"heatmapgl\": [{\"colorbar\": {\"outlinewidth\": 0, \"ticks\": \"\"}, \"colorscale\": [[0.0, \"#0d0887\"], [0.1111111111111111, \"#46039f\"], [0.2222222222222222, \"#7201a8\"], [0.3333333333333333, \"#9c179e\"], [0.4444444444444444, \"#bd3786\"], [0.5555555555555556, \"#d8576b\"], [0.6666666666666666, \"#ed7953\"], [0.7777777777777778, \"#fb9f3a\"], [0.8888888888888888, \"#fdca26\"], [1.0, \"#f0f921\"]], \"type\": \"heatmapgl\"}], \"histogram\": [{\"marker\": {\"colorbar\": {\"outlinewidth\": 0, \"ticks\": \"\"}}, \"type\": \"histogram\"}], \"histogram2d\": [{\"colorbar\": {\"outlinewidth\": 0, \"ticks\": \"\"}, \"colorscale\": [[0.0, \"#0d0887\"], [0.1111111111111111, \"#46039f\"], [0.2222222222222222, \"#7201a8\"], [0.3333333333333333, \"#9c179e\"], [0.4444444444444444, \"#bd3786\"], [0.5555555555555556, \"#d8576b\"], [0.6666666666666666, \"#ed7953\"], [0.7777777777777778, \"#fb9f3a\"], [0.8888888888888888, \"#fdca26\"], [1.0, \"#f0f921\"]], \"type\": \"histogram2d\"}], \"histogram2dcontour\": [{\"colorbar\": {\"outlinewidth\": 0, \"ticks\": \"\"}, \"colorscale\": [[0.0, \"#0d0887\"], [0.1111111111111111, \"#46039f\"], [0.2222222222222222, \"#7201a8\"], [0.3333333333333333, \"#9c179e\"], [0.4444444444444444, \"#bd3786\"], [0.5555555555555556, \"#d8576b\"], [0.6666666666666666, \"#ed7953\"], [0.7777777777777778, \"#fb9f3a\"], [0.8888888888888888, \"#fdca26\"], [1.0, \"#f0f921\"]], \"type\": \"histogram2dcontour\"}], \"mesh3d\": [{\"colorbar\": {\"outlinewidth\": 0, \"ticks\": \"\"}, \"type\": \"mesh3d\"}], \"parcoords\": [{\"line\": {\"colorbar\": {\"outlinewidth\": 0, \"ticks\": \"\"}}, \"type\": \"parcoords\"}], \"pie\": [{\"automargin\": true, \"type\": \"pie\"}], \"scatter\": [{\"marker\": {\"colorbar\": {\"outlinewidth\": 0, \"ticks\": \"\"}}, \"type\": \"scatter\"}], \"scatter3d\": [{\"line\": {\"colorbar\": {\"outlinewidth\": 0, \"ticks\": \"\"}}, \"marker\": {\"colorbar\": {\"outlinewidth\": 0, \"ticks\": \"\"}}, \"type\": \"scatter3d\"}], \"scattercarpet\": [{\"marker\": {\"colorbar\": {\"outlinewidth\": 0, \"ticks\": \"\"}}, \"type\": \"scattercarpet\"}], \"scattergeo\": [{\"marker\": {\"colorbar\": {\"outlinewidth\": 0, \"ticks\": \"\"}}, \"type\": \"scattergeo\"}], \"scattergl\": [{\"marker\": {\"colorbar\": {\"outlinewidth\": 0, \"ticks\": \"\"}}, \"type\": \"scattergl\"}], \"scattermapbox\": [{\"marker\": {\"colorbar\": {\"outlinewidth\": 0, \"ticks\": \"\"}}, \"type\": \"scattermapbox\"}], \"scatterpolar\": [{\"marker\": {\"colorbar\": {\"outlinewidth\": 0, \"ticks\": \"\"}}, \"type\": \"scatterpolar\"}], \"scatterpolargl\": [{\"marker\": {\"colorbar\": {\"outlinewidth\": 0, \"ticks\": \"\"}}, \"type\": \"scatterpolargl\"}], \"scatterternary\": [{\"marker\": {\"colorbar\": {\"outlinewidth\": 0, \"ticks\": \"\"}}, \"type\": \"scatterternary\"}], \"surface\": [{\"colorbar\": {\"outlinewidth\": 0, \"ticks\": \"\"}, \"colorscale\": [[0.0, \"#0d0887\"], [0.1111111111111111, \"#46039f\"], [0.2222222222222222, \"#7201a8\"], [0.3333333333333333, \"#9c179e\"], [0.4444444444444444, \"#bd3786\"], [0.5555555555555556, \"#d8576b\"], [0.6666666666666666, \"#ed7953\"], [0.7777777777777778, \"#fb9f3a\"], [0.8888888888888888, \"#fdca26\"], [1.0, \"#f0f921\"]], \"type\": \"surface\"}], \"table\": [{\"cells\": {\"fill\": {\"color\": \"#EBF0F8\"}, \"line\": {\"color\": \"white\"}}, \"header\": {\"fill\": {\"color\": \"#C8D4E3\"}, \"line\": {\"color\": \"white\"}}, \"type\": \"table\"}]}, \"layout\": {\"annotationdefaults\": {\"arrowcolor\": \"#2a3f5f\", \"arrowhead\": 0, \"arrowwidth\": 1}, \"autotypenumbers\": \"strict\", \"coloraxis\": {\"colorbar\": {\"outlinewidth\": 0, \"ticks\": \"\"}}, \"colorscale\": {\"diverging\": [[0, \"#8e0152\"], [0.1, \"#c51b7d\"], [0.2, \"#de77ae\"], [0.3, \"#f1b6da\"], [0.4, \"#fde0ef\"], [0.5, \"#f7f7f7\"], [0.6, \"#e6f5d0\"], [0.7, \"#b8e186\"], [0.8, \"#7fbc41\"], [0.9, \"#4d9221\"], [1, \"#276419\"]], \"sequential\": [[0.0, \"#0d0887\"], [0.1111111111111111, \"#46039f\"], [0.2222222222222222, \"#7201a8\"], [0.3333333333333333, \"#9c179e\"], [0.4444444444444444, \"#bd3786\"], [0.5555555555555556, \"#d8576b\"], [0.6666666666666666, \"#ed7953\"], [0.7777777777777778, \"#fb9f3a\"], [0.8888888888888888, \"#fdca26\"], [1.0, \"#f0f921\"]], \"sequentialminus\": [[0.0, \"#0d0887\"], [0.1111111111111111, \"#46039f\"], [0.2222222222222222, \"#7201a8\"], [0.3333333333333333, \"#9c179e\"], [0.4444444444444444, \"#bd3786\"], [0.5555555555555556, \"#d8576b\"], [0.6666666666666666, \"#ed7953\"], [0.7777777777777778, \"#fb9f3a\"], [0.8888888888888888, \"#fdca26\"], [1.0, \"#f0f921\"]]}, \"colorway\": [\"#636efa\", \"#EF553B\", \"#00cc96\", \"#ab63fa\", \"#FFA15A\", \"#19d3f3\", \"#FF6692\", \"#B6E880\", \"#FF97FF\", \"#FECB52\"], \"font\": {\"color\": \"#2a3f5f\"}, \"geo\": {\"bgcolor\": \"white\", \"lakecolor\": \"white\", \"landcolor\": \"#E5ECF6\", \"showlakes\": true, \"showland\": true, \"subunitcolor\": \"white\"}, \"hoverlabel\": {\"align\": \"left\"}, \"hovermode\": \"closest\", \"mapbox\": {\"style\": \"light\"}, \"paper_bgcolor\": \"white\", \"plot_bgcolor\": \"#E5ECF6\", \"polar\": {\"angularaxis\": {\"gridcolor\": \"white\", \"linecolor\": \"white\", \"ticks\": \"\"}, \"bgcolor\": \"#E5ECF6\", \"radialaxis\": {\"gridcolor\": \"white\", \"linecolor\": \"white\", \"ticks\": \"\"}}, \"scene\": {\"xaxis\": {\"backgroundcolor\": \"#E5ECF6\", \"gridcolor\": \"white\", \"gridwidth\": 2, \"linecolor\": \"white\", \"showbackground\": true, \"ticks\": \"\", \"zerolinecolor\": \"white\"}, \"yaxis\": {\"backgroundcolor\": \"#E5ECF6\", \"gridcolor\": \"white\", \"gridwidth\": 2, \"linecolor\": \"white\", \"showbackground\": true, \"ticks\": \"\", \"zerolinecolor\": \"white\"}, \"zaxis\": {\"backgroundcolor\": \"#E5ECF6\", \"gridcolor\": \"white\", \"gridwidth\": 2, \"linecolor\": \"white\", \"showbackground\": true, \"ticks\": \"\", \"zerolinecolor\": \"white\"}}, \"shapedefaults\": {\"line\": {\"color\": \"#2a3f5f\"}}, \"ternary\": {\"aaxis\": {\"gridcolor\": \"white\", \"linecolor\": \"white\", \"ticks\": \"\"}, \"baxis\": {\"gridcolor\": \"white\", \"linecolor\": \"white\", \"ticks\": \"\"}, \"bgcolor\": \"#E5ECF6\", \"caxis\": {\"gridcolor\": \"white\", \"linecolor\": \"white\", \"ticks\": \"\"}}, \"title\": {\"x\": 0.05}, \"xaxis\": {\"automargin\": true, \"gridcolor\": \"white\", \"linecolor\": \"white\", \"ticks\": \"\", \"title\": {\"standoff\": 15}, \"zerolinecolor\": \"white\", \"zerolinewidth\": 2}, \"yaxis\": {\"automargin\": true, \"gridcolor\": \"white\", \"linecolor\": \"white\", \"ticks\": \"\", \"title\": {\"standoff\": 15}, \"zerolinecolor\": \"white\", \"zerolinewidth\": 2}}}, \"title\": {\"font\": {\"color\": \"#4D5663\"}}, \"xaxis\": {\"gridcolor\": \"#E1E5ED\", \"showgrid\": true, \"tickfont\": {\"color\": \"#4D5663\"}, \"title\": {\"font\": {\"color\": \"#4D5663\"}, \"text\": \"\"}, \"zerolinecolor\": \"#E1E5ED\"}, \"yaxis\": {\"gridcolor\": \"#E1E5ED\", \"showgrid\": true, \"tickfont\": {\"color\": \"#4D5663\"}, \"title\": {\"font\": {\"color\": \"#4D5663\"}, \"text\": \"\"}, \"zerolinecolor\": \"#E1E5ED\"}},                        {\"showLink\": true, \"linkText\": \"Export to plot.ly\", \"plotlyServerURL\": \"https://plot.ly\", \"responsive\": true}                    ).then(function(){\n                            \nvar gd = document.getElementById('90a135a0-ea5f-43a3-93d8-be5d3c2b8921');\nvar x = new MutationObserver(function (mutations, observer) {{\n        var display = window.getComputedStyle(gd).display;\n        if (!display || display === 'none') {{\n            console.log([gd, 'removed!']);\n            Plotly.purge(gd);\n            observer.disconnect();\n        }}\n}});\n\n// Listen for the removal of the full notebook cells\nvar notebookContainer = gd.closest('#notebook-container');\nif (notebookContainer) {{\n    x.observe(notebookContainer, {childList: true});\n}}\n\n// Listen for the clearing of the current output cell\nvar outputEl = gd.closest('.output');\nif (outputEl) {{\n    x.observe(outputEl, {childList: true});\n}}\n\n                        })                };                });            </script>        </div>"
     },
     "metadata": {}
    }
   ],
   "source": [
    "df.iplot(kind='box')"
   ]
  },
  {
   "cell_type": "markdown",
   "metadata": {},
   "source": [
    "## Superficie 3D"
   ]
  },
  {
   "cell_type": "code",
   "execution_count": 18,
   "metadata": {},
   "outputs": [
    {
     "output_type": "display_data",
     "data": {
      "application/vnd.plotly.v1+json": {
       "config": {
        "linkText": "Export to plot.ly",
        "plotlyServerURL": "https://plot.ly",
        "showLink": true
       },
       "data": [
        {
         "colorscale": [
          [
           0,
           "rgb(165,0,38)"
          ],
          [
           0.1,
           "rgb(215,48,39)"
          ],
          [
           0.2,
           "rgb(244,109,67)"
          ],
          [
           0.3,
           "rgb(253,174,97)"
          ],
          [
           0.4,
           "rgb(254,224,144)"
          ],
          [
           0.5,
           "rgb(255,255,191)"
          ],
          [
           0.6,
           "rgb(224,243,248)"
          ],
          [
           0.7,
           "rgb(171,217,233)"
          ],
          [
           0.8,
           "rgb(116,173,209)"
          ],
          [
           0.9,
           "rgb(69,117,180)"
          ],
          [
           1,
           "rgb(49,54,149)"
          ]
         ],
         "type": "surface",
         "x": [
          0,
          1,
          2,
          3,
          4
         ],
         "y": [
          "x",
          "y",
          "z"
         ],
         "z": [
          [
           1,
           2,
           3,
           4,
           5
          ],
          [
           10,
           20,
           30,
           20,
           10
          ],
          [
           5,
           4,
           3,
           2,
           1
          ]
         ]
        }
       ],
       "layout": {
        "legend": {
         "bgcolor": "#F5F6F9",
         "font": {
          "color": "#4D5663"
         }
        },
        "paper_bgcolor": "#F5F6F9",
        "plot_bgcolor": "#F5F6F9",
        "template": {
         "data": {
          "bar": [
           {
            "error_x": {
             "color": "#2a3f5f"
            },
            "error_y": {
             "color": "#2a3f5f"
            },
            "marker": {
             "line": {
              "color": "#E5ECF6",
              "width": 0.5
             }
            },
            "type": "bar"
           }
          ],
          "barpolar": [
           {
            "marker": {
             "line": {
              "color": "#E5ECF6",
              "width": 0.5
             }
            },
            "type": "barpolar"
           }
          ],
          "carpet": [
           {
            "aaxis": {
             "endlinecolor": "#2a3f5f",
             "gridcolor": "white",
             "linecolor": "white",
             "minorgridcolor": "white",
             "startlinecolor": "#2a3f5f"
            },
            "baxis": {
             "endlinecolor": "#2a3f5f",
             "gridcolor": "white",
             "linecolor": "white",
             "minorgridcolor": "white",
             "startlinecolor": "#2a3f5f"
            },
            "type": "carpet"
           }
          ],
          "choropleth": [
           {
            "colorbar": {
             "outlinewidth": 0,
             "ticks": ""
            },
            "type": "choropleth"
           }
          ],
          "contour": [
           {
            "colorbar": {
             "outlinewidth": 0,
             "ticks": ""
            },
            "colorscale": [
             [
              0,
              "#0d0887"
             ],
             [
              0.1111111111111111,
              "#46039f"
             ],
             [
              0.2222222222222222,
              "#7201a8"
             ],
             [
              0.3333333333333333,
              "#9c179e"
             ],
             [
              0.4444444444444444,
              "#bd3786"
             ],
             [
              0.5555555555555556,
              "#d8576b"
             ],
             [
              0.6666666666666666,
              "#ed7953"
             ],
             [
              0.7777777777777778,
              "#fb9f3a"
             ],
             [
              0.8888888888888888,
              "#fdca26"
             ],
             [
              1,
              "#f0f921"
             ]
            ],
            "type": "contour"
           }
          ],
          "contourcarpet": [
           {
            "colorbar": {
             "outlinewidth": 0,
             "ticks": ""
            },
            "type": "contourcarpet"
           }
          ],
          "heatmap": [
           {
            "colorbar": {
             "outlinewidth": 0,
             "ticks": ""
            },
            "colorscale": [
             [
              0,
              "#0d0887"
             ],
             [
              0.1111111111111111,
              "#46039f"
             ],
             [
              0.2222222222222222,
              "#7201a8"
             ],
             [
              0.3333333333333333,
              "#9c179e"
             ],
             [
              0.4444444444444444,
              "#bd3786"
             ],
             [
              0.5555555555555556,
              "#d8576b"
             ],
             [
              0.6666666666666666,
              "#ed7953"
             ],
             [
              0.7777777777777778,
              "#fb9f3a"
             ],
             [
              0.8888888888888888,
              "#fdca26"
             ],
             [
              1,
              "#f0f921"
             ]
            ],
            "type": "heatmap"
           }
          ],
          "heatmapgl": [
           {
            "colorbar": {
             "outlinewidth": 0,
             "ticks": ""
            },
            "colorscale": [
             [
              0,
              "#0d0887"
             ],
             [
              0.1111111111111111,
              "#46039f"
             ],
             [
              0.2222222222222222,
              "#7201a8"
             ],
             [
              0.3333333333333333,
              "#9c179e"
             ],
             [
              0.4444444444444444,
              "#bd3786"
             ],
             [
              0.5555555555555556,
              "#d8576b"
             ],
             [
              0.6666666666666666,
              "#ed7953"
             ],
             [
              0.7777777777777778,
              "#fb9f3a"
             ],
             [
              0.8888888888888888,
              "#fdca26"
             ],
             [
              1,
              "#f0f921"
             ]
            ],
            "type": "heatmapgl"
           }
          ],
          "histogram": [
           {
            "marker": {
             "colorbar": {
              "outlinewidth": 0,
              "ticks": ""
             }
            },
            "type": "histogram"
           }
          ],
          "histogram2d": [
           {
            "colorbar": {
             "outlinewidth": 0,
             "ticks": ""
            },
            "colorscale": [
             [
              0,
              "#0d0887"
             ],
             [
              0.1111111111111111,
              "#46039f"
             ],
             [
              0.2222222222222222,
              "#7201a8"
             ],
             [
              0.3333333333333333,
              "#9c179e"
             ],
             [
              0.4444444444444444,
              "#bd3786"
             ],
             [
              0.5555555555555556,
              "#d8576b"
             ],
             [
              0.6666666666666666,
              "#ed7953"
             ],
             [
              0.7777777777777778,
              "#fb9f3a"
             ],
             [
              0.8888888888888888,
              "#fdca26"
             ],
             [
              1,
              "#f0f921"
             ]
            ],
            "type": "histogram2d"
           }
          ],
          "histogram2dcontour": [
           {
            "colorbar": {
             "outlinewidth": 0,
             "ticks": ""
            },
            "colorscale": [
             [
              0,
              "#0d0887"
             ],
             [
              0.1111111111111111,
              "#46039f"
             ],
             [
              0.2222222222222222,
              "#7201a8"
             ],
             [
              0.3333333333333333,
              "#9c179e"
             ],
             [
              0.4444444444444444,
              "#bd3786"
             ],
             [
              0.5555555555555556,
              "#d8576b"
             ],
             [
              0.6666666666666666,
              "#ed7953"
             ],
             [
              0.7777777777777778,
              "#fb9f3a"
             ],
             [
              0.8888888888888888,
              "#fdca26"
             ],
             [
              1,
              "#f0f921"
             ]
            ],
            "type": "histogram2dcontour"
           }
          ],
          "mesh3d": [
           {
            "colorbar": {
             "outlinewidth": 0,
             "ticks": ""
            },
            "type": "mesh3d"
           }
          ],
          "parcoords": [
           {
            "line": {
             "colorbar": {
              "outlinewidth": 0,
              "ticks": ""
             }
            },
            "type": "parcoords"
           }
          ],
          "pie": [
           {
            "automargin": true,
            "type": "pie"
           }
          ],
          "scatter": [
           {
            "marker": {
             "colorbar": {
              "outlinewidth": 0,
              "ticks": ""
             }
            },
            "type": "scatter"
           }
          ],
          "scatter3d": [
           {
            "line": {
             "colorbar": {
              "outlinewidth": 0,
              "ticks": ""
             }
            },
            "marker": {
             "colorbar": {
              "outlinewidth": 0,
              "ticks": ""
             }
            },
            "type": "scatter3d"
           }
          ],
          "scattercarpet": [
           {
            "marker": {
             "colorbar": {
              "outlinewidth": 0,
              "ticks": ""
             }
            },
            "type": "scattercarpet"
           }
          ],
          "scattergeo": [
           {
            "marker": {
             "colorbar": {
              "outlinewidth": 0,
              "ticks": ""
             }
            },
            "type": "scattergeo"
           }
          ],
          "scattergl": [
           {
            "marker": {
             "colorbar": {
              "outlinewidth": 0,
              "ticks": ""
             }
            },
            "type": "scattergl"
           }
          ],
          "scattermapbox": [
           {
            "marker": {
             "colorbar": {
              "outlinewidth": 0,
              "ticks": ""
             }
            },
            "type": "scattermapbox"
           }
          ],
          "scatterpolar": [
           {
            "marker": {
             "colorbar": {
              "outlinewidth": 0,
              "ticks": ""
             }
            },
            "type": "scatterpolar"
           }
          ],
          "scatterpolargl": [
           {
            "marker": {
             "colorbar": {
              "outlinewidth": 0,
              "ticks": ""
             }
            },
            "type": "scatterpolargl"
           }
          ],
          "scatterternary": [
           {
            "marker": {
             "colorbar": {
              "outlinewidth": 0,
              "ticks": ""
             }
            },
            "type": "scatterternary"
           }
          ],
          "surface": [
           {
            "colorbar": {
             "outlinewidth": 0,
             "ticks": ""
            },
            "colorscale": [
             [
              0,
              "#0d0887"
             ],
             [
              0.1111111111111111,
              "#46039f"
             ],
             [
              0.2222222222222222,
              "#7201a8"
             ],
             [
              0.3333333333333333,
              "#9c179e"
             ],
             [
              0.4444444444444444,
              "#bd3786"
             ],
             [
              0.5555555555555556,
              "#d8576b"
             ],
             [
              0.6666666666666666,
              "#ed7953"
             ],
             [
              0.7777777777777778,
              "#fb9f3a"
             ],
             [
              0.8888888888888888,
              "#fdca26"
             ],
             [
              1,
              "#f0f921"
             ]
            ],
            "type": "surface"
           }
          ],
          "table": [
           {
            "cells": {
             "fill": {
              "color": "#EBF0F8"
             },
             "line": {
              "color": "white"
             }
            },
            "header": {
             "fill": {
              "color": "#C8D4E3"
             },
             "line": {
              "color": "white"
             }
            },
            "type": "table"
           }
          ]
         },
         "layout": {
          "annotationdefaults": {
           "arrowcolor": "#2a3f5f",
           "arrowhead": 0,
           "arrowwidth": 1
          },
          "autotypenumbers": "strict",
          "coloraxis": {
           "colorbar": {
            "outlinewidth": 0,
            "ticks": ""
           }
          },
          "colorscale": {
           "diverging": [
            [
             0,
             "#8e0152"
            ],
            [
             0.1,
             "#c51b7d"
            ],
            [
             0.2,
             "#de77ae"
            ],
            [
             0.3,
             "#f1b6da"
            ],
            [
             0.4,
             "#fde0ef"
            ],
            [
             0.5,
             "#f7f7f7"
            ],
            [
             0.6,
             "#e6f5d0"
            ],
            [
             0.7,
             "#b8e186"
            ],
            [
             0.8,
             "#7fbc41"
            ],
            [
             0.9,
             "#4d9221"
            ],
            [
             1,
             "#276419"
            ]
           ],
           "sequential": [
            [
             0,
             "#0d0887"
            ],
            [
             0.1111111111111111,
             "#46039f"
            ],
            [
             0.2222222222222222,
             "#7201a8"
            ],
            [
             0.3333333333333333,
             "#9c179e"
            ],
            [
             0.4444444444444444,
             "#bd3786"
            ],
            [
             0.5555555555555556,
             "#d8576b"
            ],
            [
             0.6666666666666666,
             "#ed7953"
            ],
            [
             0.7777777777777778,
             "#fb9f3a"
            ],
            [
             0.8888888888888888,
             "#fdca26"
            ],
            [
             1,
             "#f0f921"
            ]
           ],
           "sequentialminus": [
            [
             0,
             "#0d0887"
            ],
            [
             0.1111111111111111,
             "#46039f"
            ],
            [
             0.2222222222222222,
             "#7201a8"
            ],
            [
             0.3333333333333333,
             "#9c179e"
            ],
            [
             0.4444444444444444,
             "#bd3786"
            ],
            [
             0.5555555555555556,
             "#d8576b"
            ],
            [
             0.6666666666666666,
             "#ed7953"
            ],
            [
             0.7777777777777778,
             "#fb9f3a"
            ],
            [
             0.8888888888888888,
             "#fdca26"
            ],
            [
             1,
             "#f0f921"
            ]
           ]
          },
          "colorway": [
           "#636efa",
           "#EF553B",
           "#00cc96",
           "#ab63fa",
           "#FFA15A",
           "#19d3f3",
           "#FF6692",
           "#B6E880",
           "#FF97FF",
           "#FECB52"
          ],
          "font": {
           "color": "#2a3f5f"
          },
          "geo": {
           "bgcolor": "white",
           "lakecolor": "white",
           "landcolor": "#E5ECF6",
           "showlakes": true,
           "showland": true,
           "subunitcolor": "white"
          },
          "hoverlabel": {
           "align": "left"
          },
          "hovermode": "closest",
          "mapbox": {
           "style": "light"
          },
          "paper_bgcolor": "white",
          "plot_bgcolor": "#E5ECF6",
          "polar": {
           "angularaxis": {
            "gridcolor": "white",
            "linecolor": "white",
            "ticks": ""
           },
           "bgcolor": "#E5ECF6",
           "radialaxis": {
            "gridcolor": "white",
            "linecolor": "white",
            "ticks": ""
           }
          },
          "scene": {
           "xaxis": {
            "backgroundcolor": "#E5ECF6",
            "gridcolor": "white",
            "gridwidth": 2,
            "linecolor": "white",
            "showbackground": true,
            "ticks": "",
            "zerolinecolor": "white"
           },
           "yaxis": {
            "backgroundcolor": "#E5ECF6",
            "gridcolor": "white",
            "gridwidth": 2,
            "linecolor": "white",
            "showbackground": true,
            "ticks": "",
            "zerolinecolor": "white"
           },
           "zaxis": {
            "backgroundcolor": "#E5ECF6",
            "gridcolor": "white",
            "gridwidth": 2,
            "linecolor": "white",
            "showbackground": true,
            "ticks": "",
            "zerolinecolor": "white"
           }
          },
          "shapedefaults": {
           "line": {
            "color": "#2a3f5f"
           }
          },
          "ternary": {
           "aaxis": {
            "gridcolor": "white",
            "linecolor": "white",
            "ticks": ""
           },
           "baxis": {
            "gridcolor": "white",
            "linecolor": "white",
            "ticks": ""
           },
           "bgcolor": "#E5ECF6",
           "caxis": {
            "gridcolor": "white",
            "linecolor": "white",
            "ticks": ""
           }
          },
          "title": {
           "x": 0.05
          },
          "xaxis": {
           "automargin": true,
           "gridcolor": "white",
           "linecolor": "white",
           "ticks": "",
           "title": {
            "standoff": 15
           },
           "zerolinecolor": "white",
           "zerolinewidth": 2
          },
          "yaxis": {
           "automargin": true,
           "gridcolor": "white",
           "linecolor": "white",
           "ticks": "",
           "title": {
            "standoff": 15
           },
           "zerolinecolor": "white",
           "zerolinewidth": 2
          }
         }
        },
        "title": {
         "font": {
          "color": "#4D5663"
         }
        },
        "xaxis": {
         "gridcolor": "#E1E5ED",
         "showgrid": true,
         "tickfont": {
          "color": "#4D5663"
         },
         "title": {
          "font": {
           "color": "#4D5663"
          },
          "text": ""
         },
         "zerolinecolor": "#E1E5ED"
        },
        "yaxis": {
         "gridcolor": "#E1E5ED",
         "showgrid": true,
         "tickfont": {
          "color": "#4D5663"
         },
         "title": {
          "font": {
           "color": "#4D5663"
          },
          "text": ""
         },
         "zerolinecolor": "#E1E5ED"
        }
       }
      },
      "text/html": "<div>                            <div id=\"5d556175-a94a-411b-9ffc-1c890e2f1fbb\" class=\"plotly-graph-div\" style=\"height:525px; width:100%;\"></div>            <script type=\"text/javascript\">                require([\"plotly\"], function(Plotly) {                    window.PLOTLYENV=window.PLOTLYENV || {};\n                    window.PLOTLYENV.BASE_URL='https://plot.ly';                                    if (document.getElementById(\"5d556175-a94a-411b-9ffc-1c890e2f1fbb\")) {                    Plotly.newPlot(                        \"5d556175-a94a-411b-9ffc-1c890e2f1fbb\",                        [{\"colorscale\": [[0.0, \"rgb(165,0,38)\"], [0.1, \"rgb(215,48,39)\"], [0.2, \"rgb(244,109,67)\"], [0.3, \"rgb(253,174,97)\"], [0.4, \"rgb(254,224,144)\"], [0.5, \"rgb(255,255,191)\"], [0.6, \"rgb(224,243,248)\"], [0.7, \"rgb(171,217,233)\"], [0.8, \"rgb(116,173,209)\"], [0.9, \"rgb(69,117,180)\"], [1.0, \"rgb(49,54,149)\"]], \"type\": \"surface\", \"x\": [0, 1, 2, 3, 4], \"y\": [\"x\", \"y\", \"z\"], \"z\": [[1, 2, 3, 4, 5], [10, 20, 30, 20, 10], [5, 4, 3, 2, 1]]}],                        {\"legend\": {\"bgcolor\": \"#F5F6F9\", \"font\": {\"color\": \"#4D5663\"}}, \"paper_bgcolor\": \"#F5F6F9\", \"plot_bgcolor\": \"#F5F6F9\", \"template\": {\"data\": {\"bar\": [{\"error_x\": {\"color\": \"#2a3f5f\"}, \"error_y\": {\"color\": \"#2a3f5f\"}, \"marker\": {\"line\": {\"color\": \"#E5ECF6\", \"width\": 0.5}}, \"type\": \"bar\"}], \"barpolar\": [{\"marker\": {\"line\": {\"color\": \"#E5ECF6\", \"width\": 0.5}}, \"type\": \"barpolar\"}], \"carpet\": [{\"aaxis\": {\"endlinecolor\": \"#2a3f5f\", \"gridcolor\": \"white\", \"linecolor\": \"white\", \"minorgridcolor\": \"white\", \"startlinecolor\": \"#2a3f5f\"}, \"baxis\": {\"endlinecolor\": \"#2a3f5f\", \"gridcolor\": \"white\", \"linecolor\": \"white\", \"minorgridcolor\": \"white\", \"startlinecolor\": \"#2a3f5f\"}, \"type\": \"carpet\"}], \"choropleth\": [{\"colorbar\": {\"outlinewidth\": 0, \"ticks\": \"\"}, \"type\": \"choropleth\"}], \"contour\": [{\"colorbar\": {\"outlinewidth\": 0, \"ticks\": \"\"}, \"colorscale\": [[0.0, \"#0d0887\"], [0.1111111111111111, \"#46039f\"], [0.2222222222222222, \"#7201a8\"], [0.3333333333333333, \"#9c179e\"], [0.4444444444444444, \"#bd3786\"], [0.5555555555555556, \"#d8576b\"], [0.6666666666666666, \"#ed7953\"], [0.7777777777777778, \"#fb9f3a\"], [0.8888888888888888, \"#fdca26\"], [1.0, \"#f0f921\"]], \"type\": \"contour\"}], \"contourcarpet\": [{\"colorbar\": {\"outlinewidth\": 0, \"ticks\": \"\"}, \"type\": \"contourcarpet\"}], \"heatmap\": [{\"colorbar\": {\"outlinewidth\": 0, \"ticks\": \"\"}, \"colorscale\": [[0.0, \"#0d0887\"], [0.1111111111111111, \"#46039f\"], [0.2222222222222222, \"#7201a8\"], [0.3333333333333333, \"#9c179e\"], [0.4444444444444444, \"#bd3786\"], [0.5555555555555556, \"#d8576b\"], [0.6666666666666666, \"#ed7953\"], [0.7777777777777778, \"#fb9f3a\"], [0.8888888888888888, \"#fdca26\"], [1.0, \"#f0f921\"]], \"type\": \"heatmap\"}], \"heatmapgl\": [{\"colorbar\": {\"outlinewidth\": 0, \"ticks\": \"\"}, \"colorscale\": [[0.0, \"#0d0887\"], [0.1111111111111111, \"#46039f\"], [0.2222222222222222, \"#7201a8\"], [0.3333333333333333, \"#9c179e\"], [0.4444444444444444, \"#bd3786\"], [0.5555555555555556, \"#d8576b\"], [0.6666666666666666, \"#ed7953\"], [0.7777777777777778, \"#fb9f3a\"], [0.8888888888888888, \"#fdca26\"], [1.0, \"#f0f921\"]], \"type\": \"heatmapgl\"}], \"histogram\": [{\"marker\": {\"colorbar\": {\"outlinewidth\": 0, \"ticks\": \"\"}}, \"type\": \"histogram\"}], \"histogram2d\": [{\"colorbar\": {\"outlinewidth\": 0, \"ticks\": \"\"}, \"colorscale\": [[0.0, \"#0d0887\"], [0.1111111111111111, \"#46039f\"], [0.2222222222222222, \"#7201a8\"], [0.3333333333333333, \"#9c179e\"], [0.4444444444444444, \"#bd3786\"], [0.5555555555555556, \"#d8576b\"], [0.6666666666666666, \"#ed7953\"], [0.7777777777777778, \"#fb9f3a\"], [0.8888888888888888, \"#fdca26\"], [1.0, \"#f0f921\"]], \"type\": \"histogram2d\"}], \"histogram2dcontour\": [{\"colorbar\": {\"outlinewidth\": 0, \"ticks\": \"\"}, \"colorscale\": [[0.0, \"#0d0887\"], [0.1111111111111111, \"#46039f\"], [0.2222222222222222, \"#7201a8\"], [0.3333333333333333, \"#9c179e\"], [0.4444444444444444, \"#bd3786\"], [0.5555555555555556, \"#d8576b\"], [0.6666666666666666, \"#ed7953\"], [0.7777777777777778, \"#fb9f3a\"], [0.8888888888888888, \"#fdca26\"], [1.0, \"#f0f921\"]], \"type\": \"histogram2dcontour\"}], \"mesh3d\": [{\"colorbar\": {\"outlinewidth\": 0, \"ticks\": \"\"}, \"type\": \"mesh3d\"}], \"parcoords\": [{\"line\": {\"colorbar\": {\"outlinewidth\": 0, \"ticks\": \"\"}}, \"type\": \"parcoords\"}], \"pie\": [{\"automargin\": true, \"type\": \"pie\"}], \"scatter\": [{\"marker\": {\"colorbar\": {\"outlinewidth\": 0, \"ticks\": \"\"}}, \"type\": \"scatter\"}], \"scatter3d\": [{\"line\": {\"colorbar\": {\"outlinewidth\": 0, \"ticks\": \"\"}}, \"marker\": {\"colorbar\": {\"outlinewidth\": 0, \"ticks\": \"\"}}, \"type\": \"scatter3d\"}], \"scattercarpet\": [{\"marker\": {\"colorbar\": {\"outlinewidth\": 0, \"ticks\": \"\"}}, \"type\": \"scattercarpet\"}], \"scattergeo\": [{\"marker\": {\"colorbar\": {\"outlinewidth\": 0, \"ticks\": \"\"}}, \"type\": \"scattergeo\"}], \"scattergl\": [{\"marker\": {\"colorbar\": {\"outlinewidth\": 0, \"ticks\": \"\"}}, \"type\": \"scattergl\"}], \"scattermapbox\": [{\"marker\": {\"colorbar\": {\"outlinewidth\": 0, \"ticks\": \"\"}}, \"type\": \"scattermapbox\"}], \"scatterpolar\": [{\"marker\": {\"colorbar\": {\"outlinewidth\": 0, \"ticks\": \"\"}}, \"type\": \"scatterpolar\"}], \"scatterpolargl\": [{\"marker\": {\"colorbar\": {\"outlinewidth\": 0, \"ticks\": \"\"}}, \"type\": \"scatterpolargl\"}], \"scatterternary\": [{\"marker\": {\"colorbar\": {\"outlinewidth\": 0, \"ticks\": \"\"}}, \"type\": \"scatterternary\"}], \"surface\": [{\"colorbar\": {\"outlinewidth\": 0, \"ticks\": \"\"}, \"colorscale\": [[0.0, \"#0d0887\"], [0.1111111111111111, \"#46039f\"], [0.2222222222222222, \"#7201a8\"], [0.3333333333333333, \"#9c179e\"], [0.4444444444444444, \"#bd3786\"], [0.5555555555555556, \"#d8576b\"], [0.6666666666666666, \"#ed7953\"], [0.7777777777777778, \"#fb9f3a\"], [0.8888888888888888, \"#fdca26\"], [1.0, \"#f0f921\"]], \"type\": \"surface\"}], \"table\": [{\"cells\": {\"fill\": {\"color\": \"#EBF0F8\"}, \"line\": {\"color\": \"white\"}}, \"header\": {\"fill\": {\"color\": \"#C8D4E3\"}, \"line\": {\"color\": \"white\"}}, \"type\": \"table\"}]}, \"layout\": {\"annotationdefaults\": {\"arrowcolor\": \"#2a3f5f\", \"arrowhead\": 0, \"arrowwidth\": 1}, \"autotypenumbers\": \"strict\", \"coloraxis\": {\"colorbar\": {\"outlinewidth\": 0, \"ticks\": \"\"}}, \"colorscale\": {\"diverging\": [[0, \"#8e0152\"], [0.1, \"#c51b7d\"], [0.2, \"#de77ae\"], [0.3, \"#f1b6da\"], [0.4, \"#fde0ef\"], [0.5, \"#f7f7f7\"], [0.6, \"#e6f5d0\"], [0.7, \"#b8e186\"], [0.8, \"#7fbc41\"], [0.9, \"#4d9221\"], [1, \"#276419\"]], \"sequential\": [[0.0, \"#0d0887\"], [0.1111111111111111, \"#46039f\"], [0.2222222222222222, \"#7201a8\"], [0.3333333333333333, \"#9c179e\"], [0.4444444444444444, \"#bd3786\"], [0.5555555555555556, \"#d8576b\"], [0.6666666666666666, \"#ed7953\"], [0.7777777777777778, \"#fb9f3a\"], [0.8888888888888888, \"#fdca26\"], [1.0, \"#f0f921\"]], \"sequentialminus\": [[0.0, \"#0d0887\"], [0.1111111111111111, \"#46039f\"], [0.2222222222222222, \"#7201a8\"], [0.3333333333333333, \"#9c179e\"], [0.4444444444444444, \"#bd3786\"], [0.5555555555555556, \"#d8576b\"], [0.6666666666666666, \"#ed7953\"], [0.7777777777777778, \"#fb9f3a\"], [0.8888888888888888, \"#fdca26\"], [1.0, \"#f0f921\"]]}, \"colorway\": [\"#636efa\", \"#EF553B\", \"#00cc96\", \"#ab63fa\", \"#FFA15A\", \"#19d3f3\", \"#FF6692\", \"#B6E880\", \"#FF97FF\", \"#FECB52\"], \"font\": {\"color\": \"#2a3f5f\"}, \"geo\": {\"bgcolor\": \"white\", \"lakecolor\": \"white\", \"landcolor\": \"#E5ECF6\", \"showlakes\": true, \"showland\": true, \"subunitcolor\": \"white\"}, \"hoverlabel\": {\"align\": \"left\"}, \"hovermode\": \"closest\", \"mapbox\": {\"style\": \"light\"}, \"paper_bgcolor\": \"white\", \"plot_bgcolor\": \"#E5ECF6\", \"polar\": {\"angularaxis\": {\"gridcolor\": \"white\", \"linecolor\": \"white\", \"ticks\": \"\"}, \"bgcolor\": \"#E5ECF6\", \"radialaxis\": {\"gridcolor\": \"white\", \"linecolor\": \"white\", \"ticks\": \"\"}}, \"scene\": {\"xaxis\": {\"backgroundcolor\": \"#E5ECF6\", \"gridcolor\": \"white\", \"gridwidth\": 2, \"linecolor\": \"white\", \"showbackground\": true, \"ticks\": \"\", \"zerolinecolor\": \"white\"}, \"yaxis\": {\"backgroundcolor\": \"#E5ECF6\", \"gridcolor\": \"white\", \"gridwidth\": 2, \"linecolor\": \"white\", \"showbackground\": true, \"ticks\": \"\", \"zerolinecolor\": \"white\"}, \"zaxis\": {\"backgroundcolor\": \"#E5ECF6\", \"gridcolor\": \"white\", \"gridwidth\": 2, \"linecolor\": \"white\", \"showbackground\": true, \"ticks\": \"\", \"zerolinecolor\": \"white\"}}, \"shapedefaults\": {\"line\": {\"color\": \"#2a3f5f\"}}, \"ternary\": {\"aaxis\": {\"gridcolor\": \"white\", \"linecolor\": \"white\", \"ticks\": \"\"}, \"baxis\": {\"gridcolor\": \"white\", \"linecolor\": \"white\", \"ticks\": \"\"}, \"bgcolor\": \"#E5ECF6\", \"caxis\": {\"gridcolor\": \"white\", \"linecolor\": \"white\", \"ticks\": \"\"}}, \"title\": {\"x\": 0.05}, \"xaxis\": {\"automargin\": true, \"gridcolor\": \"white\", \"linecolor\": \"white\", \"ticks\": \"\", \"title\": {\"standoff\": 15}, \"zerolinecolor\": \"white\", \"zerolinewidth\": 2}, \"yaxis\": {\"automargin\": true, \"gridcolor\": \"white\", \"linecolor\": \"white\", \"ticks\": \"\", \"title\": {\"standoff\": 15}, \"zerolinecolor\": \"white\", \"zerolinewidth\": 2}}}, \"title\": {\"font\": {\"color\": \"#4D5663\"}}, \"xaxis\": {\"gridcolor\": \"#E1E5ED\", \"showgrid\": true, \"tickfont\": {\"color\": \"#4D5663\"}, \"title\": {\"font\": {\"color\": \"#4D5663\"}, \"text\": \"\"}, \"zerolinecolor\": \"#E1E5ED\"}, \"yaxis\": {\"gridcolor\": \"#E1E5ED\", \"showgrid\": true, \"tickfont\": {\"color\": \"#4D5663\"}, \"title\": {\"font\": {\"color\": \"#4D5663\"}, \"text\": \"\"}, \"zerolinecolor\": \"#E1E5ED\"}},                        {\"showLink\": true, \"linkText\": \"Export to plot.ly\", \"plotlyServerURL\": \"https://plot.ly\", \"responsive\": true}                    ).then(function(){\n                            \nvar gd = document.getElementById('5d556175-a94a-411b-9ffc-1c890e2f1fbb');\nvar x = new MutationObserver(function (mutations, observer) {{\n        var display = window.getComputedStyle(gd).display;\n        if (!display || display === 'none') {{\n            console.log([gd, 'removed!']);\n            Plotly.purge(gd);\n            observer.disconnect();\n        }}\n}});\n\n// Listen for the removal of the full notebook cells\nvar notebookContainer = gd.closest('#notebook-container');\nif (notebookContainer) {{\n    x.observe(notebookContainer, {childList: true});\n}}\n\n// Listen for the clearing of the current output cell\nvar outputEl = gd.closest('.output');\nif (outputEl) {{\n    x.observe(outputEl, {childList: true});\n}}\n\n                        })                };                });            </script>        </div>"
     },
     "metadata": {}
    }
   ],
   "source": [
    "df3 = pd.DataFrame({'x':[1,2,3,4,5],'y':[10,20,30,20,10],'z':[5,4,3,2,1]})\n",
    "df3.iplot(kind='surface',colorscale='rdylbu')"
   ]
  },
  {
   "cell_type": "markdown",
   "metadata": {},
   "source": [
    "## histogram"
   ]
  },
  {
   "cell_type": "code",
   "execution_count": 19,
   "metadata": {},
   "outputs": [
    {
     "output_type": "display_data",
     "data": {
      "application/vnd.plotly.v1+json": {
       "config": {
        "linkText": "Export to plot.ly",
        "plotlyServerURL": "https://plot.ly",
        "showLink": true
       },
       "data": [
        {
         "histfunc": "count",
         "histnorm": "",
         "marker": {
          "color": "rgba(255, 153, 51, 1.0)",
          "line": {
           "color": "#4D5663",
           "width": 1.3
          }
         },
         "name": "A",
         "nbinsx": 25,
         "opacity": 0.8,
         "orientation": "v",
         "type": "histogram",
         "x": [
          -0.607666448602811,
          1.2591769182867638,
          0.16704406418634177,
          0.9887082751879337,
          0.42050690141106456,
          -0.2809674912610298,
          1.4205748844371253,
          -0.16218921393075963,
          0.5295790871081705,
          -0.4205995210823767,
          -0.16337781840683835,
          0.16759853031741256,
          -0.2809880800221108,
          0.45200515671738956,
          -0.7963631441160887,
          0.008124987817348458,
          -0.9653504552870982,
          -0.9223975905420754,
          1.697503764122202,
          -1.1326697096648621,
          0.5441315200764606,
          -1.4327221815783646,
          0.2796380060554141,
          -0.8128388054259313,
          -1.1827094987732283,
          0.9192838701288726,
          0.005031233926596609,
          0.4940789532190036,
          1.5199810486972711,
          -0.8443998734201372,
          -0.08104192992591111,
          1.6689329486978688,
          -0.7571977288571777,
          -0.8487031498216203,
          -0.07545251039014507,
          -0.09434513820899024,
          -0.41232256357512964,
          0.14336373331713348,
          -0.8541159147546175,
          -0.46384088394405887,
          -1.412249499680568,
          -1.0851655338041877,
          0.6879094601966855,
          -0.6694324921369627,
          -0.03363857785329403,
          0.5387086499714225,
          0.16160180831572146,
          -0.45427480880416693,
          -0.8902462437574454,
          2.1421316555307204,
          -0.28571217204710714,
          2.7785629257632722,
          0.6188425456596433,
          -2.459254026768631,
          0.09684266173917931,
          1.8786280821248922,
          0.5593105388098913,
          0.26783741562958696,
          -1.2984375511279334,
          1.1011962236341868,
          0.45296418473280115,
          -0.5321941924939583,
          0.753939474413834,
          0.9500785265544965,
          1.0899664761916448,
          -1.467471011712826,
          -1.8417320806426902,
          1.338367980687843,
          -1.5162371572164843,
          0.8077958820276738,
          0.05796809642764383,
          -0.7442463436578459,
          0.32199607754326404,
          -0.07641715190381224,
          1.271974510389658,
          1.2110829413589757,
          -0.2952254419337832,
          -1.4838594863846635,
          2.0037350196859847,
          0.7641245546427664,
          1.1687512590371492,
          1.0290682142963403,
          0.5227913621549826,
          0.07140529149204715,
          0.7725409413533701,
          0.5141137105114424,
          0.7331364742667712,
          -1.4336782221613382,
          -0.10001428221531719,
          -0.7328017258110671,
          1.9666060051841314,
          -1.1631585459816023,
          0.8406467869926779,
          -1.4210030180588464,
          -1.86072837927215,
          0.5640046352845078,
          2.383701139672665,
          2.476332563313472,
          -0.5353887528785137,
          0.7258828223322248
         ]
        }
       ],
       "layout": {
        "barmode": "overlay",
        "legend": {
         "bgcolor": "#F5F6F9",
         "font": {
          "color": "#4D5663"
         }
        },
        "paper_bgcolor": "#F5F6F9",
        "plot_bgcolor": "#F5F6F9",
        "template": {
         "data": {
          "bar": [
           {
            "error_x": {
             "color": "#2a3f5f"
            },
            "error_y": {
             "color": "#2a3f5f"
            },
            "marker": {
             "line": {
              "color": "#E5ECF6",
              "width": 0.5
             }
            },
            "type": "bar"
           }
          ],
          "barpolar": [
           {
            "marker": {
             "line": {
              "color": "#E5ECF6",
              "width": 0.5
             }
            },
            "type": "barpolar"
           }
          ],
          "carpet": [
           {
            "aaxis": {
             "endlinecolor": "#2a3f5f",
             "gridcolor": "white",
             "linecolor": "white",
             "minorgridcolor": "white",
             "startlinecolor": "#2a3f5f"
            },
            "baxis": {
             "endlinecolor": "#2a3f5f",
             "gridcolor": "white",
             "linecolor": "white",
             "minorgridcolor": "white",
             "startlinecolor": "#2a3f5f"
            },
            "type": "carpet"
           }
          ],
          "choropleth": [
           {
            "colorbar": {
             "outlinewidth": 0,
             "ticks": ""
            },
            "type": "choropleth"
           }
          ],
          "contour": [
           {
            "colorbar": {
             "outlinewidth": 0,
             "ticks": ""
            },
            "colorscale": [
             [
              0,
              "#0d0887"
             ],
             [
              0.1111111111111111,
              "#46039f"
             ],
             [
              0.2222222222222222,
              "#7201a8"
             ],
             [
              0.3333333333333333,
              "#9c179e"
             ],
             [
              0.4444444444444444,
              "#bd3786"
             ],
             [
              0.5555555555555556,
              "#d8576b"
             ],
             [
              0.6666666666666666,
              "#ed7953"
             ],
             [
              0.7777777777777778,
              "#fb9f3a"
             ],
             [
              0.8888888888888888,
              "#fdca26"
             ],
             [
              1,
              "#f0f921"
             ]
            ],
            "type": "contour"
           }
          ],
          "contourcarpet": [
           {
            "colorbar": {
             "outlinewidth": 0,
             "ticks": ""
            },
            "type": "contourcarpet"
           }
          ],
          "heatmap": [
           {
            "colorbar": {
             "outlinewidth": 0,
             "ticks": ""
            },
            "colorscale": [
             [
              0,
              "#0d0887"
             ],
             [
              0.1111111111111111,
              "#46039f"
             ],
             [
              0.2222222222222222,
              "#7201a8"
             ],
             [
              0.3333333333333333,
              "#9c179e"
             ],
             [
              0.4444444444444444,
              "#bd3786"
             ],
             [
              0.5555555555555556,
              "#d8576b"
             ],
             [
              0.6666666666666666,
              "#ed7953"
             ],
             [
              0.7777777777777778,
              "#fb9f3a"
             ],
             [
              0.8888888888888888,
              "#fdca26"
             ],
             [
              1,
              "#f0f921"
             ]
            ],
            "type": "heatmap"
           }
          ],
          "heatmapgl": [
           {
            "colorbar": {
             "outlinewidth": 0,
             "ticks": ""
            },
            "colorscale": [
             [
              0,
              "#0d0887"
             ],
             [
              0.1111111111111111,
              "#46039f"
             ],
             [
              0.2222222222222222,
              "#7201a8"
             ],
             [
              0.3333333333333333,
              "#9c179e"
             ],
             [
              0.4444444444444444,
              "#bd3786"
             ],
             [
              0.5555555555555556,
              "#d8576b"
             ],
             [
              0.6666666666666666,
              "#ed7953"
             ],
             [
              0.7777777777777778,
              "#fb9f3a"
             ],
             [
              0.8888888888888888,
              "#fdca26"
             ],
             [
              1,
              "#f0f921"
             ]
            ],
            "type": "heatmapgl"
           }
          ],
          "histogram": [
           {
            "marker": {
             "colorbar": {
              "outlinewidth": 0,
              "ticks": ""
             }
            },
            "type": "histogram"
           }
          ],
          "histogram2d": [
           {
            "colorbar": {
             "outlinewidth": 0,
             "ticks": ""
            },
            "colorscale": [
             [
              0,
              "#0d0887"
             ],
             [
              0.1111111111111111,
              "#46039f"
             ],
             [
              0.2222222222222222,
              "#7201a8"
             ],
             [
              0.3333333333333333,
              "#9c179e"
             ],
             [
              0.4444444444444444,
              "#bd3786"
             ],
             [
              0.5555555555555556,
              "#d8576b"
             ],
             [
              0.6666666666666666,
              "#ed7953"
             ],
             [
              0.7777777777777778,
              "#fb9f3a"
             ],
             [
              0.8888888888888888,
              "#fdca26"
             ],
             [
              1,
              "#f0f921"
             ]
            ],
            "type": "histogram2d"
           }
          ],
          "histogram2dcontour": [
           {
            "colorbar": {
             "outlinewidth": 0,
             "ticks": ""
            },
            "colorscale": [
             [
              0,
              "#0d0887"
             ],
             [
              0.1111111111111111,
              "#46039f"
             ],
             [
              0.2222222222222222,
              "#7201a8"
             ],
             [
              0.3333333333333333,
              "#9c179e"
             ],
             [
              0.4444444444444444,
              "#bd3786"
             ],
             [
              0.5555555555555556,
              "#d8576b"
             ],
             [
              0.6666666666666666,
              "#ed7953"
             ],
             [
              0.7777777777777778,
              "#fb9f3a"
             ],
             [
              0.8888888888888888,
              "#fdca26"
             ],
             [
              1,
              "#f0f921"
             ]
            ],
            "type": "histogram2dcontour"
           }
          ],
          "mesh3d": [
           {
            "colorbar": {
             "outlinewidth": 0,
             "ticks": ""
            },
            "type": "mesh3d"
           }
          ],
          "parcoords": [
           {
            "line": {
             "colorbar": {
              "outlinewidth": 0,
              "ticks": ""
             }
            },
            "type": "parcoords"
           }
          ],
          "pie": [
           {
            "automargin": true,
            "type": "pie"
           }
          ],
          "scatter": [
           {
            "marker": {
             "colorbar": {
              "outlinewidth": 0,
              "ticks": ""
             }
            },
            "type": "scatter"
           }
          ],
          "scatter3d": [
           {
            "line": {
             "colorbar": {
              "outlinewidth": 0,
              "ticks": ""
             }
            },
            "marker": {
             "colorbar": {
              "outlinewidth": 0,
              "ticks": ""
             }
            },
            "type": "scatter3d"
           }
          ],
          "scattercarpet": [
           {
            "marker": {
             "colorbar": {
              "outlinewidth": 0,
              "ticks": ""
             }
            },
            "type": "scattercarpet"
           }
          ],
          "scattergeo": [
           {
            "marker": {
             "colorbar": {
              "outlinewidth": 0,
              "ticks": ""
             }
            },
            "type": "scattergeo"
           }
          ],
          "scattergl": [
           {
            "marker": {
             "colorbar": {
              "outlinewidth": 0,
              "ticks": ""
             }
            },
            "type": "scattergl"
           }
          ],
          "scattermapbox": [
           {
            "marker": {
             "colorbar": {
              "outlinewidth": 0,
              "ticks": ""
             }
            },
            "type": "scattermapbox"
           }
          ],
          "scatterpolar": [
           {
            "marker": {
             "colorbar": {
              "outlinewidth": 0,
              "ticks": ""
             }
            },
            "type": "scatterpolar"
           }
          ],
          "scatterpolargl": [
           {
            "marker": {
             "colorbar": {
              "outlinewidth": 0,
              "ticks": ""
             }
            },
            "type": "scatterpolargl"
           }
          ],
          "scatterternary": [
           {
            "marker": {
             "colorbar": {
              "outlinewidth": 0,
              "ticks": ""
             }
            },
            "type": "scatterternary"
           }
          ],
          "surface": [
           {
            "colorbar": {
             "outlinewidth": 0,
             "ticks": ""
            },
            "colorscale": [
             [
              0,
              "#0d0887"
             ],
             [
              0.1111111111111111,
              "#46039f"
             ],
             [
              0.2222222222222222,
              "#7201a8"
             ],
             [
              0.3333333333333333,
              "#9c179e"
             ],
             [
              0.4444444444444444,
              "#bd3786"
             ],
             [
              0.5555555555555556,
              "#d8576b"
             ],
             [
              0.6666666666666666,
              "#ed7953"
             ],
             [
              0.7777777777777778,
              "#fb9f3a"
             ],
             [
              0.8888888888888888,
              "#fdca26"
             ],
             [
              1,
              "#f0f921"
             ]
            ],
            "type": "surface"
           }
          ],
          "table": [
           {
            "cells": {
             "fill": {
              "color": "#EBF0F8"
             },
             "line": {
              "color": "white"
             }
            },
            "header": {
             "fill": {
              "color": "#C8D4E3"
             },
             "line": {
              "color": "white"
             }
            },
            "type": "table"
           }
          ]
         },
         "layout": {
          "annotationdefaults": {
           "arrowcolor": "#2a3f5f",
           "arrowhead": 0,
           "arrowwidth": 1
          },
          "autotypenumbers": "strict",
          "coloraxis": {
           "colorbar": {
            "outlinewidth": 0,
            "ticks": ""
           }
          },
          "colorscale": {
           "diverging": [
            [
             0,
             "#8e0152"
            ],
            [
             0.1,
             "#c51b7d"
            ],
            [
             0.2,
             "#de77ae"
            ],
            [
             0.3,
             "#f1b6da"
            ],
            [
             0.4,
             "#fde0ef"
            ],
            [
             0.5,
             "#f7f7f7"
            ],
            [
             0.6,
             "#e6f5d0"
            ],
            [
             0.7,
             "#b8e186"
            ],
            [
             0.8,
             "#7fbc41"
            ],
            [
             0.9,
             "#4d9221"
            ],
            [
             1,
             "#276419"
            ]
           ],
           "sequential": [
            [
             0,
             "#0d0887"
            ],
            [
             0.1111111111111111,
             "#46039f"
            ],
            [
             0.2222222222222222,
             "#7201a8"
            ],
            [
             0.3333333333333333,
             "#9c179e"
            ],
            [
             0.4444444444444444,
             "#bd3786"
            ],
            [
             0.5555555555555556,
             "#d8576b"
            ],
            [
             0.6666666666666666,
             "#ed7953"
            ],
            [
             0.7777777777777778,
             "#fb9f3a"
            ],
            [
             0.8888888888888888,
             "#fdca26"
            ],
            [
             1,
             "#f0f921"
            ]
           ],
           "sequentialminus": [
            [
             0,
             "#0d0887"
            ],
            [
             0.1111111111111111,
             "#46039f"
            ],
            [
             0.2222222222222222,
             "#7201a8"
            ],
            [
             0.3333333333333333,
             "#9c179e"
            ],
            [
             0.4444444444444444,
             "#bd3786"
            ],
            [
             0.5555555555555556,
             "#d8576b"
            ],
            [
             0.6666666666666666,
             "#ed7953"
            ],
            [
             0.7777777777777778,
             "#fb9f3a"
            ],
            [
             0.8888888888888888,
             "#fdca26"
            ],
            [
             1,
             "#f0f921"
            ]
           ]
          },
          "colorway": [
           "#636efa",
           "#EF553B",
           "#00cc96",
           "#ab63fa",
           "#FFA15A",
           "#19d3f3",
           "#FF6692",
           "#B6E880",
           "#FF97FF",
           "#FECB52"
          ],
          "font": {
           "color": "#2a3f5f"
          },
          "geo": {
           "bgcolor": "white",
           "lakecolor": "white",
           "landcolor": "#E5ECF6",
           "showlakes": true,
           "showland": true,
           "subunitcolor": "white"
          },
          "hoverlabel": {
           "align": "left"
          },
          "hovermode": "closest",
          "mapbox": {
           "style": "light"
          },
          "paper_bgcolor": "white",
          "plot_bgcolor": "#E5ECF6",
          "polar": {
           "angularaxis": {
            "gridcolor": "white",
            "linecolor": "white",
            "ticks": ""
           },
           "bgcolor": "#E5ECF6",
           "radialaxis": {
            "gridcolor": "white",
            "linecolor": "white",
            "ticks": ""
           }
          },
          "scene": {
           "xaxis": {
            "backgroundcolor": "#E5ECF6",
            "gridcolor": "white",
            "gridwidth": 2,
            "linecolor": "white",
            "showbackground": true,
            "ticks": "",
            "zerolinecolor": "white"
           },
           "yaxis": {
            "backgroundcolor": "#E5ECF6",
            "gridcolor": "white",
            "gridwidth": 2,
            "linecolor": "white",
            "showbackground": true,
            "ticks": "",
            "zerolinecolor": "white"
           },
           "zaxis": {
            "backgroundcolor": "#E5ECF6",
            "gridcolor": "white",
            "gridwidth": 2,
            "linecolor": "white",
            "showbackground": true,
            "ticks": "",
            "zerolinecolor": "white"
           }
          },
          "shapedefaults": {
           "line": {
            "color": "#2a3f5f"
           }
          },
          "ternary": {
           "aaxis": {
            "gridcolor": "white",
            "linecolor": "white",
            "ticks": ""
           },
           "baxis": {
            "gridcolor": "white",
            "linecolor": "white",
            "ticks": ""
           },
           "bgcolor": "#E5ECF6",
           "caxis": {
            "gridcolor": "white",
            "linecolor": "white",
            "ticks": ""
           }
          },
          "title": {
           "x": 0.05
          },
          "xaxis": {
           "automargin": true,
           "gridcolor": "white",
           "linecolor": "white",
           "ticks": "",
           "title": {
            "standoff": 15
           },
           "zerolinecolor": "white",
           "zerolinewidth": 2
          },
          "yaxis": {
           "automargin": true,
           "gridcolor": "white",
           "linecolor": "white",
           "ticks": "",
           "title": {
            "standoff": 15
           },
           "zerolinecolor": "white",
           "zerolinewidth": 2
          }
         }
        },
        "title": {
         "font": {
          "color": "#4D5663"
         }
        },
        "xaxis": {
         "gridcolor": "#E1E5ED",
         "showgrid": true,
         "tickfont": {
          "color": "#4D5663"
         },
         "title": {
          "font": {
           "color": "#4D5663"
          },
          "text": ""
         },
         "zerolinecolor": "#E1E5ED"
        },
        "yaxis": {
         "gridcolor": "#E1E5ED",
         "showgrid": true,
         "tickfont": {
          "color": "#4D5663"
         },
         "title": {
          "font": {
           "color": "#4D5663"
          },
          "text": ""
         },
         "zerolinecolor": "#E1E5ED"
        }
       }
      },
      "text/html": "<div>                            <div id=\"cea9874e-0ba3-4a01-821f-102e7dd6fe8e\" class=\"plotly-graph-div\" style=\"height:525px; width:100%;\"></div>            <script type=\"text/javascript\">                require([\"plotly\"], function(Plotly) {                    window.PLOTLYENV=window.PLOTLYENV || {};\n                    window.PLOTLYENV.BASE_URL='https://plot.ly';                                    if (document.getElementById(\"cea9874e-0ba3-4a01-821f-102e7dd6fe8e\")) {                    Plotly.newPlot(                        \"cea9874e-0ba3-4a01-821f-102e7dd6fe8e\",                        [{\"histfunc\": \"count\", \"histnorm\": \"\", \"marker\": {\"color\": \"rgba(255, 153, 51, 1.0)\", \"line\": {\"color\": \"#4D5663\", \"width\": 1.3}}, \"name\": \"A\", \"nbinsx\": 25, \"opacity\": 0.8, \"orientation\": \"v\", \"type\": \"histogram\", \"x\": [-0.607666448602811, 1.2591769182867638, 0.16704406418634177, 0.9887082751879337, 0.42050690141106456, -0.2809674912610298, 1.4205748844371253, -0.16218921393075963, 0.5295790871081705, -0.4205995210823767, -0.16337781840683835, 0.16759853031741256, -0.2809880800221108, 0.45200515671738956, -0.7963631441160887, 0.008124987817348458, -0.9653504552870982, -0.9223975905420754, 1.697503764122202, -1.1326697096648621, 0.5441315200764606, -1.4327221815783646, 0.2796380060554141, -0.8128388054259313, -1.1827094987732283, 0.9192838701288726, 0.005031233926596609, 0.4940789532190036, 1.5199810486972711, -0.8443998734201372, -0.08104192992591111, 1.6689329486978688, -0.7571977288571777, -0.8487031498216203, -0.07545251039014507, -0.09434513820899024, -0.41232256357512964, 0.14336373331713348, -0.8541159147546175, -0.46384088394405887, -1.412249499680568, -1.0851655338041877, 0.6879094601966855, -0.6694324921369627, -0.03363857785329403, 0.5387086499714225, 0.16160180831572146, -0.45427480880416693, -0.8902462437574454, 2.1421316555307204, -0.28571217204710714, 2.7785629257632722, 0.6188425456596433, -2.459254026768631, 0.09684266173917931, 1.8786280821248922, 0.5593105388098913, 0.26783741562958696, -1.2984375511279334, 1.1011962236341868, 0.45296418473280115, -0.5321941924939583, 0.753939474413834, 0.9500785265544965, 1.0899664761916448, -1.467471011712826, -1.8417320806426902, 1.338367980687843, -1.5162371572164843, 0.8077958820276738, 0.05796809642764383, -0.7442463436578459, 0.32199607754326404, -0.07641715190381224, 1.271974510389658, 1.2110829413589757, -0.2952254419337832, -1.4838594863846635, 2.0037350196859847, 0.7641245546427664, 1.1687512590371492, 1.0290682142963403, 0.5227913621549826, 0.07140529149204715, 0.7725409413533701, 0.5141137105114424, 0.7331364742667712, -1.4336782221613382, -0.10001428221531719, -0.7328017258110671, 1.9666060051841314, -1.1631585459816023, 0.8406467869926779, -1.4210030180588464, -1.86072837927215, 0.5640046352845078, 2.383701139672665, 2.476332563313472, -0.5353887528785137, 0.7258828223322248]}],                        {\"barmode\": \"overlay\", \"legend\": {\"bgcolor\": \"#F5F6F9\", \"font\": {\"color\": \"#4D5663\"}}, \"paper_bgcolor\": \"#F5F6F9\", \"plot_bgcolor\": \"#F5F6F9\", \"template\": {\"data\": {\"bar\": [{\"error_x\": {\"color\": \"#2a3f5f\"}, \"error_y\": {\"color\": \"#2a3f5f\"}, \"marker\": {\"line\": {\"color\": \"#E5ECF6\", \"width\": 0.5}}, \"type\": \"bar\"}], \"barpolar\": [{\"marker\": {\"line\": {\"color\": \"#E5ECF6\", \"width\": 0.5}}, \"type\": \"barpolar\"}], \"carpet\": [{\"aaxis\": {\"endlinecolor\": \"#2a3f5f\", \"gridcolor\": \"white\", \"linecolor\": \"white\", \"minorgridcolor\": \"white\", \"startlinecolor\": \"#2a3f5f\"}, \"baxis\": {\"endlinecolor\": \"#2a3f5f\", \"gridcolor\": \"white\", \"linecolor\": \"white\", \"minorgridcolor\": \"white\", \"startlinecolor\": \"#2a3f5f\"}, \"type\": \"carpet\"}], \"choropleth\": [{\"colorbar\": {\"outlinewidth\": 0, \"ticks\": \"\"}, \"type\": \"choropleth\"}], \"contour\": [{\"colorbar\": {\"outlinewidth\": 0, \"ticks\": \"\"}, \"colorscale\": [[0.0, \"#0d0887\"], [0.1111111111111111, \"#46039f\"], [0.2222222222222222, \"#7201a8\"], [0.3333333333333333, \"#9c179e\"], [0.4444444444444444, \"#bd3786\"], [0.5555555555555556, \"#d8576b\"], [0.6666666666666666, \"#ed7953\"], [0.7777777777777778, \"#fb9f3a\"], [0.8888888888888888, \"#fdca26\"], [1.0, \"#f0f921\"]], \"type\": \"contour\"}], \"contourcarpet\": [{\"colorbar\": {\"outlinewidth\": 0, \"ticks\": \"\"}, \"type\": \"contourcarpet\"}], \"heatmap\": [{\"colorbar\": {\"outlinewidth\": 0, \"ticks\": \"\"}, \"colorscale\": [[0.0, \"#0d0887\"], [0.1111111111111111, \"#46039f\"], [0.2222222222222222, \"#7201a8\"], [0.3333333333333333, \"#9c179e\"], [0.4444444444444444, \"#bd3786\"], [0.5555555555555556, \"#d8576b\"], [0.6666666666666666, \"#ed7953\"], [0.7777777777777778, \"#fb9f3a\"], [0.8888888888888888, \"#fdca26\"], [1.0, \"#f0f921\"]], \"type\": \"heatmap\"}], \"heatmapgl\": [{\"colorbar\": {\"outlinewidth\": 0, \"ticks\": \"\"}, \"colorscale\": [[0.0, \"#0d0887\"], [0.1111111111111111, \"#46039f\"], [0.2222222222222222, \"#7201a8\"], [0.3333333333333333, \"#9c179e\"], [0.4444444444444444, \"#bd3786\"], [0.5555555555555556, \"#d8576b\"], [0.6666666666666666, \"#ed7953\"], [0.7777777777777778, \"#fb9f3a\"], [0.8888888888888888, \"#fdca26\"], [1.0, \"#f0f921\"]], \"type\": \"heatmapgl\"}], \"histogram\": [{\"marker\": {\"colorbar\": {\"outlinewidth\": 0, \"ticks\": \"\"}}, \"type\": \"histogram\"}], \"histogram2d\": [{\"colorbar\": {\"outlinewidth\": 0, \"ticks\": \"\"}, \"colorscale\": [[0.0, \"#0d0887\"], [0.1111111111111111, \"#46039f\"], [0.2222222222222222, \"#7201a8\"], [0.3333333333333333, \"#9c179e\"], [0.4444444444444444, \"#bd3786\"], [0.5555555555555556, \"#d8576b\"], [0.6666666666666666, \"#ed7953\"], [0.7777777777777778, \"#fb9f3a\"], [0.8888888888888888, \"#fdca26\"], [1.0, \"#f0f921\"]], \"type\": \"histogram2d\"}], \"histogram2dcontour\": [{\"colorbar\": {\"outlinewidth\": 0, \"ticks\": \"\"}, \"colorscale\": [[0.0, \"#0d0887\"], [0.1111111111111111, \"#46039f\"], [0.2222222222222222, \"#7201a8\"], [0.3333333333333333, \"#9c179e\"], [0.4444444444444444, \"#bd3786\"], [0.5555555555555556, \"#d8576b\"], [0.6666666666666666, \"#ed7953\"], [0.7777777777777778, \"#fb9f3a\"], [0.8888888888888888, \"#fdca26\"], [1.0, \"#f0f921\"]], \"type\": \"histogram2dcontour\"}], \"mesh3d\": [{\"colorbar\": {\"outlinewidth\": 0, \"ticks\": \"\"}, \"type\": \"mesh3d\"}], \"parcoords\": [{\"line\": {\"colorbar\": {\"outlinewidth\": 0, \"ticks\": \"\"}}, \"type\": \"parcoords\"}], \"pie\": [{\"automargin\": true, \"type\": \"pie\"}], \"scatter\": [{\"marker\": {\"colorbar\": {\"outlinewidth\": 0, \"ticks\": \"\"}}, \"type\": \"scatter\"}], \"scatter3d\": [{\"line\": {\"colorbar\": {\"outlinewidth\": 0, \"ticks\": \"\"}}, \"marker\": {\"colorbar\": {\"outlinewidth\": 0, \"ticks\": \"\"}}, \"type\": \"scatter3d\"}], \"scattercarpet\": [{\"marker\": {\"colorbar\": {\"outlinewidth\": 0, \"ticks\": \"\"}}, \"type\": \"scattercarpet\"}], \"scattergeo\": [{\"marker\": {\"colorbar\": {\"outlinewidth\": 0, \"ticks\": \"\"}}, \"type\": \"scattergeo\"}], \"scattergl\": [{\"marker\": {\"colorbar\": {\"outlinewidth\": 0, \"ticks\": \"\"}}, \"type\": \"scattergl\"}], \"scattermapbox\": [{\"marker\": {\"colorbar\": {\"outlinewidth\": 0, \"ticks\": \"\"}}, \"type\": \"scattermapbox\"}], \"scatterpolar\": [{\"marker\": {\"colorbar\": {\"outlinewidth\": 0, \"ticks\": \"\"}}, \"type\": \"scatterpolar\"}], \"scatterpolargl\": [{\"marker\": {\"colorbar\": {\"outlinewidth\": 0, \"ticks\": \"\"}}, \"type\": \"scatterpolargl\"}], \"scatterternary\": [{\"marker\": {\"colorbar\": {\"outlinewidth\": 0, \"ticks\": \"\"}}, \"type\": \"scatterternary\"}], \"surface\": [{\"colorbar\": {\"outlinewidth\": 0, \"ticks\": \"\"}, \"colorscale\": [[0.0, \"#0d0887\"], [0.1111111111111111, \"#46039f\"], [0.2222222222222222, \"#7201a8\"], [0.3333333333333333, \"#9c179e\"], [0.4444444444444444, \"#bd3786\"], [0.5555555555555556, \"#d8576b\"], [0.6666666666666666, \"#ed7953\"], [0.7777777777777778, \"#fb9f3a\"], [0.8888888888888888, \"#fdca26\"], [1.0, \"#f0f921\"]], \"type\": \"surface\"}], \"table\": [{\"cells\": {\"fill\": {\"color\": \"#EBF0F8\"}, \"line\": {\"color\": \"white\"}}, \"header\": {\"fill\": {\"color\": \"#C8D4E3\"}, \"line\": {\"color\": \"white\"}}, \"type\": \"table\"}]}, \"layout\": {\"annotationdefaults\": {\"arrowcolor\": \"#2a3f5f\", \"arrowhead\": 0, \"arrowwidth\": 1}, \"autotypenumbers\": \"strict\", \"coloraxis\": {\"colorbar\": {\"outlinewidth\": 0, \"ticks\": \"\"}}, \"colorscale\": {\"diverging\": [[0, \"#8e0152\"], [0.1, \"#c51b7d\"], [0.2, \"#de77ae\"], [0.3, \"#f1b6da\"], [0.4, \"#fde0ef\"], [0.5, \"#f7f7f7\"], [0.6, \"#e6f5d0\"], [0.7, \"#b8e186\"], [0.8, \"#7fbc41\"], [0.9, \"#4d9221\"], [1, \"#276419\"]], \"sequential\": [[0.0, \"#0d0887\"], [0.1111111111111111, \"#46039f\"], [0.2222222222222222, \"#7201a8\"], [0.3333333333333333, \"#9c179e\"], [0.4444444444444444, \"#bd3786\"], [0.5555555555555556, \"#d8576b\"], [0.6666666666666666, \"#ed7953\"], [0.7777777777777778, \"#fb9f3a\"], [0.8888888888888888, \"#fdca26\"], [1.0, \"#f0f921\"]], \"sequentialminus\": [[0.0, \"#0d0887\"], [0.1111111111111111, \"#46039f\"], [0.2222222222222222, \"#7201a8\"], [0.3333333333333333, \"#9c179e\"], [0.4444444444444444, \"#bd3786\"], [0.5555555555555556, \"#d8576b\"], [0.6666666666666666, \"#ed7953\"], [0.7777777777777778, \"#fb9f3a\"], [0.8888888888888888, \"#fdca26\"], [1.0, \"#f0f921\"]]}, \"colorway\": [\"#636efa\", \"#EF553B\", \"#00cc96\", \"#ab63fa\", \"#FFA15A\", \"#19d3f3\", \"#FF6692\", \"#B6E880\", \"#FF97FF\", \"#FECB52\"], \"font\": {\"color\": \"#2a3f5f\"}, \"geo\": {\"bgcolor\": \"white\", \"lakecolor\": \"white\", \"landcolor\": \"#E5ECF6\", \"showlakes\": true, \"showland\": true, \"subunitcolor\": \"white\"}, \"hoverlabel\": {\"align\": \"left\"}, \"hovermode\": \"closest\", \"mapbox\": {\"style\": \"light\"}, \"paper_bgcolor\": \"white\", \"plot_bgcolor\": \"#E5ECF6\", \"polar\": {\"angularaxis\": {\"gridcolor\": \"white\", \"linecolor\": \"white\", \"ticks\": \"\"}, \"bgcolor\": \"#E5ECF6\", \"radialaxis\": {\"gridcolor\": \"white\", \"linecolor\": \"white\", \"ticks\": \"\"}}, \"scene\": {\"xaxis\": {\"backgroundcolor\": \"#E5ECF6\", \"gridcolor\": \"white\", \"gridwidth\": 2, \"linecolor\": \"white\", \"showbackground\": true, \"ticks\": \"\", \"zerolinecolor\": \"white\"}, \"yaxis\": {\"backgroundcolor\": \"#E5ECF6\", \"gridcolor\": \"white\", \"gridwidth\": 2, \"linecolor\": \"white\", \"showbackground\": true, \"ticks\": \"\", \"zerolinecolor\": \"white\"}, \"zaxis\": {\"backgroundcolor\": \"#E5ECF6\", \"gridcolor\": \"white\", \"gridwidth\": 2, \"linecolor\": \"white\", \"showbackground\": true, \"ticks\": \"\", \"zerolinecolor\": \"white\"}}, \"shapedefaults\": {\"line\": {\"color\": \"#2a3f5f\"}}, \"ternary\": {\"aaxis\": {\"gridcolor\": \"white\", \"linecolor\": \"white\", \"ticks\": \"\"}, \"baxis\": {\"gridcolor\": \"white\", \"linecolor\": \"white\", \"ticks\": \"\"}, \"bgcolor\": \"#E5ECF6\", \"caxis\": {\"gridcolor\": \"white\", \"linecolor\": \"white\", \"ticks\": \"\"}}, \"title\": {\"x\": 0.05}, \"xaxis\": {\"automargin\": true, \"gridcolor\": \"white\", \"linecolor\": \"white\", \"ticks\": \"\", \"title\": {\"standoff\": 15}, \"zerolinecolor\": \"white\", \"zerolinewidth\": 2}, \"yaxis\": {\"automargin\": true, \"gridcolor\": \"white\", \"linecolor\": \"white\", \"ticks\": \"\", \"title\": {\"standoff\": 15}, \"zerolinecolor\": \"white\", \"zerolinewidth\": 2}}}, \"title\": {\"font\": {\"color\": \"#4D5663\"}}, \"xaxis\": {\"gridcolor\": \"#E1E5ED\", \"showgrid\": true, \"tickfont\": {\"color\": \"#4D5663\"}, \"title\": {\"font\": {\"color\": \"#4D5663\"}, \"text\": \"\"}, \"zerolinecolor\": \"#E1E5ED\"}, \"yaxis\": {\"gridcolor\": \"#E1E5ED\", \"showgrid\": true, \"tickfont\": {\"color\": \"#4D5663\"}, \"title\": {\"font\": {\"color\": \"#4D5663\"}, \"text\": \"\"}, \"zerolinecolor\": \"#E1E5ED\"}},                        {\"showLink\": true, \"linkText\": \"Export to plot.ly\", \"plotlyServerURL\": \"https://plot.ly\", \"responsive\": true}                    ).then(function(){\n                            \nvar gd = document.getElementById('cea9874e-0ba3-4a01-821f-102e7dd6fe8e');\nvar x = new MutationObserver(function (mutations, observer) {{\n        var display = window.getComputedStyle(gd).display;\n        if (!display || display === 'none') {{\n            console.log([gd, 'removed!']);\n            Plotly.purge(gd);\n            observer.disconnect();\n        }}\n}});\n\n// Listen for the removal of the full notebook cells\nvar notebookContainer = gd.closest('#notebook-container');\nif (notebookContainer) {{\n    x.observe(notebookContainer, {childList: true});\n}}\n\n// Listen for the clearing of the current output cell\nvar outputEl = gd.closest('.output');\nif (outputEl) {{\n    x.observe(outputEl, {childList: true});\n}}\n\n                        })                };                });            </script>        </div>"
     },
     "metadata": {}
    }
   ],
   "source": [
    "df['A'].iplot(kind='hist',bins=25)"
   ]
  },
  {
   "cell_type": "code",
   "execution_count": 20,
   "metadata": {},
   "outputs": [
    {
     "output_type": "display_data",
     "data": {
      "application/vnd.plotly.v1+json": {
       "config": {
        "linkText": "Export to plot.ly",
        "plotlyServerURL": "https://plot.ly",
        "showLink": true
       },
       "data": [
        {
         "marker": {
          "color": [
           "rgb(255, 153, 51)",
           "rgb(55, 128, 191)",
           "rgb(50, 171, 96)",
           "rgb(128, 0, 128)",
           "rgb(219, 64, 82)",
           "rgb(0, 128, 128)",
           "rgb(255, 255, 51)",
           "rgb(128, 128, 0)",
           "rgb(251, 128, 114)",
           "rgb(128, 177, 211)"
          ],
          "line": {
           "width": 1.3
          },
          "size": [
           95,
           86,
           47,
           51,
           52,
           59,
           48,
           68,
           54,
           53,
           50,
           41,
           82,
           70,
           51,
           77,
           112,
           85,
           48,
           83,
           74,
           41,
           71,
           75,
           62,
           84,
           92,
           28,
           39,
           35,
           59,
           55,
           55,
           32,
           63,
           39,
           47,
           82,
           30,
           82,
           63,
           54,
           64,
           89,
           12,
           66,
           38,
           46,
           46,
           96,
           72,
           82,
           46,
           81,
           80,
           59,
           84,
           42,
           58,
           51,
           63,
           68,
           50,
           54,
           52,
           75,
           79,
           68,
           87,
           86,
           61,
           74,
           98,
           88,
           53,
           60,
           76,
           61,
           60,
           68,
           62,
           68,
           66,
           80,
           42,
           39,
           17,
           96,
           57,
           60,
           66,
           65,
           54,
           69,
           43,
           60,
           46,
           76,
           31,
           75
          ],
          "symbol": "circle"
         },
         "mode": "markers",
         "text": "",
         "type": "scatter",
         "x": [
          -0.607666448602811,
          1.2591769182867638,
          0.16704406418634177,
          0.9887082751879337,
          0.42050690141106456,
          -0.2809674912610298,
          1.4205748844371253,
          -0.16218921393075963,
          0.5295790871081705,
          -0.4205995210823767,
          -0.16337781840683835,
          0.16759853031741256,
          -0.2809880800221108,
          0.45200515671738956,
          -0.7963631441160887,
          0.008124987817348458,
          -0.9653504552870982,
          -0.9223975905420754,
          1.697503764122202,
          -1.1326697096648621,
          0.5441315200764606,
          -1.4327221815783646,
          0.2796380060554141,
          -0.8128388054259313,
          -1.1827094987732283,
          0.9192838701288726,
          0.005031233926596609,
          0.4940789532190036,
          1.5199810486972711,
          -0.8443998734201372,
          -0.08104192992591111,
          1.6689329486978688,
          -0.7571977288571777,
          -0.8487031498216203,
          -0.07545251039014507,
          -0.09434513820899024,
          -0.41232256357512964,
          0.14336373331713348,
          -0.8541159147546175,
          -0.46384088394405887,
          -1.412249499680568,
          -1.0851655338041877,
          0.6879094601966855,
          -0.6694324921369627,
          -0.03363857785329403,
          0.5387086499714225,
          0.16160180831572146,
          -0.45427480880416693,
          -0.8902462437574454,
          2.1421316555307204,
          -0.28571217204710714,
          2.7785629257632722,
          0.6188425456596433,
          -2.459254026768631,
          0.09684266173917931,
          1.8786280821248922,
          0.5593105388098913,
          0.26783741562958696,
          -1.2984375511279334,
          1.1011962236341868,
          0.45296418473280115,
          -0.5321941924939583,
          0.753939474413834,
          0.9500785265544965,
          1.0899664761916448,
          -1.467471011712826,
          -1.8417320806426902,
          1.338367980687843,
          -1.5162371572164843,
          0.8077958820276738,
          0.05796809642764383,
          -0.7442463436578459,
          0.32199607754326404,
          -0.07641715190381224,
          1.271974510389658,
          1.2110829413589757,
          -0.2952254419337832,
          -1.4838594863846635,
          2.0037350196859847,
          0.7641245546427664,
          1.1687512590371492,
          1.0290682142963403,
          0.5227913621549826,
          0.07140529149204715,
          0.7725409413533701,
          0.5141137105114424,
          0.7331364742667712,
          -1.4336782221613382,
          -0.10001428221531719,
          -0.7328017258110671,
          1.9666060051841314,
          -1.1631585459816023,
          0.8406467869926779,
          -1.4210030180588464,
          -1.86072837927215,
          0.5640046352845078,
          2.383701139672665,
          2.476332563313472,
          -0.5353887528785137,
          0.7258828223322248
         ],
         "y": [
          0.031207682244617542,
          -0.9935482997534674,
          -1.2387163161907424,
          0.3126411229606882,
          -1.5891470111710775,
          0.07635814487302482,
          1.1923987298056264,
          -0.8112752331427182,
          0.3753696679604892,
          -1.1313144154052281,
          0.9605575351846121,
          -0.8227810207976046,
          0.3058696253813466,
          -0.062392383027024545,
          0.0914039951082883,
          1.569963638523854,
          -1.3209111992992464,
          -0.505404772341623,
          0.4469060588185499,
          0.338681444519608,
          0.4277500034434874,
          1.8118096469110234,
          -2.707892546203596,
          -1.246823143817817,
          -1.5087041797641172,
          0.48159850639528023,
          0.4002490260967725,
          0.5102053066593562,
          0.012675404040215244,
          -0.5505153478806513,
          0.142701498010046,
          -1.370584934091697,
          -0.465276852037582,
          -0.6267239674553973,
          -0.2646699056244561,
          1.0875368856352667,
          -1.434404032497129,
          1.4109414962819065,
          0.9235522288718865,
          -0.5119719562560471,
          -0.6976977102703348,
          0.5747329306441911,
          -0.8956614256141748,
          1.1857860513489715,
          -1.9548308830495846,
          -1.1367997870862887,
          2.061070273949067,
          0.6588214122709168,
          0.4410322351607642,
          -0.48796022081817403,
          1.6053822576254855,
          -0.3140314095170499,
          -0.09124804505842249,
          1.3484214515162485,
          0.32727035641686286,
          0.22129713953336863,
          -0.6223804442822951,
          -0.8857002347557834,
          -1.3851516630852694,
          0.6308690956117835,
          0.8271598452053652,
          -1.1279541070033732,
          -0.05344314824258955,
          -0.37069948428920874,
          0.9465741701628043,
          0.4009643109576281,
          -1.2132942383142324,
          -1.1541141737765865,
          -0.29247553216184013,
          1.3722130853213,
          0.8548717018970707,
          -0.2656159662802207,
          0.22669618331868235,
          1.6083628909928163,
          0.23614029731646852,
          0.15033798028605647,
          -0.36078885714769116,
          0.5450248831544398,
          0.9577333980549713,
          0.24342093309276405,
          -1.3230510975011762,
          -0.18950658150248,
          -0.29962570025070767,
          1.2123866856004129,
          -0.32810667970458063,
          -0.23713318711384512,
          -1.1159826228709895,
          -0.18895108060257848,
          1.1585142270387017,
          -0.27584783569539345,
          -0.3346270595588554,
          -0.5131187582372946,
          0.6873100918212838,
          0.08401528306893093,
          0.0901193388465427,
          0.32770017053241934,
          1.178540724416936,
          -1.704896131930627,
          0.004174290449213629,
          0.8000408565286847
         ]
        }
       ],
       "layout": {
        "legend": {
         "bgcolor": "#F5F6F9",
         "font": {
          "color": "#4D5663"
         }
        },
        "paper_bgcolor": "#F5F6F9",
        "plot_bgcolor": "#F5F6F9",
        "template": {
         "data": {
          "bar": [
           {
            "error_x": {
             "color": "#2a3f5f"
            },
            "error_y": {
             "color": "#2a3f5f"
            },
            "marker": {
             "line": {
              "color": "#E5ECF6",
              "width": 0.5
             }
            },
            "type": "bar"
           }
          ],
          "barpolar": [
           {
            "marker": {
             "line": {
              "color": "#E5ECF6",
              "width": 0.5
             }
            },
            "type": "barpolar"
           }
          ],
          "carpet": [
           {
            "aaxis": {
             "endlinecolor": "#2a3f5f",
             "gridcolor": "white",
             "linecolor": "white",
             "minorgridcolor": "white",
             "startlinecolor": "#2a3f5f"
            },
            "baxis": {
             "endlinecolor": "#2a3f5f",
             "gridcolor": "white",
             "linecolor": "white",
             "minorgridcolor": "white",
             "startlinecolor": "#2a3f5f"
            },
            "type": "carpet"
           }
          ],
          "choropleth": [
           {
            "colorbar": {
             "outlinewidth": 0,
             "ticks": ""
            },
            "type": "choropleth"
           }
          ],
          "contour": [
           {
            "colorbar": {
             "outlinewidth": 0,
             "ticks": ""
            },
            "colorscale": [
             [
              0,
              "#0d0887"
             ],
             [
              0.1111111111111111,
              "#46039f"
             ],
             [
              0.2222222222222222,
              "#7201a8"
             ],
             [
              0.3333333333333333,
              "#9c179e"
             ],
             [
              0.4444444444444444,
              "#bd3786"
             ],
             [
              0.5555555555555556,
              "#d8576b"
             ],
             [
              0.6666666666666666,
              "#ed7953"
             ],
             [
              0.7777777777777778,
              "#fb9f3a"
             ],
             [
              0.8888888888888888,
              "#fdca26"
             ],
             [
              1,
              "#f0f921"
             ]
            ],
            "type": "contour"
           }
          ],
          "contourcarpet": [
           {
            "colorbar": {
             "outlinewidth": 0,
             "ticks": ""
            },
            "type": "contourcarpet"
           }
          ],
          "heatmap": [
           {
            "colorbar": {
             "outlinewidth": 0,
             "ticks": ""
            },
            "colorscale": [
             [
              0,
              "#0d0887"
             ],
             [
              0.1111111111111111,
              "#46039f"
             ],
             [
              0.2222222222222222,
              "#7201a8"
             ],
             [
              0.3333333333333333,
              "#9c179e"
             ],
             [
              0.4444444444444444,
              "#bd3786"
             ],
             [
              0.5555555555555556,
              "#d8576b"
             ],
             [
              0.6666666666666666,
              "#ed7953"
             ],
             [
              0.7777777777777778,
              "#fb9f3a"
             ],
             [
              0.8888888888888888,
              "#fdca26"
             ],
             [
              1,
              "#f0f921"
             ]
            ],
            "type": "heatmap"
           }
          ],
          "heatmapgl": [
           {
            "colorbar": {
             "outlinewidth": 0,
             "ticks": ""
            },
            "colorscale": [
             [
              0,
              "#0d0887"
             ],
             [
              0.1111111111111111,
              "#46039f"
             ],
             [
              0.2222222222222222,
              "#7201a8"
             ],
             [
              0.3333333333333333,
              "#9c179e"
             ],
             [
              0.4444444444444444,
              "#bd3786"
             ],
             [
              0.5555555555555556,
              "#d8576b"
             ],
             [
              0.6666666666666666,
              "#ed7953"
             ],
             [
              0.7777777777777778,
              "#fb9f3a"
             ],
             [
              0.8888888888888888,
              "#fdca26"
             ],
             [
              1,
              "#f0f921"
             ]
            ],
            "type": "heatmapgl"
           }
          ],
          "histogram": [
           {
            "marker": {
             "colorbar": {
              "outlinewidth": 0,
              "ticks": ""
             }
            },
            "type": "histogram"
           }
          ],
          "histogram2d": [
           {
            "colorbar": {
             "outlinewidth": 0,
             "ticks": ""
            },
            "colorscale": [
             [
              0,
              "#0d0887"
             ],
             [
              0.1111111111111111,
              "#46039f"
             ],
             [
              0.2222222222222222,
              "#7201a8"
             ],
             [
              0.3333333333333333,
              "#9c179e"
             ],
             [
              0.4444444444444444,
              "#bd3786"
             ],
             [
              0.5555555555555556,
              "#d8576b"
             ],
             [
              0.6666666666666666,
              "#ed7953"
             ],
             [
              0.7777777777777778,
              "#fb9f3a"
             ],
             [
              0.8888888888888888,
              "#fdca26"
             ],
             [
              1,
              "#f0f921"
             ]
            ],
            "type": "histogram2d"
           }
          ],
          "histogram2dcontour": [
           {
            "colorbar": {
             "outlinewidth": 0,
             "ticks": ""
            },
            "colorscale": [
             [
              0,
              "#0d0887"
             ],
             [
              0.1111111111111111,
              "#46039f"
             ],
             [
              0.2222222222222222,
              "#7201a8"
             ],
             [
              0.3333333333333333,
              "#9c179e"
             ],
             [
              0.4444444444444444,
              "#bd3786"
             ],
             [
              0.5555555555555556,
              "#d8576b"
             ],
             [
              0.6666666666666666,
              "#ed7953"
             ],
             [
              0.7777777777777778,
              "#fb9f3a"
             ],
             [
              0.8888888888888888,
              "#fdca26"
             ],
             [
              1,
              "#f0f921"
             ]
            ],
            "type": "histogram2dcontour"
           }
          ],
          "mesh3d": [
           {
            "colorbar": {
             "outlinewidth": 0,
             "ticks": ""
            },
            "type": "mesh3d"
           }
          ],
          "parcoords": [
           {
            "line": {
             "colorbar": {
              "outlinewidth": 0,
              "ticks": ""
             }
            },
            "type": "parcoords"
           }
          ],
          "pie": [
           {
            "automargin": true,
            "type": "pie"
           }
          ],
          "scatter": [
           {
            "marker": {
             "colorbar": {
              "outlinewidth": 0,
              "ticks": ""
             }
            },
            "type": "scatter"
           }
          ],
          "scatter3d": [
           {
            "line": {
             "colorbar": {
              "outlinewidth": 0,
              "ticks": ""
             }
            },
            "marker": {
             "colorbar": {
              "outlinewidth": 0,
              "ticks": ""
             }
            },
            "type": "scatter3d"
           }
          ],
          "scattercarpet": [
           {
            "marker": {
             "colorbar": {
              "outlinewidth": 0,
              "ticks": ""
             }
            },
            "type": "scattercarpet"
           }
          ],
          "scattergeo": [
           {
            "marker": {
             "colorbar": {
              "outlinewidth": 0,
              "ticks": ""
             }
            },
            "type": "scattergeo"
           }
          ],
          "scattergl": [
           {
            "marker": {
             "colorbar": {
              "outlinewidth": 0,
              "ticks": ""
             }
            },
            "type": "scattergl"
           }
          ],
          "scattermapbox": [
           {
            "marker": {
             "colorbar": {
              "outlinewidth": 0,
              "ticks": ""
             }
            },
            "type": "scattermapbox"
           }
          ],
          "scatterpolar": [
           {
            "marker": {
             "colorbar": {
              "outlinewidth": 0,
              "ticks": ""
             }
            },
            "type": "scatterpolar"
           }
          ],
          "scatterpolargl": [
           {
            "marker": {
             "colorbar": {
              "outlinewidth": 0,
              "ticks": ""
             }
            },
            "type": "scatterpolargl"
           }
          ],
          "scatterternary": [
           {
            "marker": {
             "colorbar": {
              "outlinewidth": 0,
              "ticks": ""
             }
            },
            "type": "scatterternary"
           }
          ],
          "surface": [
           {
            "colorbar": {
             "outlinewidth": 0,
             "ticks": ""
            },
            "colorscale": [
             [
              0,
              "#0d0887"
             ],
             [
              0.1111111111111111,
              "#46039f"
             ],
             [
              0.2222222222222222,
              "#7201a8"
             ],
             [
              0.3333333333333333,
              "#9c179e"
             ],
             [
              0.4444444444444444,
              "#bd3786"
             ],
             [
              0.5555555555555556,
              "#d8576b"
             ],
             [
              0.6666666666666666,
              "#ed7953"
             ],
             [
              0.7777777777777778,
              "#fb9f3a"
             ],
             [
              0.8888888888888888,
              "#fdca26"
             ],
             [
              1,
              "#f0f921"
             ]
            ],
            "type": "surface"
           }
          ],
          "table": [
           {
            "cells": {
             "fill": {
              "color": "#EBF0F8"
             },
             "line": {
              "color": "white"
             }
            },
            "header": {
             "fill": {
              "color": "#C8D4E3"
             },
             "line": {
              "color": "white"
             }
            },
            "type": "table"
           }
          ]
         },
         "layout": {
          "annotationdefaults": {
           "arrowcolor": "#2a3f5f",
           "arrowhead": 0,
           "arrowwidth": 1
          },
          "autotypenumbers": "strict",
          "coloraxis": {
           "colorbar": {
            "outlinewidth": 0,
            "ticks": ""
           }
          },
          "colorscale": {
           "diverging": [
            [
             0,
             "#8e0152"
            ],
            [
             0.1,
             "#c51b7d"
            ],
            [
             0.2,
             "#de77ae"
            ],
            [
             0.3,
             "#f1b6da"
            ],
            [
             0.4,
             "#fde0ef"
            ],
            [
             0.5,
             "#f7f7f7"
            ],
            [
             0.6,
             "#e6f5d0"
            ],
            [
             0.7,
             "#b8e186"
            ],
            [
             0.8,
             "#7fbc41"
            ],
            [
             0.9,
             "#4d9221"
            ],
            [
             1,
             "#276419"
            ]
           ],
           "sequential": [
            [
             0,
             "#0d0887"
            ],
            [
             0.1111111111111111,
             "#46039f"
            ],
            [
             0.2222222222222222,
             "#7201a8"
            ],
            [
             0.3333333333333333,
             "#9c179e"
            ],
            [
             0.4444444444444444,
             "#bd3786"
            ],
            [
             0.5555555555555556,
             "#d8576b"
            ],
            [
             0.6666666666666666,
             "#ed7953"
            ],
            [
             0.7777777777777778,
             "#fb9f3a"
            ],
            [
             0.8888888888888888,
             "#fdca26"
            ],
            [
             1,
             "#f0f921"
            ]
           ],
           "sequentialminus": [
            [
             0,
             "#0d0887"
            ],
            [
             0.1111111111111111,
             "#46039f"
            ],
            [
             0.2222222222222222,
             "#7201a8"
            ],
            [
             0.3333333333333333,
             "#9c179e"
            ],
            [
             0.4444444444444444,
             "#bd3786"
            ],
            [
             0.5555555555555556,
             "#d8576b"
            ],
            [
             0.6666666666666666,
             "#ed7953"
            ],
            [
             0.7777777777777778,
             "#fb9f3a"
            ],
            [
             0.8888888888888888,
             "#fdca26"
            ],
            [
             1,
             "#f0f921"
            ]
           ]
          },
          "colorway": [
           "#636efa",
           "#EF553B",
           "#00cc96",
           "#ab63fa",
           "#FFA15A",
           "#19d3f3",
           "#FF6692",
           "#B6E880",
           "#FF97FF",
           "#FECB52"
          ],
          "font": {
           "color": "#2a3f5f"
          },
          "geo": {
           "bgcolor": "white",
           "lakecolor": "white",
           "landcolor": "#E5ECF6",
           "showlakes": true,
           "showland": true,
           "subunitcolor": "white"
          },
          "hoverlabel": {
           "align": "left"
          },
          "hovermode": "closest",
          "mapbox": {
           "style": "light"
          },
          "paper_bgcolor": "white",
          "plot_bgcolor": "#E5ECF6",
          "polar": {
           "angularaxis": {
            "gridcolor": "white",
            "linecolor": "white",
            "ticks": ""
           },
           "bgcolor": "#E5ECF6",
           "radialaxis": {
            "gridcolor": "white",
            "linecolor": "white",
            "ticks": ""
           }
          },
          "scene": {
           "xaxis": {
            "backgroundcolor": "#E5ECF6",
            "gridcolor": "white",
            "gridwidth": 2,
            "linecolor": "white",
            "showbackground": true,
            "ticks": "",
            "zerolinecolor": "white"
           },
           "yaxis": {
            "backgroundcolor": "#E5ECF6",
            "gridcolor": "white",
            "gridwidth": 2,
            "linecolor": "white",
            "showbackground": true,
            "ticks": "",
            "zerolinecolor": "white"
           },
           "zaxis": {
            "backgroundcolor": "#E5ECF6",
            "gridcolor": "white",
            "gridwidth": 2,
            "linecolor": "white",
            "showbackground": true,
            "ticks": "",
            "zerolinecolor": "white"
           }
          },
          "shapedefaults": {
           "line": {
            "color": "#2a3f5f"
           }
          },
          "ternary": {
           "aaxis": {
            "gridcolor": "white",
            "linecolor": "white",
            "ticks": ""
           },
           "baxis": {
            "gridcolor": "white",
            "linecolor": "white",
            "ticks": ""
           },
           "bgcolor": "#E5ECF6",
           "caxis": {
            "gridcolor": "white",
            "linecolor": "white",
            "ticks": ""
           }
          },
          "title": {
           "x": 0.05
          },
          "xaxis": {
           "automargin": true,
           "gridcolor": "white",
           "linecolor": "white",
           "ticks": "",
           "title": {
            "standoff": 15
           },
           "zerolinecolor": "white",
           "zerolinewidth": 2
          },
          "yaxis": {
           "automargin": true,
           "gridcolor": "white",
           "linecolor": "white",
           "ticks": "",
           "title": {
            "standoff": 15
           },
           "zerolinecolor": "white",
           "zerolinewidth": 2
          }
         }
        },
        "title": {
         "font": {
          "color": "#4D5663"
         }
        },
        "xaxis": {
         "gridcolor": "#E1E5ED",
         "showgrid": true,
         "tickfont": {
          "color": "#4D5663"
         },
         "title": {
          "font": {
           "color": "#4D5663"
          },
          "text": ""
         },
         "zerolinecolor": "#E1E5ED"
        },
        "yaxis": {
         "gridcolor": "#E1E5ED",
         "showgrid": true,
         "tickfont": {
          "color": "#4D5663"
         },
         "title": {
          "font": {
           "color": "#4D5663"
          },
          "text": ""
         },
         "zerolinecolor": "#E1E5ED"
        }
       }
      },
      "text/html": "<div>                            <div id=\"0bc8bfc5-9e95-45c5-ae1a-a7d80cecdbec\" class=\"plotly-graph-div\" style=\"height:525px; width:100%;\"></div>            <script type=\"text/javascript\">                require([\"plotly\"], function(Plotly) {                    window.PLOTLYENV=window.PLOTLYENV || {};\n                    window.PLOTLYENV.BASE_URL='https://plot.ly';                                    if (document.getElementById(\"0bc8bfc5-9e95-45c5-ae1a-a7d80cecdbec\")) {                    Plotly.newPlot(                        \"0bc8bfc5-9e95-45c5-ae1a-a7d80cecdbec\",                        [{\"marker\": {\"color\": [\"rgb(255, 153, 51)\", \"rgb(55, 128, 191)\", \"rgb(50, 171, 96)\", \"rgb(128, 0, 128)\", \"rgb(219, 64, 82)\", \"rgb(0, 128, 128)\", \"rgb(255, 255, 51)\", \"rgb(128, 128, 0)\", \"rgb(251, 128, 114)\", \"rgb(128, 177, 211)\"], \"line\": {\"width\": 1.3}, \"size\": [95, 86, 47, 51, 52, 59, 48, 68, 54, 53, 50, 41, 82, 70, 51, 77, 112, 85, 48, 83, 74, 41, 71, 75, 62, 84, 92, 28, 39, 35, 59, 55, 55, 32, 63, 39, 47, 82, 30, 82, 63, 54, 64, 89, 12, 66, 38, 46, 46, 96, 72, 82, 46, 81, 80, 59, 84, 42, 58, 51, 63, 68, 50, 54, 52, 75, 79, 68, 87, 86, 61, 74, 98, 88, 53, 60, 76, 61, 60, 68, 62, 68, 66, 80, 42, 39, 17, 96, 57, 60, 66, 65, 54, 69, 43, 60, 46, 76, 31, 75], \"symbol\": \"circle\"}, \"mode\": \"markers\", \"text\": \"\", \"type\": \"scatter\", \"x\": [-0.607666448602811, 1.2591769182867638, 0.16704406418634177, 0.9887082751879337, 0.42050690141106456, -0.2809674912610298, 1.4205748844371253, -0.16218921393075963, 0.5295790871081705, -0.4205995210823767, -0.16337781840683835, 0.16759853031741256, -0.2809880800221108, 0.45200515671738956, -0.7963631441160887, 0.008124987817348458, -0.9653504552870982, -0.9223975905420754, 1.697503764122202, -1.1326697096648621, 0.5441315200764606, -1.4327221815783646, 0.2796380060554141, -0.8128388054259313, -1.1827094987732283, 0.9192838701288726, 0.005031233926596609, 0.4940789532190036, 1.5199810486972711, -0.8443998734201372, -0.08104192992591111, 1.6689329486978688, -0.7571977288571777, -0.8487031498216203, -0.07545251039014507, -0.09434513820899024, -0.41232256357512964, 0.14336373331713348, -0.8541159147546175, -0.46384088394405887, -1.412249499680568, -1.0851655338041877, 0.6879094601966855, -0.6694324921369627, -0.03363857785329403, 0.5387086499714225, 0.16160180831572146, -0.45427480880416693, -0.8902462437574454, 2.1421316555307204, -0.28571217204710714, 2.7785629257632722, 0.6188425456596433, -2.459254026768631, 0.09684266173917931, 1.8786280821248922, 0.5593105388098913, 0.26783741562958696, -1.2984375511279334, 1.1011962236341868, 0.45296418473280115, -0.5321941924939583, 0.753939474413834, 0.9500785265544965, 1.0899664761916448, -1.467471011712826, -1.8417320806426902, 1.338367980687843, -1.5162371572164843, 0.8077958820276738, 0.05796809642764383, -0.7442463436578459, 0.32199607754326404, -0.07641715190381224, 1.271974510389658, 1.2110829413589757, -0.2952254419337832, -1.4838594863846635, 2.0037350196859847, 0.7641245546427664, 1.1687512590371492, 1.0290682142963403, 0.5227913621549826, 0.07140529149204715, 0.7725409413533701, 0.5141137105114424, 0.7331364742667712, -1.4336782221613382, -0.10001428221531719, -0.7328017258110671, 1.9666060051841314, -1.1631585459816023, 0.8406467869926779, -1.4210030180588464, -1.86072837927215, 0.5640046352845078, 2.383701139672665, 2.476332563313472, -0.5353887528785137, 0.7258828223322248], \"y\": [0.031207682244617542, -0.9935482997534674, -1.2387163161907424, 0.3126411229606882, -1.5891470111710775, 0.07635814487302482, 1.1923987298056264, -0.8112752331427182, 0.3753696679604892, -1.1313144154052281, 0.9605575351846121, -0.8227810207976046, 0.3058696253813466, -0.062392383027024545, 0.0914039951082883, 1.569963638523854, -1.3209111992992464, -0.505404772341623, 0.4469060588185499, 0.338681444519608, 0.4277500034434874, 1.8118096469110234, -2.707892546203596, -1.246823143817817, -1.5087041797641172, 0.48159850639528023, 0.4002490260967725, 0.5102053066593562, 0.012675404040215244, -0.5505153478806513, 0.142701498010046, -1.370584934091697, -0.465276852037582, -0.6267239674553973, -0.2646699056244561, 1.0875368856352667, -1.434404032497129, 1.4109414962819065, 0.9235522288718865, -0.5119719562560471, -0.6976977102703348, 0.5747329306441911, -0.8956614256141748, 1.1857860513489715, -1.9548308830495846, -1.1367997870862887, 2.061070273949067, 0.6588214122709168, 0.4410322351607642, -0.48796022081817403, 1.6053822576254855, -0.3140314095170499, -0.09124804505842249, 1.3484214515162485, 0.32727035641686286, 0.22129713953336863, -0.6223804442822951, -0.8857002347557834, -1.3851516630852694, 0.6308690956117835, 0.8271598452053652, -1.1279541070033732, -0.05344314824258955, -0.37069948428920874, 0.9465741701628043, 0.4009643109576281, -1.2132942383142324, -1.1541141737765865, -0.29247553216184013, 1.3722130853213, 0.8548717018970707, -0.2656159662802207, 0.22669618331868235, 1.6083628909928163, 0.23614029731646852, 0.15033798028605647, -0.36078885714769116, 0.5450248831544398, 0.9577333980549713, 0.24342093309276405, -1.3230510975011762, -0.18950658150248, -0.29962570025070767, 1.2123866856004129, -0.32810667970458063, -0.23713318711384512, -1.1159826228709895, -0.18895108060257848, 1.1585142270387017, -0.27584783569539345, -0.3346270595588554, -0.5131187582372946, 0.6873100918212838, 0.08401528306893093, 0.0901193388465427, 0.32770017053241934, 1.178540724416936, -1.704896131930627, 0.004174290449213629, 0.8000408565286847]}],                        {\"legend\": {\"bgcolor\": \"#F5F6F9\", \"font\": {\"color\": \"#4D5663\"}}, \"paper_bgcolor\": \"#F5F6F9\", \"plot_bgcolor\": \"#F5F6F9\", \"template\": {\"data\": {\"bar\": [{\"error_x\": {\"color\": \"#2a3f5f\"}, \"error_y\": {\"color\": \"#2a3f5f\"}, \"marker\": {\"line\": {\"color\": \"#E5ECF6\", \"width\": 0.5}}, \"type\": \"bar\"}], \"barpolar\": [{\"marker\": {\"line\": {\"color\": \"#E5ECF6\", \"width\": 0.5}}, \"type\": \"barpolar\"}], \"carpet\": [{\"aaxis\": {\"endlinecolor\": \"#2a3f5f\", \"gridcolor\": \"white\", \"linecolor\": \"white\", \"minorgridcolor\": \"white\", \"startlinecolor\": \"#2a3f5f\"}, \"baxis\": {\"endlinecolor\": \"#2a3f5f\", \"gridcolor\": \"white\", \"linecolor\": \"white\", \"minorgridcolor\": \"white\", \"startlinecolor\": \"#2a3f5f\"}, \"type\": \"carpet\"}], \"choropleth\": [{\"colorbar\": {\"outlinewidth\": 0, \"ticks\": \"\"}, \"type\": \"choropleth\"}], \"contour\": [{\"colorbar\": {\"outlinewidth\": 0, \"ticks\": \"\"}, \"colorscale\": [[0.0, \"#0d0887\"], [0.1111111111111111, \"#46039f\"], [0.2222222222222222, \"#7201a8\"], [0.3333333333333333, \"#9c179e\"], [0.4444444444444444, \"#bd3786\"], [0.5555555555555556, \"#d8576b\"], [0.6666666666666666, \"#ed7953\"], [0.7777777777777778, \"#fb9f3a\"], [0.8888888888888888, \"#fdca26\"], [1.0, \"#f0f921\"]], \"type\": \"contour\"}], \"contourcarpet\": [{\"colorbar\": {\"outlinewidth\": 0, \"ticks\": \"\"}, \"type\": \"contourcarpet\"}], \"heatmap\": [{\"colorbar\": {\"outlinewidth\": 0, \"ticks\": \"\"}, \"colorscale\": [[0.0, \"#0d0887\"], [0.1111111111111111, \"#46039f\"], [0.2222222222222222, \"#7201a8\"], [0.3333333333333333, \"#9c179e\"], [0.4444444444444444, \"#bd3786\"], [0.5555555555555556, \"#d8576b\"], [0.6666666666666666, \"#ed7953\"], [0.7777777777777778, \"#fb9f3a\"], [0.8888888888888888, \"#fdca26\"], [1.0, \"#f0f921\"]], \"type\": \"heatmap\"}], \"heatmapgl\": [{\"colorbar\": {\"outlinewidth\": 0, \"ticks\": \"\"}, \"colorscale\": [[0.0, \"#0d0887\"], [0.1111111111111111, \"#46039f\"], [0.2222222222222222, \"#7201a8\"], [0.3333333333333333, \"#9c179e\"], [0.4444444444444444, \"#bd3786\"], [0.5555555555555556, \"#d8576b\"], [0.6666666666666666, \"#ed7953\"], [0.7777777777777778, \"#fb9f3a\"], [0.8888888888888888, \"#fdca26\"], [1.0, \"#f0f921\"]], \"type\": \"heatmapgl\"}], \"histogram\": [{\"marker\": {\"colorbar\": {\"outlinewidth\": 0, \"ticks\": \"\"}}, \"type\": \"histogram\"}], \"histogram2d\": [{\"colorbar\": {\"outlinewidth\": 0, \"ticks\": \"\"}, \"colorscale\": [[0.0, \"#0d0887\"], [0.1111111111111111, \"#46039f\"], [0.2222222222222222, \"#7201a8\"], [0.3333333333333333, \"#9c179e\"], [0.4444444444444444, \"#bd3786\"], [0.5555555555555556, \"#d8576b\"], [0.6666666666666666, \"#ed7953\"], [0.7777777777777778, \"#fb9f3a\"], [0.8888888888888888, \"#fdca26\"], [1.0, \"#f0f921\"]], \"type\": \"histogram2d\"}], \"histogram2dcontour\": [{\"colorbar\": {\"outlinewidth\": 0, \"ticks\": \"\"}, \"colorscale\": [[0.0, \"#0d0887\"], [0.1111111111111111, \"#46039f\"], [0.2222222222222222, \"#7201a8\"], [0.3333333333333333, \"#9c179e\"], [0.4444444444444444, \"#bd3786\"], [0.5555555555555556, \"#d8576b\"], [0.6666666666666666, \"#ed7953\"], [0.7777777777777778, \"#fb9f3a\"], [0.8888888888888888, \"#fdca26\"], [1.0, \"#f0f921\"]], \"type\": \"histogram2dcontour\"}], \"mesh3d\": [{\"colorbar\": {\"outlinewidth\": 0, \"ticks\": \"\"}, \"type\": \"mesh3d\"}], \"parcoords\": [{\"line\": {\"colorbar\": {\"outlinewidth\": 0, \"ticks\": \"\"}}, \"type\": \"parcoords\"}], \"pie\": [{\"automargin\": true, \"type\": \"pie\"}], \"scatter\": [{\"marker\": {\"colorbar\": {\"outlinewidth\": 0, \"ticks\": \"\"}}, \"type\": \"scatter\"}], \"scatter3d\": [{\"line\": {\"colorbar\": {\"outlinewidth\": 0, \"ticks\": \"\"}}, \"marker\": {\"colorbar\": {\"outlinewidth\": 0, \"ticks\": \"\"}}, \"type\": \"scatter3d\"}], \"scattercarpet\": [{\"marker\": {\"colorbar\": {\"outlinewidth\": 0, \"ticks\": \"\"}}, \"type\": \"scattercarpet\"}], \"scattergeo\": [{\"marker\": {\"colorbar\": {\"outlinewidth\": 0, \"ticks\": \"\"}}, \"type\": \"scattergeo\"}], \"scattergl\": [{\"marker\": {\"colorbar\": {\"outlinewidth\": 0, \"ticks\": \"\"}}, \"type\": \"scattergl\"}], \"scattermapbox\": [{\"marker\": {\"colorbar\": {\"outlinewidth\": 0, \"ticks\": \"\"}}, \"type\": \"scattermapbox\"}], \"scatterpolar\": [{\"marker\": {\"colorbar\": {\"outlinewidth\": 0, \"ticks\": \"\"}}, \"type\": \"scatterpolar\"}], \"scatterpolargl\": [{\"marker\": {\"colorbar\": {\"outlinewidth\": 0, \"ticks\": \"\"}}, \"type\": \"scatterpolargl\"}], \"scatterternary\": [{\"marker\": {\"colorbar\": {\"outlinewidth\": 0, \"ticks\": \"\"}}, \"type\": \"scatterternary\"}], \"surface\": [{\"colorbar\": {\"outlinewidth\": 0, \"ticks\": \"\"}, \"colorscale\": [[0.0, \"#0d0887\"], [0.1111111111111111, \"#46039f\"], [0.2222222222222222, \"#7201a8\"], [0.3333333333333333, \"#9c179e\"], [0.4444444444444444, \"#bd3786\"], [0.5555555555555556, \"#d8576b\"], [0.6666666666666666, \"#ed7953\"], [0.7777777777777778, \"#fb9f3a\"], [0.8888888888888888, \"#fdca26\"], [1.0, \"#f0f921\"]], \"type\": \"surface\"}], \"table\": [{\"cells\": {\"fill\": {\"color\": \"#EBF0F8\"}, \"line\": {\"color\": \"white\"}}, \"header\": {\"fill\": {\"color\": \"#C8D4E3\"}, \"line\": {\"color\": \"white\"}}, \"type\": \"table\"}]}, \"layout\": {\"annotationdefaults\": {\"arrowcolor\": \"#2a3f5f\", \"arrowhead\": 0, \"arrowwidth\": 1}, \"autotypenumbers\": \"strict\", \"coloraxis\": {\"colorbar\": {\"outlinewidth\": 0, \"ticks\": \"\"}}, \"colorscale\": {\"diverging\": [[0, \"#8e0152\"], [0.1, \"#c51b7d\"], [0.2, \"#de77ae\"], [0.3, \"#f1b6da\"], [0.4, \"#fde0ef\"], [0.5, \"#f7f7f7\"], [0.6, \"#e6f5d0\"], [0.7, \"#b8e186\"], [0.8, \"#7fbc41\"], [0.9, \"#4d9221\"], [1, \"#276419\"]], \"sequential\": [[0.0, \"#0d0887\"], [0.1111111111111111, \"#46039f\"], [0.2222222222222222, \"#7201a8\"], [0.3333333333333333, \"#9c179e\"], [0.4444444444444444, \"#bd3786\"], [0.5555555555555556, \"#d8576b\"], [0.6666666666666666, \"#ed7953\"], [0.7777777777777778, \"#fb9f3a\"], [0.8888888888888888, \"#fdca26\"], [1.0, \"#f0f921\"]], \"sequentialminus\": [[0.0, \"#0d0887\"], [0.1111111111111111, \"#46039f\"], [0.2222222222222222, \"#7201a8\"], [0.3333333333333333, \"#9c179e\"], [0.4444444444444444, \"#bd3786\"], [0.5555555555555556, \"#d8576b\"], [0.6666666666666666, \"#ed7953\"], [0.7777777777777778, \"#fb9f3a\"], [0.8888888888888888, \"#fdca26\"], [1.0, \"#f0f921\"]]}, \"colorway\": [\"#636efa\", \"#EF553B\", \"#00cc96\", \"#ab63fa\", \"#FFA15A\", \"#19d3f3\", \"#FF6692\", \"#B6E880\", \"#FF97FF\", \"#FECB52\"], \"font\": {\"color\": \"#2a3f5f\"}, \"geo\": {\"bgcolor\": \"white\", \"lakecolor\": \"white\", \"landcolor\": \"#E5ECF6\", \"showlakes\": true, \"showland\": true, \"subunitcolor\": \"white\"}, \"hoverlabel\": {\"align\": \"left\"}, \"hovermode\": \"closest\", \"mapbox\": {\"style\": \"light\"}, \"paper_bgcolor\": \"white\", \"plot_bgcolor\": \"#E5ECF6\", \"polar\": {\"angularaxis\": {\"gridcolor\": \"white\", \"linecolor\": \"white\", \"ticks\": \"\"}, \"bgcolor\": \"#E5ECF6\", \"radialaxis\": {\"gridcolor\": \"white\", \"linecolor\": \"white\", \"ticks\": \"\"}}, \"scene\": {\"xaxis\": {\"backgroundcolor\": \"#E5ECF6\", \"gridcolor\": \"white\", \"gridwidth\": 2, \"linecolor\": \"white\", \"showbackground\": true, \"ticks\": \"\", \"zerolinecolor\": \"white\"}, \"yaxis\": {\"backgroundcolor\": \"#E5ECF6\", \"gridcolor\": \"white\", \"gridwidth\": 2, \"linecolor\": \"white\", \"showbackground\": true, \"ticks\": \"\", \"zerolinecolor\": \"white\"}, \"zaxis\": {\"backgroundcolor\": \"#E5ECF6\", \"gridcolor\": \"white\", \"gridwidth\": 2, \"linecolor\": \"white\", \"showbackground\": true, \"ticks\": \"\", \"zerolinecolor\": \"white\"}}, \"shapedefaults\": {\"line\": {\"color\": \"#2a3f5f\"}}, \"ternary\": {\"aaxis\": {\"gridcolor\": \"white\", \"linecolor\": \"white\", \"ticks\": \"\"}, \"baxis\": {\"gridcolor\": \"white\", \"linecolor\": \"white\", \"ticks\": \"\"}, \"bgcolor\": \"#E5ECF6\", \"caxis\": {\"gridcolor\": \"white\", \"linecolor\": \"white\", \"ticks\": \"\"}}, \"title\": {\"x\": 0.05}, \"xaxis\": {\"automargin\": true, \"gridcolor\": \"white\", \"linecolor\": \"white\", \"ticks\": \"\", \"title\": {\"standoff\": 15}, \"zerolinecolor\": \"white\", \"zerolinewidth\": 2}, \"yaxis\": {\"automargin\": true, \"gridcolor\": \"white\", \"linecolor\": \"white\", \"ticks\": \"\", \"title\": {\"standoff\": 15}, \"zerolinecolor\": \"white\", \"zerolinewidth\": 2}}}, \"title\": {\"font\": {\"color\": \"#4D5663\"}}, \"xaxis\": {\"gridcolor\": \"#E1E5ED\", \"showgrid\": true, \"tickfont\": {\"color\": \"#4D5663\"}, \"title\": {\"font\": {\"color\": \"#4D5663\"}, \"text\": \"\"}, \"zerolinecolor\": \"#E1E5ED\"}, \"yaxis\": {\"gridcolor\": \"#E1E5ED\", \"showgrid\": true, \"tickfont\": {\"color\": \"#4D5663\"}, \"title\": {\"font\": {\"color\": \"#4D5663\"}, \"text\": \"\"}, \"zerolinecolor\": \"#E1E5ED\"}},                        {\"showLink\": true, \"linkText\": \"Export to plot.ly\", \"plotlyServerURL\": \"https://plot.ly\", \"responsive\": true}                    ).then(function(){\n                            \nvar gd = document.getElementById('0bc8bfc5-9e95-45c5-ae1a-a7d80cecdbec');\nvar x = new MutationObserver(function (mutations, observer) {{\n        var display = window.getComputedStyle(gd).display;\n        if (!display || display === 'none') {{\n            console.log([gd, 'removed!']);\n            Plotly.purge(gd);\n            observer.disconnect();\n        }}\n}});\n\n// Listen for the removal of the full notebook cells\nvar notebookContainer = gd.closest('#notebook-container');\nif (notebookContainer) {{\n    x.observe(notebookContainer, {childList: true});\n}}\n\n// Listen for the clearing of the current output cell\nvar outputEl = gd.closest('.output');\nif (outputEl) {{\n    x.observe(outputEl, {childList: true});\n}}\n\n                        })                };                });            </script>        </div>"
     },
     "metadata": {}
    }
   ],
   "source": [
    "df.iplot(kind='bubble',x='A',y='B',size='C')"
   ]
  },
  {
   "cell_type": "markdown",
   "metadata": {},
   "source": [
    "## scatter_matrix()\n",
    "\n",
    "Similar a sns.pairplot()"
   ]
  },
  {
   "cell_type": "code",
   "execution_count": 21,
   "metadata": {},
   "outputs": [
    {
     "output_type": "display_data",
     "data": {
      "application/vnd.plotly.v1+json": {
       "config": {
        "linkText": "Export to plot.ly",
        "plotlyServerURL": "https://plot.ly",
        "showLink": true
       },
       "data": [
        {
         "histfunc": "count",
         "histnorm": "",
         "marker": {
          "color": "rgba(255, 153, 51, 1.0)",
          "line": {
           "color": "#4D5663",
           "width": 1.3
          }
         },
         "name": "A",
         "nbinsx": 10,
         "opacity": 0.8,
         "orientation": "v",
         "type": "histogram",
         "x": [
          -0.607666448602811,
          1.2591769182867638,
          0.16704406418634177,
          0.9887082751879337,
          0.42050690141106456,
          -0.2809674912610298,
          1.4205748844371253,
          -0.16218921393075963,
          0.5295790871081705,
          -0.4205995210823767,
          -0.16337781840683835,
          0.16759853031741256,
          -0.2809880800221108,
          0.45200515671738956,
          -0.7963631441160887,
          0.008124987817348458,
          -0.9653504552870982,
          -0.9223975905420754,
          1.697503764122202,
          -1.1326697096648621,
          0.5441315200764606,
          -1.4327221815783646,
          0.2796380060554141,
          -0.8128388054259313,
          -1.1827094987732283,
          0.9192838701288726,
          0.005031233926596609,
          0.4940789532190036,
          1.5199810486972711,
          -0.8443998734201372,
          -0.08104192992591111,
          1.6689329486978688,
          -0.7571977288571777,
          -0.8487031498216203,
          -0.07545251039014507,
          -0.09434513820899024,
          -0.41232256357512964,
          0.14336373331713348,
          -0.8541159147546175,
          -0.46384088394405887,
          -1.412249499680568,
          -1.0851655338041877,
          0.6879094601966855,
          -0.6694324921369627,
          -0.03363857785329403,
          0.5387086499714225,
          0.16160180831572146,
          -0.45427480880416693,
          -0.8902462437574454,
          2.1421316555307204,
          -0.28571217204710714,
          2.7785629257632722,
          0.6188425456596433,
          -2.459254026768631,
          0.09684266173917931,
          1.8786280821248922,
          0.5593105388098913,
          0.26783741562958696,
          -1.2984375511279334,
          1.1011962236341868,
          0.45296418473280115,
          -0.5321941924939583,
          0.753939474413834,
          0.9500785265544965,
          1.0899664761916448,
          -1.467471011712826,
          -1.8417320806426902,
          1.338367980687843,
          -1.5162371572164843,
          0.8077958820276738,
          0.05796809642764383,
          -0.7442463436578459,
          0.32199607754326404,
          -0.07641715190381224,
          1.271974510389658,
          1.2110829413589757,
          -0.2952254419337832,
          -1.4838594863846635,
          2.0037350196859847,
          0.7641245546427664,
          1.1687512590371492,
          1.0290682142963403,
          0.5227913621549826,
          0.07140529149204715,
          0.7725409413533701,
          0.5141137105114424,
          0.7331364742667712,
          -1.4336782221613382,
          -0.10001428221531719,
          -0.7328017258110671,
          1.9666060051841314,
          -1.1631585459816023,
          0.8406467869926779,
          -1.4210030180588464,
          -1.86072837927215,
          0.5640046352845078,
          2.383701139672665,
          2.476332563313472,
          -0.5353887528785137,
          0.7258828223322248
         ],
         "xaxis": "x",
         "yaxis": "y"
        },
        {
         "line": {
          "color": "rgba(128, 128, 128, 1.0)",
          "dash": "solid",
          "shape": "linear",
          "width": 1.3
         },
         "marker": {
          "size": 2,
          "symbol": "circle"
         },
         "mode": "markers",
         "name": "A",
         "text": "",
         "type": "scatter",
         "x": [
          0.031207682244617542,
          -0.9935482997534674,
          -1.2387163161907424,
          0.3126411229606882,
          -1.5891470111710775,
          0.07635814487302482,
          1.1923987298056264,
          -0.8112752331427182,
          0.3753696679604892,
          -1.1313144154052281,
          0.9605575351846121,
          -0.8227810207976046,
          0.3058696253813466,
          -0.062392383027024545,
          0.0914039951082883,
          1.569963638523854,
          -1.3209111992992464,
          -0.505404772341623,
          0.4469060588185499,
          0.338681444519608,
          0.4277500034434874,
          1.8118096469110234,
          -2.707892546203596,
          -1.246823143817817,
          -1.5087041797641172,
          0.48159850639528023,
          0.4002490260967725,
          0.5102053066593562,
          0.012675404040215244,
          -0.5505153478806513,
          0.142701498010046,
          -1.370584934091697,
          -0.465276852037582,
          -0.6267239674553973,
          -0.2646699056244561,
          1.0875368856352667,
          -1.434404032497129,
          1.4109414962819065,
          0.9235522288718865,
          -0.5119719562560471,
          -0.6976977102703348,
          0.5747329306441911,
          -0.8956614256141748,
          1.1857860513489715,
          -1.9548308830495846,
          -1.1367997870862887,
          2.061070273949067,
          0.6588214122709168,
          0.4410322351607642,
          -0.48796022081817403,
          1.6053822576254855,
          -0.3140314095170499,
          -0.09124804505842249,
          1.3484214515162485,
          0.32727035641686286,
          0.22129713953336863,
          -0.6223804442822951,
          -0.8857002347557834,
          -1.3851516630852694,
          0.6308690956117835,
          0.8271598452053652,
          -1.1279541070033732,
          -0.05344314824258955,
          -0.37069948428920874,
          0.9465741701628043,
          0.4009643109576281,
          -1.2132942383142324,
          -1.1541141737765865,
          -0.29247553216184013,
          1.3722130853213,
          0.8548717018970707,
          -0.2656159662802207,
          0.22669618331868235,
          1.6083628909928163,
          0.23614029731646852,
          0.15033798028605647,
          -0.36078885714769116,
          0.5450248831544398,
          0.9577333980549713,
          0.24342093309276405,
          -1.3230510975011762,
          -0.18950658150248,
          -0.29962570025070767,
          1.2123866856004129,
          -0.32810667970458063,
          -0.23713318711384512,
          -1.1159826228709895,
          -0.18895108060257848,
          1.1585142270387017,
          -0.27584783569539345,
          -0.3346270595588554,
          -0.5131187582372946,
          0.6873100918212838,
          0.08401528306893093,
          0.0901193388465427,
          0.32770017053241934,
          1.178540724416936,
          -1.704896131930627,
          0.004174290449213629,
          0.8000408565286847
         ],
         "xaxis": "x2",
         "y": [
          -0.607666448602811,
          1.2591769182867638,
          0.16704406418634177,
          0.9887082751879337,
          0.42050690141106456,
          -0.2809674912610298,
          1.4205748844371253,
          -0.16218921393075963,
          0.5295790871081705,
          -0.4205995210823767,
          -0.16337781840683835,
          0.16759853031741256,
          -0.2809880800221108,
          0.45200515671738956,
          -0.7963631441160887,
          0.008124987817348458,
          -0.9653504552870982,
          -0.9223975905420754,
          1.697503764122202,
          -1.1326697096648621,
          0.5441315200764606,
          -1.4327221815783646,
          0.2796380060554141,
          -0.8128388054259313,
          -1.1827094987732283,
          0.9192838701288726,
          0.005031233926596609,
          0.4940789532190036,
          1.5199810486972711,
          -0.8443998734201372,
          -0.08104192992591111,
          1.6689329486978688,
          -0.7571977288571777,
          -0.8487031498216203,
          -0.07545251039014507,
          -0.09434513820899024,
          -0.41232256357512964,
          0.14336373331713348,
          -0.8541159147546175,
          -0.46384088394405887,
          -1.412249499680568,
          -1.0851655338041877,
          0.6879094601966855,
          -0.6694324921369627,
          -0.03363857785329403,
          0.5387086499714225,
          0.16160180831572146,
          -0.45427480880416693,
          -0.8902462437574454,
          2.1421316555307204,
          -0.28571217204710714,
          2.7785629257632722,
          0.6188425456596433,
          -2.459254026768631,
          0.09684266173917931,
          1.8786280821248922,
          0.5593105388098913,
          0.26783741562958696,
          -1.2984375511279334,
          1.1011962236341868,
          0.45296418473280115,
          -0.5321941924939583,
          0.753939474413834,
          0.9500785265544965,
          1.0899664761916448,
          -1.467471011712826,
          -1.8417320806426902,
          1.338367980687843,
          -1.5162371572164843,
          0.8077958820276738,
          0.05796809642764383,
          -0.7442463436578459,
          0.32199607754326404,
          -0.07641715190381224,
          1.271974510389658,
          1.2110829413589757,
          -0.2952254419337832,
          -1.4838594863846635,
          2.0037350196859847,
          0.7641245546427664,
          1.1687512590371492,
          1.0290682142963403,
          0.5227913621549826,
          0.07140529149204715,
          0.7725409413533701,
          0.5141137105114424,
          0.7331364742667712,
          -1.4336782221613382,
          -0.10001428221531719,
          -0.7328017258110671,
          1.9666060051841314,
          -1.1631585459816023,
          0.8406467869926779,
          -1.4210030180588464,
          -1.86072837927215,
          0.5640046352845078,
          2.383701139672665,
          2.476332563313472,
          -0.5353887528785137,
          0.7258828223322248
         ],
         "yaxis": "y2"
        },
        {
         "line": {
          "color": "rgba(128, 128, 128, 1.0)",
          "dash": "solid",
          "shape": "linear",
          "width": 1.3
         },
         "marker": {
          "size": 2,
          "symbol": "circle"
         },
         "mode": "markers",
         "name": "A",
         "text": "",
         "type": "scatter",
         "x": [
          1.4489903556936925,
          0.9569146937059532,
          -1.0876396619061846,
          -0.8825336651551515,
          -0.8423240070023791,
          -0.4272107463195657,
          -1.0045630781628048,
          0.0429394511243209,
          -0.7148729467758064,
          -0.7789949477790704,
          -0.9191832504312808,
          -1.384802499135036,
          0.7403815312751256,
          0.12790428966569284,
          -0.876598463396739,
          0.46459743153905897,
          2.2945103309610206,
          0.9190764259753557,
          -1.0347445864486673,
          0.7897574525971488,
          0.3414303620739439,
          -1.3847910087182327,
          0.1955830021193111,
          0.4049174783016158,
          -0.2829754583507037,
          0.838011739396502,
          1.2703377287048359,
          -2.0619906501701752,
          -1.4981690667576353,
          -1.7112228860701841,
          -0.47034477162706384,
          -0.637737291097207,
          -0.6581863024705712,
          -1.8484248869495319,
          -0.25297207420322987,
          -1.498730238182971,
          -1.0832873210696463,
          0.7686015651247761,
          -1.9785988376993036,
          0.7622892264339542,
          -0.2190104805136365,
          -0.7138553058224888,
          -0.20260034760585052,
          1.1142766590091016,
          -2.936111953861491,
          -0.07515135449588436,
          -1.5421422903782285,
          -1.142272878834587,
          -1.110933150126963,
          1.5064100692033802,
          0.21695368836427406,
          0.7435021970998392,
          -1.1458590487618259,
          0.7109330494512432,
          0.6608559956042735,
          -0.4267649333096379,
          0.8740907611704118,
          -1.3451971631908606,
          -0.5170795699452903,
          -0.8630544128632993,
          -0.25199107407956256,
          0.02748099581794078,
          -0.9091067674187974,
          -0.7012846658008495,
          -0.7920411791675391,
          0.3693919235496703,
          0.5742103826245605,
          0.03644415204349955,
          0.9997563029530769,
          0.9552985665080148,
          -0.34215278593870785,
          0.3339513677279051,
          1.5655576693735629,
          1.0762902366665126,
          -0.7682184461169863,
          -0.42461624540838383,
          0.4161402693127119,
          -0.3487367513927705,
          -0.42396814167004315,
          -0.002815425224448483,
          -0.30686775945602396,
          0.01909922190336151,
          -0.07452615113233313,
          0.6264360653888321,
          -1.3431556773879652,
          -1.4959249223308302,
          -2.6521154680026244,
          1.4629990654336873,
          -0.5736096562978921,
          -0.41118011393250464,
          -0.06421124614134084,
          -0.1398291528881255,
          -0.6919445060187562,
          0.06824080061724438,
          -1.3105951793497057,
          -0.38525562900399807,
          -1.115691087322862,
          0.43672171773252433,
          -1.9284808149353287,
          0.38751086296356646
         ],
         "xaxis": "x3",
         "y": [
          -0.607666448602811,
          1.2591769182867638,
          0.16704406418634177,
          0.9887082751879337,
          0.42050690141106456,
          -0.2809674912610298,
          1.4205748844371253,
          -0.16218921393075963,
          0.5295790871081705,
          -0.4205995210823767,
          -0.16337781840683835,
          0.16759853031741256,
          -0.2809880800221108,
          0.45200515671738956,
          -0.7963631441160887,
          0.008124987817348458,
          -0.9653504552870982,
          -0.9223975905420754,
          1.697503764122202,
          -1.1326697096648621,
          0.5441315200764606,
          -1.4327221815783646,
          0.2796380060554141,
          -0.8128388054259313,
          -1.1827094987732283,
          0.9192838701288726,
          0.005031233926596609,
          0.4940789532190036,
          1.5199810486972711,
          -0.8443998734201372,
          -0.08104192992591111,
          1.6689329486978688,
          -0.7571977288571777,
          -0.8487031498216203,
          -0.07545251039014507,
          -0.09434513820899024,
          -0.41232256357512964,
          0.14336373331713348,
          -0.8541159147546175,
          -0.46384088394405887,
          -1.412249499680568,
          -1.0851655338041877,
          0.6879094601966855,
          -0.6694324921369627,
          -0.03363857785329403,
          0.5387086499714225,
          0.16160180831572146,
          -0.45427480880416693,
          -0.8902462437574454,
          2.1421316555307204,
          -0.28571217204710714,
          2.7785629257632722,
          0.6188425456596433,
          -2.459254026768631,
          0.09684266173917931,
          1.8786280821248922,
          0.5593105388098913,
          0.26783741562958696,
          -1.2984375511279334,
          1.1011962236341868,
          0.45296418473280115,
          -0.5321941924939583,
          0.753939474413834,
          0.9500785265544965,
          1.0899664761916448,
          -1.467471011712826,
          -1.8417320806426902,
          1.338367980687843,
          -1.5162371572164843,
          0.8077958820276738,
          0.05796809642764383,
          -0.7442463436578459,
          0.32199607754326404,
          -0.07641715190381224,
          1.271974510389658,
          1.2110829413589757,
          -0.2952254419337832,
          -1.4838594863846635,
          2.0037350196859847,
          0.7641245546427664,
          1.1687512590371492,
          1.0290682142963403,
          0.5227913621549826,
          0.07140529149204715,
          0.7725409413533701,
          0.5141137105114424,
          0.7331364742667712,
          -1.4336782221613382,
          -0.10001428221531719,
          -0.7328017258110671,
          1.9666060051841314,
          -1.1631585459816023,
          0.8406467869926779,
          -1.4210030180588464,
          -1.86072837927215,
          0.5640046352845078,
          2.383701139672665,
          2.476332563313472,
          -0.5353887528785137,
          0.7258828223322248
         ],
         "yaxis": "y3"
        },
        {
         "line": {
          "color": "rgba(128, 128, 128, 1.0)",
          "dash": "solid",
          "shape": "linear",
          "width": 1.3
         },
         "marker": {
          "size": 2,
          "symbol": "circle"
         },
         "mode": "markers",
         "name": "A",
         "text": "",
         "type": "scatter",
         "x": [
          -0.6330078646998142,
          1.8140756335916555,
          -0.5835976045612592,
          -0.5641200148384549,
          -0.7113091036630851,
          0.5792715905614506,
          0.06557156890941346,
          0.050892636683272714,
          -0.8450805527038645,
          1.064068924147688,
          0.7056144359183899,
          -1.168973900334623,
          -0.11805109594065305,
          0.9251690717019997,
          -1.2894179858161674,
          -0.2775137876890778,
          -1.2521398241852149,
          0.6443885338330175,
          -1.3381094353429026,
          -0.6897537677570175,
          1.012539735673264,
          -0.7522475874313775,
          -0.4430646307150996,
          1.9831136976064792,
          -0.676678887365719,
          -0.2787947880912225,
          -1.4083208568976933,
          0.14019093468472557,
          0.5024706033789321,
          0.16516639285817306,
          1.2377049506972744,
          -1.6949187806594332,
          1.5415432918094552,
          1.6301678015258994,
          -1.1027559176738229,
          0.43357549396542233,
          1.2057464481430542,
          1.4696617273324206,
          0.6454066869364494,
          1.1103842739308352,
          0.2782456366771006,
          1.4297506852056028,
          -0.3048720664044912,
          0.19743546709858048,
          0.4784536517243281,
          -2.2223271852837856,
          -3.259381690438617,
          0.8721078585324115,
          -0.311912960665354,
          0.24970857071647337,
          -1.5912285869615286,
          -0.8145442555583446,
          0.37345909865248417,
          1.9336074172114501,
          -0.06876507854781654,
          0.08994599336495115,
          -1.2537818517856754,
          0.6791236156070609,
          -1.3601721763062147,
          0.8390733341372618,
          -0.13429825334273918,
          0.24087589381874666,
          1.0058785258670269,
          0.04401529704545266,
          -0.41683670631106706,
          0.77092327971203,
          -0.4584395283092104,
          -0.39110690228463174,
          0.7150226306317401,
          -0.06417182112554029,
          0.3950100035740469,
          0.6025754048569935,
          0.07177701542208834,
          -0.29920082731233383,
          -0.4603566842574775,
          -1.6597335636166832,
          -0.21258830391543462,
          -0.38892128078710536,
          -0.6161632528144666,
          -0.05716896211311977,
          0.3509399386112978,
          0.8757909970253571,
          -0.11265943297298331,
          0.4014272056011246,
          0.4933027408475595,
          -0.9893768125723018,
          0.9029758053521423,
          0.9983313711827291,
          -0.31683343254947205,
          2.023820871281636,
          -0.37294509964931855,
          2.2158104756101307,
          -0.7753867534333052,
          -1.2600278190322325,
          -1.3358500870657253,
          1.8181432420037171,
          -1.181590578304687,
          0.7556440663108855,
          1.5940854331575334,
          0.7061877381941765
         ],
         "xaxis": "x4",
         "y": [
          -0.607666448602811,
          1.2591769182867638,
          0.16704406418634177,
          0.9887082751879337,
          0.42050690141106456,
          -0.2809674912610298,
          1.4205748844371253,
          -0.16218921393075963,
          0.5295790871081705,
          -0.4205995210823767,
          -0.16337781840683835,
          0.16759853031741256,
          -0.2809880800221108,
          0.45200515671738956,
          -0.7963631441160887,
          0.008124987817348458,
          -0.9653504552870982,
          -0.9223975905420754,
          1.697503764122202,
          -1.1326697096648621,
          0.5441315200764606,
          -1.4327221815783646,
          0.2796380060554141,
          -0.8128388054259313,
          -1.1827094987732283,
          0.9192838701288726,
          0.005031233926596609,
          0.4940789532190036,
          1.5199810486972711,
          -0.8443998734201372,
          -0.08104192992591111,
          1.6689329486978688,
          -0.7571977288571777,
          -0.8487031498216203,
          -0.07545251039014507,
          -0.09434513820899024,
          -0.41232256357512964,
          0.14336373331713348,
          -0.8541159147546175,
          -0.46384088394405887,
          -1.412249499680568,
          -1.0851655338041877,
          0.6879094601966855,
          -0.6694324921369627,
          -0.03363857785329403,
          0.5387086499714225,
          0.16160180831572146,
          -0.45427480880416693,
          -0.8902462437574454,
          2.1421316555307204,
          -0.28571217204710714,
          2.7785629257632722,
          0.6188425456596433,
          -2.459254026768631,
          0.09684266173917931,
          1.8786280821248922,
          0.5593105388098913,
          0.26783741562958696,
          -1.2984375511279334,
          1.1011962236341868,
          0.45296418473280115,
          -0.5321941924939583,
          0.753939474413834,
          0.9500785265544965,
          1.0899664761916448,
          -1.467471011712826,
          -1.8417320806426902,
          1.338367980687843,
          -1.5162371572164843,
          0.8077958820276738,
          0.05796809642764383,
          -0.7442463436578459,
          0.32199607754326404,
          -0.07641715190381224,
          1.271974510389658,
          1.2110829413589757,
          -0.2952254419337832,
          -1.4838594863846635,
          2.0037350196859847,
          0.7641245546427664,
          1.1687512590371492,
          1.0290682142963403,
          0.5227913621549826,
          0.07140529149204715,
          0.7725409413533701,
          0.5141137105114424,
          0.7331364742667712,
          -1.4336782221613382,
          -0.10001428221531719,
          -0.7328017258110671,
          1.9666060051841314,
          -1.1631585459816023,
          0.8406467869926779,
          -1.4210030180588464,
          -1.86072837927215,
          0.5640046352845078,
          2.383701139672665,
          2.476332563313472,
          -0.5353887528785137,
          0.7258828223322248
         ],
         "yaxis": "y4"
        },
        {
         "line": {
          "color": "rgba(128, 128, 128, 1.0)",
          "dash": "solid",
          "shape": "linear",
          "width": 1.3
         },
         "marker": {
          "size": 2,
          "symbol": "circle"
         },
         "mode": "markers",
         "name": "B",
         "text": "",
         "type": "scatter",
         "x": [
          -0.607666448602811,
          1.2591769182867638,
          0.16704406418634177,
          0.9887082751879337,
          0.42050690141106456,
          -0.2809674912610298,
          1.4205748844371253,
          -0.16218921393075963,
          0.5295790871081705,
          -0.4205995210823767,
          -0.16337781840683835,
          0.16759853031741256,
          -0.2809880800221108,
          0.45200515671738956,
          -0.7963631441160887,
          0.008124987817348458,
          -0.9653504552870982,
          -0.9223975905420754,
          1.697503764122202,
          -1.1326697096648621,
          0.5441315200764606,
          -1.4327221815783646,
          0.2796380060554141,
          -0.8128388054259313,
          -1.1827094987732283,
          0.9192838701288726,
          0.005031233926596609,
          0.4940789532190036,
          1.5199810486972711,
          -0.8443998734201372,
          -0.08104192992591111,
          1.6689329486978688,
          -0.7571977288571777,
          -0.8487031498216203,
          -0.07545251039014507,
          -0.09434513820899024,
          -0.41232256357512964,
          0.14336373331713348,
          -0.8541159147546175,
          -0.46384088394405887,
          -1.412249499680568,
          -1.0851655338041877,
          0.6879094601966855,
          -0.6694324921369627,
          -0.03363857785329403,
          0.5387086499714225,
          0.16160180831572146,
          -0.45427480880416693,
          -0.8902462437574454,
          2.1421316555307204,
          -0.28571217204710714,
          2.7785629257632722,
          0.6188425456596433,
          -2.459254026768631,
          0.09684266173917931,
          1.8786280821248922,
          0.5593105388098913,
          0.26783741562958696,
          -1.2984375511279334,
          1.1011962236341868,
          0.45296418473280115,
          -0.5321941924939583,
          0.753939474413834,
          0.9500785265544965,
          1.0899664761916448,
          -1.467471011712826,
          -1.8417320806426902,
          1.338367980687843,
          -1.5162371572164843,
          0.8077958820276738,
          0.05796809642764383,
          -0.7442463436578459,
          0.32199607754326404,
          -0.07641715190381224,
          1.271974510389658,
          1.2110829413589757,
          -0.2952254419337832,
          -1.4838594863846635,
          2.0037350196859847,
          0.7641245546427664,
          1.1687512590371492,
          1.0290682142963403,
          0.5227913621549826,
          0.07140529149204715,
          0.7725409413533701,
          0.5141137105114424,
          0.7331364742667712,
          -1.4336782221613382,
          -0.10001428221531719,
          -0.7328017258110671,
          1.9666060051841314,
          -1.1631585459816023,
          0.8406467869926779,
          -1.4210030180588464,
          -1.86072837927215,
          0.5640046352845078,
          2.383701139672665,
          2.476332563313472,
          -0.5353887528785137,
          0.7258828223322248
         ],
         "xaxis": "x5",
         "y": [
          0.031207682244617542,
          -0.9935482997534674,
          -1.2387163161907424,
          0.3126411229606882,
          -1.5891470111710775,
          0.07635814487302482,
          1.1923987298056264,
          -0.8112752331427182,
          0.3753696679604892,
          -1.1313144154052281,
          0.9605575351846121,
          -0.8227810207976046,
          0.3058696253813466,
          -0.062392383027024545,
          0.0914039951082883,
          1.569963638523854,
          -1.3209111992992464,
          -0.505404772341623,
          0.4469060588185499,
          0.338681444519608,
          0.4277500034434874,
          1.8118096469110234,
          -2.707892546203596,
          -1.246823143817817,
          -1.5087041797641172,
          0.48159850639528023,
          0.4002490260967725,
          0.5102053066593562,
          0.012675404040215244,
          -0.5505153478806513,
          0.142701498010046,
          -1.370584934091697,
          -0.465276852037582,
          -0.6267239674553973,
          -0.2646699056244561,
          1.0875368856352667,
          -1.434404032497129,
          1.4109414962819065,
          0.9235522288718865,
          -0.5119719562560471,
          -0.6976977102703348,
          0.5747329306441911,
          -0.8956614256141748,
          1.1857860513489715,
          -1.9548308830495846,
          -1.1367997870862887,
          2.061070273949067,
          0.6588214122709168,
          0.4410322351607642,
          -0.48796022081817403,
          1.6053822576254855,
          -0.3140314095170499,
          -0.09124804505842249,
          1.3484214515162485,
          0.32727035641686286,
          0.22129713953336863,
          -0.6223804442822951,
          -0.8857002347557834,
          -1.3851516630852694,
          0.6308690956117835,
          0.8271598452053652,
          -1.1279541070033732,
          -0.05344314824258955,
          -0.37069948428920874,
          0.9465741701628043,
          0.4009643109576281,
          -1.2132942383142324,
          -1.1541141737765865,
          -0.29247553216184013,
          1.3722130853213,
          0.8548717018970707,
          -0.2656159662802207,
          0.22669618331868235,
          1.6083628909928163,
          0.23614029731646852,
          0.15033798028605647,
          -0.36078885714769116,
          0.5450248831544398,
          0.9577333980549713,
          0.24342093309276405,
          -1.3230510975011762,
          -0.18950658150248,
          -0.29962570025070767,
          1.2123866856004129,
          -0.32810667970458063,
          -0.23713318711384512,
          -1.1159826228709895,
          -0.18895108060257848,
          1.1585142270387017,
          -0.27584783569539345,
          -0.3346270595588554,
          -0.5131187582372946,
          0.6873100918212838,
          0.08401528306893093,
          0.0901193388465427,
          0.32770017053241934,
          1.178540724416936,
          -1.704896131930627,
          0.004174290449213629,
          0.8000408565286847
         ],
         "yaxis": "y5"
        },
        {
         "histfunc": "count",
         "histnorm": "",
         "marker": {
          "color": "rgba(55, 128, 191, 1.0)",
          "line": {
           "color": "#4D5663",
           "width": 1.3
          }
         },
         "name": "B",
         "nbinsx": 10,
         "opacity": 0.8,
         "orientation": "v",
         "type": "histogram",
         "x": [
          0.031207682244617542,
          -0.9935482997534674,
          -1.2387163161907424,
          0.3126411229606882,
          -1.5891470111710775,
          0.07635814487302482,
          1.1923987298056264,
          -0.8112752331427182,
          0.3753696679604892,
          -1.1313144154052281,
          0.9605575351846121,
          -0.8227810207976046,
          0.3058696253813466,
          -0.062392383027024545,
          0.0914039951082883,
          1.569963638523854,
          -1.3209111992992464,
          -0.505404772341623,
          0.4469060588185499,
          0.338681444519608,
          0.4277500034434874,
          1.8118096469110234,
          -2.707892546203596,
          -1.246823143817817,
          -1.5087041797641172,
          0.48159850639528023,
          0.4002490260967725,
          0.5102053066593562,
          0.012675404040215244,
          -0.5505153478806513,
          0.142701498010046,
          -1.370584934091697,
          -0.465276852037582,
          -0.6267239674553973,
          -0.2646699056244561,
          1.0875368856352667,
          -1.434404032497129,
          1.4109414962819065,
          0.9235522288718865,
          -0.5119719562560471,
          -0.6976977102703348,
          0.5747329306441911,
          -0.8956614256141748,
          1.1857860513489715,
          -1.9548308830495846,
          -1.1367997870862887,
          2.061070273949067,
          0.6588214122709168,
          0.4410322351607642,
          -0.48796022081817403,
          1.6053822576254855,
          -0.3140314095170499,
          -0.09124804505842249,
          1.3484214515162485,
          0.32727035641686286,
          0.22129713953336863,
          -0.6223804442822951,
          -0.8857002347557834,
          -1.3851516630852694,
          0.6308690956117835,
          0.8271598452053652,
          -1.1279541070033732,
          -0.05344314824258955,
          -0.37069948428920874,
          0.9465741701628043,
          0.4009643109576281,
          -1.2132942383142324,
          -1.1541141737765865,
          -0.29247553216184013,
          1.3722130853213,
          0.8548717018970707,
          -0.2656159662802207,
          0.22669618331868235,
          1.6083628909928163,
          0.23614029731646852,
          0.15033798028605647,
          -0.36078885714769116,
          0.5450248831544398,
          0.9577333980549713,
          0.24342093309276405,
          -1.3230510975011762,
          -0.18950658150248,
          -0.29962570025070767,
          1.2123866856004129,
          -0.32810667970458063,
          -0.23713318711384512,
          -1.1159826228709895,
          -0.18895108060257848,
          1.1585142270387017,
          -0.27584783569539345,
          -0.3346270595588554,
          -0.5131187582372946,
          0.6873100918212838,
          0.08401528306893093,
          0.0901193388465427,
          0.32770017053241934,
          1.178540724416936,
          -1.704896131930627,
          0.004174290449213629,
          0.8000408565286847
         ],
         "xaxis": "x6",
         "yaxis": "y6"
        },
        {
         "line": {
          "color": "rgba(128, 128, 128, 1.0)",
          "dash": "solid",
          "shape": "linear",
          "width": 1.3
         },
         "marker": {
          "size": 2,
          "symbol": "circle"
         },
         "mode": "markers",
         "name": "B",
         "text": "",
         "type": "scatter",
         "x": [
          1.4489903556936925,
          0.9569146937059532,
          -1.0876396619061846,
          -0.8825336651551515,
          -0.8423240070023791,
          -0.4272107463195657,
          -1.0045630781628048,
          0.0429394511243209,
          -0.7148729467758064,
          -0.7789949477790704,
          -0.9191832504312808,
          -1.384802499135036,
          0.7403815312751256,
          0.12790428966569284,
          -0.876598463396739,
          0.46459743153905897,
          2.2945103309610206,
          0.9190764259753557,
          -1.0347445864486673,
          0.7897574525971488,
          0.3414303620739439,
          -1.3847910087182327,
          0.1955830021193111,
          0.4049174783016158,
          -0.2829754583507037,
          0.838011739396502,
          1.2703377287048359,
          -2.0619906501701752,
          -1.4981690667576353,
          -1.7112228860701841,
          -0.47034477162706384,
          -0.637737291097207,
          -0.6581863024705712,
          -1.8484248869495319,
          -0.25297207420322987,
          -1.498730238182971,
          -1.0832873210696463,
          0.7686015651247761,
          -1.9785988376993036,
          0.7622892264339542,
          -0.2190104805136365,
          -0.7138553058224888,
          -0.20260034760585052,
          1.1142766590091016,
          -2.936111953861491,
          -0.07515135449588436,
          -1.5421422903782285,
          -1.142272878834587,
          -1.110933150126963,
          1.5064100692033802,
          0.21695368836427406,
          0.7435021970998392,
          -1.1458590487618259,
          0.7109330494512432,
          0.6608559956042735,
          -0.4267649333096379,
          0.8740907611704118,
          -1.3451971631908606,
          -0.5170795699452903,
          -0.8630544128632993,
          -0.25199107407956256,
          0.02748099581794078,
          -0.9091067674187974,
          -0.7012846658008495,
          -0.7920411791675391,
          0.3693919235496703,
          0.5742103826245605,
          0.03644415204349955,
          0.9997563029530769,
          0.9552985665080148,
          -0.34215278593870785,
          0.3339513677279051,
          1.5655576693735629,
          1.0762902366665126,
          -0.7682184461169863,
          -0.42461624540838383,
          0.4161402693127119,
          -0.3487367513927705,
          -0.42396814167004315,
          -0.002815425224448483,
          -0.30686775945602396,
          0.01909922190336151,
          -0.07452615113233313,
          0.6264360653888321,
          -1.3431556773879652,
          -1.4959249223308302,
          -2.6521154680026244,
          1.4629990654336873,
          -0.5736096562978921,
          -0.41118011393250464,
          -0.06421124614134084,
          -0.1398291528881255,
          -0.6919445060187562,
          0.06824080061724438,
          -1.3105951793497057,
          -0.38525562900399807,
          -1.115691087322862,
          0.43672171773252433,
          -1.9284808149353287,
          0.38751086296356646
         ],
         "xaxis": "x7",
         "y": [
          0.031207682244617542,
          -0.9935482997534674,
          -1.2387163161907424,
          0.3126411229606882,
          -1.5891470111710775,
          0.07635814487302482,
          1.1923987298056264,
          -0.8112752331427182,
          0.3753696679604892,
          -1.1313144154052281,
          0.9605575351846121,
          -0.8227810207976046,
          0.3058696253813466,
          -0.062392383027024545,
          0.0914039951082883,
          1.569963638523854,
          -1.3209111992992464,
          -0.505404772341623,
          0.4469060588185499,
          0.338681444519608,
          0.4277500034434874,
          1.8118096469110234,
          -2.707892546203596,
          -1.246823143817817,
          -1.5087041797641172,
          0.48159850639528023,
          0.4002490260967725,
          0.5102053066593562,
          0.012675404040215244,
          -0.5505153478806513,
          0.142701498010046,
          -1.370584934091697,
          -0.465276852037582,
          -0.6267239674553973,
          -0.2646699056244561,
          1.0875368856352667,
          -1.434404032497129,
          1.4109414962819065,
          0.9235522288718865,
          -0.5119719562560471,
          -0.6976977102703348,
          0.5747329306441911,
          -0.8956614256141748,
          1.1857860513489715,
          -1.9548308830495846,
          -1.1367997870862887,
          2.061070273949067,
          0.6588214122709168,
          0.4410322351607642,
          -0.48796022081817403,
          1.6053822576254855,
          -0.3140314095170499,
          -0.09124804505842249,
          1.3484214515162485,
          0.32727035641686286,
          0.22129713953336863,
          -0.6223804442822951,
          -0.8857002347557834,
          -1.3851516630852694,
          0.6308690956117835,
          0.8271598452053652,
          -1.1279541070033732,
          -0.05344314824258955,
          -0.37069948428920874,
          0.9465741701628043,
          0.4009643109576281,
          -1.2132942383142324,
          -1.1541141737765865,
          -0.29247553216184013,
          1.3722130853213,
          0.8548717018970707,
          -0.2656159662802207,
          0.22669618331868235,
          1.6083628909928163,
          0.23614029731646852,
          0.15033798028605647,
          -0.36078885714769116,
          0.5450248831544398,
          0.9577333980549713,
          0.24342093309276405,
          -1.3230510975011762,
          -0.18950658150248,
          -0.29962570025070767,
          1.2123866856004129,
          -0.32810667970458063,
          -0.23713318711384512,
          -1.1159826228709895,
          -0.18895108060257848,
          1.1585142270387017,
          -0.27584783569539345,
          -0.3346270595588554,
          -0.5131187582372946,
          0.6873100918212838,
          0.08401528306893093,
          0.0901193388465427,
          0.32770017053241934,
          1.178540724416936,
          -1.704896131930627,
          0.004174290449213629,
          0.8000408565286847
         ],
         "yaxis": "y7"
        },
        {
         "line": {
          "color": "rgba(128, 128, 128, 1.0)",
          "dash": "solid",
          "shape": "linear",
          "width": 1.3
         },
         "marker": {
          "size": 2,
          "symbol": "circle"
         },
         "mode": "markers",
         "name": "B",
         "text": "",
         "type": "scatter",
         "x": [
          -0.6330078646998142,
          1.8140756335916555,
          -0.5835976045612592,
          -0.5641200148384549,
          -0.7113091036630851,
          0.5792715905614506,
          0.06557156890941346,
          0.050892636683272714,
          -0.8450805527038645,
          1.064068924147688,
          0.7056144359183899,
          -1.168973900334623,
          -0.11805109594065305,
          0.9251690717019997,
          -1.2894179858161674,
          -0.2775137876890778,
          -1.2521398241852149,
          0.6443885338330175,
          -1.3381094353429026,
          -0.6897537677570175,
          1.012539735673264,
          -0.7522475874313775,
          -0.4430646307150996,
          1.9831136976064792,
          -0.676678887365719,
          -0.2787947880912225,
          -1.4083208568976933,
          0.14019093468472557,
          0.5024706033789321,
          0.16516639285817306,
          1.2377049506972744,
          -1.6949187806594332,
          1.5415432918094552,
          1.6301678015258994,
          -1.1027559176738229,
          0.43357549396542233,
          1.2057464481430542,
          1.4696617273324206,
          0.6454066869364494,
          1.1103842739308352,
          0.2782456366771006,
          1.4297506852056028,
          -0.3048720664044912,
          0.19743546709858048,
          0.4784536517243281,
          -2.2223271852837856,
          -3.259381690438617,
          0.8721078585324115,
          -0.311912960665354,
          0.24970857071647337,
          -1.5912285869615286,
          -0.8145442555583446,
          0.37345909865248417,
          1.9336074172114501,
          -0.06876507854781654,
          0.08994599336495115,
          -1.2537818517856754,
          0.6791236156070609,
          -1.3601721763062147,
          0.8390733341372618,
          -0.13429825334273918,
          0.24087589381874666,
          1.0058785258670269,
          0.04401529704545266,
          -0.41683670631106706,
          0.77092327971203,
          -0.4584395283092104,
          -0.39110690228463174,
          0.7150226306317401,
          -0.06417182112554029,
          0.3950100035740469,
          0.6025754048569935,
          0.07177701542208834,
          -0.29920082731233383,
          -0.4603566842574775,
          -1.6597335636166832,
          -0.21258830391543462,
          -0.38892128078710536,
          -0.6161632528144666,
          -0.05716896211311977,
          0.3509399386112978,
          0.8757909970253571,
          -0.11265943297298331,
          0.4014272056011246,
          0.4933027408475595,
          -0.9893768125723018,
          0.9029758053521423,
          0.9983313711827291,
          -0.31683343254947205,
          2.023820871281636,
          -0.37294509964931855,
          2.2158104756101307,
          -0.7753867534333052,
          -1.2600278190322325,
          -1.3358500870657253,
          1.8181432420037171,
          -1.181590578304687,
          0.7556440663108855,
          1.5940854331575334,
          0.7061877381941765
         ],
         "xaxis": "x8",
         "y": [
          0.031207682244617542,
          -0.9935482997534674,
          -1.2387163161907424,
          0.3126411229606882,
          -1.5891470111710775,
          0.07635814487302482,
          1.1923987298056264,
          -0.8112752331427182,
          0.3753696679604892,
          -1.1313144154052281,
          0.9605575351846121,
          -0.8227810207976046,
          0.3058696253813466,
          -0.062392383027024545,
          0.0914039951082883,
          1.569963638523854,
          -1.3209111992992464,
          -0.505404772341623,
          0.4469060588185499,
          0.338681444519608,
          0.4277500034434874,
          1.8118096469110234,
          -2.707892546203596,
          -1.246823143817817,
          -1.5087041797641172,
          0.48159850639528023,
          0.4002490260967725,
          0.5102053066593562,
          0.012675404040215244,
          -0.5505153478806513,
          0.142701498010046,
          -1.370584934091697,
          -0.465276852037582,
          -0.6267239674553973,
          -0.2646699056244561,
          1.0875368856352667,
          -1.434404032497129,
          1.4109414962819065,
          0.9235522288718865,
          -0.5119719562560471,
          -0.6976977102703348,
          0.5747329306441911,
          -0.8956614256141748,
          1.1857860513489715,
          -1.9548308830495846,
          -1.1367997870862887,
          2.061070273949067,
          0.6588214122709168,
          0.4410322351607642,
          -0.48796022081817403,
          1.6053822576254855,
          -0.3140314095170499,
          -0.09124804505842249,
          1.3484214515162485,
          0.32727035641686286,
          0.22129713953336863,
          -0.6223804442822951,
          -0.8857002347557834,
          -1.3851516630852694,
          0.6308690956117835,
          0.8271598452053652,
          -1.1279541070033732,
          -0.05344314824258955,
          -0.37069948428920874,
          0.9465741701628043,
          0.4009643109576281,
          -1.2132942383142324,
          -1.1541141737765865,
          -0.29247553216184013,
          1.3722130853213,
          0.8548717018970707,
          -0.2656159662802207,
          0.22669618331868235,
          1.6083628909928163,
          0.23614029731646852,
          0.15033798028605647,
          -0.36078885714769116,
          0.5450248831544398,
          0.9577333980549713,
          0.24342093309276405,
          -1.3230510975011762,
          -0.18950658150248,
          -0.29962570025070767,
          1.2123866856004129,
          -0.32810667970458063,
          -0.23713318711384512,
          -1.1159826228709895,
          -0.18895108060257848,
          1.1585142270387017,
          -0.27584783569539345,
          -0.3346270595588554,
          -0.5131187582372946,
          0.6873100918212838,
          0.08401528306893093,
          0.0901193388465427,
          0.32770017053241934,
          1.178540724416936,
          -1.704896131930627,
          0.004174290449213629,
          0.8000408565286847
         ],
         "yaxis": "y8"
        },
        {
         "line": {
          "color": "rgba(128, 128, 128, 1.0)",
          "dash": "solid",
          "shape": "linear",
          "width": 1.3
         },
         "marker": {
          "size": 2,
          "symbol": "circle"
         },
         "mode": "markers",
         "name": "C",
         "text": "",
         "type": "scatter",
         "x": [
          -0.607666448602811,
          1.2591769182867638,
          0.16704406418634177,
          0.9887082751879337,
          0.42050690141106456,
          -0.2809674912610298,
          1.4205748844371253,
          -0.16218921393075963,
          0.5295790871081705,
          -0.4205995210823767,
          -0.16337781840683835,
          0.16759853031741256,
          -0.2809880800221108,
          0.45200515671738956,
          -0.7963631441160887,
          0.008124987817348458,
          -0.9653504552870982,
          -0.9223975905420754,
          1.697503764122202,
          -1.1326697096648621,
          0.5441315200764606,
          -1.4327221815783646,
          0.2796380060554141,
          -0.8128388054259313,
          -1.1827094987732283,
          0.9192838701288726,
          0.005031233926596609,
          0.4940789532190036,
          1.5199810486972711,
          -0.8443998734201372,
          -0.08104192992591111,
          1.6689329486978688,
          -0.7571977288571777,
          -0.8487031498216203,
          -0.07545251039014507,
          -0.09434513820899024,
          -0.41232256357512964,
          0.14336373331713348,
          -0.8541159147546175,
          -0.46384088394405887,
          -1.412249499680568,
          -1.0851655338041877,
          0.6879094601966855,
          -0.6694324921369627,
          -0.03363857785329403,
          0.5387086499714225,
          0.16160180831572146,
          -0.45427480880416693,
          -0.8902462437574454,
          2.1421316555307204,
          -0.28571217204710714,
          2.7785629257632722,
          0.6188425456596433,
          -2.459254026768631,
          0.09684266173917931,
          1.8786280821248922,
          0.5593105388098913,
          0.26783741562958696,
          -1.2984375511279334,
          1.1011962236341868,
          0.45296418473280115,
          -0.5321941924939583,
          0.753939474413834,
          0.9500785265544965,
          1.0899664761916448,
          -1.467471011712826,
          -1.8417320806426902,
          1.338367980687843,
          -1.5162371572164843,
          0.8077958820276738,
          0.05796809642764383,
          -0.7442463436578459,
          0.32199607754326404,
          -0.07641715190381224,
          1.271974510389658,
          1.2110829413589757,
          -0.2952254419337832,
          -1.4838594863846635,
          2.0037350196859847,
          0.7641245546427664,
          1.1687512590371492,
          1.0290682142963403,
          0.5227913621549826,
          0.07140529149204715,
          0.7725409413533701,
          0.5141137105114424,
          0.7331364742667712,
          -1.4336782221613382,
          -0.10001428221531719,
          -0.7328017258110671,
          1.9666060051841314,
          -1.1631585459816023,
          0.8406467869926779,
          -1.4210030180588464,
          -1.86072837927215,
          0.5640046352845078,
          2.383701139672665,
          2.476332563313472,
          -0.5353887528785137,
          0.7258828223322248
         ],
         "xaxis": "x9",
         "y": [
          1.4489903556936925,
          0.9569146937059532,
          -1.0876396619061846,
          -0.8825336651551515,
          -0.8423240070023791,
          -0.4272107463195657,
          -1.0045630781628048,
          0.0429394511243209,
          -0.7148729467758064,
          -0.7789949477790704,
          -0.9191832504312808,
          -1.384802499135036,
          0.7403815312751256,
          0.12790428966569284,
          -0.876598463396739,
          0.46459743153905897,
          2.2945103309610206,
          0.9190764259753557,
          -1.0347445864486673,
          0.7897574525971488,
          0.3414303620739439,
          -1.3847910087182327,
          0.1955830021193111,
          0.4049174783016158,
          -0.2829754583507037,
          0.838011739396502,
          1.2703377287048359,
          -2.0619906501701752,
          -1.4981690667576353,
          -1.7112228860701841,
          -0.47034477162706384,
          -0.637737291097207,
          -0.6581863024705712,
          -1.8484248869495319,
          -0.25297207420322987,
          -1.498730238182971,
          -1.0832873210696463,
          0.7686015651247761,
          -1.9785988376993036,
          0.7622892264339542,
          -0.2190104805136365,
          -0.7138553058224888,
          -0.20260034760585052,
          1.1142766590091016,
          -2.936111953861491,
          -0.07515135449588436,
          -1.5421422903782285,
          -1.142272878834587,
          -1.110933150126963,
          1.5064100692033802,
          0.21695368836427406,
          0.7435021970998392,
          -1.1458590487618259,
          0.7109330494512432,
          0.6608559956042735,
          -0.4267649333096379,
          0.8740907611704118,
          -1.3451971631908606,
          -0.5170795699452903,
          -0.8630544128632993,
          -0.25199107407956256,
          0.02748099581794078,
          -0.9091067674187974,
          -0.7012846658008495,
          -0.7920411791675391,
          0.3693919235496703,
          0.5742103826245605,
          0.03644415204349955,
          0.9997563029530769,
          0.9552985665080148,
          -0.34215278593870785,
          0.3339513677279051,
          1.5655576693735629,
          1.0762902366665126,
          -0.7682184461169863,
          -0.42461624540838383,
          0.4161402693127119,
          -0.3487367513927705,
          -0.42396814167004315,
          -0.002815425224448483,
          -0.30686775945602396,
          0.01909922190336151,
          -0.07452615113233313,
          0.6264360653888321,
          -1.3431556773879652,
          -1.4959249223308302,
          -2.6521154680026244,
          1.4629990654336873,
          -0.5736096562978921,
          -0.41118011393250464,
          -0.06421124614134084,
          -0.1398291528881255,
          -0.6919445060187562,
          0.06824080061724438,
          -1.3105951793497057,
          -0.38525562900399807,
          -1.115691087322862,
          0.43672171773252433,
          -1.9284808149353287,
          0.38751086296356646
         ],
         "yaxis": "y9"
        },
        {
         "line": {
          "color": "rgba(128, 128, 128, 1.0)",
          "dash": "solid",
          "shape": "linear",
          "width": 1.3
         },
         "marker": {
          "size": 2,
          "symbol": "circle"
         },
         "mode": "markers",
         "name": "C",
         "text": "",
         "type": "scatter",
         "x": [
          0.031207682244617542,
          -0.9935482997534674,
          -1.2387163161907424,
          0.3126411229606882,
          -1.5891470111710775,
          0.07635814487302482,
          1.1923987298056264,
          -0.8112752331427182,
          0.3753696679604892,
          -1.1313144154052281,
          0.9605575351846121,
          -0.8227810207976046,
          0.3058696253813466,
          -0.062392383027024545,
          0.0914039951082883,
          1.569963638523854,
          -1.3209111992992464,
          -0.505404772341623,
          0.4469060588185499,
          0.338681444519608,
          0.4277500034434874,
          1.8118096469110234,
          -2.707892546203596,
          -1.246823143817817,
          -1.5087041797641172,
          0.48159850639528023,
          0.4002490260967725,
          0.5102053066593562,
          0.012675404040215244,
          -0.5505153478806513,
          0.142701498010046,
          -1.370584934091697,
          -0.465276852037582,
          -0.6267239674553973,
          -0.2646699056244561,
          1.0875368856352667,
          -1.434404032497129,
          1.4109414962819065,
          0.9235522288718865,
          -0.5119719562560471,
          -0.6976977102703348,
          0.5747329306441911,
          -0.8956614256141748,
          1.1857860513489715,
          -1.9548308830495846,
          -1.1367997870862887,
          2.061070273949067,
          0.6588214122709168,
          0.4410322351607642,
          -0.48796022081817403,
          1.6053822576254855,
          -0.3140314095170499,
          -0.09124804505842249,
          1.3484214515162485,
          0.32727035641686286,
          0.22129713953336863,
          -0.6223804442822951,
          -0.8857002347557834,
          -1.3851516630852694,
          0.6308690956117835,
          0.8271598452053652,
          -1.1279541070033732,
          -0.05344314824258955,
          -0.37069948428920874,
          0.9465741701628043,
          0.4009643109576281,
          -1.2132942383142324,
          -1.1541141737765865,
          -0.29247553216184013,
          1.3722130853213,
          0.8548717018970707,
          -0.2656159662802207,
          0.22669618331868235,
          1.6083628909928163,
          0.23614029731646852,
          0.15033798028605647,
          -0.36078885714769116,
          0.5450248831544398,
          0.9577333980549713,
          0.24342093309276405,
          -1.3230510975011762,
          -0.18950658150248,
          -0.29962570025070767,
          1.2123866856004129,
          -0.32810667970458063,
          -0.23713318711384512,
          -1.1159826228709895,
          -0.18895108060257848,
          1.1585142270387017,
          -0.27584783569539345,
          -0.3346270595588554,
          -0.5131187582372946,
          0.6873100918212838,
          0.08401528306893093,
          0.0901193388465427,
          0.32770017053241934,
          1.178540724416936,
          -1.704896131930627,
          0.004174290449213629,
          0.8000408565286847
         ],
         "xaxis": "x10",
         "y": [
          1.4489903556936925,
          0.9569146937059532,
          -1.0876396619061846,
          -0.8825336651551515,
          -0.8423240070023791,
          -0.4272107463195657,
          -1.0045630781628048,
          0.0429394511243209,
          -0.7148729467758064,
          -0.7789949477790704,
          -0.9191832504312808,
          -1.384802499135036,
          0.7403815312751256,
          0.12790428966569284,
          -0.876598463396739,
          0.46459743153905897,
          2.2945103309610206,
          0.9190764259753557,
          -1.0347445864486673,
          0.7897574525971488,
          0.3414303620739439,
          -1.3847910087182327,
          0.1955830021193111,
          0.4049174783016158,
          -0.2829754583507037,
          0.838011739396502,
          1.2703377287048359,
          -2.0619906501701752,
          -1.4981690667576353,
          -1.7112228860701841,
          -0.47034477162706384,
          -0.637737291097207,
          -0.6581863024705712,
          -1.8484248869495319,
          -0.25297207420322987,
          -1.498730238182971,
          -1.0832873210696463,
          0.7686015651247761,
          -1.9785988376993036,
          0.7622892264339542,
          -0.2190104805136365,
          -0.7138553058224888,
          -0.20260034760585052,
          1.1142766590091016,
          -2.936111953861491,
          -0.07515135449588436,
          -1.5421422903782285,
          -1.142272878834587,
          -1.110933150126963,
          1.5064100692033802,
          0.21695368836427406,
          0.7435021970998392,
          -1.1458590487618259,
          0.7109330494512432,
          0.6608559956042735,
          -0.4267649333096379,
          0.8740907611704118,
          -1.3451971631908606,
          -0.5170795699452903,
          -0.8630544128632993,
          -0.25199107407956256,
          0.02748099581794078,
          -0.9091067674187974,
          -0.7012846658008495,
          -0.7920411791675391,
          0.3693919235496703,
          0.5742103826245605,
          0.03644415204349955,
          0.9997563029530769,
          0.9552985665080148,
          -0.34215278593870785,
          0.3339513677279051,
          1.5655576693735629,
          1.0762902366665126,
          -0.7682184461169863,
          -0.42461624540838383,
          0.4161402693127119,
          -0.3487367513927705,
          -0.42396814167004315,
          -0.002815425224448483,
          -0.30686775945602396,
          0.01909922190336151,
          -0.07452615113233313,
          0.6264360653888321,
          -1.3431556773879652,
          -1.4959249223308302,
          -2.6521154680026244,
          1.4629990654336873,
          -0.5736096562978921,
          -0.41118011393250464,
          -0.06421124614134084,
          -0.1398291528881255,
          -0.6919445060187562,
          0.06824080061724438,
          -1.3105951793497057,
          -0.38525562900399807,
          -1.115691087322862,
          0.43672171773252433,
          -1.9284808149353287,
          0.38751086296356646
         ],
         "yaxis": "y10"
        },
        {
         "histfunc": "count",
         "histnorm": "",
         "marker": {
          "color": "rgba(50, 171, 96, 1.0)",
          "line": {
           "color": "#4D5663",
           "width": 1.3
          }
         },
         "name": "C",
         "nbinsx": 10,
         "opacity": 0.8,
         "orientation": "v",
         "type": "histogram",
         "x": [
          1.4489903556936925,
          0.9569146937059532,
          -1.0876396619061846,
          -0.8825336651551515,
          -0.8423240070023791,
          -0.4272107463195657,
          -1.0045630781628048,
          0.0429394511243209,
          -0.7148729467758064,
          -0.7789949477790704,
          -0.9191832504312808,
          -1.384802499135036,
          0.7403815312751256,
          0.12790428966569284,
          -0.876598463396739,
          0.46459743153905897,
          2.2945103309610206,
          0.9190764259753557,
          -1.0347445864486673,
          0.7897574525971488,
          0.3414303620739439,
          -1.3847910087182327,
          0.1955830021193111,
          0.4049174783016158,
          -0.2829754583507037,
          0.838011739396502,
          1.2703377287048359,
          -2.0619906501701752,
          -1.4981690667576353,
          -1.7112228860701841,
          -0.47034477162706384,
          -0.637737291097207,
          -0.6581863024705712,
          -1.8484248869495319,
          -0.25297207420322987,
          -1.498730238182971,
          -1.0832873210696463,
          0.7686015651247761,
          -1.9785988376993036,
          0.7622892264339542,
          -0.2190104805136365,
          -0.7138553058224888,
          -0.20260034760585052,
          1.1142766590091016,
          -2.936111953861491,
          -0.07515135449588436,
          -1.5421422903782285,
          -1.142272878834587,
          -1.110933150126963,
          1.5064100692033802,
          0.21695368836427406,
          0.7435021970998392,
          -1.1458590487618259,
          0.7109330494512432,
          0.6608559956042735,
          -0.4267649333096379,
          0.8740907611704118,
          -1.3451971631908606,
          -0.5170795699452903,
          -0.8630544128632993,
          -0.25199107407956256,
          0.02748099581794078,
          -0.9091067674187974,
          -0.7012846658008495,
          -0.7920411791675391,
          0.3693919235496703,
          0.5742103826245605,
          0.03644415204349955,
          0.9997563029530769,
          0.9552985665080148,
          -0.34215278593870785,
          0.3339513677279051,
          1.5655576693735629,
          1.0762902366665126,
          -0.7682184461169863,
          -0.42461624540838383,
          0.4161402693127119,
          -0.3487367513927705,
          -0.42396814167004315,
          -0.002815425224448483,
          -0.30686775945602396,
          0.01909922190336151,
          -0.07452615113233313,
          0.6264360653888321,
          -1.3431556773879652,
          -1.4959249223308302,
          -2.6521154680026244,
          1.4629990654336873,
          -0.5736096562978921,
          -0.41118011393250464,
          -0.06421124614134084,
          -0.1398291528881255,
          -0.6919445060187562,
          0.06824080061724438,
          -1.3105951793497057,
          -0.38525562900399807,
          -1.115691087322862,
          0.43672171773252433,
          -1.9284808149353287,
          0.38751086296356646
         ],
         "xaxis": "x11",
         "yaxis": "y11"
        },
        {
         "line": {
          "color": "rgba(128, 128, 128, 1.0)",
          "dash": "solid",
          "shape": "linear",
          "width": 1.3
         },
         "marker": {
          "size": 2,
          "symbol": "circle"
         },
         "mode": "markers",
         "name": "C",
         "text": "",
         "type": "scatter",
         "x": [
          -0.6330078646998142,
          1.8140756335916555,
          -0.5835976045612592,
          -0.5641200148384549,
          -0.7113091036630851,
          0.5792715905614506,
          0.06557156890941346,
          0.050892636683272714,
          -0.8450805527038645,
          1.064068924147688,
          0.7056144359183899,
          -1.168973900334623,
          -0.11805109594065305,
          0.9251690717019997,
          -1.2894179858161674,
          -0.2775137876890778,
          -1.2521398241852149,
          0.6443885338330175,
          -1.3381094353429026,
          -0.6897537677570175,
          1.012539735673264,
          -0.7522475874313775,
          -0.4430646307150996,
          1.9831136976064792,
          -0.676678887365719,
          -0.2787947880912225,
          -1.4083208568976933,
          0.14019093468472557,
          0.5024706033789321,
          0.16516639285817306,
          1.2377049506972744,
          -1.6949187806594332,
          1.5415432918094552,
          1.6301678015258994,
          -1.1027559176738229,
          0.43357549396542233,
          1.2057464481430542,
          1.4696617273324206,
          0.6454066869364494,
          1.1103842739308352,
          0.2782456366771006,
          1.4297506852056028,
          -0.3048720664044912,
          0.19743546709858048,
          0.4784536517243281,
          -2.2223271852837856,
          -3.259381690438617,
          0.8721078585324115,
          -0.311912960665354,
          0.24970857071647337,
          -1.5912285869615286,
          -0.8145442555583446,
          0.37345909865248417,
          1.9336074172114501,
          -0.06876507854781654,
          0.08994599336495115,
          -1.2537818517856754,
          0.6791236156070609,
          -1.3601721763062147,
          0.8390733341372618,
          -0.13429825334273918,
          0.24087589381874666,
          1.0058785258670269,
          0.04401529704545266,
          -0.41683670631106706,
          0.77092327971203,
          -0.4584395283092104,
          -0.39110690228463174,
          0.7150226306317401,
          -0.06417182112554029,
          0.3950100035740469,
          0.6025754048569935,
          0.07177701542208834,
          -0.29920082731233383,
          -0.4603566842574775,
          -1.6597335636166832,
          -0.21258830391543462,
          -0.38892128078710536,
          -0.6161632528144666,
          -0.05716896211311977,
          0.3509399386112978,
          0.8757909970253571,
          -0.11265943297298331,
          0.4014272056011246,
          0.4933027408475595,
          -0.9893768125723018,
          0.9029758053521423,
          0.9983313711827291,
          -0.31683343254947205,
          2.023820871281636,
          -0.37294509964931855,
          2.2158104756101307,
          -0.7753867534333052,
          -1.2600278190322325,
          -1.3358500870657253,
          1.8181432420037171,
          -1.181590578304687,
          0.7556440663108855,
          1.5940854331575334,
          0.7061877381941765
         ],
         "xaxis": "x12",
         "y": [
          1.4489903556936925,
          0.9569146937059532,
          -1.0876396619061846,
          -0.8825336651551515,
          -0.8423240070023791,
          -0.4272107463195657,
          -1.0045630781628048,
          0.0429394511243209,
          -0.7148729467758064,
          -0.7789949477790704,
          -0.9191832504312808,
          -1.384802499135036,
          0.7403815312751256,
          0.12790428966569284,
          -0.876598463396739,
          0.46459743153905897,
          2.2945103309610206,
          0.9190764259753557,
          -1.0347445864486673,
          0.7897574525971488,
          0.3414303620739439,
          -1.3847910087182327,
          0.1955830021193111,
          0.4049174783016158,
          -0.2829754583507037,
          0.838011739396502,
          1.2703377287048359,
          -2.0619906501701752,
          -1.4981690667576353,
          -1.7112228860701841,
          -0.47034477162706384,
          -0.637737291097207,
          -0.6581863024705712,
          -1.8484248869495319,
          -0.25297207420322987,
          -1.498730238182971,
          -1.0832873210696463,
          0.7686015651247761,
          -1.9785988376993036,
          0.7622892264339542,
          -0.2190104805136365,
          -0.7138553058224888,
          -0.20260034760585052,
          1.1142766590091016,
          -2.936111953861491,
          -0.07515135449588436,
          -1.5421422903782285,
          -1.142272878834587,
          -1.110933150126963,
          1.5064100692033802,
          0.21695368836427406,
          0.7435021970998392,
          -1.1458590487618259,
          0.7109330494512432,
          0.6608559956042735,
          -0.4267649333096379,
          0.8740907611704118,
          -1.3451971631908606,
          -0.5170795699452903,
          -0.8630544128632993,
          -0.25199107407956256,
          0.02748099581794078,
          -0.9091067674187974,
          -0.7012846658008495,
          -0.7920411791675391,
          0.3693919235496703,
          0.5742103826245605,
          0.03644415204349955,
          0.9997563029530769,
          0.9552985665080148,
          -0.34215278593870785,
          0.3339513677279051,
          1.5655576693735629,
          1.0762902366665126,
          -0.7682184461169863,
          -0.42461624540838383,
          0.4161402693127119,
          -0.3487367513927705,
          -0.42396814167004315,
          -0.002815425224448483,
          -0.30686775945602396,
          0.01909922190336151,
          -0.07452615113233313,
          0.6264360653888321,
          -1.3431556773879652,
          -1.4959249223308302,
          -2.6521154680026244,
          1.4629990654336873,
          -0.5736096562978921,
          -0.41118011393250464,
          -0.06421124614134084,
          -0.1398291528881255,
          -0.6919445060187562,
          0.06824080061724438,
          -1.3105951793497057,
          -0.38525562900399807,
          -1.115691087322862,
          0.43672171773252433,
          -1.9284808149353287,
          0.38751086296356646
         ],
         "yaxis": "y12"
        },
        {
         "line": {
          "color": "rgba(128, 128, 128, 1.0)",
          "dash": "solid",
          "shape": "linear",
          "width": 1.3
         },
         "marker": {
          "size": 2,
          "symbol": "circle"
         },
         "mode": "markers",
         "name": "D",
         "text": "",
         "type": "scatter",
         "x": [
          -0.607666448602811,
          1.2591769182867638,
          0.16704406418634177,
          0.9887082751879337,
          0.42050690141106456,
          -0.2809674912610298,
          1.4205748844371253,
          -0.16218921393075963,
          0.5295790871081705,
          -0.4205995210823767,
          -0.16337781840683835,
          0.16759853031741256,
          -0.2809880800221108,
          0.45200515671738956,
          -0.7963631441160887,
          0.008124987817348458,
          -0.9653504552870982,
          -0.9223975905420754,
          1.697503764122202,
          -1.1326697096648621,
          0.5441315200764606,
          -1.4327221815783646,
          0.2796380060554141,
          -0.8128388054259313,
          -1.1827094987732283,
          0.9192838701288726,
          0.005031233926596609,
          0.4940789532190036,
          1.5199810486972711,
          -0.8443998734201372,
          -0.08104192992591111,
          1.6689329486978688,
          -0.7571977288571777,
          -0.8487031498216203,
          -0.07545251039014507,
          -0.09434513820899024,
          -0.41232256357512964,
          0.14336373331713348,
          -0.8541159147546175,
          -0.46384088394405887,
          -1.412249499680568,
          -1.0851655338041877,
          0.6879094601966855,
          -0.6694324921369627,
          -0.03363857785329403,
          0.5387086499714225,
          0.16160180831572146,
          -0.45427480880416693,
          -0.8902462437574454,
          2.1421316555307204,
          -0.28571217204710714,
          2.7785629257632722,
          0.6188425456596433,
          -2.459254026768631,
          0.09684266173917931,
          1.8786280821248922,
          0.5593105388098913,
          0.26783741562958696,
          -1.2984375511279334,
          1.1011962236341868,
          0.45296418473280115,
          -0.5321941924939583,
          0.753939474413834,
          0.9500785265544965,
          1.0899664761916448,
          -1.467471011712826,
          -1.8417320806426902,
          1.338367980687843,
          -1.5162371572164843,
          0.8077958820276738,
          0.05796809642764383,
          -0.7442463436578459,
          0.32199607754326404,
          -0.07641715190381224,
          1.271974510389658,
          1.2110829413589757,
          -0.2952254419337832,
          -1.4838594863846635,
          2.0037350196859847,
          0.7641245546427664,
          1.1687512590371492,
          1.0290682142963403,
          0.5227913621549826,
          0.07140529149204715,
          0.7725409413533701,
          0.5141137105114424,
          0.7331364742667712,
          -1.4336782221613382,
          -0.10001428221531719,
          -0.7328017258110671,
          1.9666060051841314,
          -1.1631585459816023,
          0.8406467869926779,
          -1.4210030180588464,
          -1.86072837927215,
          0.5640046352845078,
          2.383701139672665,
          2.476332563313472,
          -0.5353887528785137,
          0.7258828223322248
         ],
         "xaxis": "x13",
         "y": [
          -0.6330078646998142,
          1.8140756335916555,
          -0.5835976045612592,
          -0.5641200148384549,
          -0.7113091036630851,
          0.5792715905614506,
          0.06557156890941346,
          0.050892636683272714,
          -0.8450805527038645,
          1.064068924147688,
          0.7056144359183899,
          -1.168973900334623,
          -0.11805109594065305,
          0.9251690717019997,
          -1.2894179858161674,
          -0.2775137876890778,
          -1.2521398241852149,
          0.6443885338330175,
          -1.3381094353429026,
          -0.6897537677570175,
          1.012539735673264,
          -0.7522475874313775,
          -0.4430646307150996,
          1.9831136976064792,
          -0.676678887365719,
          -0.2787947880912225,
          -1.4083208568976933,
          0.14019093468472557,
          0.5024706033789321,
          0.16516639285817306,
          1.2377049506972744,
          -1.6949187806594332,
          1.5415432918094552,
          1.6301678015258994,
          -1.1027559176738229,
          0.43357549396542233,
          1.2057464481430542,
          1.4696617273324206,
          0.6454066869364494,
          1.1103842739308352,
          0.2782456366771006,
          1.4297506852056028,
          -0.3048720664044912,
          0.19743546709858048,
          0.4784536517243281,
          -2.2223271852837856,
          -3.259381690438617,
          0.8721078585324115,
          -0.311912960665354,
          0.24970857071647337,
          -1.5912285869615286,
          -0.8145442555583446,
          0.37345909865248417,
          1.9336074172114501,
          -0.06876507854781654,
          0.08994599336495115,
          -1.2537818517856754,
          0.6791236156070609,
          -1.3601721763062147,
          0.8390733341372618,
          -0.13429825334273918,
          0.24087589381874666,
          1.0058785258670269,
          0.04401529704545266,
          -0.41683670631106706,
          0.77092327971203,
          -0.4584395283092104,
          -0.39110690228463174,
          0.7150226306317401,
          -0.06417182112554029,
          0.3950100035740469,
          0.6025754048569935,
          0.07177701542208834,
          -0.29920082731233383,
          -0.4603566842574775,
          -1.6597335636166832,
          -0.21258830391543462,
          -0.38892128078710536,
          -0.6161632528144666,
          -0.05716896211311977,
          0.3509399386112978,
          0.8757909970253571,
          -0.11265943297298331,
          0.4014272056011246,
          0.4933027408475595,
          -0.9893768125723018,
          0.9029758053521423,
          0.9983313711827291,
          -0.31683343254947205,
          2.023820871281636,
          -0.37294509964931855,
          2.2158104756101307,
          -0.7753867534333052,
          -1.2600278190322325,
          -1.3358500870657253,
          1.8181432420037171,
          -1.181590578304687,
          0.7556440663108855,
          1.5940854331575334,
          0.7061877381941765
         ],
         "yaxis": "y13"
        },
        {
         "line": {
          "color": "rgba(128, 128, 128, 1.0)",
          "dash": "solid",
          "shape": "linear",
          "width": 1.3
         },
         "marker": {
          "size": 2,
          "symbol": "circle"
         },
         "mode": "markers",
         "name": "D",
         "text": "",
         "type": "scatter",
         "x": [
          0.031207682244617542,
          -0.9935482997534674,
          -1.2387163161907424,
          0.3126411229606882,
          -1.5891470111710775,
          0.07635814487302482,
          1.1923987298056264,
          -0.8112752331427182,
          0.3753696679604892,
          -1.1313144154052281,
          0.9605575351846121,
          -0.8227810207976046,
          0.3058696253813466,
          -0.062392383027024545,
          0.0914039951082883,
          1.569963638523854,
          -1.3209111992992464,
          -0.505404772341623,
          0.4469060588185499,
          0.338681444519608,
          0.4277500034434874,
          1.8118096469110234,
          -2.707892546203596,
          -1.246823143817817,
          -1.5087041797641172,
          0.48159850639528023,
          0.4002490260967725,
          0.5102053066593562,
          0.012675404040215244,
          -0.5505153478806513,
          0.142701498010046,
          -1.370584934091697,
          -0.465276852037582,
          -0.6267239674553973,
          -0.2646699056244561,
          1.0875368856352667,
          -1.434404032497129,
          1.4109414962819065,
          0.9235522288718865,
          -0.5119719562560471,
          -0.6976977102703348,
          0.5747329306441911,
          -0.8956614256141748,
          1.1857860513489715,
          -1.9548308830495846,
          -1.1367997870862887,
          2.061070273949067,
          0.6588214122709168,
          0.4410322351607642,
          -0.48796022081817403,
          1.6053822576254855,
          -0.3140314095170499,
          -0.09124804505842249,
          1.3484214515162485,
          0.32727035641686286,
          0.22129713953336863,
          -0.6223804442822951,
          -0.8857002347557834,
          -1.3851516630852694,
          0.6308690956117835,
          0.8271598452053652,
          -1.1279541070033732,
          -0.05344314824258955,
          -0.37069948428920874,
          0.9465741701628043,
          0.4009643109576281,
          -1.2132942383142324,
          -1.1541141737765865,
          -0.29247553216184013,
          1.3722130853213,
          0.8548717018970707,
          -0.2656159662802207,
          0.22669618331868235,
          1.6083628909928163,
          0.23614029731646852,
          0.15033798028605647,
          -0.36078885714769116,
          0.5450248831544398,
          0.9577333980549713,
          0.24342093309276405,
          -1.3230510975011762,
          -0.18950658150248,
          -0.29962570025070767,
          1.2123866856004129,
          -0.32810667970458063,
          -0.23713318711384512,
          -1.1159826228709895,
          -0.18895108060257848,
          1.1585142270387017,
          -0.27584783569539345,
          -0.3346270595588554,
          -0.5131187582372946,
          0.6873100918212838,
          0.08401528306893093,
          0.0901193388465427,
          0.32770017053241934,
          1.178540724416936,
          -1.704896131930627,
          0.004174290449213629,
          0.8000408565286847
         ],
         "xaxis": "x14",
         "y": [
          -0.6330078646998142,
          1.8140756335916555,
          -0.5835976045612592,
          -0.5641200148384549,
          -0.7113091036630851,
          0.5792715905614506,
          0.06557156890941346,
          0.050892636683272714,
          -0.8450805527038645,
          1.064068924147688,
          0.7056144359183899,
          -1.168973900334623,
          -0.11805109594065305,
          0.9251690717019997,
          -1.2894179858161674,
          -0.2775137876890778,
          -1.2521398241852149,
          0.6443885338330175,
          -1.3381094353429026,
          -0.6897537677570175,
          1.012539735673264,
          -0.7522475874313775,
          -0.4430646307150996,
          1.9831136976064792,
          -0.676678887365719,
          -0.2787947880912225,
          -1.4083208568976933,
          0.14019093468472557,
          0.5024706033789321,
          0.16516639285817306,
          1.2377049506972744,
          -1.6949187806594332,
          1.5415432918094552,
          1.6301678015258994,
          -1.1027559176738229,
          0.43357549396542233,
          1.2057464481430542,
          1.4696617273324206,
          0.6454066869364494,
          1.1103842739308352,
          0.2782456366771006,
          1.4297506852056028,
          -0.3048720664044912,
          0.19743546709858048,
          0.4784536517243281,
          -2.2223271852837856,
          -3.259381690438617,
          0.8721078585324115,
          -0.311912960665354,
          0.24970857071647337,
          -1.5912285869615286,
          -0.8145442555583446,
          0.37345909865248417,
          1.9336074172114501,
          -0.06876507854781654,
          0.08994599336495115,
          -1.2537818517856754,
          0.6791236156070609,
          -1.3601721763062147,
          0.8390733341372618,
          -0.13429825334273918,
          0.24087589381874666,
          1.0058785258670269,
          0.04401529704545266,
          -0.41683670631106706,
          0.77092327971203,
          -0.4584395283092104,
          -0.39110690228463174,
          0.7150226306317401,
          -0.06417182112554029,
          0.3950100035740469,
          0.6025754048569935,
          0.07177701542208834,
          -0.29920082731233383,
          -0.4603566842574775,
          -1.6597335636166832,
          -0.21258830391543462,
          -0.38892128078710536,
          -0.6161632528144666,
          -0.05716896211311977,
          0.3509399386112978,
          0.8757909970253571,
          -0.11265943297298331,
          0.4014272056011246,
          0.4933027408475595,
          -0.9893768125723018,
          0.9029758053521423,
          0.9983313711827291,
          -0.31683343254947205,
          2.023820871281636,
          -0.37294509964931855,
          2.2158104756101307,
          -0.7753867534333052,
          -1.2600278190322325,
          -1.3358500870657253,
          1.8181432420037171,
          -1.181590578304687,
          0.7556440663108855,
          1.5940854331575334,
          0.7061877381941765
         ],
         "yaxis": "y14"
        },
        {
         "line": {
          "color": "rgba(128, 128, 128, 1.0)",
          "dash": "solid",
          "shape": "linear",
          "width": 1.3
         },
         "marker": {
          "size": 2,
          "symbol": "circle"
         },
         "mode": "markers",
         "name": "D",
         "text": "",
         "type": "scatter",
         "x": [
          1.4489903556936925,
          0.9569146937059532,
          -1.0876396619061846,
          -0.8825336651551515,
          -0.8423240070023791,
          -0.4272107463195657,
          -1.0045630781628048,
          0.0429394511243209,
          -0.7148729467758064,
          -0.7789949477790704,
          -0.9191832504312808,
          -1.384802499135036,
          0.7403815312751256,
          0.12790428966569284,
          -0.876598463396739,
          0.46459743153905897,
          2.2945103309610206,
          0.9190764259753557,
          -1.0347445864486673,
          0.7897574525971488,
          0.3414303620739439,
          -1.3847910087182327,
          0.1955830021193111,
          0.4049174783016158,
          -0.2829754583507037,
          0.838011739396502,
          1.2703377287048359,
          -2.0619906501701752,
          -1.4981690667576353,
          -1.7112228860701841,
          -0.47034477162706384,
          -0.637737291097207,
          -0.6581863024705712,
          -1.8484248869495319,
          -0.25297207420322987,
          -1.498730238182971,
          -1.0832873210696463,
          0.7686015651247761,
          -1.9785988376993036,
          0.7622892264339542,
          -0.2190104805136365,
          -0.7138553058224888,
          -0.20260034760585052,
          1.1142766590091016,
          -2.936111953861491,
          -0.07515135449588436,
          -1.5421422903782285,
          -1.142272878834587,
          -1.110933150126963,
          1.5064100692033802,
          0.21695368836427406,
          0.7435021970998392,
          -1.1458590487618259,
          0.7109330494512432,
          0.6608559956042735,
          -0.4267649333096379,
          0.8740907611704118,
          -1.3451971631908606,
          -0.5170795699452903,
          -0.8630544128632993,
          -0.25199107407956256,
          0.02748099581794078,
          -0.9091067674187974,
          -0.7012846658008495,
          -0.7920411791675391,
          0.3693919235496703,
          0.5742103826245605,
          0.03644415204349955,
          0.9997563029530769,
          0.9552985665080148,
          -0.34215278593870785,
          0.3339513677279051,
          1.5655576693735629,
          1.0762902366665126,
          -0.7682184461169863,
          -0.42461624540838383,
          0.4161402693127119,
          -0.3487367513927705,
          -0.42396814167004315,
          -0.002815425224448483,
          -0.30686775945602396,
          0.01909922190336151,
          -0.07452615113233313,
          0.6264360653888321,
          -1.3431556773879652,
          -1.4959249223308302,
          -2.6521154680026244,
          1.4629990654336873,
          -0.5736096562978921,
          -0.41118011393250464,
          -0.06421124614134084,
          -0.1398291528881255,
          -0.6919445060187562,
          0.06824080061724438,
          -1.3105951793497057,
          -0.38525562900399807,
          -1.115691087322862,
          0.43672171773252433,
          -1.9284808149353287,
          0.38751086296356646
         ],
         "xaxis": "x15",
         "y": [
          -0.6330078646998142,
          1.8140756335916555,
          -0.5835976045612592,
          -0.5641200148384549,
          -0.7113091036630851,
          0.5792715905614506,
          0.06557156890941346,
          0.050892636683272714,
          -0.8450805527038645,
          1.064068924147688,
          0.7056144359183899,
          -1.168973900334623,
          -0.11805109594065305,
          0.9251690717019997,
          -1.2894179858161674,
          -0.2775137876890778,
          -1.2521398241852149,
          0.6443885338330175,
          -1.3381094353429026,
          -0.6897537677570175,
          1.012539735673264,
          -0.7522475874313775,
          -0.4430646307150996,
          1.9831136976064792,
          -0.676678887365719,
          -0.2787947880912225,
          -1.4083208568976933,
          0.14019093468472557,
          0.5024706033789321,
          0.16516639285817306,
          1.2377049506972744,
          -1.6949187806594332,
          1.5415432918094552,
          1.6301678015258994,
          -1.1027559176738229,
          0.43357549396542233,
          1.2057464481430542,
          1.4696617273324206,
          0.6454066869364494,
          1.1103842739308352,
          0.2782456366771006,
          1.4297506852056028,
          -0.3048720664044912,
          0.19743546709858048,
          0.4784536517243281,
          -2.2223271852837856,
          -3.259381690438617,
          0.8721078585324115,
          -0.311912960665354,
          0.24970857071647337,
          -1.5912285869615286,
          -0.8145442555583446,
          0.37345909865248417,
          1.9336074172114501,
          -0.06876507854781654,
          0.08994599336495115,
          -1.2537818517856754,
          0.6791236156070609,
          -1.3601721763062147,
          0.8390733341372618,
          -0.13429825334273918,
          0.24087589381874666,
          1.0058785258670269,
          0.04401529704545266,
          -0.41683670631106706,
          0.77092327971203,
          -0.4584395283092104,
          -0.39110690228463174,
          0.7150226306317401,
          -0.06417182112554029,
          0.3950100035740469,
          0.6025754048569935,
          0.07177701542208834,
          -0.29920082731233383,
          -0.4603566842574775,
          -1.6597335636166832,
          -0.21258830391543462,
          -0.38892128078710536,
          -0.6161632528144666,
          -0.05716896211311977,
          0.3509399386112978,
          0.8757909970253571,
          -0.11265943297298331,
          0.4014272056011246,
          0.4933027408475595,
          -0.9893768125723018,
          0.9029758053521423,
          0.9983313711827291,
          -0.31683343254947205,
          2.023820871281636,
          -0.37294509964931855,
          2.2158104756101307,
          -0.7753867534333052,
          -1.2600278190322325,
          -1.3358500870657253,
          1.8181432420037171,
          -1.181590578304687,
          0.7556440663108855,
          1.5940854331575334,
          0.7061877381941765
         ],
         "yaxis": "y15"
        },
        {
         "histfunc": "count",
         "histnorm": "",
         "marker": {
          "color": "rgba(128, 0, 128, 1.0)",
          "line": {
           "color": "#4D5663",
           "width": 1.3
          }
         },
         "name": "D",
         "nbinsx": 10,
         "opacity": 0.8,
         "orientation": "v",
         "type": "histogram",
         "x": [
          -0.6330078646998142,
          1.8140756335916555,
          -0.5835976045612592,
          -0.5641200148384549,
          -0.7113091036630851,
          0.5792715905614506,
          0.06557156890941346,
          0.050892636683272714,
          -0.8450805527038645,
          1.064068924147688,
          0.7056144359183899,
          -1.168973900334623,
          -0.11805109594065305,
          0.9251690717019997,
          -1.2894179858161674,
          -0.2775137876890778,
          -1.2521398241852149,
          0.6443885338330175,
          -1.3381094353429026,
          -0.6897537677570175,
          1.012539735673264,
          -0.7522475874313775,
          -0.4430646307150996,
          1.9831136976064792,
          -0.676678887365719,
          -0.2787947880912225,
          -1.4083208568976933,
          0.14019093468472557,
          0.5024706033789321,
          0.16516639285817306,
          1.2377049506972744,
          -1.6949187806594332,
          1.5415432918094552,
          1.6301678015258994,
          -1.1027559176738229,
          0.43357549396542233,
          1.2057464481430542,
          1.4696617273324206,
          0.6454066869364494,
          1.1103842739308352,
          0.2782456366771006,
          1.4297506852056028,
          -0.3048720664044912,
          0.19743546709858048,
          0.4784536517243281,
          -2.2223271852837856,
          -3.259381690438617,
          0.8721078585324115,
          -0.311912960665354,
          0.24970857071647337,
          -1.5912285869615286,
          -0.8145442555583446,
          0.37345909865248417,
          1.9336074172114501,
          -0.06876507854781654,
          0.08994599336495115,
          -1.2537818517856754,
          0.6791236156070609,
          -1.3601721763062147,
          0.8390733341372618,
          -0.13429825334273918,
          0.24087589381874666,
          1.0058785258670269,
          0.04401529704545266,
          -0.41683670631106706,
          0.77092327971203,
          -0.4584395283092104,
          -0.39110690228463174,
          0.7150226306317401,
          -0.06417182112554029,
          0.3950100035740469,
          0.6025754048569935,
          0.07177701542208834,
          -0.29920082731233383,
          -0.4603566842574775,
          -1.6597335636166832,
          -0.21258830391543462,
          -0.38892128078710536,
          -0.6161632528144666,
          -0.05716896211311977,
          0.3509399386112978,
          0.8757909970253571,
          -0.11265943297298331,
          0.4014272056011246,
          0.4933027408475595,
          -0.9893768125723018,
          0.9029758053521423,
          0.9983313711827291,
          -0.31683343254947205,
          2.023820871281636,
          -0.37294509964931855,
          2.2158104756101307,
          -0.7753867534333052,
          -1.2600278190322325,
          -1.3358500870657253,
          1.8181432420037171,
          -1.181590578304687,
          0.7556440663108855,
          1.5940854331575334,
          0.7061877381941765
         ],
         "xaxis": "x16",
         "yaxis": "y16"
        }
       ],
       "layout": {
        "bargap": 0.02,
        "legend": {
         "bgcolor": "#F5F6F9",
         "font": {
          "color": "#4D5663"
         }
        },
        "paper_bgcolor": "#F5F6F9",
        "plot_bgcolor": "#F5F6F9",
        "showlegend": false,
        "template": {
         "data": {
          "bar": [
           {
            "error_x": {
             "color": "#2a3f5f"
            },
            "error_y": {
             "color": "#2a3f5f"
            },
            "marker": {
             "line": {
              "color": "#E5ECF6",
              "width": 0.5
             }
            },
            "type": "bar"
           }
          ],
          "barpolar": [
           {
            "marker": {
             "line": {
              "color": "#E5ECF6",
              "width": 0.5
             }
            },
            "type": "barpolar"
           }
          ],
          "carpet": [
           {
            "aaxis": {
             "endlinecolor": "#2a3f5f",
             "gridcolor": "white",
             "linecolor": "white",
             "minorgridcolor": "white",
             "startlinecolor": "#2a3f5f"
            },
            "baxis": {
             "endlinecolor": "#2a3f5f",
             "gridcolor": "white",
             "linecolor": "white",
             "minorgridcolor": "white",
             "startlinecolor": "#2a3f5f"
            },
            "type": "carpet"
           }
          ],
          "choropleth": [
           {
            "colorbar": {
             "outlinewidth": 0,
             "ticks": ""
            },
            "type": "choropleth"
           }
          ],
          "contour": [
           {
            "colorbar": {
             "outlinewidth": 0,
             "ticks": ""
            },
            "colorscale": [
             [
              0,
              "#0d0887"
             ],
             [
              0.1111111111111111,
              "#46039f"
             ],
             [
              0.2222222222222222,
              "#7201a8"
             ],
             [
              0.3333333333333333,
              "#9c179e"
             ],
             [
              0.4444444444444444,
              "#bd3786"
             ],
             [
              0.5555555555555556,
              "#d8576b"
             ],
             [
              0.6666666666666666,
              "#ed7953"
             ],
             [
              0.7777777777777778,
              "#fb9f3a"
             ],
             [
              0.8888888888888888,
              "#fdca26"
             ],
             [
              1,
              "#f0f921"
             ]
            ],
            "type": "contour"
           }
          ],
          "contourcarpet": [
           {
            "colorbar": {
             "outlinewidth": 0,
             "ticks": ""
            },
            "type": "contourcarpet"
           }
          ],
          "heatmap": [
           {
            "colorbar": {
             "outlinewidth": 0,
             "ticks": ""
            },
            "colorscale": [
             [
              0,
              "#0d0887"
             ],
             [
              0.1111111111111111,
              "#46039f"
             ],
             [
              0.2222222222222222,
              "#7201a8"
             ],
             [
              0.3333333333333333,
              "#9c179e"
             ],
             [
              0.4444444444444444,
              "#bd3786"
             ],
             [
              0.5555555555555556,
              "#d8576b"
             ],
             [
              0.6666666666666666,
              "#ed7953"
             ],
             [
              0.7777777777777778,
              "#fb9f3a"
             ],
             [
              0.8888888888888888,
              "#fdca26"
             ],
             [
              1,
              "#f0f921"
             ]
            ],
            "type": "heatmap"
           }
          ],
          "heatmapgl": [
           {
            "colorbar": {
             "outlinewidth": 0,
             "ticks": ""
            },
            "colorscale": [
             [
              0,
              "#0d0887"
             ],
             [
              0.1111111111111111,
              "#46039f"
             ],
             [
              0.2222222222222222,
              "#7201a8"
             ],
             [
              0.3333333333333333,
              "#9c179e"
             ],
             [
              0.4444444444444444,
              "#bd3786"
             ],
             [
              0.5555555555555556,
              "#d8576b"
             ],
             [
              0.6666666666666666,
              "#ed7953"
             ],
             [
              0.7777777777777778,
              "#fb9f3a"
             ],
             [
              0.8888888888888888,
              "#fdca26"
             ],
             [
              1,
              "#f0f921"
             ]
            ],
            "type": "heatmapgl"
           }
          ],
          "histogram": [
           {
            "marker": {
             "colorbar": {
              "outlinewidth": 0,
              "ticks": ""
             }
            },
            "type": "histogram"
           }
          ],
          "histogram2d": [
           {
            "colorbar": {
             "outlinewidth": 0,
             "ticks": ""
            },
            "colorscale": [
             [
              0,
              "#0d0887"
             ],
             [
              0.1111111111111111,
              "#46039f"
             ],
             [
              0.2222222222222222,
              "#7201a8"
             ],
             [
              0.3333333333333333,
              "#9c179e"
             ],
             [
              0.4444444444444444,
              "#bd3786"
             ],
             [
              0.5555555555555556,
              "#d8576b"
             ],
             [
              0.6666666666666666,
              "#ed7953"
             ],
             [
              0.7777777777777778,
              "#fb9f3a"
             ],
             [
              0.8888888888888888,
              "#fdca26"
             ],
             [
              1,
              "#f0f921"
             ]
            ],
            "type": "histogram2d"
           }
          ],
          "histogram2dcontour": [
           {
            "colorbar": {
             "outlinewidth": 0,
             "ticks": ""
            },
            "colorscale": [
             [
              0,
              "#0d0887"
             ],
             [
              0.1111111111111111,
              "#46039f"
             ],
             [
              0.2222222222222222,
              "#7201a8"
             ],
             [
              0.3333333333333333,
              "#9c179e"
             ],
             [
              0.4444444444444444,
              "#bd3786"
             ],
             [
              0.5555555555555556,
              "#d8576b"
             ],
             [
              0.6666666666666666,
              "#ed7953"
             ],
             [
              0.7777777777777778,
              "#fb9f3a"
             ],
             [
              0.8888888888888888,
              "#fdca26"
             ],
             [
              1,
              "#f0f921"
             ]
            ],
            "type": "histogram2dcontour"
           }
          ],
          "mesh3d": [
           {
            "colorbar": {
             "outlinewidth": 0,
             "ticks": ""
            },
            "type": "mesh3d"
           }
          ],
          "parcoords": [
           {
            "line": {
             "colorbar": {
              "outlinewidth": 0,
              "ticks": ""
             }
            },
            "type": "parcoords"
           }
          ],
          "pie": [
           {
            "automargin": true,
            "type": "pie"
           }
          ],
          "scatter": [
           {
            "marker": {
             "colorbar": {
              "outlinewidth": 0,
              "ticks": ""
             }
            },
            "type": "scatter"
           }
          ],
          "scatter3d": [
           {
            "line": {
             "colorbar": {
              "outlinewidth": 0,
              "ticks": ""
             }
            },
            "marker": {
             "colorbar": {
              "outlinewidth": 0,
              "ticks": ""
             }
            },
            "type": "scatter3d"
           }
          ],
          "scattercarpet": [
           {
            "marker": {
             "colorbar": {
              "outlinewidth": 0,
              "ticks": ""
             }
            },
            "type": "scattercarpet"
           }
          ],
          "scattergeo": [
           {
            "marker": {
             "colorbar": {
              "outlinewidth": 0,
              "ticks": ""
             }
            },
            "type": "scattergeo"
           }
          ],
          "scattergl": [
           {
            "marker": {
             "colorbar": {
              "outlinewidth": 0,
              "ticks": ""
             }
            },
            "type": "scattergl"
           }
          ],
          "scattermapbox": [
           {
            "marker": {
             "colorbar": {
              "outlinewidth": 0,
              "ticks": ""
             }
            },
            "type": "scattermapbox"
           }
          ],
          "scatterpolar": [
           {
            "marker": {
             "colorbar": {
              "outlinewidth": 0,
              "ticks": ""
             }
            },
            "type": "scatterpolar"
           }
          ],
          "scatterpolargl": [
           {
            "marker": {
             "colorbar": {
              "outlinewidth": 0,
              "ticks": ""
             }
            },
            "type": "scatterpolargl"
           }
          ],
          "scatterternary": [
           {
            "marker": {
             "colorbar": {
              "outlinewidth": 0,
              "ticks": ""
             }
            },
            "type": "scatterternary"
           }
          ],
          "surface": [
           {
            "colorbar": {
             "outlinewidth": 0,
             "ticks": ""
            },
            "colorscale": [
             [
              0,
              "#0d0887"
             ],
             [
              0.1111111111111111,
              "#46039f"
             ],
             [
              0.2222222222222222,
              "#7201a8"
             ],
             [
              0.3333333333333333,
              "#9c179e"
             ],
             [
              0.4444444444444444,
              "#bd3786"
             ],
             [
              0.5555555555555556,
              "#d8576b"
             ],
             [
              0.6666666666666666,
              "#ed7953"
             ],
             [
              0.7777777777777778,
              "#fb9f3a"
             ],
             [
              0.8888888888888888,
              "#fdca26"
             ],
             [
              1,
              "#f0f921"
             ]
            ],
            "type": "surface"
           }
          ],
          "table": [
           {
            "cells": {
             "fill": {
              "color": "#EBF0F8"
             },
             "line": {
              "color": "white"
             }
            },
            "header": {
             "fill": {
              "color": "#C8D4E3"
             },
             "line": {
              "color": "white"
             }
            },
            "type": "table"
           }
          ]
         },
         "layout": {
          "annotationdefaults": {
           "arrowcolor": "#2a3f5f",
           "arrowhead": 0,
           "arrowwidth": 1
          },
          "autotypenumbers": "strict",
          "coloraxis": {
           "colorbar": {
            "outlinewidth": 0,
            "ticks": ""
           }
          },
          "colorscale": {
           "diverging": [
            [
             0,
             "#8e0152"
            ],
            [
             0.1,
             "#c51b7d"
            ],
            [
             0.2,
             "#de77ae"
            ],
            [
             0.3,
             "#f1b6da"
            ],
            [
             0.4,
             "#fde0ef"
            ],
            [
             0.5,
             "#f7f7f7"
            ],
            [
             0.6,
             "#e6f5d0"
            ],
            [
             0.7,
             "#b8e186"
            ],
            [
             0.8,
             "#7fbc41"
            ],
            [
             0.9,
             "#4d9221"
            ],
            [
             1,
             "#276419"
            ]
           ],
           "sequential": [
            [
             0,
             "#0d0887"
            ],
            [
             0.1111111111111111,
             "#46039f"
            ],
            [
             0.2222222222222222,
             "#7201a8"
            ],
            [
             0.3333333333333333,
             "#9c179e"
            ],
            [
             0.4444444444444444,
             "#bd3786"
            ],
            [
             0.5555555555555556,
             "#d8576b"
            ],
            [
             0.6666666666666666,
             "#ed7953"
            ],
            [
             0.7777777777777778,
             "#fb9f3a"
            ],
            [
             0.8888888888888888,
             "#fdca26"
            ],
            [
             1,
             "#f0f921"
            ]
           ],
           "sequentialminus": [
            [
             0,
             "#0d0887"
            ],
            [
             0.1111111111111111,
             "#46039f"
            ],
            [
             0.2222222222222222,
             "#7201a8"
            ],
            [
             0.3333333333333333,
             "#9c179e"
            ],
            [
             0.4444444444444444,
             "#bd3786"
            ],
            [
             0.5555555555555556,
             "#d8576b"
            ],
            [
             0.6666666666666666,
             "#ed7953"
            ],
            [
             0.7777777777777778,
             "#fb9f3a"
            ],
            [
             0.8888888888888888,
             "#fdca26"
            ],
            [
             1,
             "#f0f921"
            ]
           ]
          },
          "colorway": [
           "#636efa",
           "#EF553B",
           "#00cc96",
           "#ab63fa",
           "#FFA15A",
           "#19d3f3",
           "#FF6692",
           "#B6E880",
           "#FF97FF",
           "#FECB52"
          ],
          "font": {
           "color": "#2a3f5f"
          },
          "geo": {
           "bgcolor": "white",
           "lakecolor": "white",
           "landcolor": "#E5ECF6",
           "showlakes": true,
           "showland": true,
           "subunitcolor": "white"
          },
          "hoverlabel": {
           "align": "left"
          },
          "hovermode": "closest",
          "mapbox": {
           "style": "light"
          },
          "paper_bgcolor": "white",
          "plot_bgcolor": "#E5ECF6",
          "polar": {
           "angularaxis": {
            "gridcolor": "white",
            "linecolor": "white",
            "ticks": ""
           },
           "bgcolor": "#E5ECF6",
           "radialaxis": {
            "gridcolor": "white",
            "linecolor": "white",
            "ticks": ""
           }
          },
          "scene": {
           "xaxis": {
            "backgroundcolor": "#E5ECF6",
            "gridcolor": "white",
            "gridwidth": 2,
            "linecolor": "white",
            "showbackground": true,
            "ticks": "",
            "zerolinecolor": "white"
           },
           "yaxis": {
            "backgroundcolor": "#E5ECF6",
            "gridcolor": "white",
            "gridwidth": 2,
            "linecolor": "white",
            "showbackground": true,
            "ticks": "",
            "zerolinecolor": "white"
           },
           "zaxis": {
            "backgroundcolor": "#E5ECF6",
            "gridcolor": "white",
            "gridwidth": 2,
            "linecolor": "white",
            "showbackground": true,
            "ticks": "",
            "zerolinecolor": "white"
           }
          },
          "shapedefaults": {
           "line": {
            "color": "#2a3f5f"
           }
          },
          "ternary": {
           "aaxis": {
            "gridcolor": "white",
            "linecolor": "white",
            "ticks": ""
           },
           "baxis": {
            "gridcolor": "white",
            "linecolor": "white",
            "ticks": ""
           },
           "bgcolor": "#E5ECF6",
           "caxis": {
            "gridcolor": "white",
            "linecolor": "white",
            "ticks": ""
           }
          },
          "title": {
           "x": 0.05
          },
          "xaxis": {
           "automargin": true,
           "gridcolor": "white",
           "linecolor": "white",
           "ticks": "",
           "title": {
            "standoff": 15
           },
           "zerolinecolor": "white",
           "zerolinewidth": 2
          },
          "yaxis": {
           "automargin": true,
           "gridcolor": "white",
           "linecolor": "white",
           "ticks": "",
           "title": {
            "standoff": 15
           },
           "zerolinecolor": "white",
           "zerolinewidth": 2
          }
         }
        },
        "title": {
         "font": {
          "color": "#4D5663"
         }
        },
        "xaxis": {
         "anchor": "y",
         "domain": [
          0,
          0.2125
         ],
         "gridcolor": "#E1E5ED",
         "showgrid": false,
         "tickfont": {
          "color": "#4D5663"
         },
         "title": {
          "font": {
           "color": "#4D5663"
          },
          "text": ""
         },
         "zerolinecolor": "#E1E5ED"
        },
        "xaxis10": {
         "anchor": "y10",
         "domain": [
          0.2625,
          0.475
         ],
         "gridcolor": "#E1E5ED",
         "showgrid": false,
         "tickfont": {
          "color": "#4D5663"
         },
         "title": {
          "font": {
           "color": "#4D5663"
          },
          "text": ""
         },
         "zerolinecolor": "#E1E5ED"
        },
        "xaxis11": {
         "anchor": "y11",
         "domain": [
          0.525,
          0.7375
         ],
         "gridcolor": "#E1E5ED",
         "showgrid": false,
         "tickfont": {
          "color": "#4D5663"
         },
         "title": {
          "font": {
           "color": "#4D5663"
          },
          "text": ""
         },
         "zerolinecolor": "#E1E5ED"
        },
        "xaxis12": {
         "anchor": "y12",
         "domain": [
          0.7875,
          1
         ],
         "gridcolor": "#E1E5ED",
         "showgrid": false,
         "tickfont": {
          "color": "#4D5663"
         },
         "title": {
          "font": {
           "color": "#4D5663"
          },
          "text": ""
         },
         "zerolinecolor": "#E1E5ED"
        },
        "xaxis13": {
         "anchor": "y13",
         "domain": [
          0,
          0.2125
         ],
         "gridcolor": "#E1E5ED",
         "showgrid": false,
         "tickfont": {
          "color": "#4D5663"
         },
         "title": {
          "font": {
           "color": "#4D5663"
          },
          "text": ""
         },
         "zerolinecolor": "#E1E5ED"
        },
        "xaxis14": {
         "anchor": "y14",
         "domain": [
          0.2625,
          0.475
         ],
         "gridcolor": "#E1E5ED",
         "showgrid": false,
         "tickfont": {
          "color": "#4D5663"
         },
         "title": {
          "font": {
           "color": "#4D5663"
          },
          "text": ""
         },
         "zerolinecolor": "#E1E5ED"
        },
        "xaxis15": {
         "anchor": "y15",
         "domain": [
          0.525,
          0.7375
         ],
         "gridcolor": "#E1E5ED",
         "showgrid": false,
         "tickfont": {
          "color": "#4D5663"
         },
         "title": {
          "font": {
           "color": "#4D5663"
          },
          "text": ""
         },
         "zerolinecolor": "#E1E5ED"
        },
        "xaxis16": {
         "anchor": "y16",
         "domain": [
          0.7875,
          1
         ],
         "gridcolor": "#E1E5ED",
         "showgrid": false,
         "tickfont": {
          "color": "#4D5663"
         },
         "title": {
          "font": {
           "color": "#4D5663"
          },
          "text": ""
         },
         "zerolinecolor": "#E1E5ED"
        },
        "xaxis2": {
         "anchor": "y2",
         "domain": [
          0.2625,
          0.475
         ],
         "gridcolor": "#E1E5ED",
         "showgrid": false,
         "tickfont": {
          "color": "#4D5663"
         },
         "title": {
          "font": {
           "color": "#4D5663"
          },
          "text": ""
         },
         "zerolinecolor": "#E1E5ED"
        },
        "xaxis3": {
         "anchor": "y3",
         "domain": [
          0.525,
          0.7375
         ],
         "gridcolor": "#E1E5ED",
         "showgrid": false,
         "tickfont": {
          "color": "#4D5663"
         },
         "title": {
          "font": {
           "color": "#4D5663"
          },
          "text": ""
         },
         "zerolinecolor": "#E1E5ED"
        },
        "xaxis4": {
         "anchor": "y4",
         "domain": [
          0.7875,
          1
         ],
         "gridcolor": "#E1E5ED",
         "showgrid": false,
         "tickfont": {
          "color": "#4D5663"
         },
         "title": {
          "font": {
           "color": "#4D5663"
          },
          "text": ""
         },
         "zerolinecolor": "#E1E5ED"
        },
        "xaxis5": {
         "anchor": "y5",
         "domain": [
          0,
          0.2125
         ],
         "gridcolor": "#E1E5ED",
         "showgrid": false,
         "tickfont": {
          "color": "#4D5663"
         },
         "title": {
          "font": {
           "color": "#4D5663"
          },
          "text": ""
         },
         "zerolinecolor": "#E1E5ED"
        },
        "xaxis6": {
         "anchor": "y6",
         "domain": [
          0.2625,
          0.475
         ],
         "gridcolor": "#E1E5ED",
         "showgrid": false,
         "tickfont": {
          "color": "#4D5663"
         },
         "title": {
          "font": {
           "color": "#4D5663"
          },
          "text": ""
         },
         "zerolinecolor": "#E1E5ED"
        },
        "xaxis7": {
         "anchor": "y7",
         "domain": [
          0.525,
          0.7375
         ],
         "gridcolor": "#E1E5ED",
         "showgrid": false,
         "tickfont": {
          "color": "#4D5663"
         },
         "title": {
          "font": {
           "color": "#4D5663"
          },
          "text": ""
         },
         "zerolinecolor": "#E1E5ED"
        },
        "xaxis8": {
         "anchor": "y8",
         "domain": [
          0.7875,
          1
         ],
         "gridcolor": "#E1E5ED",
         "showgrid": false,
         "tickfont": {
          "color": "#4D5663"
         },
         "title": {
          "font": {
           "color": "#4D5663"
          },
          "text": ""
         },
         "zerolinecolor": "#E1E5ED"
        },
        "xaxis9": {
         "anchor": "y9",
         "domain": [
          0,
          0.2125
         ],
         "gridcolor": "#E1E5ED",
         "showgrid": false,
         "tickfont": {
          "color": "#4D5663"
         },
         "title": {
          "font": {
           "color": "#4D5663"
          },
          "text": ""
         },
         "zerolinecolor": "#E1E5ED"
        },
        "yaxis": {
         "anchor": "x",
         "domain": [
          0.8025,
          1
         ],
         "gridcolor": "#E1E5ED",
         "showgrid": false,
         "tickfont": {
          "color": "#4D5663"
         },
         "title": {
          "font": {
           "color": "#4D5663"
          },
          "text": ""
         },
         "zerolinecolor": "#E1E5ED"
        },
        "yaxis10": {
         "anchor": "x10",
         "domain": [
          0.2675,
          0.465
         ],
         "gridcolor": "#E1E5ED",
         "showgrid": false,
         "tickfont": {
          "color": "#4D5663"
         },
         "title": {
          "font": {
           "color": "#4D5663"
          },
          "text": ""
         },
         "zerolinecolor": "#E1E5ED"
        },
        "yaxis11": {
         "anchor": "x11",
         "domain": [
          0.2675,
          0.465
         ],
         "gridcolor": "#E1E5ED",
         "showgrid": false,
         "tickfont": {
          "color": "#4D5663"
         },
         "title": {
          "font": {
           "color": "#4D5663"
          },
          "text": ""
         },
         "zerolinecolor": "#E1E5ED"
        },
        "yaxis12": {
         "anchor": "x12",
         "domain": [
          0.2675,
          0.465
         ],
         "gridcolor": "#E1E5ED",
         "showgrid": false,
         "tickfont": {
          "color": "#4D5663"
         },
         "title": {
          "font": {
           "color": "#4D5663"
          },
          "text": ""
         },
         "zerolinecolor": "#E1E5ED"
        },
        "yaxis13": {
         "anchor": "x13",
         "domain": [
          0,
          0.1975
         ],
         "gridcolor": "#E1E5ED",
         "showgrid": false,
         "tickfont": {
          "color": "#4D5663"
         },
         "title": {
          "font": {
           "color": "#4D5663"
          },
          "text": ""
         },
         "zerolinecolor": "#E1E5ED"
        },
        "yaxis14": {
         "anchor": "x14",
         "domain": [
          0,
          0.1975
         ],
         "gridcolor": "#E1E5ED",
         "showgrid": false,
         "tickfont": {
          "color": "#4D5663"
         },
         "title": {
          "font": {
           "color": "#4D5663"
          },
          "text": ""
         },
         "zerolinecolor": "#E1E5ED"
        },
        "yaxis15": {
         "anchor": "x15",
         "domain": [
          0,
          0.1975
         ],
         "gridcolor": "#E1E5ED",
         "showgrid": false,
         "tickfont": {
          "color": "#4D5663"
         },
         "title": {
          "font": {
           "color": "#4D5663"
          },
          "text": ""
         },
         "zerolinecolor": "#E1E5ED"
        },
        "yaxis16": {
         "anchor": "x16",
         "domain": [
          0,
          0.1975
         ],
         "gridcolor": "#E1E5ED",
         "showgrid": false,
         "tickfont": {
          "color": "#4D5663"
         },
         "title": {
          "font": {
           "color": "#4D5663"
          },
          "text": ""
         },
         "zerolinecolor": "#E1E5ED"
        },
        "yaxis2": {
         "anchor": "x2",
         "domain": [
          0.8025,
          1
         ],
         "gridcolor": "#E1E5ED",
         "showgrid": false,
         "tickfont": {
          "color": "#4D5663"
         },
         "title": {
          "font": {
           "color": "#4D5663"
          },
          "text": ""
         },
         "zerolinecolor": "#E1E5ED"
        },
        "yaxis3": {
         "anchor": "x3",
         "domain": [
          0.8025,
          1
         ],
         "gridcolor": "#E1E5ED",
         "showgrid": false,
         "tickfont": {
          "color": "#4D5663"
         },
         "title": {
          "font": {
           "color": "#4D5663"
          },
          "text": ""
         },
         "zerolinecolor": "#E1E5ED"
        },
        "yaxis4": {
         "anchor": "x4",
         "domain": [
          0.8025,
          1
         ],
         "gridcolor": "#E1E5ED",
         "showgrid": false,
         "tickfont": {
          "color": "#4D5663"
         },
         "title": {
          "font": {
           "color": "#4D5663"
          },
          "text": ""
         },
         "zerolinecolor": "#E1E5ED"
        },
        "yaxis5": {
         "anchor": "x5",
         "domain": [
          0.535,
          0.7325
         ],
         "gridcolor": "#E1E5ED",
         "showgrid": false,
         "tickfont": {
          "color": "#4D5663"
         },
         "title": {
          "font": {
           "color": "#4D5663"
          },
          "text": ""
         },
         "zerolinecolor": "#E1E5ED"
        },
        "yaxis6": {
         "anchor": "x6",
         "domain": [
          0.535,
          0.7325
         ],
         "gridcolor": "#E1E5ED",
         "showgrid": false,
         "tickfont": {
          "color": "#4D5663"
         },
         "title": {
          "font": {
           "color": "#4D5663"
          },
          "text": ""
         },
         "zerolinecolor": "#E1E5ED"
        },
        "yaxis7": {
         "anchor": "x7",
         "domain": [
          0.535,
          0.7325
         ],
         "gridcolor": "#E1E5ED",
         "showgrid": false,
         "tickfont": {
          "color": "#4D5663"
         },
         "title": {
          "font": {
           "color": "#4D5663"
          },
          "text": ""
         },
         "zerolinecolor": "#E1E5ED"
        },
        "yaxis8": {
         "anchor": "x8",
         "domain": [
          0.535,
          0.7325
         ],
         "gridcolor": "#E1E5ED",
         "showgrid": false,
         "tickfont": {
          "color": "#4D5663"
         },
         "title": {
          "font": {
           "color": "#4D5663"
          },
          "text": ""
         },
         "zerolinecolor": "#E1E5ED"
        },
        "yaxis9": {
         "anchor": "x9",
         "domain": [
          0.2675,
          0.465
         ],
         "gridcolor": "#E1E5ED",
         "showgrid": false,
         "tickfont": {
          "color": "#4D5663"
         },
         "title": {
          "font": {
           "color": "#4D5663"
          },
          "text": ""
         },
         "zerolinecolor": "#E1E5ED"
        }
       }
      },
      "text/html": "<div>                            <div id=\"99943fd4-1372-4ab8-867d-ad94b87df582\" class=\"plotly-graph-div\" style=\"height:525px; width:100%;\"></div>            <script type=\"text/javascript\">                require([\"plotly\"], function(Plotly) {                    window.PLOTLYENV=window.PLOTLYENV || {};\n                    window.PLOTLYENV.BASE_URL='https://plot.ly';                                    if (document.getElementById(\"99943fd4-1372-4ab8-867d-ad94b87df582\")) {                    Plotly.newPlot(                        \"99943fd4-1372-4ab8-867d-ad94b87df582\",                        [{\"histfunc\": \"count\", \"histnorm\": \"\", \"marker\": {\"color\": \"rgba(255, 153, 51, 1.0)\", \"line\": {\"color\": \"#4D5663\", \"width\": 1.3}}, \"name\": \"A\", \"nbinsx\": 10, \"opacity\": 0.8, \"orientation\": \"v\", \"type\": \"histogram\", \"x\": [-0.607666448602811, 1.2591769182867638, 0.16704406418634177, 0.9887082751879337, 0.42050690141106456, -0.2809674912610298, 1.4205748844371253, -0.16218921393075963, 0.5295790871081705, -0.4205995210823767, -0.16337781840683835, 0.16759853031741256, -0.2809880800221108, 0.45200515671738956, -0.7963631441160887, 0.008124987817348458, -0.9653504552870982, -0.9223975905420754, 1.697503764122202, -1.1326697096648621, 0.5441315200764606, -1.4327221815783646, 0.2796380060554141, -0.8128388054259313, -1.1827094987732283, 0.9192838701288726, 0.005031233926596609, 0.4940789532190036, 1.5199810486972711, -0.8443998734201372, -0.08104192992591111, 1.6689329486978688, -0.7571977288571777, -0.8487031498216203, -0.07545251039014507, -0.09434513820899024, -0.41232256357512964, 0.14336373331713348, -0.8541159147546175, -0.46384088394405887, -1.412249499680568, -1.0851655338041877, 0.6879094601966855, -0.6694324921369627, -0.03363857785329403, 0.5387086499714225, 0.16160180831572146, -0.45427480880416693, -0.8902462437574454, 2.1421316555307204, -0.28571217204710714, 2.7785629257632722, 0.6188425456596433, -2.459254026768631, 0.09684266173917931, 1.8786280821248922, 0.5593105388098913, 0.26783741562958696, -1.2984375511279334, 1.1011962236341868, 0.45296418473280115, -0.5321941924939583, 0.753939474413834, 0.9500785265544965, 1.0899664761916448, -1.467471011712826, -1.8417320806426902, 1.338367980687843, -1.5162371572164843, 0.8077958820276738, 0.05796809642764383, -0.7442463436578459, 0.32199607754326404, -0.07641715190381224, 1.271974510389658, 1.2110829413589757, -0.2952254419337832, -1.4838594863846635, 2.0037350196859847, 0.7641245546427664, 1.1687512590371492, 1.0290682142963403, 0.5227913621549826, 0.07140529149204715, 0.7725409413533701, 0.5141137105114424, 0.7331364742667712, -1.4336782221613382, -0.10001428221531719, -0.7328017258110671, 1.9666060051841314, -1.1631585459816023, 0.8406467869926779, -1.4210030180588464, -1.86072837927215, 0.5640046352845078, 2.383701139672665, 2.476332563313472, -0.5353887528785137, 0.7258828223322248], \"xaxis\": \"x\", \"yaxis\": \"y\"}, {\"line\": {\"color\": \"rgba(128, 128, 128, 1.0)\", \"dash\": \"solid\", \"shape\": \"linear\", \"width\": 1.3}, \"marker\": {\"size\": 2, \"symbol\": \"circle\"}, \"mode\": \"markers\", \"name\": \"A\", \"text\": \"\", \"type\": \"scatter\", \"x\": [0.031207682244617542, -0.9935482997534674, -1.2387163161907424, 0.3126411229606882, -1.5891470111710775, 0.07635814487302482, 1.1923987298056264, -0.8112752331427182, 0.3753696679604892, -1.1313144154052281, 0.9605575351846121, -0.8227810207976046, 0.3058696253813466, -0.062392383027024545, 0.0914039951082883, 1.569963638523854, -1.3209111992992464, -0.505404772341623, 0.4469060588185499, 0.338681444519608, 0.4277500034434874, 1.8118096469110234, -2.707892546203596, -1.246823143817817, -1.5087041797641172, 0.48159850639528023, 0.4002490260967725, 0.5102053066593562, 0.012675404040215244, -0.5505153478806513, 0.142701498010046, -1.370584934091697, -0.465276852037582, -0.6267239674553973, -0.2646699056244561, 1.0875368856352667, -1.434404032497129, 1.4109414962819065, 0.9235522288718865, -0.5119719562560471, -0.6976977102703348, 0.5747329306441911, -0.8956614256141748, 1.1857860513489715, -1.9548308830495846, -1.1367997870862887, 2.061070273949067, 0.6588214122709168, 0.4410322351607642, -0.48796022081817403, 1.6053822576254855, -0.3140314095170499, -0.09124804505842249, 1.3484214515162485, 0.32727035641686286, 0.22129713953336863, -0.6223804442822951, -0.8857002347557834, -1.3851516630852694, 0.6308690956117835, 0.8271598452053652, -1.1279541070033732, -0.05344314824258955, -0.37069948428920874, 0.9465741701628043, 0.4009643109576281, -1.2132942383142324, -1.1541141737765865, -0.29247553216184013, 1.3722130853213, 0.8548717018970707, -0.2656159662802207, 0.22669618331868235, 1.6083628909928163, 0.23614029731646852, 0.15033798028605647, -0.36078885714769116, 0.5450248831544398, 0.9577333980549713, 0.24342093309276405, -1.3230510975011762, -0.18950658150248, -0.29962570025070767, 1.2123866856004129, -0.32810667970458063, -0.23713318711384512, -1.1159826228709895, -0.18895108060257848, 1.1585142270387017, -0.27584783569539345, -0.3346270595588554, -0.5131187582372946, 0.6873100918212838, 0.08401528306893093, 0.0901193388465427, 0.32770017053241934, 1.178540724416936, -1.704896131930627, 0.004174290449213629, 0.8000408565286847], \"xaxis\": \"x2\", \"y\": [-0.607666448602811, 1.2591769182867638, 0.16704406418634177, 0.9887082751879337, 0.42050690141106456, -0.2809674912610298, 1.4205748844371253, -0.16218921393075963, 0.5295790871081705, -0.4205995210823767, -0.16337781840683835, 0.16759853031741256, -0.2809880800221108, 0.45200515671738956, -0.7963631441160887, 0.008124987817348458, -0.9653504552870982, -0.9223975905420754, 1.697503764122202, -1.1326697096648621, 0.5441315200764606, -1.4327221815783646, 0.2796380060554141, -0.8128388054259313, -1.1827094987732283, 0.9192838701288726, 0.005031233926596609, 0.4940789532190036, 1.5199810486972711, -0.8443998734201372, -0.08104192992591111, 1.6689329486978688, -0.7571977288571777, -0.8487031498216203, -0.07545251039014507, -0.09434513820899024, -0.41232256357512964, 0.14336373331713348, -0.8541159147546175, -0.46384088394405887, -1.412249499680568, -1.0851655338041877, 0.6879094601966855, -0.6694324921369627, -0.03363857785329403, 0.5387086499714225, 0.16160180831572146, -0.45427480880416693, -0.8902462437574454, 2.1421316555307204, -0.28571217204710714, 2.7785629257632722, 0.6188425456596433, -2.459254026768631, 0.09684266173917931, 1.8786280821248922, 0.5593105388098913, 0.26783741562958696, -1.2984375511279334, 1.1011962236341868, 0.45296418473280115, -0.5321941924939583, 0.753939474413834, 0.9500785265544965, 1.0899664761916448, -1.467471011712826, -1.8417320806426902, 1.338367980687843, -1.5162371572164843, 0.8077958820276738, 0.05796809642764383, -0.7442463436578459, 0.32199607754326404, -0.07641715190381224, 1.271974510389658, 1.2110829413589757, -0.2952254419337832, -1.4838594863846635, 2.0037350196859847, 0.7641245546427664, 1.1687512590371492, 1.0290682142963403, 0.5227913621549826, 0.07140529149204715, 0.7725409413533701, 0.5141137105114424, 0.7331364742667712, -1.4336782221613382, -0.10001428221531719, -0.7328017258110671, 1.9666060051841314, -1.1631585459816023, 0.8406467869926779, -1.4210030180588464, -1.86072837927215, 0.5640046352845078, 2.383701139672665, 2.476332563313472, -0.5353887528785137, 0.7258828223322248], \"yaxis\": \"y2\"}, {\"line\": {\"color\": \"rgba(128, 128, 128, 1.0)\", \"dash\": \"solid\", \"shape\": \"linear\", \"width\": 1.3}, \"marker\": {\"size\": 2, \"symbol\": \"circle\"}, \"mode\": \"markers\", \"name\": \"A\", \"text\": \"\", \"type\": \"scatter\", \"x\": [1.4489903556936925, 0.9569146937059532, -1.0876396619061846, -0.8825336651551515, -0.8423240070023791, -0.4272107463195657, -1.0045630781628048, 0.0429394511243209, -0.7148729467758064, -0.7789949477790704, -0.9191832504312808, -1.384802499135036, 0.7403815312751256, 0.12790428966569284, -0.876598463396739, 0.46459743153905897, 2.2945103309610206, 0.9190764259753557, -1.0347445864486673, 0.7897574525971488, 0.3414303620739439, -1.3847910087182327, 0.1955830021193111, 0.4049174783016158, -0.2829754583507037, 0.838011739396502, 1.2703377287048359, -2.0619906501701752, -1.4981690667576353, -1.7112228860701841, -0.47034477162706384, -0.637737291097207, -0.6581863024705712, -1.8484248869495319, -0.25297207420322987, -1.498730238182971, -1.0832873210696463, 0.7686015651247761, -1.9785988376993036, 0.7622892264339542, -0.2190104805136365, -0.7138553058224888, -0.20260034760585052, 1.1142766590091016, -2.936111953861491, -0.07515135449588436, -1.5421422903782285, -1.142272878834587, -1.110933150126963, 1.5064100692033802, 0.21695368836427406, 0.7435021970998392, -1.1458590487618259, 0.7109330494512432, 0.6608559956042735, -0.4267649333096379, 0.8740907611704118, -1.3451971631908606, -0.5170795699452903, -0.8630544128632993, -0.25199107407956256, 0.02748099581794078, -0.9091067674187974, -0.7012846658008495, -0.7920411791675391, 0.3693919235496703, 0.5742103826245605, 0.03644415204349955, 0.9997563029530769, 0.9552985665080148, -0.34215278593870785, 0.3339513677279051, 1.5655576693735629, 1.0762902366665126, -0.7682184461169863, -0.42461624540838383, 0.4161402693127119, -0.3487367513927705, -0.42396814167004315, -0.002815425224448483, -0.30686775945602396, 0.01909922190336151, -0.07452615113233313, 0.6264360653888321, -1.3431556773879652, -1.4959249223308302, -2.6521154680026244, 1.4629990654336873, -0.5736096562978921, -0.41118011393250464, -0.06421124614134084, -0.1398291528881255, -0.6919445060187562, 0.06824080061724438, -1.3105951793497057, -0.38525562900399807, -1.115691087322862, 0.43672171773252433, -1.9284808149353287, 0.38751086296356646], \"xaxis\": \"x3\", \"y\": [-0.607666448602811, 1.2591769182867638, 0.16704406418634177, 0.9887082751879337, 0.42050690141106456, -0.2809674912610298, 1.4205748844371253, -0.16218921393075963, 0.5295790871081705, -0.4205995210823767, -0.16337781840683835, 0.16759853031741256, -0.2809880800221108, 0.45200515671738956, -0.7963631441160887, 0.008124987817348458, -0.9653504552870982, -0.9223975905420754, 1.697503764122202, -1.1326697096648621, 0.5441315200764606, -1.4327221815783646, 0.2796380060554141, -0.8128388054259313, -1.1827094987732283, 0.9192838701288726, 0.005031233926596609, 0.4940789532190036, 1.5199810486972711, -0.8443998734201372, -0.08104192992591111, 1.6689329486978688, -0.7571977288571777, -0.8487031498216203, -0.07545251039014507, -0.09434513820899024, -0.41232256357512964, 0.14336373331713348, -0.8541159147546175, -0.46384088394405887, -1.412249499680568, -1.0851655338041877, 0.6879094601966855, -0.6694324921369627, -0.03363857785329403, 0.5387086499714225, 0.16160180831572146, -0.45427480880416693, -0.8902462437574454, 2.1421316555307204, -0.28571217204710714, 2.7785629257632722, 0.6188425456596433, -2.459254026768631, 0.09684266173917931, 1.8786280821248922, 0.5593105388098913, 0.26783741562958696, -1.2984375511279334, 1.1011962236341868, 0.45296418473280115, -0.5321941924939583, 0.753939474413834, 0.9500785265544965, 1.0899664761916448, -1.467471011712826, -1.8417320806426902, 1.338367980687843, -1.5162371572164843, 0.8077958820276738, 0.05796809642764383, -0.7442463436578459, 0.32199607754326404, -0.07641715190381224, 1.271974510389658, 1.2110829413589757, -0.2952254419337832, -1.4838594863846635, 2.0037350196859847, 0.7641245546427664, 1.1687512590371492, 1.0290682142963403, 0.5227913621549826, 0.07140529149204715, 0.7725409413533701, 0.5141137105114424, 0.7331364742667712, -1.4336782221613382, -0.10001428221531719, -0.7328017258110671, 1.9666060051841314, -1.1631585459816023, 0.8406467869926779, -1.4210030180588464, -1.86072837927215, 0.5640046352845078, 2.383701139672665, 2.476332563313472, -0.5353887528785137, 0.7258828223322248], \"yaxis\": \"y3\"}, {\"line\": {\"color\": \"rgba(128, 128, 128, 1.0)\", \"dash\": \"solid\", \"shape\": \"linear\", \"width\": 1.3}, \"marker\": {\"size\": 2, \"symbol\": \"circle\"}, \"mode\": \"markers\", \"name\": \"A\", \"text\": \"\", \"type\": \"scatter\", \"x\": [-0.6330078646998142, 1.8140756335916555, -0.5835976045612592, -0.5641200148384549, -0.7113091036630851, 0.5792715905614506, 0.06557156890941346, 0.050892636683272714, -0.8450805527038645, 1.064068924147688, 0.7056144359183899, -1.168973900334623, -0.11805109594065305, 0.9251690717019997, -1.2894179858161674, -0.2775137876890778, -1.2521398241852149, 0.6443885338330175, -1.3381094353429026, -0.6897537677570175, 1.012539735673264, -0.7522475874313775, -0.4430646307150996, 1.9831136976064792, -0.676678887365719, -0.2787947880912225, -1.4083208568976933, 0.14019093468472557, 0.5024706033789321, 0.16516639285817306, 1.2377049506972744, -1.6949187806594332, 1.5415432918094552, 1.6301678015258994, -1.1027559176738229, 0.43357549396542233, 1.2057464481430542, 1.4696617273324206, 0.6454066869364494, 1.1103842739308352, 0.2782456366771006, 1.4297506852056028, -0.3048720664044912, 0.19743546709858048, 0.4784536517243281, -2.2223271852837856, -3.259381690438617, 0.8721078585324115, -0.311912960665354, 0.24970857071647337, -1.5912285869615286, -0.8145442555583446, 0.37345909865248417, 1.9336074172114501, -0.06876507854781654, 0.08994599336495115, -1.2537818517856754, 0.6791236156070609, -1.3601721763062147, 0.8390733341372618, -0.13429825334273918, 0.24087589381874666, 1.0058785258670269, 0.04401529704545266, -0.41683670631106706, 0.77092327971203, -0.4584395283092104, -0.39110690228463174, 0.7150226306317401, -0.06417182112554029, 0.3950100035740469, 0.6025754048569935, 0.07177701542208834, -0.29920082731233383, -0.4603566842574775, -1.6597335636166832, -0.21258830391543462, -0.38892128078710536, -0.6161632528144666, -0.05716896211311977, 0.3509399386112978, 0.8757909970253571, -0.11265943297298331, 0.4014272056011246, 0.4933027408475595, -0.9893768125723018, 0.9029758053521423, 0.9983313711827291, -0.31683343254947205, 2.023820871281636, -0.37294509964931855, 2.2158104756101307, -0.7753867534333052, -1.2600278190322325, -1.3358500870657253, 1.8181432420037171, -1.181590578304687, 0.7556440663108855, 1.5940854331575334, 0.7061877381941765], \"xaxis\": \"x4\", \"y\": [-0.607666448602811, 1.2591769182867638, 0.16704406418634177, 0.9887082751879337, 0.42050690141106456, -0.2809674912610298, 1.4205748844371253, -0.16218921393075963, 0.5295790871081705, -0.4205995210823767, -0.16337781840683835, 0.16759853031741256, -0.2809880800221108, 0.45200515671738956, -0.7963631441160887, 0.008124987817348458, -0.9653504552870982, -0.9223975905420754, 1.697503764122202, -1.1326697096648621, 0.5441315200764606, -1.4327221815783646, 0.2796380060554141, -0.8128388054259313, -1.1827094987732283, 0.9192838701288726, 0.005031233926596609, 0.4940789532190036, 1.5199810486972711, -0.8443998734201372, -0.08104192992591111, 1.6689329486978688, -0.7571977288571777, -0.8487031498216203, -0.07545251039014507, -0.09434513820899024, -0.41232256357512964, 0.14336373331713348, -0.8541159147546175, -0.46384088394405887, -1.412249499680568, -1.0851655338041877, 0.6879094601966855, -0.6694324921369627, -0.03363857785329403, 0.5387086499714225, 0.16160180831572146, -0.45427480880416693, -0.8902462437574454, 2.1421316555307204, -0.28571217204710714, 2.7785629257632722, 0.6188425456596433, -2.459254026768631, 0.09684266173917931, 1.8786280821248922, 0.5593105388098913, 0.26783741562958696, -1.2984375511279334, 1.1011962236341868, 0.45296418473280115, -0.5321941924939583, 0.753939474413834, 0.9500785265544965, 1.0899664761916448, -1.467471011712826, -1.8417320806426902, 1.338367980687843, -1.5162371572164843, 0.8077958820276738, 0.05796809642764383, -0.7442463436578459, 0.32199607754326404, -0.07641715190381224, 1.271974510389658, 1.2110829413589757, -0.2952254419337832, -1.4838594863846635, 2.0037350196859847, 0.7641245546427664, 1.1687512590371492, 1.0290682142963403, 0.5227913621549826, 0.07140529149204715, 0.7725409413533701, 0.5141137105114424, 0.7331364742667712, -1.4336782221613382, -0.10001428221531719, -0.7328017258110671, 1.9666060051841314, -1.1631585459816023, 0.8406467869926779, -1.4210030180588464, -1.86072837927215, 0.5640046352845078, 2.383701139672665, 2.476332563313472, -0.5353887528785137, 0.7258828223322248], \"yaxis\": \"y4\"}, {\"line\": {\"color\": \"rgba(128, 128, 128, 1.0)\", \"dash\": \"solid\", \"shape\": \"linear\", \"width\": 1.3}, \"marker\": {\"size\": 2, \"symbol\": \"circle\"}, \"mode\": \"markers\", \"name\": \"B\", \"text\": \"\", \"type\": \"scatter\", \"x\": [-0.607666448602811, 1.2591769182867638, 0.16704406418634177, 0.9887082751879337, 0.42050690141106456, -0.2809674912610298, 1.4205748844371253, -0.16218921393075963, 0.5295790871081705, -0.4205995210823767, -0.16337781840683835, 0.16759853031741256, -0.2809880800221108, 0.45200515671738956, -0.7963631441160887, 0.008124987817348458, -0.9653504552870982, -0.9223975905420754, 1.697503764122202, -1.1326697096648621, 0.5441315200764606, -1.4327221815783646, 0.2796380060554141, -0.8128388054259313, -1.1827094987732283, 0.9192838701288726, 0.005031233926596609, 0.4940789532190036, 1.5199810486972711, -0.8443998734201372, -0.08104192992591111, 1.6689329486978688, -0.7571977288571777, -0.8487031498216203, -0.07545251039014507, -0.09434513820899024, -0.41232256357512964, 0.14336373331713348, -0.8541159147546175, -0.46384088394405887, -1.412249499680568, -1.0851655338041877, 0.6879094601966855, -0.6694324921369627, -0.03363857785329403, 0.5387086499714225, 0.16160180831572146, -0.45427480880416693, -0.8902462437574454, 2.1421316555307204, -0.28571217204710714, 2.7785629257632722, 0.6188425456596433, -2.459254026768631, 0.09684266173917931, 1.8786280821248922, 0.5593105388098913, 0.26783741562958696, -1.2984375511279334, 1.1011962236341868, 0.45296418473280115, -0.5321941924939583, 0.753939474413834, 0.9500785265544965, 1.0899664761916448, -1.467471011712826, -1.8417320806426902, 1.338367980687843, -1.5162371572164843, 0.8077958820276738, 0.05796809642764383, -0.7442463436578459, 0.32199607754326404, -0.07641715190381224, 1.271974510389658, 1.2110829413589757, -0.2952254419337832, -1.4838594863846635, 2.0037350196859847, 0.7641245546427664, 1.1687512590371492, 1.0290682142963403, 0.5227913621549826, 0.07140529149204715, 0.7725409413533701, 0.5141137105114424, 0.7331364742667712, -1.4336782221613382, -0.10001428221531719, -0.7328017258110671, 1.9666060051841314, -1.1631585459816023, 0.8406467869926779, -1.4210030180588464, -1.86072837927215, 0.5640046352845078, 2.383701139672665, 2.476332563313472, -0.5353887528785137, 0.7258828223322248], \"xaxis\": \"x5\", \"y\": [0.031207682244617542, -0.9935482997534674, -1.2387163161907424, 0.3126411229606882, -1.5891470111710775, 0.07635814487302482, 1.1923987298056264, -0.8112752331427182, 0.3753696679604892, -1.1313144154052281, 0.9605575351846121, -0.8227810207976046, 0.3058696253813466, -0.062392383027024545, 0.0914039951082883, 1.569963638523854, -1.3209111992992464, -0.505404772341623, 0.4469060588185499, 0.338681444519608, 0.4277500034434874, 1.8118096469110234, -2.707892546203596, -1.246823143817817, -1.5087041797641172, 0.48159850639528023, 0.4002490260967725, 0.5102053066593562, 0.012675404040215244, -0.5505153478806513, 0.142701498010046, -1.370584934091697, -0.465276852037582, -0.6267239674553973, -0.2646699056244561, 1.0875368856352667, -1.434404032497129, 1.4109414962819065, 0.9235522288718865, -0.5119719562560471, -0.6976977102703348, 0.5747329306441911, -0.8956614256141748, 1.1857860513489715, -1.9548308830495846, -1.1367997870862887, 2.061070273949067, 0.6588214122709168, 0.4410322351607642, -0.48796022081817403, 1.6053822576254855, -0.3140314095170499, -0.09124804505842249, 1.3484214515162485, 0.32727035641686286, 0.22129713953336863, -0.6223804442822951, -0.8857002347557834, -1.3851516630852694, 0.6308690956117835, 0.8271598452053652, -1.1279541070033732, -0.05344314824258955, -0.37069948428920874, 0.9465741701628043, 0.4009643109576281, -1.2132942383142324, -1.1541141737765865, -0.29247553216184013, 1.3722130853213, 0.8548717018970707, -0.2656159662802207, 0.22669618331868235, 1.6083628909928163, 0.23614029731646852, 0.15033798028605647, -0.36078885714769116, 0.5450248831544398, 0.9577333980549713, 0.24342093309276405, -1.3230510975011762, -0.18950658150248, -0.29962570025070767, 1.2123866856004129, -0.32810667970458063, -0.23713318711384512, -1.1159826228709895, -0.18895108060257848, 1.1585142270387017, -0.27584783569539345, -0.3346270595588554, -0.5131187582372946, 0.6873100918212838, 0.08401528306893093, 0.0901193388465427, 0.32770017053241934, 1.178540724416936, -1.704896131930627, 0.004174290449213629, 0.8000408565286847], \"yaxis\": \"y5\"}, {\"histfunc\": \"count\", \"histnorm\": \"\", \"marker\": {\"color\": \"rgba(55, 128, 191, 1.0)\", \"line\": {\"color\": \"#4D5663\", \"width\": 1.3}}, \"name\": \"B\", \"nbinsx\": 10, \"opacity\": 0.8, \"orientation\": \"v\", \"type\": \"histogram\", \"x\": [0.031207682244617542, -0.9935482997534674, -1.2387163161907424, 0.3126411229606882, -1.5891470111710775, 0.07635814487302482, 1.1923987298056264, -0.8112752331427182, 0.3753696679604892, -1.1313144154052281, 0.9605575351846121, -0.8227810207976046, 0.3058696253813466, -0.062392383027024545, 0.0914039951082883, 1.569963638523854, -1.3209111992992464, -0.505404772341623, 0.4469060588185499, 0.338681444519608, 0.4277500034434874, 1.8118096469110234, -2.707892546203596, -1.246823143817817, -1.5087041797641172, 0.48159850639528023, 0.4002490260967725, 0.5102053066593562, 0.012675404040215244, -0.5505153478806513, 0.142701498010046, -1.370584934091697, -0.465276852037582, -0.6267239674553973, -0.2646699056244561, 1.0875368856352667, -1.434404032497129, 1.4109414962819065, 0.9235522288718865, -0.5119719562560471, -0.6976977102703348, 0.5747329306441911, -0.8956614256141748, 1.1857860513489715, -1.9548308830495846, -1.1367997870862887, 2.061070273949067, 0.6588214122709168, 0.4410322351607642, -0.48796022081817403, 1.6053822576254855, -0.3140314095170499, -0.09124804505842249, 1.3484214515162485, 0.32727035641686286, 0.22129713953336863, -0.6223804442822951, -0.8857002347557834, -1.3851516630852694, 0.6308690956117835, 0.8271598452053652, -1.1279541070033732, -0.05344314824258955, -0.37069948428920874, 0.9465741701628043, 0.4009643109576281, -1.2132942383142324, -1.1541141737765865, -0.29247553216184013, 1.3722130853213, 0.8548717018970707, -0.2656159662802207, 0.22669618331868235, 1.6083628909928163, 0.23614029731646852, 0.15033798028605647, -0.36078885714769116, 0.5450248831544398, 0.9577333980549713, 0.24342093309276405, -1.3230510975011762, -0.18950658150248, -0.29962570025070767, 1.2123866856004129, -0.32810667970458063, -0.23713318711384512, -1.1159826228709895, -0.18895108060257848, 1.1585142270387017, -0.27584783569539345, -0.3346270595588554, -0.5131187582372946, 0.6873100918212838, 0.08401528306893093, 0.0901193388465427, 0.32770017053241934, 1.178540724416936, -1.704896131930627, 0.004174290449213629, 0.8000408565286847], \"xaxis\": \"x6\", \"yaxis\": \"y6\"}, {\"line\": {\"color\": \"rgba(128, 128, 128, 1.0)\", \"dash\": \"solid\", \"shape\": \"linear\", \"width\": 1.3}, \"marker\": {\"size\": 2, \"symbol\": \"circle\"}, \"mode\": \"markers\", \"name\": \"B\", \"text\": \"\", \"type\": \"scatter\", \"x\": [1.4489903556936925, 0.9569146937059532, -1.0876396619061846, -0.8825336651551515, -0.8423240070023791, -0.4272107463195657, -1.0045630781628048, 0.0429394511243209, -0.7148729467758064, -0.7789949477790704, -0.9191832504312808, -1.384802499135036, 0.7403815312751256, 0.12790428966569284, -0.876598463396739, 0.46459743153905897, 2.2945103309610206, 0.9190764259753557, -1.0347445864486673, 0.7897574525971488, 0.3414303620739439, -1.3847910087182327, 0.1955830021193111, 0.4049174783016158, -0.2829754583507037, 0.838011739396502, 1.2703377287048359, -2.0619906501701752, -1.4981690667576353, -1.7112228860701841, -0.47034477162706384, -0.637737291097207, -0.6581863024705712, -1.8484248869495319, -0.25297207420322987, -1.498730238182971, -1.0832873210696463, 0.7686015651247761, -1.9785988376993036, 0.7622892264339542, -0.2190104805136365, -0.7138553058224888, -0.20260034760585052, 1.1142766590091016, -2.936111953861491, -0.07515135449588436, -1.5421422903782285, -1.142272878834587, -1.110933150126963, 1.5064100692033802, 0.21695368836427406, 0.7435021970998392, -1.1458590487618259, 0.7109330494512432, 0.6608559956042735, -0.4267649333096379, 0.8740907611704118, -1.3451971631908606, -0.5170795699452903, -0.8630544128632993, -0.25199107407956256, 0.02748099581794078, -0.9091067674187974, -0.7012846658008495, -0.7920411791675391, 0.3693919235496703, 0.5742103826245605, 0.03644415204349955, 0.9997563029530769, 0.9552985665080148, -0.34215278593870785, 0.3339513677279051, 1.5655576693735629, 1.0762902366665126, -0.7682184461169863, -0.42461624540838383, 0.4161402693127119, -0.3487367513927705, -0.42396814167004315, -0.002815425224448483, -0.30686775945602396, 0.01909922190336151, -0.07452615113233313, 0.6264360653888321, -1.3431556773879652, -1.4959249223308302, -2.6521154680026244, 1.4629990654336873, -0.5736096562978921, -0.41118011393250464, -0.06421124614134084, -0.1398291528881255, -0.6919445060187562, 0.06824080061724438, -1.3105951793497057, -0.38525562900399807, -1.115691087322862, 0.43672171773252433, -1.9284808149353287, 0.38751086296356646], \"xaxis\": \"x7\", \"y\": [0.031207682244617542, -0.9935482997534674, -1.2387163161907424, 0.3126411229606882, -1.5891470111710775, 0.07635814487302482, 1.1923987298056264, -0.8112752331427182, 0.3753696679604892, -1.1313144154052281, 0.9605575351846121, -0.8227810207976046, 0.3058696253813466, -0.062392383027024545, 0.0914039951082883, 1.569963638523854, -1.3209111992992464, -0.505404772341623, 0.4469060588185499, 0.338681444519608, 0.4277500034434874, 1.8118096469110234, -2.707892546203596, -1.246823143817817, -1.5087041797641172, 0.48159850639528023, 0.4002490260967725, 0.5102053066593562, 0.012675404040215244, -0.5505153478806513, 0.142701498010046, -1.370584934091697, -0.465276852037582, -0.6267239674553973, -0.2646699056244561, 1.0875368856352667, -1.434404032497129, 1.4109414962819065, 0.9235522288718865, -0.5119719562560471, -0.6976977102703348, 0.5747329306441911, -0.8956614256141748, 1.1857860513489715, -1.9548308830495846, -1.1367997870862887, 2.061070273949067, 0.6588214122709168, 0.4410322351607642, -0.48796022081817403, 1.6053822576254855, -0.3140314095170499, -0.09124804505842249, 1.3484214515162485, 0.32727035641686286, 0.22129713953336863, -0.6223804442822951, -0.8857002347557834, -1.3851516630852694, 0.6308690956117835, 0.8271598452053652, -1.1279541070033732, -0.05344314824258955, -0.37069948428920874, 0.9465741701628043, 0.4009643109576281, -1.2132942383142324, -1.1541141737765865, -0.29247553216184013, 1.3722130853213, 0.8548717018970707, -0.2656159662802207, 0.22669618331868235, 1.6083628909928163, 0.23614029731646852, 0.15033798028605647, -0.36078885714769116, 0.5450248831544398, 0.9577333980549713, 0.24342093309276405, -1.3230510975011762, -0.18950658150248, -0.29962570025070767, 1.2123866856004129, -0.32810667970458063, -0.23713318711384512, -1.1159826228709895, -0.18895108060257848, 1.1585142270387017, -0.27584783569539345, -0.3346270595588554, -0.5131187582372946, 0.6873100918212838, 0.08401528306893093, 0.0901193388465427, 0.32770017053241934, 1.178540724416936, -1.704896131930627, 0.004174290449213629, 0.8000408565286847], \"yaxis\": \"y7\"}, {\"line\": {\"color\": \"rgba(128, 128, 128, 1.0)\", \"dash\": \"solid\", \"shape\": \"linear\", \"width\": 1.3}, \"marker\": {\"size\": 2, \"symbol\": \"circle\"}, \"mode\": \"markers\", \"name\": \"B\", \"text\": \"\", \"type\": \"scatter\", \"x\": [-0.6330078646998142, 1.8140756335916555, -0.5835976045612592, -0.5641200148384549, -0.7113091036630851, 0.5792715905614506, 0.06557156890941346, 0.050892636683272714, -0.8450805527038645, 1.064068924147688, 0.7056144359183899, -1.168973900334623, -0.11805109594065305, 0.9251690717019997, -1.2894179858161674, -0.2775137876890778, -1.2521398241852149, 0.6443885338330175, -1.3381094353429026, -0.6897537677570175, 1.012539735673264, -0.7522475874313775, -0.4430646307150996, 1.9831136976064792, -0.676678887365719, -0.2787947880912225, -1.4083208568976933, 0.14019093468472557, 0.5024706033789321, 0.16516639285817306, 1.2377049506972744, -1.6949187806594332, 1.5415432918094552, 1.6301678015258994, -1.1027559176738229, 0.43357549396542233, 1.2057464481430542, 1.4696617273324206, 0.6454066869364494, 1.1103842739308352, 0.2782456366771006, 1.4297506852056028, -0.3048720664044912, 0.19743546709858048, 0.4784536517243281, -2.2223271852837856, -3.259381690438617, 0.8721078585324115, -0.311912960665354, 0.24970857071647337, -1.5912285869615286, -0.8145442555583446, 0.37345909865248417, 1.9336074172114501, -0.06876507854781654, 0.08994599336495115, -1.2537818517856754, 0.6791236156070609, -1.3601721763062147, 0.8390733341372618, -0.13429825334273918, 0.24087589381874666, 1.0058785258670269, 0.04401529704545266, -0.41683670631106706, 0.77092327971203, -0.4584395283092104, -0.39110690228463174, 0.7150226306317401, -0.06417182112554029, 0.3950100035740469, 0.6025754048569935, 0.07177701542208834, -0.29920082731233383, -0.4603566842574775, -1.6597335636166832, -0.21258830391543462, -0.38892128078710536, -0.6161632528144666, -0.05716896211311977, 0.3509399386112978, 0.8757909970253571, -0.11265943297298331, 0.4014272056011246, 0.4933027408475595, -0.9893768125723018, 0.9029758053521423, 0.9983313711827291, -0.31683343254947205, 2.023820871281636, -0.37294509964931855, 2.2158104756101307, -0.7753867534333052, -1.2600278190322325, -1.3358500870657253, 1.8181432420037171, -1.181590578304687, 0.7556440663108855, 1.5940854331575334, 0.7061877381941765], \"xaxis\": \"x8\", \"y\": [0.031207682244617542, -0.9935482997534674, -1.2387163161907424, 0.3126411229606882, -1.5891470111710775, 0.07635814487302482, 1.1923987298056264, -0.8112752331427182, 0.3753696679604892, -1.1313144154052281, 0.9605575351846121, -0.8227810207976046, 0.3058696253813466, -0.062392383027024545, 0.0914039951082883, 1.569963638523854, -1.3209111992992464, -0.505404772341623, 0.4469060588185499, 0.338681444519608, 0.4277500034434874, 1.8118096469110234, -2.707892546203596, -1.246823143817817, -1.5087041797641172, 0.48159850639528023, 0.4002490260967725, 0.5102053066593562, 0.012675404040215244, -0.5505153478806513, 0.142701498010046, -1.370584934091697, -0.465276852037582, -0.6267239674553973, -0.2646699056244561, 1.0875368856352667, -1.434404032497129, 1.4109414962819065, 0.9235522288718865, -0.5119719562560471, -0.6976977102703348, 0.5747329306441911, -0.8956614256141748, 1.1857860513489715, -1.9548308830495846, -1.1367997870862887, 2.061070273949067, 0.6588214122709168, 0.4410322351607642, -0.48796022081817403, 1.6053822576254855, -0.3140314095170499, -0.09124804505842249, 1.3484214515162485, 0.32727035641686286, 0.22129713953336863, -0.6223804442822951, -0.8857002347557834, -1.3851516630852694, 0.6308690956117835, 0.8271598452053652, -1.1279541070033732, -0.05344314824258955, -0.37069948428920874, 0.9465741701628043, 0.4009643109576281, -1.2132942383142324, -1.1541141737765865, -0.29247553216184013, 1.3722130853213, 0.8548717018970707, -0.2656159662802207, 0.22669618331868235, 1.6083628909928163, 0.23614029731646852, 0.15033798028605647, -0.36078885714769116, 0.5450248831544398, 0.9577333980549713, 0.24342093309276405, -1.3230510975011762, -0.18950658150248, -0.29962570025070767, 1.2123866856004129, -0.32810667970458063, -0.23713318711384512, -1.1159826228709895, -0.18895108060257848, 1.1585142270387017, -0.27584783569539345, -0.3346270595588554, -0.5131187582372946, 0.6873100918212838, 0.08401528306893093, 0.0901193388465427, 0.32770017053241934, 1.178540724416936, -1.704896131930627, 0.004174290449213629, 0.8000408565286847], \"yaxis\": \"y8\"}, {\"line\": {\"color\": \"rgba(128, 128, 128, 1.0)\", \"dash\": \"solid\", \"shape\": \"linear\", \"width\": 1.3}, \"marker\": {\"size\": 2, \"symbol\": \"circle\"}, \"mode\": \"markers\", \"name\": \"C\", \"text\": \"\", \"type\": \"scatter\", \"x\": [-0.607666448602811, 1.2591769182867638, 0.16704406418634177, 0.9887082751879337, 0.42050690141106456, -0.2809674912610298, 1.4205748844371253, -0.16218921393075963, 0.5295790871081705, -0.4205995210823767, -0.16337781840683835, 0.16759853031741256, -0.2809880800221108, 0.45200515671738956, -0.7963631441160887, 0.008124987817348458, -0.9653504552870982, -0.9223975905420754, 1.697503764122202, -1.1326697096648621, 0.5441315200764606, -1.4327221815783646, 0.2796380060554141, -0.8128388054259313, -1.1827094987732283, 0.9192838701288726, 0.005031233926596609, 0.4940789532190036, 1.5199810486972711, -0.8443998734201372, -0.08104192992591111, 1.6689329486978688, -0.7571977288571777, -0.8487031498216203, -0.07545251039014507, -0.09434513820899024, -0.41232256357512964, 0.14336373331713348, -0.8541159147546175, -0.46384088394405887, -1.412249499680568, -1.0851655338041877, 0.6879094601966855, -0.6694324921369627, -0.03363857785329403, 0.5387086499714225, 0.16160180831572146, -0.45427480880416693, -0.8902462437574454, 2.1421316555307204, -0.28571217204710714, 2.7785629257632722, 0.6188425456596433, -2.459254026768631, 0.09684266173917931, 1.8786280821248922, 0.5593105388098913, 0.26783741562958696, -1.2984375511279334, 1.1011962236341868, 0.45296418473280115, -0.5321941924939583, 0.753939474413834, 0.9500785265544965, 1.0899664761916448, -1.467471011712826, -1.8417320806426902, 1.338367980687843, -1.5162371572164843, 0.8077958820276738, 0.05796809642764383, -0.7442463436578459, 0.32199607754326404, -0.07641715190381224, 1.271974510389658, 1.2110829413589757, -0.2952254419337832, -1.4838594863846635, 2.0037350196859847, 0.7641245546427664, 1.1687512590371492, 1.0290682142963403, 0.5227913621549826, 0.07140529149204715, 0.7725409413533701, 0.5141137105114424, 0.7331364742667712, -1.4336782221613382, -0.10001428221531719, -0.7328017258110671, 1.9666060051841314, -1.1631585459816023, 0.8406467869926779, -1.4210030180588464, -1.86072837927215, 0.5640046352845078, 2.383701139672665, 2.476332563313472, -0.5353887528785137, 0.7258828223322248], \"xaxis\": \"x9\", \"y\": [1.4489903556936925, 0.9569146937059532, -1.0876396619061846, -0.8825336651551515, -0.8423240070023791, -0.4272107463195657, -1.0045630781628048, 0.0429394511243209, -0.7148729467758064, -0.7789949477790704, -0.9191832504312808, -1.384802499135036, 0.7403815312751256, 0.12790428966569284, -0.876598463396739, 0.46459743153905897, 2.2945103309610206, 0.9190764259753557, -1.0347445864486673, 0.7897574525971488, 0.3414303620739439, -1.3847910087182327, 0.1955830021193111, 0.4049174783016158, -0.2829754583507037, 0.838011739396502, 1.2703377287048359, -2.0619906501701752, -1.4981690667576353, -1.7112228860701841, -0.47034477162706384, -0.637737291097207, -0.6581863024705712, -1.8484248869495319, -0.25297207420322987, -1.498730238182971, -1.0832873210696463, 0.7686015651247761, -1.9785988376993036, 0.7622892264339542, -0.2190104805136365, -0.7138553058224888, -0.20260034760585052, 1.1142766590091016, -2.936111953861491, -0.07515135449588436, -1.5421422903782285, -1.142272878834587, -1.110933150126963, 1.5064100692033802, 0.21695368836427406, 0.7435021970998392, -1.1458590487618259, 0.7109330494512432, 0.6608559956042735, -0.4267649333096379, 0.8740907611704118, -1.3451971631908606, -0.5170795699452903, -0.8630544128632993, -0.25199107407956256, 0.02748099581794078, -0.9091067674187974, -0.7012846658008495, -0.7920411791675391, 0.3693919235496703, 0.5742103826245605, 0.03644415204349955, 0.9997563029530769, 0.9552985665080148, -0.34215278593870785, 0.3339513677279051, 1.5655576693735629, 1.0762902366665126, -0.7682184461169863, -0.42461624540838383, 0.4161402693127119, -0.3487367513927705, -0.42396814167004315, -0.002815425224448483, -0.30686775945602396, 0.01909922190336151, -0.07452615113233313, 0.6264360653888321, -1.3431556773879652, -1.4959249223308302, -2.6521154680026244, 1.4629990654336873, -0.5736096562978921, -0.41118011393250464, -0.06421124614134084, -0.1398291528881255, -0.6919445060187562, 0.06824080061724438, -1.3105951793497057, -0.38525562900399807, -1.115691087322862, 0.43672171773252433, -1.9284808149353287, 0.38751086296356646], \"yaxis\": \"y9\"}, {\"line\": {\"color\": \"rgba(128, 128, 128, 1.0)\", \"dash\": \"solid\", \"shape\": \"linear\", \"width\": 1.3}, \"marker\": {\"size\": 2, \"symbol\": \"circle\"}, \"mode\": \"markers\", \"name\": \"C\", \"text\": \"\", \"type\": \"scatter\", \"x\": [0.031207682244617542, -0.9935482997534674, -1.2387163161907424, 0.3126411229606882, -1.5891470111710775, 0.07635814487302482, 1.1923987298056264, -0.8112752331427182, 0.3753696679604892, -1.1313144154052281, 0.9605575351846121, -0.8227810207976046, 0.3058696253813466, -0.062392383027024545, 0.0914039951082883, 1.569963638523854, -1.3209111992992464, -0.505404772341623, 0.4469060588185499, 0.338681444519608, 0.4277500034434874, 1.8118096469110234, -2.707892546203596, -1.246823143817817, -1.5087041797641172, 0.48159850639528023, 0.4002490260967725, 0.5102053066593562, 0.012675404040215244, -0.5505153478806513, 0.142701498010046, -1.370584934091697, -0.465276852037582, -0.6267239674553973, -0.2646699056244561, 1.0875368856352667, -1.434404032497129, 1.4109414962819065, 0.9235522288718865, -0.5119719562560471, -0.6976977102703348, 0.5747329306441911, -0.8956614256141748, 1.1857860513489715, -1.9548308830495846, -1.1367997870862887, 2.061070273949067, 0.6588214122709168, 0.4410322351607642, -0.48796022081817403, 1.6053822576254855, -0.3140314095170499, -0.09124804505842249, 1.3484214515162485, 0.32727035641686286, 0.22129713953336863, -0.6223804442822951, -0.8857002347557834, -1.3851516630852694, 0.6308690956117835, 0.8271598452053652, -1.1279541070033732, -0.05344314824258955, -0.37069948428920874, 0.9465741701628043, 0.4009643109576281, -1.2132942383142324, -1.1541141737765865, -0.29247553216184013, 1.3722130853213, 0.8548717018970707, -0.2656159662802207, 0.22669618331868235, 1.6083628909928163, 0.23614029731646852, 0.15033798028605647, -0.36078885714769116, 0.5450248831544398, 0.9577333980549713, 0.24342093309276405, -1.3230510975011762, -0.18950658150248, -0.29962570025070767, 1.2123866856004129, -0.32810667970458063, -0.23713318711384512, -1.1159826228709895, -0.18895108060257848, 1.1585142270387017, -0.27584783569539345, -0.3346270595588554, -0.5131187582372946, 0.6873100918212838, 0.08401528306893093, 0.0901193388465427, 0.32770017053241934, 1.178540724416936, -1.704896131930627, 0.004174290449213629, 0.8000408565286847], \"xaxis\": \"x10\", \"y\": [1.4489903556936925, 0.9569146937059532, -1.0876396619061846, -0.8825336651551515, -0.8423240070023791, -0.4272107463195657, -1.0045630781628048, 0.0429394511243209, -0.7148729467758064, -0.7789949477790704, -0.9191832504312808, -1.384802499135036, 0.7403815312751256, 0.12790428966569284, -0.876598463396739, 0.46459743153905897, 2.2945103309610206, 0.9190764259753557, -1.0347445864486673, 0.7897574525971488, 0.3414303620739439, -1.3847910087182327, 0.1955830021193111, 0.4049174783016158, -0.2829754583507037, 0.838011739396502, 1.2703377287048359, -2.0619906501701752, -1.4981690667576353, -1.7112228860701841, -0.47034477162706384, -0.637737291097207, -0.6581863024705712, -1.8484248869495319, -0.25297207420322987, -1.498730238182971, -1.0832873210696463, 0.7686015651247761, -1.9785988376993036, 0.7622892264339542, -0.2190104805136365, -0.7138553058224888, -0.20260034760585052, 1.1142766590091016, -2.936111953861491, -0.07515135449588436, -1.5421422903782285, -1.142272878834587, -1.110933150126963, 1.5064100692033802, 0.21695368836427406, 0.7435021970998392, -1.1458590487618259, 0.7109330494512432, 0.6608559956042735, -0.4267649333096379, 0.8740907611704118, -1.3451971631908606, -0.5170795699452903, -0.8630544128632993, -0.25199107407956256, 0.02748099581794078, -0.9091067674187974, -0.7012846658008495, -0.7920411791675391, 0.3693919235496703, 0.5742103826245605, 0.03644415204349955, 0.9997563029530769, 0.9552985665080148, -0.34215278593870785, 0.3339513677279051, 1.5655576693735629, 1.0762902366665126, -0.7682184461169863, -0.42461624540838383, 0.4161402693127119, -0.3487367513927705, -0.42396814167004315, -0.002815425224448483, -0.30686775945602396, 0.01909922190336151, -0.07452615113233313, 0.6264360653888321, -1.3431556773879652, -1.4959249223308302, -2.6521154680026244, 1.4629990654336873, -0.5736096562978921, -0.41118011393250464, -0.06421124614134084, -0.1398291528881255, -0.6919445060187562, 0.06824080061724438, -1.3105951793497057, -0.38525562900399807, -1.115691087322862, 0.43672171773252433, -1.9284808149353287, 0.38751086296356646], \"yaxis\": \"y10\"}, {\"histfunc\": \"count\", \"histnorm\": \"\", \"marker\": {\"color\": \"rgba(50, 171, 96, 1.0)\", \"line\": {\"color\": \"#4D5663\", \"width\": 1.3}}, \"name\": \"C\", \"nbinsx\": 10, \"opacity\": 0.8, \"orientation\": \"v\", \"type\": \"histogram\", \"x\": [1.4489903556936925, 0.9569146937059532, -1.0876396619061846, -0.8825336651551515, -0.8423240070023791, -0.4272107463195657, -1.0045630781628048, 0.0429394511243209, -0.7148729467758064, -0.7789949477790704, -0.9191832504312808, -1.384802499135036, 0.7403815312751256, 0.12790428966569284, -0.876598463396739, 0.46459743153905897, 2.2945103309610206, 0.9190764259753557, -1.0347445864486673, 0.7897574525971488, 0.3414303620739439, -1.3847910087182327, 0.1955830021193111, 0.4049174783016158, -0.2829754583507037, 0.838011739396502, 1.2703377287048359, -2.0619906501701752, -1.4981690667576353, -1.7112228860701841, -0.47034477162706384, -0.637737291097207, -0.6581863024705712, -1.8484248869495319, -0.25297207420322987, -1.498730238182971, -1.0832873210696463, 0.7686015651247761, -1.9785988376993036, 0.7622892264339542, -0.2190104805136365, -0.7138553058224888, -0.20260034760585052, 1.1142766590091016, -2.936111953861491, -0.07515135449588436, -1.5421422903782285, -1.142272878834587, -1.110933150126963, 1.5064100692033802, 0.21695368836427406, 0.7435021970998392, -1.1458590487618259, 0.7109330494512432, 0.6608559956042735, -0.4267649333096379, 0.8740907611704118, -1.3451971631908606, -0.5170795699452903, -0.8630544128632993, -0.25199107407956256, 0.02748099581794078, -0.9091067674187974, -0.7012846658008495, -0.7920411791675391, 0.3693919235496703, 0.5742103826245605, 0.03644415204349955, 0.9997563029530769, 0.9552985665080148, -0.34215278593870785, 0.3339513677279051, 1.5655576693735629, 1.0762902366665126, -0.7682184461169863, -0.42461624540838383, 0.4161402693127119, -0.3487367513927705, -0.42396814167004315, -0.002815425224448483, -0.30686775945602396, 0.01909922190336151, -0.07452615113233313, 0.6264360653888321, -1.3431556773879652, -1.4959249223308302, -2.6521154680026244, 1.4629990654336873, -0.5736096562978921, -0.41118011393250464, -0.06421124614134084, -0.1398291528881255, -0.6919445060187562, 0.06824080061724438, -1.3105951793497057, -0.38525562900399807, -1.115691087322862, 0.43672171773252433, -1.9284808149353287, 0.38751086296356646], \"xaxis\": \"x11\", \"yaxis\": \"y11\"}, {\"line\": {\"color\": \"rgba(128, 128, 128, 1.0)\", \"dash\": \"solid\", \"shape\": \"linear\", \"width\": 1.3}, \"marker\": {\"size\": 2, \"symbol\": \"circle\"}, \"mode\": \"markers\", \"name\": \"C\", \"text\": \"\", \"type\": \"scatter\", \"x\": [-0.6330078646998142, 1.8140756335916555, -0.5835976045612592, -0.5641200148384549, -0.7113091036630851, 0.5792715905614506, 0.06557156890941346, 0.050892636683272714, -0.8450805527038645, 1.064068924147688, 0.7056144359183899, -1.168973900334623, -0.11805109594065305, 0.9251690717019997, -1.2894179858161674, -0.2775137876890778, -1.2521398241852149, 0.6443885338330175, -1.3381094353429026, -0.6897537677570175, 1.012539735673264, -0.7522475874313775, -0.4430646307150996, 1.9831136976064792, -0.676678887365719, -0.2787947880912225, -1.4083208568976933, 0.14019093468472557, 0.5024706033789321, 0.16516639285817306, 1.2377049506972744, -1.6949187806594332, 1.5415432918094552, 1.6301678015258994, -1.1027559176738229, 0.43357549396542233, 1.2057464481430542, 1.4696617273324206, 0.6454066869364494, 1.1103842739308352, 0.2782456366771006, 1.4297506852056028, -0.3048720664044912, 0.19743546709858048, 0.4784536517243281, -2.2223271852837856, -3.259381690438617, 0.8721078585324115, -0.311912960665354, 0.24970857071647337, -1.5912285869615286, -0.8145442555583446, 0.37345909865248417, 1.9336074172114501, -0.06876507854781654, 0.08994599336495115, -1.2537818517856754, 0.6791236156070609, -1.3601721763062147, 0.8390733341372618, -0.13429825334273918, 0.24087589381874666, 1.0058785258670269, 0.04401529704545266, -0.41683670631106706, 0.77092327971203, -0.4584395283092104, -0.39110690228463174, 0.7150226306317401, -0.06417182112554029, 0.3950100035740469, 0.6025754048569935, 0.07177701542208834, -0.29920082731233383, -0.4603566842574775, -1.6597335636166832, -0.21258830391543462, -0.38892128078710536, -0.6161632528144666, -0.05716896211311977, 0.3509399386112978, 0.8757909970253571, -0.11265943297298331, 0.4014272056011246, 0.4933027408475595, -0.9893768125723018, 0.9029758053521423, 0.9983313711827291, -0.31683343254947205, 2.023820871281636, -0.37294509964931855, 2.2158104756101307, -0.7753867534333052, -1.2600278190322325, -1.3358500870657253, 1.8181432420037171, -1.181590578304687, 0.7556440663108855, 1.5940854331575334, 0.7061877381941765], \"xaxis\": \"x12\", \"y\": [1.4489903556936925, 0.9569146937059532, -1.0876396619061846, -0.8825336651551515, -0.8423240070023791, -0.4272107463195657, -1.0045630781628048, 0.0429394511243209, -0.7148729467758064, -0.7789949477790704, -0.9191832504312808, -1.384802499135036, 0.7403815312751256, 0.12790428966569284, -0.876598463396739, 0.46459743153905897, 2.2945103309610206, 0.9190764259753557, -1.0347445864486673, 0.7897574525971488, 0.3414303620739439, -1.3847910087182327, 0.1955830021193111, 0.4049174783016158, -0.2829754583507037, 0.838011739396502, 1.2703377287048359, -2.0619906501701752, -1.4981690667576353, -1.7112228860701841, -0.47034477162706384, -0.637737291097207, -0.6581863024705712, -1.8484248869495319, -0.25297207420322987, -1.498730238182971, -1.0832873210696463, 0.7686015651247761, -1.9785988376993036, 0.7622892264339542, -0.2190104805136365, -0.7138553058224888, -0.20260034760585052, 1.1142766590091016, -2.936111953861491, -0.07515135449588436, -1.5421422903782285, -1.142272878834587, -1.110933150126963, 1.5064100692033802, 0.21695368836427406, 0.7435021970998392, -1.1458590487618259, 0.7109330494512432, 0.6608559956042735, -0.4267649333096379, 0.8740907611704118, -1.3451971631908606, -0.5170795699452903, -0.8630544128632993, -0.25199107407956256, 0.02748099581794078, -0.9091067674187974, -0.7012846658008495, -0.7920411791675391, 0.3693919235496703, 0.5742103826245605, 0.03644415204349955, 0.9997563029530769, 0.9552985665080148, -0.34215278593870785, 0.3339513677279051, 1.5655576693735629, 1.0762902366665126, -0.7682184461169863, -0.42461624540838383, 0.4161402693127119, -0.3487367513927705, -0.42396814167004315, -0.002815425224448483, -0.30686775945602396, 0.01909922190336151, -0.07452615113233313, 0.6264360653888321, -1.3431556773879652, -1.4959249223308302, -2.6521154680026244, 1.4629990654336873, -0.5736096562978921, -0.41118011393250464, -0.06421124614134084, -0.1398291528881255, -0.6919445060187562, 0.06824080061724438, -1.3105951793497057, -0.38525562900399807, -1.115691087322862, 0.43672171773252433, -1.9284808149353287, 0.38751086296356646], \"yaxis\": \"y12\"}, {\"line\": {\"color\": \"rgba(128, 128, 128, 1.0)\", \"dash\": \"solid\", \"shape\": \"linear\", \"width\": 1.3}, \"marker\": {\"size\": 2, \"symbol\": \"circle\"}, \"mode\": \"markers\", \"name\": \"D\", \"text\": \"\", \"type\": \"scatter\", \"x\": [-0.607666448602811, 1.2591769182867638, 0.16704406418634177, 0.9887082751879337, 0.42050690141106456, -0.2809674912610298, 1.4205748844371253, -0.16218921393075963, 0.5295790871081705, -0.4205995210823767, -0.16337781840683835, 0.16759853031741256, -0.2809880800221108, 0.45200515671738956, -0.7963631441160887, 0.008124987817348458, -0.9653504552870982, -0.9223975905420754, 1.697503764122202, -1.1326697096648621, 0.5441315200764606, -1.4327221815783646, 0.2796380060554141, -0.8128388054259313, -1.1827094987732283, 0.9192838701288726, 0.005031233926596609, 0.4940789532190036, 1.5199810486972711, -0.8443998734201372, -0.08104192992591111, 1.6689329486978688, -0.7571977288571777, -0.8487031498216203, -0.07545251039014507, -0.09434513820899024, -0.41232256357512964, 0.14336373331713348, -0.8541159147546175, -0.46384088394405887, -1.412249499680568, -1.0851655338041877, 0.6879094601966855, -0.6694324921369627, -0.03363857785329403, 0.5387086499714225, 0.16160180831572146, -0.45427480880416693, -0.8902462437574454, 2.1421316555307204, -0.28571217204710714, 2.7785629257632722, 0.6188425456596433, -2.459254026768631, 0.09684266173917931, 1.8786280821248922, 0.5593105388098913, 0.26783741562958696, -1.2984375511279334, 1.1011962236341868, 0.45296418473280115, -0.5321941924939583, 0.753939474413834, 0.9500785265544965, 1.0899664761916448, -1.467471011712826, -1.8417320806426902, 1.338367980687843, -1.5162371572164843, 0.8077958820276738, 0.05796809642764383, -0.7442463436578459, 0.32199607754326404, -0.07641715190381224, 1.271974510389658, 1.2110829413589757, -0.2952254419337832, -1.4838594863846635, 2.0037350196859847, 0.7641245546427664, 1.1687512590371492, 1.0290682142963403, 0.5227913621549826, 0.07140529149204715, 0.7725409413533701, 0.5141137105114424, 0.7331364742667712, -1.4336782221613382, -0.10001428221531719, -0.7328017258110671, 1.9666060051841314, -1.1631585459816023, 0.8406467869926779, -1.4210030180588464, -1.86072837927215, 0.5640046352845078, 2.383701139672665, 2.476332563313472, -0.5353887528785137, 0.7258828223322248], \"xaxis\": \"x13\", \"y\": [-0.6330078646998142, 1.8140756335916555, -0.5835976045612592, -0.5641200148384549, -0.7113091036630851, 0.5792715905614506, 0.06557156890941346, 0.050892636683272714, -0.8450805527038645, 1.064068924147688, 0.7056144359183899, -1.168973900334623, -0.11805109594065305, 0.9251690717019997, -1.2894179858161674, -0.2775137876890778, -1.2521398241852149, 0.6443885338330175, -1.3381094353429026, -0.6897537677570175, 1.012539735673264, -0.7522475874313775, -0.4430646307150996, 1.9831136976064792, -0.676678887365719, -0.2787947880912225, -1.4083208568976933, 0.14019093468472557, 0.5024706033789321, 0.16516639285817306, 1.2377049506972744, -1.6949187806594332, 1.5415432918094552, 1.6301678015258994, -1.1027559176738229, 0.43357549396542233, 1.2057464481430542, 1.4696617273324206, 0.6454066869364494, 1.1103842739308352, 0.2782456366771006, 1.4297506852056028, -0.3048720664044912, 0.19743546709858048, 0.4784536517243281, -2.2223271852837856, -3.259381690438617, 0.8721078585324115, -0.311912960665354, 0.24970857071647337, -1.5912285869615286, -0.8145442555583446, 0.37345909865248417, 1.9336074172114501, -0.06876507854781654, 0.08994599336495115, -1.2537818517856754, 0.6791236156070609, -1.3601721763062147, 0.8390733341372618, -0.13429825334273918, 0.24087589381874666, 1.0058785258670269, 0.04401529704545266, -0.41683670631106706, 0.77092327971203, -0.4584395283092104, -0.39110690228463174, 0.7150226306317401, -0.06417182112554029, 0.3950100035740469, 0.6025754048569935, 0.07177701542208834, -0.29920082731233383, -0.4603566842574775, -1.6597335636166832, -0.21258830391543462, -0.38892128078710536, -0.6161632528144666, -0.05716896211311977, 0.3509399386112978, 0.8757909970253571, -0.11265943297298331, 0.4014272056011246, 0.4933027408475595, -0.9893768125723018, 0.9029758053521423, 0.9983313711827291, -0.31683343254947205, 2.023820871281636, -0.37294509964931855, 2.2158104756101307, -0.7753867534333052, -1.2600278190322325, -1.3358500870657253, 1.8181432420037171, -1.181590578304687, 0.7556440663108855, 1.5940854331575334, 0.7061877381941765], \"yaxis\": \"y13\"}, {\"line\": {\"color\": \"rgba(128, 128, 128, 1.0)\", \"dash\": \"solid\", \"shape\": \"linear\", \"width\": 1.3}, \"marker\": {\"size\": 2, \"symbol\": \"circle\"}, \"mode\": \"markers\", \"name\": \"D\", \"text\": \"\", \"type\": \"scatter\", \"x\": [0.031207682244617542, -0.9935482997534674, -1.2387163161907424, 0.3126411229606882, -1.5891470111710775, 0.07635814487302482, 1.1923987298056264, -0.8112752331427182, 0.3753696679604892, -1.1313144154052281, 0.9605575351846121, -0.8227810207976046, 0.3058696253813466, -0.062392383027024545, 0.0914039951082883, 1.569963638523854, -1.3209111992992464, -0.505404772341623, 0.4469060588185499, 0.338681444519608, 0.4277500034434874, 1.8118096469110234, -2.707892546203596, -1.246823143817817, -1.5087041797641172, 0.48159850639528023, 0.4002490260967725, 0.5102053066593562, 0.012675404040215244, -0.5505153478806513, 0.142701498010046, -1.370584934091697, -0.465276852037582, -0.6267239674553973, -0.2646699056244561, 1.0875368856352667, -1.434404032497129, 1.4109414962819065, 0.9235522288718865, -0.5119719562560471, -0.6976977102703348, 0.5747329306441911, -0.8956614256141748, 1.1857860513489715, -1.9548308830495846, -1.1367997870862887, 2.061070273949067, 0.6588214122709168, 0.4410322351607642, -0.48796022081817403, 1.6053822576254855, -0.3140314095170499, -0.09124804505842249, 1.3484214515162485, 0.32727035641686286, 0.22129713953336863, -0.6223804442822951, -0.8857002347557834, -1.3851516630852694, 0.6308690956117835, 0.8271598452053652, -1.1279541070033732, -0.05344314824258955, -0.37069948428920874, 0.9465741701628043, 0.4009643109576281, -1.2132942383142324, -1.1541141737765865, -0.29247553216184013, 1.3722130853213, 0.8548717018970707, -0.2656159662802207, 0.22669618331868235, 1.6083628909928163, 0.23614029731646852, 0.15033798028605647, -0.36078885714769116, 0.5450248831544398, 0.9577333980549713, 0.24342093309276405, -1.3230510975011762, -0.18950658150248, -0.29962570025070767, 1.2123866856004129, -0.32810667970458063, -0.23713318711384512, -1.1159826228709895, -0.18895108060257848, 1.1585142270387017, -0.27584783569539345, -0.3346270595588554, -0.5131187582372946, 0.6873100918212838, 0.08401528306893093, 0.0901193388465427, 0.32770017053241934, 1.178540724416936, -1.704896131930627, 0.004174290449213629, 0.8000408565286847], \"xaxis\": \"x14\", \"y\": [-0.6330078646998142, 1.8140756335916555, -0.5835976045612592, -0.5641200148384549, -0.7113091036630851, 0.5792715905614506, 0.06557156890941346, 0.050892636683272714, -0.8450805527038645, 1.064068924147688, 0.7056144359183899, -1.168973900334623, -0.11805109594065305, 0.9251690717019997, -1.2894179858161674, -0.2775137876890778, -1.2521398241852149, 0.6443885338330175, -1.3381094353429026, -0.6897537677570175, 1.012539735673264, -0.7522475874313775, -0.4430646307150996, 1.9831136976064792, -0.676678887365719, -0.2787947880912225, -1.4083208568976933, 0.14019093468472557, 0.5024706033789321, 0.16516639285817306, 1.2377049506972744, -1.6949187806594332, 1.5415432918094552, 1.6301678015258994, -1.1027559176738229, 0.43357549396542233, 1.2057464481430542, 1.4696617273324206, 0.6454066869364494, 1.1103842739308352, 0.2782456366771006, 1.4297506852056028, -0.3048720664044912, 0.19743546709858048, 0.4784536517243281, -2.2223271852837856, -3.259381690438617, 0.8721078585324115, -0.311912960665354, 0.24970857071647337, -1.5912285869615286, -0.8145442555583446, 0.37345909865248417, 1.9336074172114501, -0.06876507854781654, 0.08994599336495115, -1.2537818517856754, 0.6791236156070609, -1.3601721763062147, 0.8390733341372618, -0.13429825334273918, 0.24087589381874666, 1.0058785258670269, 0.04401529704545266, -0.41683670631106706, 0.77092327971203, -0.4584395283092104, -0.39110690228463174, 0.7150226306317401, -0.06417182112554029, 0.3950100035740469, 0.6025754048569935, 0.07177701542208834, -0.29920082731233383, -0.4603566842574775, -1.6597335636166832, -0.21258830391543462, -0.38892128078710536, -0.6161632528144666, -0.05716896211311977, 0.3509399386112978, 0.8757909970253571, -0.11265943297298331, 0.4014272056011246, 0.4933027408475595, -0.9893768125723018, 0.9029758053521423, 0.9983313711827291, -0.31683343254947205, 2.023820871281636, -0.37294509964931855, 2.2158104756101307, -0.7753867534333052, -1.2600278190322325, -1.3358500870657253, 1.8181432420037171, -1.181590578304687, 0.7556440663108855, 1.5940854331575334, 0.7061877381941765], \"yaxis\": \"y14\"}, {\"line\": {\"color\": \"rgba(128, 128, 128, 1.0)\", \"dash\": \"solid\", \"shape\": \"linear\", \"width\": 1.3}, \"marker\": {\"size\": 2, \"symbol\": \"circle\"}, \"mode\": \"markers\", \"name\": \"D\", \"text\": \"\", \"type\": \"scatter\", \"x\": [1.4489903556936925, 0.9569146937059532, -1.0876396619061846, -0.8825336651551515, -0.8423240070023791, -0.4272107463195657, -1.0045630781628048, 0.0429394511243209, -0.7148729467758064, -0.7789949477790704, -0.9191832504312808, -1.384802499135036, 0.7403815312751256, 0.12790428966569284, -0.876598463396739, 0.46459743153905897, 2.2945103309610206, 0.9190764259753557, -1.0347445864486673, 0.7897574525971488, 0.3414303620739439, -1.3847910087182327, 0.1955830021193111, 0.4049174783016158, -0.2829754583507037, 0.838011739396502, 1.2703377287048359, -2.0619906501701752, -1.4981690667576353, -1.7112228860701841, -0.47034477162706384, -0.637737291097207, -0.6581863024705712, -1.8484248869495319, -0.25297207420322987, -1.498730238182971, -1.0832873210696463, 0.7686015651247761, -1.9785988376993036, 0.7622892264339542, -0.2190104805136365, -0.7138553058224888, -0.20260034760585052, 1.1142766590091016, -2.936111953861491, -0.07515135449588436, -1.5421422903782285, -1.142272878834587, -1.110933150126963, 1.5064100692033802, 0.21695368836427406, 0.7435021970998392, -1.1458590487618259, 0.7109330494512432, 0.6608559956042735, -0.4267649333096379, 0.8740907611704118, -1.3451971631908606, -0.5170795699452903, -0.8630544128632993, -0.25199107407956256, 0.02748099581794078, -0.9091067674187974, -0.7012846658008495, -0.7920411791675391, 0.3693919235496703, 0.5742103826245605, 0.03644415204349955, 0.9997563029530769, 0.9552985665080148, -0.34215278593870785, 0.3339513677279051, 1.5655576693735629, 1.0762902366665126, -0.7682184461169863, -0.42461624540838383, 0.4161402693127119, -0.3487367513927705, -0.42396814167004315, -0.002815425224448483, -0.30686775945602396, 0.01909922190336151, -0.07452615113233313, 0.6264360653888321, -1.3431556773879652, -1.4959249223308302, -2.6521154680026244, 1.4629990654336873, -0.5736096562978921, -0.41118011393250464, -0.06421124614134084, -0.1398291528881255, -0.6919445060187562, 0.06824080061724438, -1.3105951793497057, -0.38525562900399807, -1.115691087322862, 0.43672171773252433, -1.9284808149353287, 0.38751086296356646], \"xaxis\": \"x15\", \"y\": [-0.6330078646998142, 1.8140756335916555, -0.5835976045612592, -0.5641200148384549, -0.7113091036630851, 0.5792715905614506, 0.06557156890941346, 0.050892636683272714, -0.8450805527038645, 1.064068924147688, 0.7056144359183899, -1.168973900334623, -0.11805109594065305, 0.9251690717019997, -1.2894179858161674, -0.2775137876890778, -1.2521398241852149, 0.6443885338330175, -1.3381094353429026, -0.6897537677570175, 1.012539735673264, -0.7522475874313775, -0.4430646307150996, 1.9831136976064792, -0.676678887365719, -0.2787947880912225, -1.4083208568976933, 0.14019093468472557, 0.5024706033789321, 0.16516639285817306, 1.2377049506972744, -1.6949187806594332, 1.5415432918094552, 1.6301678015258994, -1.1027559176738229, 0.43357549396542233, 1.2057464481430542, 1.4696617273324206, 0.6454066869364494, 1.1103842739308352, 0.2782456366771006, 1.4297506852056028, -0.3048720664044912, 0.19743546709858048, 0.4784536517243281, -2.2223271852837856, -3.259381690438617, 0.8721078585324115, -0.311912960665354, 0.24970857071647337, -1.5912285869615286, -0.8145442555583446, 0.37345909865248417, 1.9336074172114501, -0.06876507854781654, 0.08994599336495115, -1.2537818517856754, 0.6791236156070609, -1.3601721763062147, 0.8390733341372618, -0.13429825334273918, 0.24087589381874666, 1.0058785258670269, 0.04401529704545266, -0.41683670631106706, 0.77092327971203, -0.4584395283092104, -0.39110690228463174, 0.7150226306317401, -0.06417182112554029, 0.3950100035740469, 0.6025754048569935, 0.07177701542208834, -0.29920082731233383, -0.4603566842574775, -1.6597335636166832, -0.21258830391543462, -0.38892128078710536, -0.6161632528144666, -0.05716896211311977, 0.3509399386112978, 0.8757909970253571, -0.11265943297298331, 0.4014272056011246, 0.4933027408475595, -0.9893768125723018, 0.9029758053521423, 0.9983313711827291, -0.31683343254947205, 2.023820871281636, -0.37294509964931855, 2.2158104756101307, -0.7753867534333052, -1.2600278190322325, -1.3358500870657253, 1.8181432420037171, -1.181590578304687, 0.7556440663108855, 1.5940854331575334, 0.7061877381941765], \"yaxis\": \"y15\"}, {\"histfunc\": \"count\", \"histnorm\": \"\", \"marker\": {\"color\": \"rgba(128, 0, 128, 1.0)\", \"line\": {\"color\": \"#4D5663\", \"width\": 1.3}}, \"name\": \"D\", \"nbinsx\": 10, \"opacity\": 0.8, \"orientation\": \"v\", \"type\": \"histogram\", \"x\": [-0.6330078646998142, 1.8140756335916555, -0.5835976045612592, -0.5641200148384549, -0.7113091036630851, 0.5792715905614506, 0.06557156890941346, 0.050892636683272714, -0.8450805527038645, 1.064068924147688, 0.7056144359183899, -1.168973900334623, -0.11805109594065305, 0.9251690717019997, -1.2894179858161674, -0.2775137876890778, -1.2521398241852149, 0.6443885338330175, -1.3381094353429026, -0.6897537677570175, 1.012539735673264, -0.7522475874313775, -0.4430646307150996, 1.9831136976064792, -0.676678887365719, -0.2787947880912225, -1.4083208568976933, 0.14019093468472557, 0.5024706033789321, 0.16516639285817306, 1.2377049506972744, -1.6949187806594332, 1.5415432918094552, 1.6301678015258994, -1.1027559176738229, 0.43357549396542233, 1.2057464481430542, 1.4696617273324206, 0.6454066869364494, 1.1103842739308352, 0.2782456366771006, 1.4297506852056028, -0.3048720664044912, 0.19743546709858048, 0.4784536517243281, -2.2223271852837856, -3.259381690438617, 0.8721078585324115, -0.311912960665354, 0.24970857071647337, -1.5912285869615286, -0.8145442555583446, 0.37345909865248417, 1.9336074172114501, -0.06876507854781654, 0.08994599336495115, -1.2537818517856754, 0.6791236156070609, -1.3601721763062147, 0.8390733341372618, -0.13429825334273918, 0.24087589381874666, 1.0058785258670269, 0.04401529704545266, -0.41683670631106706, 0.77092327971203, -0.4584395283092104, -0.39110690228463174, 0.7150226306317401, -0.06417182112554029, 0.3950100035740469, 0.6025754048569935, 0.07177701542208834, -0.29920082731233383, -0.4603566842574775, -1.6597335636166832, -0.21258830391543462, -0.38892128078710536, -0.6161632528144666, -0.05716896211311977, 0.3509399386112978, 0.8757909970253571, -0.11265943297298331, 0.4014272056011246, 0.4933027408475595, -0.9893768125723018, 0.9029758053521423, 0.9983313711827291, -0.31683343254947205, 2.023820871281636, -0.37294509964931855, 2.2158104756101307, -0.7753867534333052, -1.2600278190322325, -1.3358500870657253, 1.8181432420037171, -1.181590578304687, 0.7556440663108855, 1.5940854331575334, 0.7061877381941765], \"xaxis\": \"x16\", \"yaxis\": \"y16\"}],                        {\"bargap\": 0.02, \"legend\": {\"bgcolor\": \"#F5F6F9\", \"font\": {\"color\": \"#4D5663\"}}, \"paper_bgcolor\": \"#F5F6F9\", \"plot_bgcolor\": \"#F5F6F9\", \"showlegend\": false, \"template\": {\"data\": {\"bar\": [{\"error_x\": {\"color\": \"#2a3f5f\"}, \"error_y\": {\"color\": \"#2a3f5f\"}, \"marker\": {\"line\": {\"color\": \"#E5ECF6\", \"width\": 0.5}}, \"type\": \"bar\"}], \"barpolar\": [{\"marker\": {\"line\": {\"color\": \"#E5ECF6\", \"width\": 0.5}}, \"type\": \"barpolar\"}], \"carpet\": [{\"aaxis\": {\"endlinecolor\": \"#2a3f5f\", \"gridcolor\": \"white\", \"linecolor\": \"white\", \"minorgridcolor\": \"white\", \"startlinecolor\": \"#2a3f5f\"}, \"baxis\": {\"endlinecolor\": \"#2a3f5f\", \"gridcolor\": \"white\", \"linecolor\": \"white\", \"minorgridcolor\": \"white\", \"startlinecolor\": \"#2a3f5f\"}, \"type\": \"carpet\"}], \"choropleth\": [{\"colorbar\": {\"outlinewidth\": 0, \"ticks\": \"\"}, \"type\": \"choropleth\"}], \"contour\": [{\"colorbar\": {\"outlinewidth\": 0, \"ticks\": \"\"}, \"colorscale\": [[0.0, \"#0d0887\"], [0.1111111111111111, \"#46039f\"], [0.2222222222222222, \"#7201a8\"], [0.3333333333333333, \"#9c179e\"], [0.4444444444444444, \"#bd3786\"], [0.5555555555555556, \"#d8576b\"], [0.6666666666666666, \"#ed7953\"], [0.7777777777777778, \"#fb9f3a\"], [0.8888888888888888, \"#fdca26\"], [1.0, \"#f0f921\"]], \"type\": \"contour\"}], \"contourcarpet\": [{\"colorbar\": {\"outlinewidth\": 0, \"ticks\": \"\"}, \"type\": \"contourcarpet\"}], \"heatmap\": [{\"colorbar\": {\"outlinewidth\": 0, \"ticks\": \"\"}, \"colorscale\": [[0.0, \"#0d0887\"], [0.1111111111111111, \"#46039f\"], [0.2222222222222222, \"#7201a8\"], [0.3333333333333333, \"#9c179e\"], [0.4444444444444444, \"#bd3786\"], [0.5555555555555556, \"#d8576b\"], [0.6666666666666666, \"#ed7953\"], [0.7777777777777778, \"#fb9f3a\"], [0.8888888888888888, \"#fdca26\"], [1.0, \"#f0f921\"]], \"type\": \"heatmap\"}], \"heatmapgl\": [{\"colorbar\": {\"outlinewidth\": 0, \"ticks\": \"\"}, \"colorscale\": [[0.0, \"#0d0887\"], [0.1111111111111111, \"#46039f\"], [0.2222222222222222, \"#7201a8\"], [0.3333333333333333, \"#9c179e\"], [0.4444444444444444, \"#bd3786\"], [0.5555555555555556, \"#d8576b\"], [0.6666666666666666, \"#ed7953\"], [0.7777777777777778, \"#fb9f3a\"], [0.8888888888888888, \"#fdca26\"], [1.0, \"#f0f921\"]], \"type\": \"heatmapgl\"}], \"histogram\": [{\"marker\": {\"colorbar\": {\"outlinewidth\": 0, \"ticks\": \"\"}}, \"type\": \"histogram\"}], \"histogram2d\": [{\"colorbar\": {\"outlinewidth\": 0, \"ticks\": \"\"}, \"colorscale\": [[0.0, \"#0d0887\"], [0.1111111111111111, \"#46039f\"], [0.2222222222222222, \"#7201a8\"], [0.3333333333333333, \"#9c179e\"], [0.4444444444444444, \"#bd3786\"], [0.5555555555555556, \"#d8576b\"], [0.6666666666666666, \"#ed7953\"], [0.7777777777777778, \"#fb9f3a\"], [0.8888888888888888, \"#fdca26\"], [1.0, \"#f0f921\"]], \"type\": \"histogram2d\"}], \"histogram2dcontour\": [{\"colorbar\": {\"outlinewidth\": 0, \"ticks\": \"\"}, \"colorscale\": [[0.0, \"#0d0887\"], [0.1111111111111111, \"#46039f\"], [0.2222222222222222, \"#7201a8\"], [0.3333333333333333, \"#9c179e\"], [0.4444444444444444, \"#bd3786\"], [0.5555555555555556, \"#d8576b\"], [0.6666666666666666, \"#ed7953\"], [0.7777777777777778, \"#fb9f3a\"], [0.8888888888888888, \"#fdca26\"], [1.0, \"#f0f921\"]], \"type\": \"histogram2dcontour\"}], \"mesh3d\": [{\"colorbar\": {\"outlinewidth\": 0, \"ticks\": \"\"}, \"type\": \"mesh3d\"}], \"parcoords\": [{\"line\": {\"colorbar\": {\"outlinewidth\": 0, \"ticks\": \"\"}}, \"type\": \"parcoords\"}], \"pie\": [{\"automargin\": true, \"type\": \"pie\"}], \"scatter\": [{\"marker\": {\"colorbar\": {\"outlinewidth\": 0, \"ticks\": \"\"}}, \"type\": \"scatter\"}], \"scatter3d\": [{\"line\": {\"colorbar\": {\"outlinewidth\": 0, \"ticks\": \"\"}}, \"marker\": {\"colorbar\": {\"outlinewidth\": 0, \"ticks\": \"\"}}, \"type\": \"scatter3d\"}], \"scattercarpet\": [{\"marker\": {\"colorbar\": {\"outlinewidth\": 0, \"ticks\": \"\"}}, \"type\": \"scattercarpet\"}], \"scattergeo\": [{\"marker\": {\"colorbar\": {\"outlinewidth\": 0, \"ticks\": \"\"}}, \"type\": \"scattergeo\"}], \"scattergl\": [{\"marker\": {\"colorbar\": {\"outlinewidth\": 0, \"ticks\": \"\"}}, \"type\": \"scattergl\"}], \"scattermapbox\": [{\"marker\": {\"colorbar\": {\"outlinewidth\": 0, \"ticks\": \"\"}}, \"type\": \"scattermapbox\"}], \"scatterpolar\": [{\"marker\": {\"colorbar\": {\"outlinewidth\": 0, \"ticks\": \"\"}}, \"type\": \"scatterpolar\"}], \"scatterpolargl\": [{\"marker\": {\"colorbar\": {\"outlinewidth\": 0, \"ticks\": \"\"}}, \"type\": \"scatterpolargl\"}], \"scatterternary\": [{\"marker\": {\"colorbar\": {\"outlinewidth\": 0, \"ticks\": \"\"}}, \"type\": \"scatterternary\"}], \"surface\": [{\"colorbar\": {\"outlinewidth\": 0, \"ticks\": \"\"}, \"colorscale\": [[0.0, \"#0d0887\"], [0.1111111111111111, \"#46039f\"], [0.2222222222222222, \"#7201a8\"], [0.3333333333333333, \"#9c179e\"], [0.4444444444444444, \"#bd3786\"], [0.5555555555555556, \"#d8576b\"], [0.6666666666666666, \"#ed7953\"], [0.7777777777777778, \"#fb9f3a\"], [0.8888888888888888, \"#fdca26\"], [1.0, \"#f0f921\"]], \"type\": \"surface\"}], \"table\": [{\"cells\": {\"fill\": {\"color\": \"#EBF0F8\"}, \"line\": {\"color\": \"white\"}}, \"header\": {\"fill\": {\"color\": \"#C8D4E3\"}, \"line\": {\"color\": \"white\"}}, \"type\": \"table\"}]}, \"layout\": {\"annotationdefaults\": {\"arrowcolor\": \"#2a3f5f\", \"arrowhead\": 0, \"arrowwidth\": 1}, \"autotypenumbers\": \"strict\", \"coloraxis\": {\"colorbar\": {\"outlinewidth\": 0, \"ticks\": \"\"}}, \"colorscale\": {\"diverging\": [[0, \"#8e0152\"], [0.1, \"#c51b7d\"], [0.2, \"#de77ae\"], [0.3, \"#f1b6da\"], [0.4, \"#fde0ef\"], [0.5, \"#f7f7f7\"], [0.6, \"#e6f5d0\"], [0.7, \"#b8e186\"], [0.8, \"#7fbc41\"], [0.9, \"#4d9221\"], [1, \"#276419\"]], \"sequential\": [[0.0, \"#0d0887\"], [0.1111111111111111, \"#46039f\"], [0.2222222222222222, \"#7201a8\"], [0.3333333333333333, \"#9c179e\"], [0.4444444444444444, \"#bd3786\"], [0.5555555555555556, \"#d8576b\"], [0.6666666666666666, \"#ed7953\"], [0.7777777777777778, \"#fb9f3a\"], [0.8888888888888888, \"#fdca26\"], [1.0, \"#f0f921\"]], \"sequentialminus\": [[0.0, \"#0d0887\"], [0.1111111111111111, \"#46039f\"], [0.2222222222222222, \"#7201a8\"], [0.3333333333333333, \"#9c179e\"], [0.4444444444444444, \"#bd3786\"], [0.5555555555555556, \"#d8576b\"], [0.6666666666666666, \"#ed7953\"], [0.7777777777777778, \"#fb9f3a\"], [0.8888888888888888, \"#fdca26\"], [1.0, \"#f0f921\"]]}, \"colorway\": [\"#636efa\", \"#EF553B\", \"#00cc96\", \"#ab63fa\", \"#FFA15A\", \"#19d3f3\", \"#FF6692\", \"#B6E880\", \"#FF97FF\", \"#FECB52\"], \"font\": {\"color\": \"#2a3f5f\"}, \"geo\": {\"bgcolor\": \"white\", \"lakecolor\": \"white\", \"landcolor\": \"#E5ECF6\", \"showlakes\": true, \"showland\": true, \"subunitcolor\": \"white\"}, \"hoverlabel\": {\"align\": \"left\"}, \"hovermode\": \"closest\", \"mapbox\": {\"style\": \"light\"}, \"paper_bgcolor\": \"white\", \"plot_bgcolor\": \"#E5ECF6\", \"polar\": {\"angularaxis\": {\"gridcolor\": \"white\", \"linecolor\": \"white\", \"ticks\": \"\"}, \"bgcolor\": \"#E5ECF6\", \"radialaxis\": {\"gridcolor\": \"white\", \"linecolor\": \"white\", \"ticks\": \"\"}}, \"scene\": {\"xaxis\": {\"backgroundcolor\": \"#E5ECF6\", \"gridcolor\": \"white\", \"gridwidth\": 2, \"linecolor\": \"white\", \"showbackground\": true, \"ticks\": \"\", \"zerolinecolor\": \"white\"}, \"yaxis\": {\"backgroundcolor\": \"#E5ECF6\", \"gridcolor\": \"white\", \"gridwidth\": 2, \"linecolor\": \"white\", \"showbackground\": true, \"ticks\": \"\", \"zerolinecolor\": \"white\"}, \"zaxis\": {\"backgroundcolor\": \"#E5ECF6\", \"gridcolor\": \"white\", \"gridwidth\": 2, \"linecolor\": \"white\", \"showbackground\": true, \"ticks\": \"\", \"zerolinecolor\": \"white\"}}, \"shapedefaults\": {\"line\": {\"color\": \"#2a3f5f\"}}, \"ternary\": {\"aaxis\": {\"gridcolor\": \"white\", \"linecolor\": \"white\", \"ticks\": \"\"}, \"baxis\": {\"gridcolor\": \"white\", \"linecolor\": \"white\", \"ticks\": \"\"}, \"bgcolor\": \"#E5ECF6\", \"caxis\": {\"gridcolor\": \"white\", \"linecolor\": \"white\", \"ticks\": \"\"}}, \"title\": {\"x\": 0.05}, \"xaxis\": {\"automargin\": true, \"gridcolor\": \"white\", \"linecolor\": \"white\", \"ticks\": \"\", \"title\": {\"standoff\": 15}, \"zerolinecolor\": \"white\", \"zerolinewidth\": 2}, \"yaxis\": {\"automargin\": true, \"gridcolor\": \"white\", \"linecolor\": \"white\", \"ticks\": \"\", \"title\": {\"standoff\": 15}, \"zerolinecolor\": \"white\", \"zerolinewidth\": 2}}}, \"title\": {\"font\": {\"color\": \"#4D5663\"}}, \"xaxis\": {\"anchor\": \"y\", \"domain\": [0.0, 0.2125], \"gridcolor\": \"#E1E5ED\", \"showgrid\": false, \"tickfont\": {\"color\": \"#4D5663\"}, \"title\": {\"font\": {\"color\": \"#4D5663\"}, \"text\": \"\"}, \"zerolinecolor\": \"#E1E5ED\"}, \"xaxis10\": {\"anchor\": \"y10\", \"domain\": [0.2625, 0.475], \"gridcolor\": \"#E1E5ED\", \"showgrid\": false, \"tickfont\": {\"color\": \"#4D5663\"}, \"title\": {\"font\": {\"color\": \"#4D5663\"}, \"text\": \"\"}, \"zerolinecolor\": \"#E1E5ED\"}, \"xaxis11\": {\"anchor\": \"y11\", \"domain\": [0.525, 0.7375], \"gridcolor\": \"#E1E5ED\", \"showgrid\": false, \"tickfont\": {\"color\": \"#4D5663\"}, \"title\": {\"font\": {\"color\": \"#4D5663\"}, \"text\": \"\"}, \"zerolinecolor\": \"#E1E5ED\"}, \"xaxis12\": {\"anchor\": \"y12\", \"domain\": [0.7875, 1.0], \"gridcolor\": \"#E1E5ED\", \"showgrid\": false, \"tickfont\": {\"color\": \"#4D5663\"}, \"title\": {\"font\": {\"color\": \"#4D5663\"}, \"text\": \"\"}, \"zerolinecolor\": \"#E1E5ED\"}, \"xaxis13\": {\"anchor\": \"y13\", \"domain\": [0.0, 0.2125], \"gridcolor\": \"#E1E5ED\", \"showgrid\": false, \"tickfont\": {\"color\": \"#4D5663\"}, \"title\": {\"font\": {\"color\": \"#4D5663\"}, \"text\": \"\"}, \"zerolinecolor\": \"#E1E5ED\"}, \"xaxis14\": {\"anchor\": \"y14\", \"domain\": [0.2625, 0.475], \"gridcolor\": \"#E1E5ED\", \"showgrid\": false, \"tickfont\": {\"color\": \"#4D5663\"}, \"title\": {\"font\": {\"color\": \"#4D5663\"}, \"text\": \"\"}, \"zerolinecolor\": \"#E1E5ED\"}, \"xaxis15\": {\"anchor\": \"y15\", \"domain\": [0.525, 0.7375], \"gridcolor\": \"#E1E5ED\", \"showgrid\": false, \"tickfont\": {\"color\": \"#4D5663\"}, \"title\": {\"font\": {\"color\": \"#4D5663\"}, \"text\": \"\"}, \"zerolinecolor\": \"#E1E5ED\"}, \"xaxis16\": {\"anchor\": \"y16\", \"domain\": [0.7875, 1.0], \"gridcolor\": \"#E1E5ED\", \"showgrid\": false, \"tickfont\": {\"color\": \"#4D5663\"}, \"title\": {\"font\": {\"color\": \"#4D5663\"}, \"text\": \"\"}, \"zerolinecolor\": \"#E1E5ED\"}, \"xaxis2\": {\"anchor\": \"y2\", \"domain\": [0.2625, 0.475], \"gridcolor\": \"#E1E5ED\", \"showgrid\": false, \"tickfont\": {\"color\": \"#4D5663\"}, \"title\": {\"font\": {\"color\": \"#4D5663\"}, \"text\": \"\"}, \"zerolinecolor\": \"#E1E5ED\"}, \"xaxis3\": {\"anchor\": \"y3\", \"domain\": [0.525, 0.7375], \"gridcolor\": \"#E1E5ED\", \"showgrid\": false, \"tickfont\": {\"color\": \"#4D5663\"}, \"title\": {\"font\": {\"color\": \"#4D5663\"}, \"text\": \"\"}, \"zerolinecolor\": \"#E1E5ED\"}, \"xaxis4\": {\"anchor\": \"y4\", \"domain\": [0.7875, 1.0], \"gridcolor\": \"#E1E5ED\", \"showgrid\": false, \"tickfont\": {\"color\": \"#4D5663\"}, \"title\": {\"font\": {\"color\": \"#4D5663\"}, \"text\": \"\"}, \"zerolinecolor\": \"#E1E5ED\"}, \"xaxis5\": {\"anchor\": \"y5\", \"domain\": [0.0, 0.2125], \"gridcolor\": \"#E1E5ED\", \"showgrid\": false, \"tickfont\": {\"color\": \"#4D5663\"}, \"title\": {\"font\": {\"color\": \"#4D5663\"}, \"text\": \"\"}, \"zerolinecolor\": \"#E1E5ED\"}, \"xaxis6\": {\"anchor\": \"y6\", \"domain\": [0.2625, 0.475], \"gridcolor\": \"#E1E5ED\", \"showgrid\": false, \"tickfont\": {\"color\": \"#4D5663\"}, \"title\": {\"font\": {\"color\": \"#4D5663\"}, \"text\": \"\"}, \"zerolinecolor\": \"#E1E5ED\"}, \"xaxis7\": {\"anchor\": \"y7\", \"domain\": [0.525, 0.7375], \"gridcolor\": \"#E1E5ED\", \"showgrid\": false, \"tickfont\": {\"color\": \"#4D5663\"}, \"title\": {\"font\": {\"color\": \"#4D5663\"}, \"text\": \"\"}, \"zerolinecolor\": \"#E1E5ED\"}, \"xaxis8\": {\"anchor\": \"y8\", \"domain\": [0.7875, 1.0], \"gridcolor\": \"#E1E5ED\", \"showgrid\": false, \"tickfont\": {\"color\": \"#4D5663\"}, \"title\": {\"font\": {\"color\": \"#4D5663\"}, \"text\": \"\"}, \"zerolinecolor\": \"#E1E5ED\"}, \"xaxis9\": {\"anchor\": \"y9\", \"domain\": [0.0, 0.2125], \"gridcolor\": \"#E1E5ED\", \"showgrid\": false, \"tickfont\": {\"color\": \"#4D5663\"}, \"title\": {\"font\": {\"color\": \"#4D5663\"}, \"text\": \"\"}, \"zerolinecolor\": \"#E1E5ED\"}, \"yaxis\": {\"anchor\": \"x\", \"domain\": [0.8025, 1.0], \"gridcolor\": \"#E1E5ED\", \"showgrid\": false, \"tickfont\": {\"color\": \"#4D5663\"}, \"title\": {\"font\": {\"color\": \"#4D5663\"}, \"text\": \"\"}, \"zerolinecolor\": \"#E1E5ED\"}, \"yaxis10\": {\"anchor\": \"x10\", \"domain\": [0.2675, 0.465], \"gridcolor\": \"#E1E5ED\", \"showgrid\": false, \"tickfont\": {\"color\": \"#4D5663\"}, \"title\": {\"font\": {\"color\": \"#4D5663\"}, \"text\": \"\"}, \"zerolinecolor\": \"#E1E5ED\"}, \"yaxis11\": {\"anchor\": \"x11\", \"domain\": [0.2675, 0.465], \"gridcolor\": \"#E1E5ED\", \"showgrid\": false, \"tickfont\": {\"color\": \"#4D5663\"}, \"title\": {\"font\": {\"color\": \"#4D5663\"}, \"text\": \"\"}, \"zerolinecolor\": \"#E1E5ED\"}, \"yaxis12\": {\"anchor\": \"x12\", \"domain\": [0.2675, 0.465], \"gridcolor\": \"#E1E5ED\", \"showgrid\": false, \"tickfont\": {\"color\": \"#4D5663\"}, \"title\": {\"font\": {\"color\": \"#4D5663\"}, \"text\": \"\"}, \"zerolinecolor\": \"#E1E5ED\"}, \"yaxis13\": {\"anchor\": \"x13\", \"domain\": [0.0, 0.1975], \"gridcolor\": \"#E1E5ED\", \"showgrid\": false, \"tickfont\": {\"color\": \"#4D5663\"}, \"title\": {\"font\": {\"color\": \"#4D5663\"}, \"text\": \"\"}, \"zerolinecolor\": \"#E1E5ED\"}, \"yaxis14\": {\"anchor\": \"x14\", \"domain\": [0.0, 0.1975], \"gridcolor\": \"#E1E5ED\", \"showgrid\": false, \"tickfont\": {\"color\": \"#4D5663\"}, \"title\": {\"font\": {\"color\": \"#4D5663\"}, \"text\": \"\"}, \"zerolinecolor\": \"#E1E5ED\"}, \"yaxis15\": {\"anchor\": \"x15\", \"domain\": [0.0, 0.1975], \"gridcolor\": \"#E1E5ED\", \"showgrid\": false, \"tickfont\": {\"color\": \"#4D5663\"}, \"title\": {\"font\": {\"color\": \"#4D5663\"}, \"text\": \"\"}, \"zerolinecolor\": \"#E1E5ED\"}, \"yaxis16\": {\"anchor\": \"x16\", \"domain\": [0.0, 0.1975], \"gridcolor\": \"#E1E5ED\", \"showgrid\": false, \"tickfont\": {\"color\": \"#4D5663\"}, \"title\": {\"font\": {\"color\": \"#4D5663\"}, \"text\": \"\"}, \"zerolinecolor\": \"#E1E5ED\"}, \"yaxis2\": {\"anchor\": \"x2\", \"domain\": [0.8025, 1.0], \"gridcolor\": \"#E1E5ED\", \"showgrid\": false, \"tickfont\": {\"color\": \"#4D5663\"}, \"title\": {\"font\": {\"color\": \"#4D5663\"}, \"text\": \"\"}, \"zerolinecolor\": \"#E1E5ED\"}, \"yaxis3\": {\"anchor\": \"x3\", \"domain\": [0.8025, 1.0], \"gridcolor\": \"#E1E5ED\", \"showgrid\": false, \"tickfont\": {\"color\": \"#4D5663\"}, \"title\": {\"font\": {\"color\": \"#4D5663\"}, \"text\": \"\"}, \"zerolinecolor\": \"#E1E5ED\"}, \"yaxis4\": {\"anchor\": \"x4\", \"domain\": [0.8025, 1.0], \"gridcolor\": \"#E1E5ED\", \"showgrid\": false, \"tickfont\": {\"color\": \"#4D5663\"}, \"title\": {\"font\": {\"color\": \"#4D5663\"}, \"text\": \"\"}, \"zerolinecolor\": \"#E1E5ED\"}, \"yaxis5\": {\"anchor\": \"x5\", \"domain\": [0.535, 0.7325], \"gridcolor\": \"#E1E5ED\", \"showgrid\": false, \"tickfont\": {\"color\": \"#4D5663\"}, \"title\": {\"font\": {\"color\": \"#4D5663\"}, \"text\": \"\"}, \"zerolinecolor\": \"#E1E5ED\"}, \"yaxis6\": {\"anchor\": \"x6\", \"domain\": [0.535, 0.7325], \"gridcolor\": \"#E1E5ED\", \"showgrid\": false, \"tickfont\": {\"color\": \"#4D5663\"}, \"title\": {\"font\": {\"color\": \"#4D5663\"}, \"text\": \"\"}, \"zerolinecolor\": \"#E1E5ED\"}, \"yaxis7\": {\"anchor\": \"x7\", \"domain\": [0.535, 0.7325], \"gridcolor\": \"#E1E5ED\", \"showgrid\": false, \"tickfont\": {\"color\": \"#4D5663\"}, \"title\": {\"font\": {\"color\": \"#4D5663\"}, \"text\": \"\"}, \"zerolinecolor\": \"#E1E5ED\"}, \"yaxis8\": {\"anchor\": \"x8\", \"domain\": [0.535, 0.7325], \"gridcolor\": \"#E1E5ED\", \"showgrid\": false, \"tickfont\": {\"color\": \"#4D5663\"}, \"title\": {\"font\": {\"color\": \"#4D5663\"}, \"text\": \"\"}, \"zerolinecolor\": \"#E1E5ED\"}, \"yaxis9\": {\"anchor\": \"x9\", \"domain\": [0.2675, 0.465], \"gridcolor\": \"#E1E5ED\", \"showgrid\": false, \"tickfont\": {\"color\": \"#4D5663\"}, \"title\": {\"font\": {\"color\": \"#4D5663\"}, \"text\": \"\"}, \"zerolinecolor\": \"#E1E5ED\"}},                        {\"showLink\": true, \"linkText\": \"Export to plot.ly\", \"plotlyServerURL\": \"https://plot.ly\", \"responsive\": true}                    ).then(function(){\n                            \nvar gd = document.getElementById('99943fd4-1372-4ab8-867d-ad94b87df582');\nvar x = new MutationObserver(function (mutations, observer) {{\n        var display = window.getComputedStyle(gd).display;\n        if (!display || display === 'none') {{\n            console.log([gd, 'removed!']);\n            Plotly.purge(gd);\n            observer.disconnect();\n        }}\n}});\n\n// Listen for the removal of the full notebook cells\nvar notebookContainer = gd.closest('#notebook-container');\nif (notebookContainer) {{\n    x.observe(notebookContainer, {childList: true});\n}}\n\n// Listen for the clearing of the current output cell\nvar outputEl = gd.closest('.output');\nif (outputEl) {{\n    x.observe(outputEl, {childList: true});\n}}\n\n                        })                };                });            </script>        </div>"
     },
     "metadata": {}
    }
   ],
   "source": [
    "df.scatter_matrix()"
   ]
  },
  {
   "cell_type": "markdown",
   "metadata": {
    "collapsed": true
   },
   "source": [
    "# Buen trabajo!"
   ]
  }
 ],
 "metadata": {
  "kernelspec": {
   "name": "python392jvsc74a57bd0cf6663ca35ebd57d6121109460e534e72c1e1f8ff142ad985cdcb4b7e585eb79",
   "display_name": "Python 3.9.2 64-bit"
  },
  "language_info": {
   "codemirror_mode": {
    "name": "ipython",
    "version": 3
   },
   "file_extension": ".py",
   "mimetype": "text/x-python",
   "name": "python",
   "nbconvert_exporter": "python",
   "pygments_lexer": "ipython3",
   "version": "3.9.2"
  },
  "metadata": {
   "interpreter": {
    "hash": "cf6663ca35ebd57d6121109460e534e72c1e1f8ff142ad985cdcb4b7e585eb79"
   }
  }
 },
 "nbformat": 4,
 "nbformat_minor": 1
}